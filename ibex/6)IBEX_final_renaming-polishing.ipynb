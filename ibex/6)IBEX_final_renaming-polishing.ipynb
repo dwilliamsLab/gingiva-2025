{
 "cells": [
  {
   "cell_type": "code",
   "execution_count": null,
   "id": "29349af3-d8c2-4475-a745-429591eeac52",
   "metadata": {},
   "outputs": [],
   "source": [
    "import scimap as sm\n",
    "import pandas as pd\n",
    "import sys\n",
    "import os\n",
    "import scanpy as sc\n",
    "import seaborn as sns; sns.set(color_codes=True)\n",
    "import anndata\n",
    "adata = anndata.read_h5ad(\"/data/vasileiosionat2/IBEX_FINAL/Scimap/Adata/adata_ROIs.h5ad\")\n",
    "adata.obs"
   ]
  },
  {
   "cell_type": "code",
   "execution_count": null,
   "id": "e367c855-4f56-4204-9462-99654e8b2bae",
   "metadata": {},
   "outputs": [],
   "source": [
    "adata.obs['PatientID_Atlas']=adata.obs['PatientID']\n",
    "# Ensure 'PatientID_Atlas' is a string type\n",
    "adata.obs['PatientID_Atlas'] = adata.obs['PatientID_Atlas'].astype(str)\n",
    "\n",
    "# Define the replacement dictionary\n",
    "replacement_dict = {\n",
    "'HV171' : 'H-1',\n",
    "'HV180' : 'H-2',\n",
    "'HV189'\t: 'H-3',\n",
    "'HV191' : 'H-4',\n",
    "'HV203' : 'H-5',\n",
    "'HV207' : 'H-6',\n",
    "'HV220' : 'H-7',\n",
    "'HV190' : 'H-10',\n",
    "'HV195' : 'H-11',\n",
    "'HV137' : 'P-1',\n",
    "'HV140'\t: 'P-2',\n",
    "'HV154' : 'P-3',\n",
    "'HV160' : 'P-4',\n",
    "'TM327' : 'P-5',\n",
    "'HV196' : 'P-6',\n",
    "'HV204' : 'P-7',\n",
    "'HV214' : 'P-8',\n",
    "'HV219' : 'P-9',\n",
    "}\n",
    "\n",
    "# Replace only the specified categories in 'T_leiden2'\n",
    "adata.obs['PatientID_Atlas'] = adata.obs['PatientID_Atlas'].astype(str)  # Ensure it's string\n",
    "adata.obs['PatientID_Atlas'] = adata.obs['PatientID_Atlas'].replace(replacement_dict)\n",
    "\n",
    "# Check the unique values in 'T_leiden2' to confirm\n",
    "print(adata.obs['PatientID_Atlas'].unique())"
   ]
  },
  {
   "cell_type": "code",
   "execution_count": null,
   "id": "610337a3-3271-4398-beb8-def3b5877803",
   "metadata": {},
   "outputs": [],
   "source": [
    "# Replace 'column_name' with the name of your column\n",
    "unique_categories = adata.obs['spatial_cluster'].unique().tolist()\n",
    "print(unique_categories)"
   ]
  },
  {
   "cell_type": "code",
   "execution_count": null,
   "id": "1a241d7e-5420-403f-9e4e-57e8ba1ab473",
   "metadata": {},
   "outputs": [],
   "source": [
    "import scanpy as sc\n",
    "\n",
    "# Define the clusters you want to include\n",
    "clusters_of_interest = ['Ep.k', 'Lang', 'Fib.Thy1(-)', 'Ep.sp', 'Neut.IE', 'Fib.Thy1(+)', 'Ep.prol', 'Ep.b-pb', 'ECM.Vim(+)', 'Neut.S100a8-9(-)', 'APCmyel.perivasc', 'Ep.crev', 'APC.myel', 'Mast', 'T.cyt', 'Plasma', 'T.APCmyel.mix', 'En.aSMA(-)', 'En.Im.mix', 'En.HLA-DR(+)', 'Neut.BV', 'Thy1.CD45.cell', 'T.IE', 'Fib.HLA-DR(+)', 'En.HLA-DR(-)', 'SMC.HLA-DR(+)', 'Neut.S100a8-9.CT', 'Tcyt.B.mix', 'SMC.HLA-DR(-)', 'Pl.T.mix', 'Unclear', 'T.h', 'Th.B.mix', 'B']\n",
    "\n",
    "# Filter the AnnData object to include only these clusters\n",
    "adata_subset = adata[adata.obs['spatial_cluster'].isin(clusters_of_interest)]\n",
    "\n",
    "# Recompute the dendrogram for the subsetted data\n",
    "sc.tl.dendrogram(adata_subset, groupby='spatial_cluster')\n",
    "\n",
    "# Define the order of genes you want to visualize\n",
    "ordered_genes = ['Hoechst', 'CK19', 'S100a8-9', 'CK5', 'PanCK', 'Ki67', 'CD138', 'Vimentin', 'Thy-1', 'HLA-DR', 'CD45', 'MCT', 'aSMA', 'CD31', 'MPO', 'CD20', 'CD3', 'CD8a', 'CD4',]  # replace with the actual gene names and their order\n",
    "\n",
    "# Example with sc.pl.matrixplot for ordered genes\n",
    "sc.pl.dotplot(adata_subset, var_names=ordered_genes, groupby='spatial_cluster', \n",
    "                 dendrogram=True, use_raw=False, cmap=\"Greys\", standard_scale='var', swap_axes=True, vmin=0.2, dot_max=0.8, dot_min=0.2)\n"
   ]
  },
  {
   "cell_type": "code",
   "execution_count": null,
   "id": "41fe5e9e-3639-44f5-adee-5595cfb7da43",
   "metadata": {},
   "outputs": [],
   "source": [
    "import scimap as sm\n",
    "\n",
    "image_path1 = '/data/vasileiosionat2/IBEX_FINAL/E)Processed_files/HV137B1.tif'\n",
    "seg_mask_path1 = '/data/vasileiosionat2/IBEX_FINAL/Cellprofiler_Outputs/Masks/HV137B1_0.tiff'\n",
    "   \n",
    "#Let's visualize the subpoputions (white points) superimposed to the different channels and to the segmentation mask\n",
    "sm.pl.image_viewer(image_path1,\n",
    "                   adata,\n",
    "                   seg_mask=seg_mask_path1,\n",
    "                   subset='HV137B1_HV137B1_0',\n",
    "                   overlay='spatial_cluster',\n",
    "                   point_size=20)\n"
   ]
  },
  {
   "cell_type": "code",
   "execution_count": null,
   "id": "49c4201d-9e3e-4b2e-9cd6-289068d026eb",
   "metadata": {},
   "outputs": [],
   "source": [
    "import numpy as np\n",
    "import matplotlib.pyplot as plt\n",
    "from skimage import io\n",
    "import anndata as ad\n",
    "from matplotlib.colors import ListedColormap"
   ]
  },
  {
   "cell_type": "code",
   "execution_count": null,
   "id": "22d6347e-bf10-4fa5-8c47-516d91d31d3c",
   "metadata": {},
   "outputs": [],
   "source": [
    "# Load the segmentation mask\n",
    "segmentation_mask = io.imread('/data/vasileiosionat2/IBEX_FINAL/Cellprofiler_Outputs/Masks/HV137B1_0.tiff')  # Replace with your file path\n",
    "\n",
    "# Subset `adata` for the target `SampleID`\n",
    "sample_id = \"HV137B1_HV137B1_0\"  # Replace with your target SampleID\n",
    "adata_subset = adata[adata.obs['SampleID'] == sample_id] \n",
    "\n",
    "# Map cluster IDs to the segmentation mask\n",
    "cluster_map = adata_subset.obs['lvl2.5_spatial_cluster'].to_dict()  # Replace 'cluster_column' with the column name for clusters\n",
    "colored_mask = np.zeros_like(segmentation_mask, dtype=np.float32)\n",
    "\n",
    "for cell_id, cluster_id in cluster_map.items():\n",
    "    colored_mask[segmentation_mask == cell_id] = cluster_id\n"
   ]
  },
  {
   "cell_type": "code",
   "execution_count": null,
   "id": "5c06cd18-9d25-47cb-ab45-5a70d1247352",
   "metadata": {},
   "outputs": [],
   "source": [
    "import numpy as np\n",
    "import matplotlib.pyplot as plt\n",
    "from skimage import io\n",
    "import anndata as ad\n",
    "from matplotlib.colors import ListedColormap\n"
   ]
  },
  {
   "cell_type": "code",
   "execution_count": null,
   "id": "3b109ea9-e122-4533-87d3-f4b6e9e36b6d",
   "metadata": {},
   "outputs": [],
   "source": [
    "# Load the segmentation mask (replace with actual file path)\n",
    "segmentation_mask = io.imread('/data/vasileiosionat2/IBEX_FINAL/Cellprofiler_Outputs/Masks/HV137B1_0.tiff')"
   ]
  },
  {
   "cell_type": "code",
   "execution_count": null,
   "id": "efa7c7bc-5b58-474c-8fc0-d3ab4d18888a",
   "metadata": {},
   "outputs": [],
   "source": [
    "sample_id = \"HV137B1\"  # Replace with your target SampleID\n",
    "adata_subset = adata[adata.obs['SampleID'] == sample_id]  # Adjust 'SampleID' column name if needed"
   ]
  },
  {
   "cell_type": "code",
   "execution_count": null,
   "id": "c72c59da-9fd1-44fe-b5dd-e0cd4aad340e",
   "metadata": {},
   "outputs": [],
   "source": [
    "if adata_subset.n_obs == 0:\n",
    "    print(f\"No data found for SampleID {sample_id}.\")\n",
    "else:\n",
    "    # Proceed with the rest of the code if data is available\n",
    "    print(f\"Data found for SampleID {sample_id}.\")\n",
    "    pass\n"
   ]
  },
  {
   "cell_type": "code",
   "execution_count": null,
   "id": "1a1273b6-7606-484c-9d9b-29a2b808ebd7",
   "metadata": {},
   "outputs": [],
   "source": [
    "# Ensure 'lvl1_spatial_cluster' is categorical and get cluster mapping\n",
    "adata_subset.obs['lvl1_spatial_cluster'] = adata_subset.obs['lvl1_spatial_cluster'].astype('category')"
   ]
  },
  {
   "cell_type": "code",
   "execution_count": null,
   "id": "69b58833-00d7-4c80-9ea2-00893b6070b7",
   "metadata": {},
   "outputs": [],
   "source": [
    "# Map cell IDs to cluster labels\n",
    "cluster_map = adata_subset.obs['lvl1_spatial_cluster'].to_dict()  # cell_id: cluster_label\n",
    "\n",
    "# Map cluster labels to numeric IDs for coloring\n",
    "cluster_label_to_numeric = {label: idx for idx, label in enumerate(adata_subset.obs['lvl1_spatial_cluster'].cat.categories)}"
   ]
  },
  {
   "cell_type": "code",
   "execution_count": null,
   "id": "4bad2cbb-0f7c-4ca3-bce8-31c98ef9b0dd",
   "metadata": {},
   "outputs": [],
   "source": [
    "# Check the first few rows of the obs dataframe to understand its structure\n",
    "print(adata_subset.obs.head())"
   ]
  },
  {
   "cell_type": "code",
   "execution_count": null,
   "id": "5ce07535-5d24-432f-a8f6-57519afe52e8",
   "metadata": {},
   "outputs": [],
   "source": [
    "# Add a new 'cell_index' column to the 'obs' DataFrame of the AnnData object\n",
    "adata_subset.obs['cell_index'] = np.arange(1, len(adata_subset) + 1)"
   ]
  },
  {
   "cell_type": "code",
   "execution_count": null,
   "id": "71cba90e-7416-49a2-b056-4e58e4220bbe",
   "metadata": {
    "scrolled": true
   },
   "outputs": [],
   "source": [
    "# Check the first few rows of the obs dataframe to understand its structure\n",
    "print(adata_subset.obs.head(1000))"
   ]
  },
  {
   "cell_type": "code",
   "execution_count": null,
   "id": "d34563ad-f9d5-457a-8bd7-f0544af11b85",
   "metadata": {},
   "outputs": [],
   "source": [
    "# Create a colormap for the unique clusters (ensure you have enough colors for all clusters)\n",
    "unique_clusters = adata_subset.obs['lvl1_spatial_cluster'].cat.categories\n",
    "colormap = ListedColormap(plt.cm.tab10.colors[:len(unique_clusters)])\n",
    "\n",
    "# Initialize the colored mask with white (background color)\n",
    "colored_mask = np.ones_like(segmentation_mask, dtype=np.float32) * np.nan  # White for the background\n",
    "\n",
    "# Loop through the unique cell IDs in the segmentation mask\n",
    "for cell_id in np.unique(segmentation_mask):\n",
    "    if cell_id == 0:\n",
    "        continue  # Skip the background cell ID (usually 0)\n",
    "    \n",
    "    # Get the corresponding row from `adata_subset`\n",
    "    row = adata_subset.obs[adata_subset.obs['cell_index'] == cell_id]\n",
    "    \n",
    "    if not row.empty:\n",
    "        # Get the cluster label for this cell\n",
    "        cluster_label = row['lvl1_spatial_cluster'].values[0]\n",
    "        \n",
    "        # Map the cluster label to the corresponding color index (numeric ID)\n",
    "        cluster_id = np.where(unique_clusters == cluster_label)[0][0]\n",
    "        \n",
    "        # Apply the cluster_id to the corresponding positions in the colored_mask\n",
    "        colored_mask[segmentation_mask == cell_id] = cluster_id\n",
    "\n",
    "# Plot the colored segmentation mask\n",
    "plt.figure(figsize=(10, 10))\n",
    "plt.imshow(colored_mask, cmap=colormap, interpolation='nearest')\n",
    "plt.colorbar(ticks=np.arange(len(unique_clusters)), label='Cluster Label')\n",
    "plt.axis('off')\n",
    "plt.title(f'Segmentation Mask for {sample_id} Colored by Cluster')\n",
    "\n",
    "# Show the plot\n",
    "plt.show()\n",
    "\n",
    "# Optionally save the colored segmentation mask\n",
    "# plt.imsave(f'segmentation_mask_{sample_id}_colored_by_cluster_white_background.tiff', colored_mask, cmap=colormap)"
   ]
  },
  {
   "cell_type": "code",
   "execution_count": null,
   "id": "f62452de-fc44-42b2-9f9e-a794751dd4d4",
   "metadata": {},
   "outputs": [],
   "source": [
    "import numpy as np\n",
    "import matplotlib.pyplot as plt\n",
    "from matplotlib.colors import ListedColormap\n",
    "from skimage import io\n",
    "\n",
    "# Load the segmentation mask\n",
    "segmentation_mask = io.imread('/data/vasileiosionat2/IBEX_FINAL/Cellprofiler_Outputs/Masks/HV137B1_0.tiff')\n",
    "\n",
    "# Specify the crop coordinates\n",
    "x_min, x_max = 1902, 2550  # X range (columns)\n",
    "y_min, y_max = 1260, 1836  # Y range (rows)\n",
    "\n",
    "# Crop the segmentation mask\n",
    "cropped_segmentation_mask = segmentation_mask[y_min:y_max, x_min:x_max]\n",
    "\n",
    "# Specify the sample ID\n",
    "sample_id = \"HV137B1\"\n",
    "adata_subset = adata[adata.obs['SampleID'] == sample_id]\n",
    "\n",
    "# Map cell IDs to cluster labels\n",
    "cluster_map = adata_subset.obs['lvl1_spatial_cluster'].to_dict()\n",
    "\n",
    "# Map cluster labels to numeric IDs for coloring\n",
    "cluster_label_to_numeric = {\n",
    "    label: idx for idx, label in enumerate(adata_subset.obs['lvl1_spatial_cluster'].cat.categories)\n",
    "}\n",
    "\n",
    "# Add a new 'cell_index' column to the 'obs' DataFrame\n",
    "adata_subset.obs['cell_index'] = np.arange(1, len(adata_subset) + 1)\n",
    "\n",
    "# Define a custom colormap for the clusters\n",
    "cluster_colors = {\n",
    "    'Immune': 'green',\n",
    "    'Fibroblast': 'blue',\n",
    "    'Epithelial': 'yellow',\n",
    "    'Vascular': 'red',\n",
    "    'Other': 'grey'\n",
    "}\n",
    "unique_clusters = list(cluster_colors.keys())\n",
    "colormap = ListedColormap([cluster_colors[cluster] for cluster in unique_clusters])\n",
    "\n",
    "# Initialize the colored mask\n",
    "colored_mask = np.ones_like(cropped_segmentation_mask, dtype=np.float32) * np.nan  # White background\n",
    "\n",
    "# Populate the cropped colored mask based on cluster labels\n",
    "for cell_id in np.unique(cropped_segmentation_mask):\n",
    "    if cell_id == 0:\n",
    "        continue  # Skip background\n",
    "    \n",
    "    # Get the corresponding row in `adata_subset`\n",
    "    row = adata_subset.obs[adata_subset.obs['cell_index'] == cell_id]\n",
    "    if not row.empty:\n",
    "        # Map the cluster label to the corresponding numeric ID\n",
    "        cluster_label = row['lvl1_spatial_cluster'].values[0]\n",
    "        cluster_id = cluster_label_to_numeric[cluster_label]\n",
    "        colored_mask[cropped_segmentation_mask == cell_id] = cluster_id\n",
    "\n",
    "# Plot the cropped segmentation mask\n",
    "plt.figure(figsize=(12, 12))\n",
    "plt.imshow(colored_mask, cmap=colormap, interpolation='nearest')\n",
    "plt.colorbar(\n",
    "    ticks=np.arange(len(unique_clusters)),\n",
    "    label='Cluster Label',\n",
    "    boundaries=np.arange(-0.5, len(unique_clusters), 1),\n",
    ")\n",
    "plt.axis('off')\n",
    "plt.title(f'Cropped Segmentation Mask for {sample_id} Colored by Cluster')\n",
    "\n",
    "# Add contours to highlight cell boundaries in the cropped region\n",
    "for cell_id in np.unique(cropped_segmentation_mask):\n",
    "    if cell_id == 0:\n",
    "        continue  # Skip background\n",
    "    # Create a binary mask for each cell\n",
    "    binary_mask = cropped_segmentation_mask == cell_id\n",
    "    contours = plt.contour(\n",
    "        binary_mask,\n",
    "        levels=[0.5],\n",
    "        colors='k',  # Black contours\n",
    "        linewidths=0.5,\n",
    "    )\n",
    "\n",
    "plt.show()\n",
    "\n"
   ]
  },
  {
   "cell_type": "code",
   "execution_count": null,
   "id": "1d1017b4-c7a6-44f7-b5b1-88be11601f85",
   "metadata": {},
   "outputs": [],
   "source": [
    "adata.obs['lvl2.5_spatial_cluster'].unique().tolist()"
   ]
  },
  {
   "cell_type": "code",
   "execution_count": null,
   "id": "bab3d50c-03e9-41c7-b078-80db451379a9",
   "metadata": {},
   "outputs": [],
   "source": [
    "adata.obs['lvl2.5_spatial_cluster'] = adata.obs['lvl2.5_spatial_cluster'].astype(str)\n",
    "# Convert the 'niche_cc14' column to categorical\n",
    "adata.obs['lvl2.5_spatial_cluster'] = pd.Categorical(adata.obs['lvl2.5_spatial_cluster'])\n",
    "\n",
    "# Define the replacement dictionary\n",
    "replacement_dict = {\n",
    "    'Proliferating': 'Basal-Parabasal',\n",
    "    'Langerhans': 'APC-myeloid',\n",
    "    'T-APC mix': 'Lymphoid mix',\n",
    "    'Plasma-T mix': 'Lymphoid mix'\n",
    "}\n",
    "\n",
    "\n",
    "# Replace values in the 'niche_cc14' column\n",
    "adata.obs['lvl2.5_spatial_cluster'] = adata.obs['lvl2.5_spatial_cluster'].replace(replacement_dict)\n",
    "print(adata.obs['lvl2.5_spatial_cluster'].unique())"
   ]
  },
  {
   "cell_type": "code",
   "execution_count": null,
   "id": "8fb94c6b-290f-42cb-911d-90b8e2a13cf5",
   "metadata": {},
   "outputs": [],
   "source": [
    "adata.obs['lvl2.5_spatial_cluster'].unique().tolist()"
   ]
  },
  {
   "cell_type": "code",
   "execution_count": null,
   "id": "cdbea8dc-832c-4af2-b316-33f358699951",
   "metadata": {},
   "outputs": [],
   "source": [
    "adata.obs['spatial_cluster'].unique().tolist()"
   ]
  },
  {
   "cell_type": "code",
   "execution_count": null,
   "id": "dccd99ca-68d0-41b6-a421-e28bd3af1b46",
   "metadata": {},
   "outputs": [],
   "source": [
    "adata.obs['lvl4_spatial_cluster'] = adata.obs['spatial_cluster'].copy()"
   ]
  },
  {
   "cell_type": "code",
   "execution_count": null,
   "id": "3a8e22cb-31b6-4ad3-a650-acf1d9820ebc",
   "metadata": {},
   "outputs": [],
   "source": [
    "adata.obs['lvl4_spatial_cluster'].unique().tolist()"
   ]
  },
  {
   "cell_type": "code",
   "execution_count": null,
   "id": "a679f7a7-40b6-407c-b8c7-d6ad3bb5434a",
   "metadata": {},
   "outputs": [],
   "source": [
    "#Modification 2025_03_03\n",
    "adata.obs['lvl4_spatial_cluster'] = adata.obs['lvl4_spatial_cluster'].astype(str)\n",
    "# Convert the 'niche_cc14' column to categorical\n",
    "adata.obs['lvl4_spatial_cluster'] = pd.Categorical(adata.obs['lvl4_spatial_cluster'])\n",
    "\n",
    "# Define the replacement dictionary\n",
    "replacement_dict = {\n",
    "    'Fib.Thy1(-)': 'Fib',\n",
    "    'Fib.Thy1(+)': 'Fib',\n",
    "    'Fib.HLA-DR(+)': 'Fib',\n",
    "    'ECM.Vim(+)': 'Unclear',\n",
    "    'APCmyel.perivasc': 'APC.BV',\n",
    "    'APC.myel': 'APC',\n",
    "    'T.APCmyel.mix': 'T.APC.mix',\n",
    "    'En.aSMA(-)': 'VEC',\n",
    "    'En.HLA-DR(+)': 'VEC',\n",
    "    'En.HLA-DR(-)': 'VEC',\n",
    "    'SMC.HLA-DR(+)' : 'SMC',\n",
    "    'SMC.HLA-DR(-)' : 'SMC'   \n",
    "}\n",
    "\n",
    "\n",
    "# Replace values in the 'niche_cc14' column\n",
    "adata.obs['lvl4_spatial_cluster'] = adata.obs['lvl4_spatial_cluster'].replace(replacement_dict)\n",
    "print(adata.obs['lvl4_spatial_cluster'].unique())"
   ]
  },
  {
   "cell_type": "code",
   "execution_count": null,
   "id": "f77094f9-8896-435a-8e0a-dcf329151bf4",
   "metadata": {},
   "outputs": [],
   "source": [
    "adata.obs['lvl4_spatial_cluster'].unique().tolist()"
   ]
  },
  {
   "cell_type": "code",
   "execution_count": null,
   "id": "4ae17c34-f8a9-4c29-877d-bc03a65ec0e3",
   "metadata": {},
   "outputs": [],
   "source": [
    "#Modification 2025_03_03\n",
    "adata.obs['lvl4_spatial_cluster'] = adata.obs['lvl4_spatial_cluster'].astype(str)\n",
    "# Convert the 'niche_cc14' column to categorical\n",
    "adata.obs['lvl4_spatial_cluster'] = pd.Categorical(adata.obs['lvl4_spatial_cluster'])\n",
    "\n",
    "# Define the replacement dictionary\n",
    "replacement_dict = {\n",
    "    'Ep.k': 'Ep.or.k',\n",
    "    'Ep.sp': 'Ep.or.sp',\n",
    "    'Ep.b-pb': 'Ep.or.b-pb',\n",
    "    'Ep.crev': 'Ep.TA',\n",
    "}\n",
    "\n",
    "\n",
    "# Replace values in the 'niche_cc14' column\n",
    "adata.obs['lvl4_spatial_cluster'] = adata.obs['lvl4_spatial_cluster'].replace(replacement_dict)\n",
    "print(adata.obs['lvl4_spatial_cluster'].unique())"
   ]
  },
  {
   "cell_type": "code",
   "execution_count": null,
   "id": "d829329c-0a44-49fb-a457-1655d93ece9c",
   "metadata": {},
   "outputs": [],
   "source": [
    "adata.obs['lvl4_spatial_cluster'].unique().tolist()"
   ]
  },
  {
   "cell_type": "code",
   "execution_count": null,
   "id": "ee479739-a495-428b-a0a9-eac25b310814",
   "metadata": {},
   "outputs": [],
   "source": [
    "adata.obs['niche_knn30k11_merged'] = adata.obs['niche_knn30k11'].copy()\n",
    "import scanpy as sc\n",
    "\n",
    "# Define the replacement dictionary\n",
    "replacement_dict = {\n",
    "    'Parabasal':'Oral Epi',\n",
    "    'Crevicular': 'T.A. Epi',\n",
    "    'Basal-Parabasal' : 'Epi-CT interface',\n",
    "    'Spinous': 'Oral Epi',\n",
    "}\n",
    "\n",
    "# Replace values in the 'niche_knn30k11' column\n",
    "adata.obs['niche_knn30k11_merged'] = adata.obs['niche_knn30k11_merged'].replace(replacement_dict)\n",
    "\n",
    "# Print unique values after replacement\n",
    "print(adata.obs['niche_knn30k11_merged'].unique().tolist())\n"
   ]
  },
  {
   "cell_type": "code",
   "execution_count": null,
   "id": "dc77b047-880f-4f75-9b89-05efcec44a97",
   "metadata": {},
   "outputs": [],
   "source": [
    "adata.write_h5ad(\"/data/vasileiosionat2/IBEX_FINAL/Scimap/Adata/adata_ROIs.h5ad\")"
   ]
  }
 ],
 "metadata": {
  "kernelspec": {
   "display_name": "scimap",
   "language": "python",
   "name": "scimap"
  },
  "language_info": {
   "codemirror_mode": {
    "name": "ipython",
    "version": 3
   },
   "file_extension": ".py",
   "mimetype": "text/x-python",
   "name": "python",
   "nbconvert_exporter": "python",
   "pygments_lexer": "ipython3",
   "version": "3.8.17"
  }
 },
 "nbformat": 4,
 "nbformat_minor": 5
}
