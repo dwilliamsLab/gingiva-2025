{
 "cells": [
  {
   "cell_type": "code",
   "execution_count": null,
   "id": "76dd6a10-b5c6-4667-a560-946d9ac5c5bd",
   "metadata": {},
   "outputs": [],
   "source": [
    "import scimap as sm\n",
    "import pandas as pd\n",
    "import sys\n",
    "import os\n",
    "import scanpy as sc\n",
    "import seaborn as sns; sns.set(color_codes=True)\n",
    "import anndata\n",
    "adata = anndata.read_h5ad(\"/data/vasileiosionat2/IBEX_FINAL/Scimap/Adata/adata_ROIs.h5ad\")\n",
    "adata.obs"
   ]
  },
  {
   "cell_type": "code",
   "execution_count": null,
   "id": "65fab2d1-a11d-4cf5-b687-3fd0b3fedbf3",
   "metadata": {},
   "outputs": [],
   "source": [
    "import scanpy as sc\n",
    "\n",
    "# Define the replacement dictionary\n",
    "replacement_dict = {\n",
    "    'keratin epithelial cell': 'Keratin Epi',\n",
    "    'Langerhans cell': 'Langerhans',\n",
    "    'fibroblast': 'Fibroblast',\n",
    "    'spinous epithelial cell': 'Spinous Epi',\n",
    "    'intraepithelial neutrophil': 'Intraepithelial neutrophil',\n",
    "    'proliferating epithelial cell': 'Proliferating Epi',\n",
    "    'basal / parabasal epithelial cell': 'Basal-Parabasal Epi',\n",
    "    'other': 'Other',\n",
    "    'neutrophil': 'Neutrophil',\n",
    "    'APC-myeloid': 'APC-myeloid',\n",
    "    'crevicular epithelial cell': 'Crevicular Epi',\n",
    "    'mast cell': 'Mast',\n",
    "    'CD8 T cell': 'T cytotoxic',\n",
    "    'plasma cell': 'Plasma',\n",
    "    'T cell / APC mix': 'T-APC mix',\n",
    "    'endothelial cell': 'Endothelial',\n",
    "    'intraepithelial T cell': 'Intraepithelial T',\n",
    "    'SMC': 'SMC',\n",
    "    'CD4 T cell': 'T helper',\n",
    "    'b cell': 'B',\n",
    "}\n",
    "\n",
    "# Replace values in the 'lvl3_spatial_cluster' column\n",
    "adata.obs['lvl3_spatial_cluster'] = adata.obs['lvl3_spatial_cluster'].replace(replacement_dict)\n",
    "\n",
    "# Print unique values after replacement\n",
    "print(adata.obs['lvl3_spatial_cluster'].unique())\n"
   ]
  },
  {
   "cell_type": "code",
   "execution_count": null,
   "id": "fe2e6137-5100-4e21-b259-7120f02959a1",
   "metadata": {},
   "outputs": [],
   "source": [
    "unique_values = adata.obs['niche'].unique().tolist()\n",
    "print(unique_values)"
   ]
  },
  {
   "cell_type": "code",
   "execution_count": null,
   "id": "53d007dd-ef3a-4c89-932c-7e286afaf396",
   "metadata": {},
   "outputs": [],
   "source": [
    "import scanpy as sc\n",
    "\n",
    "# Define the replacement dictionary\n",
    "replacement_dict2 = {\n",
    "    'crevicular epithelial': 'Crevicular',\n",
    "    'spinous epithelial': 'Spinous',\n",
    "    'fibroblast': 'Fibroblast',\n",
    "    'basal / parabasal epithelial': 'Basal-Parabasal',\n",
    "    'blood vessel': 'BV',\n",
    "    'neutrophil (CT)': 'Neutrophil(CT)',\n",
    "    'plasma cell': 'Plasma',\n",
    "    'T cell / APC': 'T-APC'\n",
    "}\n",
    "\n",
    "# Replace values in the 'niche' column\n",
    "adata.obs['niche'] = adata.obs['niche'].replace(replacement_dict2)\n",
    "\n",
    "# Print unique values after replacement\n",
    "print(adata.obs['niche'].unique())"
   ]
  },
  {
   "cell_type": "code",
   "execution_count": null,
   "id": "6e3dbe94-dc67-428a-9aa3-01b41cbe0306",
   "metadata": {},
   "outputs": [],
   "source": [
    "unique_values = adata.obs['spatial_cluster'].unique().tolist()\n",
    "print(unique_values)"
   ]
  },
  {
   "cell_type": "code",
   "execution_count": null,
   "id": "b9e9da5b-b663-4d8b-9ad1-b1226735e959",
   "metadata": {},
   "outputs": [],
   "source": [
    "import scanpy as sc\n",
    "\n",
    "# Define the replacement dictionary\n",
    "replacement_dict = {\n",
    "    'keratin epithelial cell': 'Keratin Epi',\n",
    "    'intraepithelial APC': 'Langerhans',\n",
    "    'Thy-1(-) fibroblast': 'Thy1(-) Fibroblast',\n",
    "    'spinous epithelial cell': 'Spinous Epithelial',\n",
    "    'intraepithelial neutrophil': 'Intraepithelial Neutrophil',\n",
    "    'fibroblast': 'Thy1(+) Fibroblast',\n",
    "    'proliferating epithelial cell': 'Proliferating Epi',\n",
    "    'basal/parabasal epithelial cell': 'Basal-Parabasal Epi',\n",
    "    'Extracellular matrix / Vim(+)': 'ECM-Vim(+)',\n",
    "    'S100a8/9(-) neutrophil': 'S100a8-9(-) Neutrophil',\n",
    "    'APC (proximity to blood vessel)': 'APC-myeloid (proximity to BV)',\n",
    "    'crevicular epithelial cell': 'Crevicular Epi',\n",
    "    'APC': 'APC-myeloid',\n",
    "    'mast cell': 'Mast',\n",
    "    'CD8 T cell': 'T cytotoxic',\n",
    "    'plasma cell': 'Plasma',\n",
    "    'T cell (proximity to APC)': 'T (proximity to APC)',\n",
    "    'aSMA(-) endothelial cell': 'aSMA(-) Endothelial',\n",
    "    'APC (proximity to T cell)': 'APC (proximity to T)',\n",
    "    'endothelial / immune mix': 'Endothelial-Immune mix',\n",
    "    'HLA-DR(+) endothelial cell': 'HLA-DR(+) Endothelial',\n",
    "    'intravascular neutrophil': 'Neutrophil (BV-associated)',\n",
    "    'Thy-1(+) / CD45(+) cell': 'Thy1-CD45(+) cell',\n",
    "    'intraepithelial T cell': 'Intraepithelial T',\n",
    "    'HLA-DR(+) fibroblast': 'HLA-DR(+) Fibroblast',\n",
    "    'endothelial cell': 'Endothelial',\n",
    "    'HLA-DR(+) SMC': 'HLA-DR(+) SMC',\n",
    "    'S100a8/9(+) neutrophil, CT': 'S100a-9(+) Neutrophil-CT',\n",
    "    'CD8 T cell / b cell mix': 'CD20-CD8(+)mix',\n",
    "    'SMC': 'SMC',\n",
    "    'plasma / T cell mix': 'Plasma-T mix',\n",
    "    'Unknown': 'Unclear',\n",
    "    'Unknown2': 'Unclear',\n",
    "    'CD4 T cell': 'Thelper',\n",
    "    'plasma cell / proximity to T cell': 'Plasma (proximity to T)',\n",
    "    'CD4 T cell / b cell mix': 'Thelper-B mix',\n",
    "    'b cell': 'B',\n",
    "}\n",
    "\n",
    "# Replace values in the 'spatial_cluster' column\n",
    "adata.obs['spatial_cluster'] = adata.obs['spatial_cluster'].replace(replacement_dict)\n",
    "\n",
    "# Print unique values after replacement\n",
    "print(adata.obs['spatial_cluster'].unique())\n"
   ]
  },
  {
   "cell_type": "code",
   "execution_count": null,
   "id": "dd8a283d-7fdb-42a1-9be5-8287cc360f62",
   "metadata": {},
   "outputs": [],
   "source": [
    "unique_values = adata.obs['lvl1_spatial_cluster'].unique().tolist()\n",
    "print(unique_values)"
   ]
  },
  {
   "cell_type": "code",
   "execution_count": null,
   "id": "77ed18c1-1408-4fe8-a03f-4a284c430070",
   "metadata": {},
   "outputs": [],
   "source": [
    "adata.obs"
   ]
  },
  {
   "cell_type": "code",
   "execution_count": null,
   "id": "c24896e8-f2df-4574-9dc6-17a9a5e9a0f4",
   "metadata": {},
   "outputs": [],
   "source": [
    "adata.write_h5ad(\"/data/vasileiosionat2/IBEX_FINAL/Scimap/Adata/adata_ROIs.h5ad\")"
   ]
  },
  {
   "cell_type": "code",
   "execution_count": null,
   "id": "5f07e6f2-f72b-4efc-9a2b-60581961f446",
   "metadata": {
    "scrolled": true
   },
   "outputs": [],
   "source": [
    "unique_values = adata.obs['niche'].unique().tolist()\n",
    "print(unique_values)"
   ]
  },
  {
   "cell_type": "code",
   "execution_count": null,
   "id": "15e9ec01-8421-4ce4-85a5-e111c31704fc",
   "metadata": {},
   "outputs": [],
   "source": [
    "import scanpy as sc\n",
    "\n",
    "# Define the replacement dictionary\n",
    "replacement_dict = {\n",
    "    'Keratin Epi': 'Keratin',\n",
    "    'Spinous Epi': 'Spinous',\n",
    "    'Intraepithelial neutrophil': 'Neutrophil',\n",
    "    'Proliferating Epi':'Proliferating',\n",
    "    'Basal-Parabasal Epi': 'Basal-Parabasal',\n",
    "    'Crevicular Epi': 'Crevicular',\n",
    "    'Intraepithelial T': 'T (IE)',\n",
    "}\n",
    "\n",
    "# Replace values in the 'lvl3_spatial_cluster' column\n",
    "adata.obs['lvl3_spatial_cluster'] = adata.obs['lvl3_spatial_cluster'].replace(replacement_dict)\n",
    "\n",
    "# Print unique values after replacement\n",
    "print(adata.obs['lvl3_spatial_cluster'].unique())\n"
   ]
  },
  {
   "cell_type": "code",
   "execution_count": null,
   "id": "6ec640b0-7d9b-4040-b431-37ad4a0a2cc7",
   "metadata": {
    "scrolled": true
   },
   "outputs": [],
   "source": [
    "unique_values = adata.obs['spatial_cluster'].unique().tolist()\n",
    "print(unique_values)"
   ]
  },
  {
   "cell_type": "code",
   "execution_count": null,
   "id": "1f16424f-19ba-401c-9aee-85e436cf7165",
   "metadata": {},
   "outputs": [],
   "source": [
    "sc.pl.matrixplot(adata, var_names= adata.var.index, groupby='spatial_cluster', dendrogram=False, use_raw=False, cmap=\"vlag\", standard_scale='var')"
   ]
  },
  {
   "cell_type": "code",
   "execution_count": null,
   "id": "009ba633-6240-4ed2-860d-641f0f26cc0c",
   "metadata": {},
   "outputs": [],
   "source": [
    "sc.pl.matrixplot(adata, var_names= adata.var.index, groupby='lvl3_spatial_cluster', dendrogram=True, use_raw=False, cmap=\"vlag\", standard_scale='var')"
   ]
  },
  {
   "cell_type": "code",
   "execution_count": null,
   "id": "ae7ac981-29fa-489c-b7c6-e1f1a34e9e9b",
   "metadata": {},
   "outputs": [],
   "source": [
    "sc.pl.matrixplot(adata, var_names= adata.var.index, groupby='lvl2_spatial_cluster', dendrogram=True, use_raw=False, cmap=\"vlag\", standard_scale='var')"
   ]
  },
  {
   "cell_type": "code",
   "execution_count": null,
   "id": "ea0acbb2-5284-4e71-95e3-e6655317314f",
   "metadata": {},
   "outputs": [],
   "source": [
    "sc.pl.matrixplot(adata, var_names= adata.var.index, groupby='lvl1_spatial_cluster', dendrogram=True, use_raw=False, cmap=\"vlag\", standard_scale='var')"
   ]
  },
  {
   "cell_type": "code",
   "execution_count": null,
   "id": "ac59b588-6052-4fed-9b3c-da25b2bf4718",
   "metadata": {},
   "outputs": [],
   "source": [
    "import scanpy as sc\n",
    "\n",
    "# Define the replacement dictionary\n",
    "replacement_dict = {\n",
    "    'Myofibroblast': 'SMC',\n",
    "}\n",
    "\n",
    "# Replace values in the 'lvl3_spatial_cluster' column\n",
    "adata.obs['spatial_cluster'] = adata.obs['spatial_cluster'].replace(replacement_dict)\n",
    "# Replace values in the 'lvl3_spatial_cluster' column\n",
    "adata.obs['lvl3_spatial_cluster'] = adata.obs['lvl3_spatial_cluster'].replace(replacement_dict)\n",
    "# Replace values in the 'lvl3_spatial_cluster' column\n",
    "adata.obs['lvl2_spatial_cluster'] = adata.obs['lvl2_spatial_cluster'].replace(replacement_dict)\n",
    "# Print unique values after replacement\n",
    "print(adata.obs['lvl2_spatial_cluster'].unique())\n"
   ]
  },
  {
   "cell_type": "code",
   "execution_count": null,
   "id": "75f0c40b-f6ab-4761-a896-54d35dae41c5",
   "metadata": {},
   "outputs": [],
   "source": [
    "adata.obs['lvl1_spatial_cluster'].value_counts()"
   ]
  },
  {
   "cell_type": "code",
   "execution_count": null,
   "id": "b7be096c-af30-433f-9fca-0d2f898a624a",
   "metadata": {},
   "outputs": [],
   "source": [
    "Vasc_lvl1 = ['SMC']\n",
    "adata.obs.loc[adata.obs['lvl2_spatial_cluster'].isin(Vasc_lvl1), 'lvl1_spatial_cluster'] = 'Vascular'"
   ]
  },
  {
   "cell_type": "code",
   "execution_count": null,
   "id": "a18fed6c-f58c-4fae-a687-1cd576776b9e",
   "metadata": {},
   "outputs": [],
   "source": [
    "adata.obs['lvl1_spatial_cluster'].value_counts()"
   ]
  },
  {
   "cell_type": "code",
   "execution_count": null,
   "id": "58af488b-354c-42a3-a56f-27d9da4b1bfb",
   "metadata": {},
   "outputs": [],
   "source": [
    "sc.pl.matrixplot(adata, var_names= adata.var.index, groupby='spatial_cluster', dendrogram=True, use_raw=False, cmap=\"vlag\", standard_scale='var')"
   ]
  },
  {
   "cell_type": "code",
   "execution_count": null,
   "id": "aff9995c-49ed-4ad0-8980-67726088db5b",
   "metadata": {},
   "outputs": [],
   "source": [
    "sc.pl.matrixplot(adata, var_names= adata.var.index, groupby='lvl3_spatial_cluster', dendrogram=True, use_raw=False, cmap=\"vlag\", standard_scale='var')"
   ]
  },
  {
   "cell_type": "code",
   "execution_count": null,
   "id": "df5ab3fb-00a1-4347-bbbc-19a837dfb33b",
   "metadata": {},
   "outputs": [],
   "source": [
    "sc.pl.matrixplot(adata, var_names= adata.var.index, groupby='lvl2_spatial_cluster', dendrogram=True, use_raw=False, cmap=\"vlag\", standard_scale='var')"
   ]
  },
  {
   "cell_type": "code",
   "execution_count": null,
   "id": "af439e94-f5be-40e3-ad0a-f8a2af5deab8",
   "metadata": {},
   "outputs": [],
   "source": [
    "sc.pl.matrixplot(adata, var_names= adata.var.index, groupby='lvl1_spatial_cluster', dendrogram=True, use_raw=False, cmap=\"vlag\", standard_scale='var')"
   ]
  },
  {
   "cell_type": "code",
   "execution_count": null,
   "id": "3a03cd65-1ea8-4b58-8bc7-d501d7b968bd",
   "metadata": {
    "scrolled": true
   },
   "outputs": [],
   "source": [
    "import pandas as pd\n",
    "\n",
    "# Assuming adata.obs contains 'lvl2_spatial_cluster' and 'lvl3_spatial_clusters'\n",
    "cluster_counts = (\n",
    "    adata.obs.groupby(['lvl3_spatial_cluster', 'spatial_cluster']).size().unstack(fill_value=0)\n",
    ")\n",
    "\n",
    "# Adjust Pandas display settings to show all columns\n",
    "pd.set_option('display.max_columns', None)\n",
    "\n",
    "# Display the full result\n",
    "print(cluster_counts)\n",
    "\n",
    "# Reset the option if needed (optional)\n",
    "pd.reset_option('display.max_columns')\n"
   ]
  },
  {
   "cell_type": "code",
   "execution_count": null,
   "id": "dc96bbd9-6288-4f69-bad0-6b276452f929",
   "metadata": {},
   "outputs": [],
   "source": [
    "import pandas as pd\n",
    "\n",
    "# Filter the data for the 'Thelper-b mix' category in the 'spatial_cluster' column\n",
    "thelper_b_mix_counts = adata.obs[adata.obs['spatial_cluster'] == 'Plasma-T mix']\n",
    "\n",
    "# Group by 'SampleID' and count the occurrences\n",
    "thelper_b_mix_counts_by_sample = thelper_b_mix_counts.groupby('SampleID').size()\n",
    "\n",
    "# Convert to DataFrame for better readability (optional)\n",
    "thelper_b_mix_counts_by_sample = thelper_b_mix_counts_by_sample.reset_index(name='Thelper-b mix Count')\n",
    "\n",
    "# Display the result\n",
    "print(thelper_b_mix_counts_by_sample)"
   ]
  },
  {
   "cell_type": "code",
   "execution_count": null,
   "id": "4bcdfdd4-8267-4d64-8946-1d9abfbd5a23",
   "metadata": {},
   "outputs": [],
   "source": [
    "# Define the replacement dictionary\n",
    "replacement_dict = {\n",
    "    'CD20-CD8(+)mix': 'Tcytotoxic-B mix',\n",
    "}\n",
    "\n",
    "# Replace values in the 'spatial_cluster' column\n",
    "adata.obs['spatial_cluster'] = adata.obs['spatial_cluster'].replace(replacement_dict)"
   ]
  },
  {
   "cell_type": "code",
   "execution_count": null,
   "id": "d70647e6-4e41-4920-99a7-bdf33f1b4512",
   "metadata": {},
   "outputs": [],
   "source": [
    "import scanpy as sc\n",
    "sc.tl.dendrogram(adata, groupby='spatial_cluster')\n"
   ]
  },
  {
   "cell_type": "code",
   "execution_count": null,
   "id": "3536dc1b-6d63-4223-aeec-40d750b98762",
   "metadata": {
    "scrolled": true
   },
   "outputs": [],
   "source": [
    "sc.pl.matrixplot(adata, var_names=adata.var.index, groupby='spatial_cluster', dendrogram=True, use_raw=False, cmap=\"vlag\", standard_scale='var')"
   ]
  },
  {
   "cell_type": "code",
   "execution_count": null,
   "id": "951c02f7-7494-47f3-80a0-4f111dcaa7b3",
   "metadata": {},
   "outputs": [],
   "source": [
    "# Define the replacement dictionary\n",
    "replacement_dict = {\n",
    "    'Plasma (proximity to T)': 'T-Plasma mix',\n",
    "    'Plasma-T mix': 'T-Plasma mix'\n",
    "}\n",
    "\n",
    "# Replace values in the 'spatial_cluster' column\n",
    "adata.obs['spatial_cluster'] = adata.obs['spatial_cluster'].replace(replacement_dict)"
   ]
  },
  {
   "cell_type": "code",
   "execution_count": null,
   "id": "378d4a34-b60c-48e0-b52a-a6c891ffce63",
   "metadata": {},
   "outputs": [],
   "source": [
    "# Define the replacement dictionary\n",
    "replacement_dict = {\n",
    "    'APC (proximity to T)': 'T-APC mix',\n",
    "    'T (proximity to APC)': 'T-APC mix'\n",
    "}\n",
    "\n",
    "# Replace values in the 'spatial_cluster' column\n",
    "adata.obs['spatial_cluster'] = adata.obs['spatial_cluster'].replace(replacement_dict)"
   ]
  },
  {
   "cell_type": "code",
   "execution_count": null,
   "id": "665871ad-f295-4afe-bb14-051729e0ed98",
   "metadata": {},
   "outputs": [],
   "source": [
    "# Define the replacement dictionary\n",
    "replacement_dict = {\n",
    "    'APC-myeloid (proximity to BV)': 'APC (perivascular)',\n",
    "  }\n",
    "\n",
    "# Replace values in the 'spatial_cluster' column\n",
    "adata.obs['spatial_cluster'] = adata.obs['spatial_cluster'].replace(replacement_dict)"
   ]
  },
  {
   "cell_type": "code",
   "execution_count": null,
   "id": "4d1f373d-3a2e-4678-8a1c-374a45c7f221",
   "metadata": {},
   "outputs": [],
   "source": [
    "# Add the new category to the list of allowed categories\n",
    "adata.obs['lvl3_spatial_cluster'] = adata.obs['lvl3_spatial_cluster'].cat.add_categories(['T-Plasma mix'])\n",
    "\n",
    "# Assign the new category to the desired cells\n",
    "TP_lvl3 = ['T-Plasma mix']\n",
    "adata.obs.loc[adata.obs['spatial_cluster'].isin(TP_lvl3), 'lvl3_spatial_cluster'] = 'T-Plasma mix'\n"
   ]
  },
  {
   "cell_type": "code",
   "execution_count": null,
   "id": "e252c8b5-b77f-4550-b451-ed165823f4e6",
   "metadata": {},
   "outputs": [],
   "source": [
    "# Add the new category to the list of allowed categories\n",
    "adata.obs['lvl3_spatial_cluster'] = adata.obs['lvl3_spatial_cluster'].cat.add_categories(['T-B mix'])\n",
    "\n",
    "# Assign the new category to the desired cells\n",
    "TP_lvl3 = ['Thelper-B mix','Tcytotoxic-B mix']\n",
    "adata.obs.loc[adata.obs['spatial_cluster'].isin(TP_lvl3), 'lvl3_spatial_cluster'] = 'T-B mix'\n"
   ]
  },
  {
   "cell_type": "code",
   "execution_count": null,
   "id": "d4c4ea80-87f1-4030-8465-656e55bffcf0",
   "metadata": {},
   "outputs": [],
   "source": [
    "# Assign the new category to the desired cells\n",
    "TP_lvl3 = ['T-APC mix']\n",
    "adata.obs.loc[adata.obs['spatial_cluster'].isin(TP_lvl3), 'lvl3_spatial_cluster'] = 'T-APC mix'"
   ]
  },
  {
   "cell_type": "code",
   "execution_count": null,
   "id": "72eea105-49fd-4a94-8115-09cc241f5993",
   "metadata": {},
   "outputs": [],
   "source": [
    "sc.pl.matrixplot(adata, var_names=adata.var.index, groupby='lvl3_spatial_cluster', dendrogram=True, use_raw=False, cmap=\"vlag\", standard_scale='var')"
   ]
  },
  {
   "cell_type": "code",
   "execution_count": null,
   "id": "1e212860-3fff-4a62-b755-b3e4ddb67247",
   "metadata": {
    "scrolled": true
   },
   "outputs": [],
   "source": [
    "import pandas as pd\n",
    "\n",
    "# Assuming adata.obs contains 'lvl2_spatial_cluster' and 'lvl3_spatial_clusters'\n",
    "cluster_counts = (\n",
    "    adata.obs.groupby(['lvl3_spatial_cluster', 'spatial_cluster']).size().unstack(fill_value=0)\n",
    ")\n",
    "\n",
    "# Adjust Pandas display settings to show all columns\n",
    "pd.set_option('display.max_columns', None)\n",
    "\n",
    "# Display the full result\n",
    "print(cluster_counts)\n",
    "\n",
    "# Reset the option if needed (optional)\n",
    "pd.reset_option('display.max_columns')\n"
   ]
  },
  {
   "cell_type": "code",
   "execution_count": null,
   "id": "764fca21-1997-4588-85a1-ce115055308b",
   "metadata": {
    "scrolled": true
   },
   "outputs": [],
   "source": [
    "import pandas as pd\n",
    "\n",
    "# Assuming adata.obs contains 'lvl2_spatial_cluster' and 'lvl3_spatial_clusters'\n",
    "cluster_counts = (\n",
    "    adata.obs.groupby(['lvl2_spatial_cluster', 'lvl3_spatial_cluster']).size().unstack(fill_value=0)\n",
    ")\n",
    "\n",
    "# Adjust Pandas display settings to show all columns\n",
    "pd.set_option('display.max_columns', None)\n",
    "\n",
    "# Display the full result\n",
    "print(cluster_counts)\n",
    "\n",
    "# Reset the option if needed (optional)\n",
    "pd.reset_option('display.max_columns')\n"
   ]
  },
  {
   "cell_type": "code",
   "execution_count": null,
   "id": "7703601f-e01a-41c9-bf12-c8b50af91bb6",
   "metadata": {},
   "outputs": [],
   "source": [
    "# Assign the new category to the desired cells\n",
    "TP_lvl3 = ['T-B mix','T-APC mix']\n",
    "adata.obs.loc[adata.obs['lvl3_spatial_cluster'].isin(TP_lvl3), 'lvl2_spatial_cluster'] = 'Lymphoid'\n"
   ]
  },
  {
   "cell_type": "code",
   "execution_count": null,
   "id": "6d8c7b2a-6b75-41c7-aeac-f3f50a1ed3a2",
   "metadata": {
    "scrolled": true
   },
   "outputs": [],
   "source": [
    "import pandas as pd\n",
    "\n",
    "# Assuming adata.obs contains 'lvl2_spatial_cluster' and 'lvl3_spatial_clusters'\n",
    "cluster_counts = (\n",
    "    adata.obs.groupby(['lvl1_spatial_cluster', 'lvl2_spatial_cluster']).size().unstack(fill_value=0)\n",
    ")\n",
    "\n",
    "# Adjust Pandas display settings to show all columns\n",
    "pd.set_option('display.max_columns', None)\n",
    "\n",
    "# Display the full result\n",
    "print(cluster_counts)\n",
    "\n",
    "# Reset the option if needed (optional)\n",
    "pd.reset_option('display.max_columns')\n"
   ]
  },
  {
   "cell_type": "code",
   "execution_count": null,
   "id": "0719e9e6-6209-479f-9907-b5ce6c8b3122",
   "metadata": {},
   "outputs": [],
   "source": [
    "# Assign the new category to the desired cells\n",
    "TP_lvl3 = ['Lymphoid']\n",
    "adata.obs.loc[adata.obs['lvl2_spatial_cluster'].isin(TP_lvl3), 'lvl1_spatial_cluster'] = 'Immune'\n"
   ]
  },
  {
   "cell_type": "code",
   "execution_count": null,
   "id": "a3d1bc47-3c61-4b5e-b55d-77b3510870ff",
   "metadata": {},
   "outputs": [],
   "source": [
    "adata.obs['lvl2.5_spatial_cluster'] = adata.obs['lvl3_spatial_cluster'].copy()"
   ]
  },
  {
   "cell_type": "code",
   "execution_count": null,
   "id": "56427e95-6e0d-433e-b43b-bcad8c6376f1",
   "metadata": {
    "scrolled": true
   },
   "outputs": [],
   "source": [
    "# Define the replacement dictionary\n",
    "replacement_dict = {\n",
    "    'T-B mix': 'Lymphoid mix',\n",
    "    'T-Plasma mix': 'Lymphoid mix',\n",
    "    'T-APC mix': 'Lymphoid mix',\n",
    "    'Langerhans':'APC-myeloid',\n",
    "    'Neut (IE)' : 'Neutrophil'\n",
    "}\n",
    "\n",
    "# Replace values in the 'spatial_cluster' column\n",
    "adata.obs['lvl2.5_spatial_cluster'] = adata.obs['lvl2.5_spatial_cluster'].replace(replacement_dict)"
   ]
  },
  {
   "cell_type": "code",
   "execution_count": null,
   "id": "e84d60a5-9e9e-402e-9328-780f5083bbbc",
   "metadata": {},
   "outputs": [],
   "source": [
    "# Define the replacement dictionary\n",
    "replacement_dict = {\n",
    "    'T (IE)': 'T',\n",
    "    'T helper': 'T',\n",
    "    'T cytotoxic': 'T',\n",
    "}\n",
    "\n",
    "# Replace values in the 'spatial_cluster' column\n",
    "adata.obs['lvl2.5_spatial_cluster'] = adata.obs['lvl2.5_spatial_cluster'].replace(replacement_dict)"
   ]
  },
  {
   "cell_type": "code",
   "execution_count": null,
   "id": "93ede751-feda-4ffc-9eaf-03302888625b",
   "metadata": {},
   "outputs": [],
   "source": [
    "import scanpy as sc\n",
    "sc.tl.dendrogram(adata, groupby='lvl2.5_spatial_cluster')\n"
   ]
  },
  {
   "cell_type": "code",
   "execution_count": null,
   "id": "c75845a7-b74f-48cc-84e3-9ac40b1b6879",
   "metadata": {
    "scrolled": true
   },
   "outputs": [],
   "source": [
    "sc.pl.matrixplot(adata, var_names=adata.var.index, groupby='lvl2.5_spatial_cluster', dendrogram=True, use_raw=False, cmap=\"vlag\", standard_scale='var')"
   ]
  },
  {
   "cell_type": "code",
   "execution_count": null,
   "id": "fbf40be9-41b0-48bb-b3c7-8fc65f9127f7",
   "metadata": {
    "scrolled": true
   },
   "outputs": [],
   "source": [
    "import pandas as pd\n",
    "\n",
    "# Assuming adata.obs contains 'lvl2_spatial_cluster' and 'lvl3_spatial_clusters'\n",
    "cluster_counts = (\n",
    "    adata.obs.groupby(['lvl2.5_spatial_cluster', 'lvl3_spatial_cluster']).size().unstack(fill_value=0)\n",
    ")\n",
    "\n",
    "# Adjust Pandas display settings to show all columns\n",
    "pd.set_option('display.max_columns', None)\n",
    "\n",
    "# Display the full result\n",
    "print(cluster_counts)\n",
    "\n",
    "# Reset the option if needed (optional)\n",
    "pd.reset_option('display.max_columns')\n"
   ]
  },
  {
   "cell_type": "code",
   "execution_count": null,
   "id": "bf8c37b6-30b1-43a0-8dea-bb3c4f0eed39",
   "metadata": {},
   "outputs": [],
   "source": [
    "adata.write_h5ad(\"/data/vasileiosionat2/IBEX_FINAL/Scimap/Adata/adata_ROIs.h5ad\")"
   ]
  },
  {
   "cell_type": "code",
   "execution_count": null,
   "id": "b76bd29e-cde6-4420-bf48-007b035fd3bd",
   "metadata": {
    "scrolled": true
   },
   "outputs": [],
   "source": [
    "unique_values = adata.obs['spatial_cluster'].unique().tolist()\n",
    "print(unique_values)"
   ]
  },
  {
   "cell_type": "code",
   "execution_count": null,
   "id": "81ec6479-999f-4a82-ba6c-ee6abc10f79b",
   "metadata": {},
   "outputs": [],
   "source": [
    "import scanpy as sc\n",
    "\n",
    "# Define the replacement dictionary\n",
    "replacement_dict = {\n",
    "    'Keratin Epi': 'Ep.k', \n",
    "    'Langerhans' : 'Lang',\n",
    "    'Thy1(-) Fibroblast': 'Fib.Thy1(-)',\n",
    "    'Spinous Epithelial': 'Ep.sp',\n",
    "    'Intraepithelial Neutrophil': 'Neut.IE',\n",
    "    'Thy1(+) Fibroblast':'Fib.Thy1(+)',\n",
    "    'Proliferating Epi': 'Ep.prol',\n",
    "    'Basal-Parabasal Epi': 'Ep.b-pb',\n",
    "    'ECM-Vim(+)' : 'ECM.Vim(+)',\n",
    "    'S100a8-9(-) Neutrophil': 'Neut.S100a8-9(-)',\n",
    "    'APC (perivascular)':'APCmyel.perivasc',\n",
    "    'Crevicular Epi':'Ep.crev',\n",
    "    'APC-myeloid':'APC.myel',\n",
    "    'Mast': 'Mast',\n",
    "    'T cytotoxic': 'T.cyt',\n",
    "    'Plasma':'Plasma',\n",
    "    'T-APC mix':'T.APCmyel.mix',\n",
    "    'aSMA(-) Endothelial':'En.aSMA(-)',\n",
    "    'Endothelial-Immune mix':'En.Im.mix',\n",
    "    'HLA-DR(+) Endothelial': 'En.HLA-DR(+)',\n",
    "    'Neutrophil (BV-associated)':'Neut.BV',\n",
    "    'Thy1-CD45(+) cell': 'Thy1.CD45.cell',\n",
    "    'Intraepithelial T': 'T.IE',\n",
    "    'HLA-DR(+) Fibroblast':'Fib.HLA-DR(+)',\n",
    "    'Endothelial': 'En.HLA-DR(-)',\n",
    "    'HLA-DR(+) SMC':'SMC.HLA-DR(+)',\n",
    "    'S100a-9(+) Neutrophil-CT':'Neut.S100a8-9.CT',\n",
    "    'Tcytotoxic-B mix': 'Tcyt.B.mix',\n",
    "    'SMC': 'SMC.HLA-DR(-)',\n",
    "    'T-Plasma mix': 'Pl.T.mix',\n",
    "    'Unclear':'Unclear',\n",
    "    'Thelper':'T.h',\n",
    "    'Thelper-B mix':'Th.B.mix',\n",
    "    'B': 'B'\n",
    "}\n",
    "\n",
    "# Replace values in the 'lvl3_spatial_cluster' column\n",
    "adata.obs['spatial_cluster'] = adata.obs['spatial_cluster'].replace(replacement_dict)\n",
    "\n",
    "# Print unique values after replacement\n",
    "print(adata.obs['spatial_cluster'].unique())\n"
   ]
  },
  {
   "cell_type": "code",
   "execution_count": null,
   "id": "712340e2-1ff3-4430-a18e-a3009c3d6b5f",
   "metadata": {
    "scrolled": true
   },
   "outputs": [],
   "source": [
    "unique_values = adata.obs['spatial_cluster'].unique().tolist()\n",
    "print(unique_values)"
   ]
  },
  {
   "cell_type": "code",
   "execution_count": null,
   "id": "a75f3a76-d328-4438-9a4e-6c65688f6486",
   "metadata": {},
   "outputs": [],
   "source": [
    "import scanpy as sc\n",
    "sc.tl.dendrogram(adata, groupby='spatial_cluster')\n"
   ]
  },
  {
   "cell_type": "code",
   "execution_count": null,
   "id": "120e2a42-82c3-4fd4-9073-881ca3584b93",
   "metadata": {},
   "outputs": [],
   "source": [
    "sc.pl.matrixplot(adata, var_names=adata.var.index, groupby='spatial_cluster', dendrogram=True, use_raw=False, cmap=\"vlag\", standard_scale='var')"
   ]
  },
  {
   "cell_type": "code",
   "execution_count": null,
   "id": "65214a0b-e984-41e1-940c-101b37e0f20d",
   "metadata": {
    "scrolled": true
   },
   "outputs": [],
   "source": [
    "unique_values = adata.obs['lvl3_spatial_cluster'].unique().tolist()\n",
    "print(unique_values)"
   ]
  },
  {
   "cell_type": "code",
   "execution_count": null,
   "id": "008f2cef-e3a3-4eb2-9dbf-424511b0db03",
   "metadata": {
    "scrolled": true
   },
   "outputs": [],
   "source": [
    "# Define the replacement dictionary\n",
    "replacement_dict = {\n",
    "    'T-APC mix': 'T-APC.myel mix',\n",
    "    'T-Plasma mix': 'Plasma-T mix' \n",
    "}\n",
    "\n",
    "# Replace values in the 'lvl3_spatial_cluster' column\n",
    "adata.obs['lvl3_spatial_cluster'] = adata.obs['lvl3_spatial_cluster'].replace(replacement_dict)\n",
    "\n",
    "# Print unique values after replacement\n",
    "print(adata.obs['lvl3_spatial_cluster'].unique())"
   ]
  },
  {
   "cell_type": "code",
   "execution_count": null,
   "id": "1adf64ec-4110-44d2-9940-e11ccce1fb9a",
   "metadata": {
    "scrolled": true
   },
   "outputs": [],
   "source": [
    "unique_values = adata.obs['lvl3_spatial_cluster'].unique().tolist()\n",
    "print(unique_values)"
   ]
  },
  {
   "cell_type": "code",
   "execution_count": null,
   "id": "2c709881-9355-4843-a3e7-a55d6f4a5389",
   "metadata": {},
   "outputs": [],
   "source": [
    "import scanpy as sc\n",
    "sc.tl.dendrogram(adata, groupby='lvl3_spatial_cluster')\n"
   ]
  },
  {
   "cell_type": "code",
   "execution_count": null,
   "id": "04d0efa0-732e-4e91-b22b-3a5007f8e9f1",
   "metadata": {},
   "outputs": [],
   "source": [
    "sc.pl.matrixplot(adata, var_names=adata.var.index, groupby='lvl3_spatial_cluster', dendrogram=True, use_raw=False, cmap=\"vlag\", standard_scale='var')"
   ]
  },
  {
   "cell_type": "code",
   "execution_count": null,
   "id": "d00da4cb-66a4-43a1-9d38-f1e58d95714d",
   "metadata": {
    "scrolled": true
   },
   "outputs": [],
   "source": [
    "unique_values = adata.obs['lvl2.5_spatial_cluster'].unique().tolist()\n",
    "print(unique_values)"
   ]
  },
  {
   "cell_type": "code",
   "execution_count": null,
   "id": "9990c9e3-00cb-45de-86ac-003a2e0c8716",
   "metadata": {},
   "outputs": [],
   "source": [
    "# Define the replacement dictionary\n",
    "replacement_dict = {\n",
    "    'Lymphoid mix' :'T-APC mix', \n",
    "}\n",
    "\n",
    "# Replace values in the 'lvl3_spatial_cluster' column\n",
    "adata.obs['lvl2.5_spatial_cluster'] = adata.obs['lvl2.5_spatial_cluster'].replace(replacement_dict)\n",
    "\n",
    "# Print unique values after replacement\n",
    "print(adata.obs['lvl2.5_spatial_cluster'].unique())"
   ]
  },
  {
   "cell_type": "code",
   "execution_count": null,
   "id": "69383512-578f-4d46-9a93-a56363d4bbc4",
   "metadata": {
    "scrolled": true
   },
   "outputs": [],
   "source": [
    "unique_values = adata.obs['lvl2.5_spatial_cluster'].unique().tolist()\n",
    "print(unique_values)"
   ]
  },
  {
   "cell_type": "code",
   "execution_count": null,
   "id": "1e45059b-7452-48fb-826d-f8914e3a7f8a",
   "metadata": {},
   "outputs": [],
   "source": [
    "# Add the new category to the list of allowed categories\n",
    "adata.obs['lvl2.5_spatial_cluster'] = adata.obs['lvl2.5_spatial_cluster'].cat.add_categories(['Plasma-T mix'])\n",
    "\n",
    "# Assign the new category to the desired cells\n",
    "TP_lvl3 = ['Plasma-T mix']\n",
    "adata.obs.loc[adata.obs['lvl3_spatial_cluster'].isin(TP_lvl3), 'lvl2.5_spatial_cluster'] = 'Plasma-T mix'"
   ]
  },
  {
   "cell_type": "code",
   "execution_count": null,
   "id": "a5cc46e1-2708-4969-846a-74266d71a9a5",
   "metadata": {},
   "outputs": [],
   "source": [
    "unique_values = adata.obs['lvl2.5_spatial_cluster'].unique().tolist()\n",
    "print(unique_values)"
   ]
  },
  {
   "cell_type": "code",
   "execution_count": null,
   "id": "dd53c854-fe1e-4dc1-9b2c-9997c0e14acf",
   "metadata": {},
   "outputs": [],
   "source": [
    "import scanpy as sc\n",
    "sc.tl.dendrogram(adata, groupby='lvl2.5_spatial_cluster')\n"
   ]
  },
  {
   "cell_type": "code",
   "execution_count": null,
   "id": "c533a978-b9fd-455d-b658-f3873be4f326",
   "metadata": {},
   "outputs": [],
   "source": [
    "sc.pl.matrixplot(adata, var_names=adata.var.index, groupby='lvl2.5_spatial_cluster', dendrogram=True, use_raw=False, cmap=\"vlag\", standard_scale='var')"
   ]
  },
  {
   "cell_type": "code",
   "execution_count": null,
   "id": "215d92a0-ee9d-430a-9ba2-6e4c722568c1",
   "metadata": {
    "scrolled": true
   },
   "outputs": [],
   "source": [
    "unique_values = adata.obs['lvl2_spatial_cluster'].unique().tolist()\n",
    "print(unique_values)"
   ]
  },
  {
   "cell_type": "code",
   "execution_count": null,
   "id": "91a0bf92-dabb-4c78-9a9a-9dfa506d51a7",
   "metadata": {},
   "outputs": [],
   "source": [
    "import scanpy as sc\n",
    "sc.tl.dendrogram(adata, groupby='lvl2_spatial_cluster')\n"
   ]
  },
  {
   "cell_type": "code",
   "execution_count": null,
   "id": "f090bf16-3204-413f-be02-06bc1191005f",
   "metadata": {},
   "outputs": [],
   "source": [
    "sc.pl.matrixplot(adata, var_names=adata.var.index, groupby='lvl2_spatial_cluster', dendrogram=True, use_raw=False, cmap=\"vlag\", standard_scale='var')"
   ]
  },
  {
   "cell_type": "code",
   "execution_count": null,
   "id": "d10c4c33-3636-42a8-9f70-19036248f75b",
   "metadata": {
    "scrolled": true
   },
   "outputs": [],
   "source": [
    "unique_values = adata.obs['lvl1_spatial_cluster'].unique().tolist()\n",
    "print(unique_values)"
   ]
  },
  {
   "cell_type": "code",
   "execution_count": null,
   "id": "93424160-fd07-4e33-8a68-3fbf48fc6713",
   "metadata": {},
   "outputs": [],
   "source": [
    "import scanpy as sc\n",
    "sc.tl.dendrogram(adata, groupby='lvl1_spatial_cluster')\n"
   ]
  },
  {
   "cell_type": "code",
   "execution_count": null,
   "id": "30a7ed55-bfc1-43e4-9076-792937e9eee0",
   "metadata": {
    "scrolled": true
   },
   "outputs": [],
   "source": [
    "sc.pl.matrixplot(adata, var_names=adata.var.index, groupby='lvl1_spatial_cluster', dendrogram=True, use_raw=False, cmap=\"vlag\", standard_scale='var')"
   ]
  },
  {
   "cell_type": "code",
   "execution_count": null,
   "id": "0caeab1d-b921-4c90-b40d-558ce2fc9afb",
   "metadata": {},
   "outputs": [],
   "source": [
    "import scanpy as sc\n",
    "\n",
    "# Ensure the dendrogram information is calculated for the grouping\n",
    "sc.tl.dendrogram(adata, groupby='lvl1_spatial_cluster')\n",
    "\n",
    "# Subset of genes you want to plot\n",
    "correct_order = ['CK5', 'PanCK', 'CD138', 'CD45', 'MPO', 'CD3', 'MCT', 'aSMA', 'CD31', 'Vimentin']\n",
    "\n",
    "# Create a DotPlot instance with the desired settings\n",
    "dotplot = sc.pl.matrixplot(\n",
    "    adata, \n",
    "    var_names=correct_order, \n",
    "    groupby='lvl1_spatial_cluster', \n",
    "    dendrogram=True, \n",
    "    use_raw=False, \n",
    "    cmap=\"vlag\",  # Use shades of grey\n",
    "    standard_scale='var'\n",
    ")"
   ]
  },
  {
   "cell_type": "code",
   "execution_count": null,
   "id": "a507152c-0d9a-43fd-9a4c-ad048a58d6c7",
   "metadata": {},
   "outputs": [],
   "source": [
    "import scanpy as sc\n",
    "\n",
    "# Ensure the dendrogram information is calculated for the grouping\n",
    "sc.tl.dendrogram(adata, groupby='lvl1_spatial_cluster')\n",
    "\n",
    "# Subset of genes you want to plot\n",
    "correct_order = ['Hoechst', 'CK5', 'PanCK', 'Ki67', 'CD138', 'CK19', 'S100a8-9', 'CD45', 'MPO', 'CD3', 'CD4', 'CD8a', 'CD20', 'HLA-DR', 'MCT', 'Thy-1', 'aSMA', 'CD31', 'Vimentin']\n",
    "\n",
    "# Create a DotPlot instance with the desired settings\n",
    "dotplot = sc.pl.DotPlot(\n",
    "    adata, \n",
    "    var_names=correct_order, \n",
    "    groupby='lvl1_spatial_cluster', \n",
    "    use_raw=False, \n",
    "    cmap=\"Greys\",  # Use shades of grey\n",
    "    standard_scale='var'\n",
    ")\n",
    "\n",
    "# Remove the outline of dots\n",
    "dotplot.style(dot_edge_color=None)\n",
    "\n",
    "# Display the plot with dendrogram\n",
    "dotplot.show()\n",
    "\n"
   ]
  },
  {
   "cell_type": "code",
   "execution_count": null,
   "id": "1d5ea8f3-4610-4236-8667-c6116f375629",
   "metadata": {},
   "outputs": [],
   "source": [
    "import scanpy as sc\n",
    "\n",
    "# Ensure the dendrogram information is calculated for the grouping\n",
    "sc.tl.dendrogram(adata, groupby='lvl2_spatial_cluster')\n",
    "\n",
    "# Subset of genes you want to plot\n",
    "correct_order = ['Hoechst', 'CK5', 'PanCK', 'Ki67', 'CD138', 'CK19', 'S100a8-9', 'CD45', 'MPO', 'CD3', 'CD4', 'CD8a', 'CD20', 'HLA-DR', 'MCT', 'Thy-1', 'aSMA', 'CD31', 'Vimentin']\n",
    "\n",
    "# Create a DotPlot instance with the desired settings\n",
    "dotplot = sc.pl.DotPlot(\n",
    "    adata, \n",
    "    var_names=correct_order, \n",
    "    groupby='lvl2_spatial_cluster', \n",
    "    use_raw=False, \n",
    "    cmap=\"Greys\",  # Use shades of grey\n",
    "    standard_scale='var'\n",
    ")\n",
    "\n",
    "# Remove the outline of dots\n",
    "dotplot.style(dot_edge_color=None)\n",
    "\n",
    "# Display the plot with dendrogram\n",
    "dotplot.show()\n",
    "\n"
   ]
  },
  {
   "cell_type": "code",
   "execution_count": null,
   "id": "5a2bd38c-431f-4dbe-a1d2-5bb1f2933ec5",
   "metadata": {},
   "outputs": [],
   "source": [
    "import scanpy as sc\n",
    "\n",
    "# Ensure the dendrogram information is calculated for the grouping\n",
    "sc.tl.dendrogram(adata, groupby='lvl2.5_spatial_cluster')\n",
    "\n",
    "# Subset of genes you want to plot\n",
    "correct_order = ['Hoechst', 'CK5', 'PanCK', 'Ki67', 'CD138', 'CK19', 'S100a8-9', 'CD45', 'MPO', 'CD3', 'CD4', 'CD8a', 'CD20', 'HLA-DR', 'MCT', 'Thy-1', 'aSMA', 'CD31', 'Vimentin']\n",
    "\n",
    "# Create a DotPlot instance with the desired settings\n",
    "dotplot = sc.pl.DotPlot(\n",
    "    adata, \n",
    "    var_names=correct_order, \n",
    "    groupby='lvl2.5_spatial_cluster', \n",
    "    use_raw=False, \n",
    "    cmap=\"Greys\",  # Use shades of grey\n",
    "    standard_scale='var'\n",
    ")\n",
    "\n",
    "# Remove the outline of dots\n",
    "dotplot.style(dot_edge_color=None)\n",
    "\n",
    "# Display the plot with dendrogram\n",
    "dotplot.show()\n",
    "\n"
   ]
  },
  {
   "cell_type": "code",
   "execution_count": null,
   "id": "cb5e6223-c7c5-46c6-9788-c6aa65e8f4dc",
   "metadata": {},
   "outputs": [],
   "source": [
    "import scanpy as sc\n",
    "\n",
    "# Ensure the dendrogram information is calculated for the grouping\n",
    "sc.tl.dendrogram(adata, groupby='lvl3_spatial_cluster')\n",
    "\n",
    "# Subset of genes you want to plot\n",
    "correct_order = ['Hoechst', 'CK5', 'PanCK', 'Ki67', 'CD138', 'CK19', 'S100a8-9', 'CD45', 'MPO', 'CD3', 'CD4', 'CD8a', 'CD20', 'HLA-DR', 'MCT', 'Thy-1', 'aSMA', 'CD31', 'Vimentin']\n",
    "\n",
    "# Create a DotPlot instance with the desired settings\n",
    "dotplot = sc.pl.DotPlot(\n",
    "    adata, \n",
    "    var_names=correct_order, \n",
    "    groupby='lvl3_spatial_cluster', \n",
    "    use_raw=False, \n",
    "    cmap=\"Greys\",  # Use shades of grey\n",
    "    standard_scale='var'\n",
    ")\n",
    "\n",
    "# Remove the outline of dots\n",
    "dotplot.style(dot_edge_color=None)\n",
    "\n",
    "# Display the plot with dendrogram\n",
    "dotplot.show()\n",
    "\n"
   ]
  },
  {
   "cell_type": "code",
   "execution_count": null,
   "id": "7704cb75-26aa-429f-b553-0e93dcd0110b",
   "metadata": {},
   "outputs": [],
   "source": [
    "import scanpy as sc\n",
    "\n",
    "# Ensure the dendrogram information is calculated for the grouping\n",
    "sc.tl.dendrogram(adata, groupby='spatial_cluster')\n",
    "\n",
    "# Subset of genes you want to plot\n",
    "correct_order = ['Hoechst', 'CK5', 'PanCK', 'Ki67', 'CD138', 'CK19', 'S100a8-9', 'CD45', 'MPO', 'CD3', 'CD4', 'CD8a', 'CD20', 'HLA-DR', 'MCT', 'Thy-1', 'aSMA', 'CD31', 'Vimentin']\n",
    "\n",
    "# Create a DotPlot instance with the desired settings\n",
    "dotplot = sc.pl.DotPlot(\n",
    "    adata, \n",
    "    var_names=correct_order, \n",
    "    groupby='spatial_cluster', \n",
    "    use_raw=False, \n",
    "    cmap=\"Greys\",  # Use shades of grey\n",
    "    standard_scale='var'\n",
    ")\n",
    "\n",
    "# Remove the outline of dots\n",
    "dotplot.style(dot_edge_color=None)\n",
    "\n",
    "# Display the plot with dendrogram\n",
    "dotplot.show()\n",
    "\n"
   ]
  },
  {
   "cell_type": "code",
   "execution_count": null,
   "id": "93bffbc3-ca54-4d3c-aa7d-d9a798e75ee8",
   "metadata": {},
   "outputs": [],
   "source": []
  },
  {
   "cell_type": "code",
   "execution_count": null,
   "id": "a2bd80c8-d66b-49bb-b652-a88766a3134b",
   "metadata": {},
   "outputs": [],
   "source": [
    "import scanpy as sc\n",
    "\n",
    "# Ensure the dendrogram information is calculated for the grouping\n",
    "sc.tl.dendrogram(adata, groupby='lvl1_spatial_cluster')\n",
    "\n",
    "# Subset of genes you want to plot\n",
    "correct_order = ['Hoechst', 'CK5', 'PanCK', 'Ki67', 'CD138', 'CK19', 'S100a8-9', 'CD45', 'MPO', 'CD3', 'CD4', 'CD8a', 'CD20', 'HLA-DR', 'MCT', 'Thy-1', 'aSMA', 'CD31', 'Vimentin']\n",
    "\n",
    "# Create a DotPlot instance with the desired settings\n",
    "dotplot = sc.pl.dotplot(\n",
    "    adata, \n",
    "    var_names=correct_order, \n",
    "    groupby='lvl1_spatial_cluster', \n",
    "    dendrogram=True, \n",
    "    use_raw=False, \n",
    "    cmap=\"Greys\",  # Use shades of grey\n",
    "    standard_scale='var'\n",
    ")"
   ]
  },
  {
   "cell_type": "code",
   "execution_count": null,
   "id": "af8f807a-1e64-4032-8165-3f0b52b047c1",
   "metadata": {},
   "outputs": [],
   "source": [
    "import scanpy as sc\n",
    "\n",
    "# Ensure the dendrogram information is calculated for the grouping\n",
    "sc.tl.dendrogram(adata, groupby='lvl2_spatial_cluster')\n",
    "\n",
    "# Subset of genes you want to plot\n",
    "correct_order = ['Hoechst', 'CK5', 'PanCK', 'Ki67', 'CD138', 'CK19', 'S100a8-9', 'CD45', 'MPO', 'CD3', 'CD4', 'CD8a', 'CD20', 'HLA-DR', 'MCT', 'Thy-1', 'aSMA', 'CD31', 'Vimentin']\n",
    "\n",
    "# Create a DotPlot instance with the desired settings\n",
    "dotplot = sc.pl.dotplot(\n",
    "    adata, \n",
    "    var_names=correct_order, \n",
    "    groupby='lvl1_spatial_cluster', \n",
    "    dendrogram=True, \n",
    "    use_raw=False, \n",
    "    cmap=\"Greys\",  # Use shades of grey\n",
    "    standard_scale='var'\n",
    ")"
   ]
  },
  {
   "cell_type": "code",
   "execution_count": null,
   "id": "62831452-2a23-4296-945e-7c2937645c0b",
   "metadata": {},
   "outputs": [],
   "source": [
    "import scanpy as sc\n",
    "\n",
    "# Ensure the dendrogram information is calculated for the grouping\n",
    "sc.tl.dendrogram(adata, groupby='lvl2_spatial_cluster')\n",
    "\n",
    "# Subset of genes you want to plot\n",
    "correct_order = ['Hoechst', 'CK5', 'PanCK', 'Ki67', 'CD138', 'CK19', 'S100a8-9', 'CD45', 'MPO', 'CD3', 'CD4', 'CD8a', 'CD20', 'HLA-DR', 'MCT', 'Thy-1', 'aSMA', 'CD31', 'Vimentin']\n",
    "\n",
    "# Create a DotPlot instance with the desired settings\n",
    "dotplot = sc.pl.dotplot(\n",
    "    adata, \n",
    "    var_names=correct_order, \n",
    "    groupby='lvl2_spatial_cluster', \n",
    "    dendrogram=True, \n",
    "    use_raw=False, \n",
    "    cmap=\"Greys\",  # Use shades of grey\n",
    "    standard_scale='var'\n",
    ")"
   ]
  },
  {
   "cell_type": "code",
   "execution_count": null,
   "id": "73d40081-91fc-4c4c-85b4-34b6c7fa801a",
   "metadata": {},
   "outputs": [],
   "source": [
    "import scanpy as sc\n",
    "\n",
    "# Ensure the dendrogram information is calculated for the grouping\n",
    "sc.tl.dendrogram(adata, groupby='lvl2.5_spatial_cluster')\n",
    "\n",
    "# Subset of genes you want to plot\n",
    "correct_order = ['Hoechst', 'CK5', 'PanCK', 'Ki67', 'CD138', 'CK19', 'S100a8-9', 'CD45', 'MPO', 'CD3', 'CD4', 'CD8a', 'CD20', 'HLA-DR', 'MCT', 'Thy-1', 'aSMA', 'CD31', 'Vimentin']\n",
    "\n",
    "# Create a DotPlot instance with the desired settings\n",
    "dotplot = sc.pl.dotplot(\n",
    "    adata, \n",
    "    var_names=correct_order, \n",
    "    groupby='lvl2.5_spatial_cluster', \n",
    "    dendrogram=True, \n",
    "    use_raw=False, \n",
    "    cmap=\"Greys\",  # Use shades of grey\n",
    "    standard_scale='var'\n",
    ")"
   ]
  },
  {
   "cell_type": "code",
   "execution_count": null,
   "id": "8e569a80-0e9a-4c10-9a63-67a93c5e7612",
   "metadata": {},
   "outputs": [],
   "source": [
    "import scanpy as sc\n",
    "\n",
    "# Ensure the dendrogram information is calculated for the grouping\n",
    "sc.tl.dendrogram(adata, groupby='lvl3_spatial_cluster')\n",
    "\n",
    "# Subset of genes you want to plot\n",
    "correct_order = ['Hoechst', 'CK5', 'PanCK', 'Ki67', 'CD138', 'CK19', 'S100a8-9', 'CD45', 'MPO', 'CD3', 'CD4', 'CD8a', 'CD20', 'HLA-DR', 'MCT', 'Thy-1', 'aSMA', 'CD31', 'Vimentin']\n",
    "\n",
    "# Create a DotPlot instance with the desired settings\n",
    "dotplot = sc.pl.dotplot(\n",
    "    adata, \n",
    "    var_names=correct_order, \n",
    "    groupby='lvl3_spatial_cluster', \n",
    "    dendrogram=True, \n",
    "    use_raw=False, \n",
    "    cmap=\"Greys\",  # Use shades of grey\n",
    "    standard_scale='var'\n",
    ")"
   ]
  },
  {
   "cell_type": "code",
   "execution_count": null,
   "id": "d6d63c7f-591d-4c21-a868-7cad733aac9c",
   "metadata": {},
   "outputs": [],
   "source": [
    "import scanpy as sc\n",
    "\n",
    "# Ensure the dendrogram information is calculated for the grouping\n",
    "sc.tl.dendrogram(adata, groupby='spatial_cluster')\n",
    "\n",
    "# Subset of genes you want to plot\n",
    "correct_order = ['Hoechst', 'CK5', 'PanCK', 'Ki67', 'CD138', 'CK19', 'S100a8-9', 'CD45', 'MPO', 'CD3', 'CD4', 'CD8a', 'CD20', 'HLA-DR', 'MCT', 'Thy-1', 'aSMA', 'CD31', 'Vimentin']\n",
    "\n",
    "# Create a DotPlot instance with the desired settings\n",
    "dotplot = sc.pl.dotplot(\n",
    "    adata, \n",
    "    var_names=correct_order, \n",
    "    groupby='spatial_cluster', \n",
    "    dendrogram=True, \n",
    "    use_raw=False, \n",
    "    cmap=\"Greys\",  # Use shades of grey\n",
    "    standard_scale='var'\n",
    ")"
   ]
  },
  {
   "cell_type": "code",
   "execution_count": null,
   "id": "bcb2d07b-8d6c-4a35-8bad-66e2532a056d",
   "metadata": {},
   "outputs": [],
   "source": [
    "import scanpy as sc\n",
    "\n",
    "# Ensure the dendrogram information is calculated for the grouping\n",
    "sc.tl.dendrogram(adata, groupby='lvl1_spatial_cluster')\n",
    "\n",
    "# Subset of genes you want to plot\n",
    "correct_order = ['Hoechst', 'CK5', 'PanCK', 'CD138', 'CD45', 'MPO', 'CD3', 'MCT', 'Thy-1', 'aSMA', 'CD31', 'Vimentin']\n",
    "\n",
    "# Create a DotPlot instance with the desired settings\n",
    "dotplot = sc.pl.dotplot(\n",
    "    adata, \n",
    "    var_names=correct_order, \n",
    "    groupby='lvl1_spatial_cluster', \n",
    "    dendrogram=True, \n",
    "    use_raw=False, \n",
    "    cmap=\"Greys\",  # Use shades of grey\n",
    "    standard_scale='var'\n",
    ")"
   ]
  },
  {
   "cell_type": "code",
   "execution_count": null,
   "id": "8d8f2833-1534-44a7-ae0d-cf5065d0e125",
   "metadata": {
    "scrolled": true
   },
   "outputs": [],
   "source": [
    "import pandas as pd\n",
    "\n",
    "# Assuming adata.obs contains 'lvl2_spatial_cluster' and 'lvl3_spatial_clusters'\n",
    "cluster_counts = (\n",
    "    adata.obs.groupby(['spatial_cluster', 'lvl1_spatial_cluster']).size().unstack(fill_value=0)\n",
    ")\n",
    "\n",
    "# Adjust Pandas display settings to show all columns\n",
    "pd.set_option('display.max_columns', None)\n",
    "\n",
    "# Display the full result\n",
    "print(cluster_counts)\n",
    "\n",
    "# Reset the option if needed (optional)\n",
    "pd.reset_option('display.max_columns')"
   ]
  },
  {
   "cell_type": "code",
   "execution_count": null,
   "id": "f06dcd83-c9fe-44ed-a547-e655800cd8e0",
   "metadata": {
    "scrolled": true
   },
   "outputs": [],
   "source": [
    "import pandas as pd\n",
    "\n",
    "# Assuming adata.obs contains 'lvl2_spatial_cluster' and 'lvl3_spatial_clusters'\n",
    "cluster_counts = (\n",
    "    adata.obs.groupby(['spatial_cluster', 'lvl2_spatial_cluster']).size().unstack(fill_value=0)\n",
    ")\n",
    "\n",
    "# Adjust Pandas display settings to show all columns\n",
    "pd.set_option('display.max_columns', None)\n",
    "\n",
    "# Display the full result\n",
    "print(cluster_counts)\n",
    "\n",
    "# Reset the option if needed (optional)\n",
    "pd.reset_option('display.max_columns')"
   ]
  },
  {
   "cell_type": "code",
   "execution_count": null,
   "id": "247c8516-e366-4c8b-8b54-530ca26b100f",
   "metadata": {
    "scrolled": true
   },
   "outputs": [],
   "source": [
    "import pandas as pd\n",
    "\n",
    "# Assuming adata.obs contains 'lvl2_spatial_cluster' and 'lvl3_spatial_clusters'\n",
    "cluster_counts = (\n",
    "    adata.obs.groupby(['spatial_cluster', 'lvl2.5_spatial_cluster']).size().unstack(fill_value=0)\n",
    ")\n",
    "\n",
    "# Adjust Pandas display settings to show all columns\n",
    "pd.set_option('display.max_columns', None)\n",
    "\n",
    "# Display the full result\n",
    "print(cluster_counts)\n",
    "\n",
    "# Reset the option if needed (optional)\n",
    "pd.reset_option('display.max_columns')"
   ]
  },
  {
   "cell_type": "code",
   "execution_count": null,
   "id": "d45b4363-336c-4910-98da-ce9451a047d8",
   "metadata": {
    "scrolled": true
   },
   "outputs": [],
   "source": [
    "import pandas as pd\n",
    "\n",
    "# Assuming adata.obs contains 'lvl2_spatial_cluster' and 'lvl3_spatial_clusters'\n",
    "cluster_counts = (\n",
    "    adata.obs.groupby(['spatial_cluster', 'lvl3_spatial_cluster']).size().unstack(fill_value=0)\n",
    ")\n",
    "\n",
    "# Adjust Pandas display settings to show all columns\n",
    "pd.set_option('display.max_columns', None)\n",
    "\n",
    "# Display the full result\n",
    "print(cluster_counts)\n",
    "\n",
    "# Reset the option if needed (optional)\n",
    "pd.reset_option('display.max_columns')"
   ]
  },
  {
   "cell_type": "code",
   "execution_count": null,
   "id": "d450df6b-9620-4339-9e45-11d21d943e95",
   "metadata": {},
   "outputs": [],
   "source": [
    "adata.write_h5ad(\"/data/vasileiosionat2/IBEX_FINAL/Scimap/Adata/adata_ROIs.h5ad\")"
   ]
  },
  {
   "cell_type": "code",
   "execution_count": null,
   "id": "0e59334e-0f6b-4cf7-bf7f-e0ad14a9d409",
   "metadata": {},
   "outputs": [],
   "source": [
    "unique_values = adata.obs['lvl2.5_spatial_cluster'].unique().tolist()\n",
    "print(unique_values)"
   ]
  },
  {
   "cell_type": "code",
   "execution_count": null,
   "id": "cc2daeb9-7d85-4e48-899f-4a326e436b19",
   "metadata": {},
   "outputs": [],
   "source": [
    "unique_values = adata.obs['spatial_cluster'].unique().tolist()\n",
    "print(unique_values)"
   ]
  },
  {
   "cell_type": "code",
   "execution_count": null,
   "id": "8bdac0fc-3ae8-4cf4-8297-5f5534dea183",
   "metadata": {},
   "outputs": [],
   "source": [
    "# Add the new category to the list of allowed categories\n",
    "adata.obs['lvl2.5_spatial_cluster'] = adata.obs['lvl2.5_spatial_cluster'].cat.add_categories(['Langerhans'])\n",
    "\n",
    "# Assign the new category to the desired cells\n",
    "TP_lvl3 = ['Lang']\n",
    "adata.obs.loc[adata.obs['spatial_cluster'].isin(TP_lvl3), 'lvl2.5_spatial_cluster'] = 'Langerhans'\n"
   ]
  },
  {
   "cell_type": "code",
   "execution_count": null,
   "id": "0b7aa869-872a-47ff-ad65-641ea8dea71a",
   "metadata": {},
   "outputs": [],
   "source": [
    "import scanpy as sc\n",
    "sc.tl.dendrogram(adata, groupby='lvl2.5_spatial_cluster')\n"
   ]
  },
  {
   "cell_type": "code",
   "execution_count": null,
   "id": "aade260b-626d-460f-9591-1a56b2734c73",
   "metadata": {},
   "outputs": [],
   "source": [
    "sc.pl.matrixplot(adata, var_names=adata.var.index, groupby='lvl2.5_spatial_cluster', dendrogram=True, use_raw=False, cmap=\"vlag\", standard_scale='var')"
   ]
  },
  {
   "cell_type": "code",
   "execution_count": null,
   "id": "3803276d-5f1c-4e6e-8d85-af9c4368419a",
   "metadata": {},
   "outputs": [],
   "source": [
    "unique_values = adata.obs['lvl2.5_spatial_cluster'].unique().tolist()\n",
    "print(unique_values)"
   ]
  },
  {
   "cell_type": "code",
   "execution_count": null,
   "id": "1c1af9f1-8927-4a0e-854c-aa3bc36aa65d",
   "metadata": {},
   "outputs": [],
   "source": [
    "import scanpy as sc\n",
    "\n",
    "# Define the clusters you want to include\n",
    "clusters_of_interest = ['Keratin', 'Langerhans', 'Fibroblast', 'Spinous', 'Neutrophil', 'Proliferating', 'Basal-Parabasal', 'APC-myeloid', 'Crevicular', 'Mast', 'T', 'Plasma', 'T-APC mix', 'Endothelial', 'SMC', 'Plasma-T mix', 'B']\n",
    "\n",
    "# Filter the AnnData object to include only these clusters\n",
    "adata_subset = adata[adata.obs['lvl2.5_spatial_cluster'].isin(clusters_of_interest)]\n",
    "\n",
    "# Recompute the dendrogram for the subsetted data\n",
    "sc.tl.dendrogram(adata_subset, groupby='lvl2.5_spatial_cluster')\n",
    "\n",
    "# Example with sc.pl.matrixplot for all genes\n",
    "sc.pl.matrixplot(adata_subset, var_names=adata.var_names, groupby='lvl2.5_spatial_cluster', dendrogram=True, use_raw=False, cmap=\"vlag\", standard_scale='var')\n"
   ]
  },
  {
   "cell_type": "code",
   "execution_count": null,
   "id": "f42e5ad7-f70c-453d-bd09-b8b7ab63c756",
   "metadata": {},
   "outputs": [],
   "source": [
    "import scanpy as sc\n",
    "\n",
    "# Define the clusters you want to include\n",
    "clusters_of_interest = ['Keratin', 'Langerhans', 'Fibroblast', 'Spinous', 'Neutrophil', 'Proliferating', 'Basal-Parabasal', 'APC-myeloid', 'Crevicular', 'Mast', 'T', 'Plasma', 'T-APC mix', 'Endothelial', 'SMC', 'Plasma-T mix', 'B']\n",
    "\n",
    "# Filter the AnnData object to include only these clusters\n",
    "adata_subset = adata[adata.obs['lvl2.5_spatial_cluster'].isin(clusters_of_interest)]\n",
    "\n",
    "# Recompute the dendrogram for the subsetted data\n",
    "sc.tl.dendrogram(adata_subset, groupby='lvl2.5_spatial_cluster')\n",
    "\n",
    "# Example with sc.pl.matrixplot for all genes\n",
    "sc.pl.matrixplot(adata_subset, var_names=adata.var_names, groupby='lvl2.5_spatial_cluster', dendrogram=True, use_raw=False, cmap=\"vlag\", standard_scale='var', swap_axes=True)\n"
   ]
  },
  {
   "cell_type": "code",
   "execution_count": null,
   "id": "c54233ac-7dae-4dd2-b114-c38b12b37a33",
   "metadata": {},
   "outputs": [],
   "source": [
    "import scanpy as sc\n",
    "\n",
    "# Define the clusters you want to include\n",
    "clusters_of_interest = ['Keratin', 'Langerhans', 'Fibroblast', 'Spinous', 'Neutrophil', 'Proliferating', \n",
    "                        'Basal-Parabasal', 'APC-myeloid', 'Crevicular', 'Mast', 'T', 'Plasma', \n",
    "                        'T-APC mix', 'Endothelial', 'SMC', 'Plasma-T mix', 'B']\n",
    "\n",
    "# Filter the AnnData object to include only these clusters\n",
    "adata_subset = adata[adata.obs['lvl2.5_spatial_cluster'].isin(clusters_of_interest)]\n",
    "\n",
    "# Recompute the dendrogram for the subsetted data\n",
    "sc.tl.dendrogram(adata_subset, groupby='lvl2.5_spatial_cluster')\n",
    "\n",
    "# Define the order of genes you want to visualize\n",
    "ordered_genes = ['CK19', 'S100a8-9', 'CK5', 'PanCK', 'Ki67', 'CD138', 'Vimentin','CD45','HLA-DR', 'CD20', 'Thy-1', 'aSMA', 'CD31', 'MPO', 'MCT','CD3', 'CD8a', 'CD4',]  # replace with the actual gene names and their order\n",
    "\n",
    "# Example with sc.pl.matrixplot for ordered genes\n",
    "sc.pl.matrixplot(adata_subset, var_names=ordered_genes, groupby='lvl2.5_spatial_cluster', \n",
    "                 dendrogram=True, use_raw=False, cmap=\"vlag\", standard_scale='var', swap_axes=True, vmin=0.2)\n"
   ]
  },
  {
   "cell_type": "code",
   "execution_count": null,
   "id": "0e619cdd-7af7-4599-b742-95029cd21f5f",
   "metadata": {},
   "outputs": [],
   "source": [
    "unique_values = adata.obs['spatial_cluster'].unique().tolist()\n",
    "print(unique_values)"
   ]
  },
  {
   "cell_type": "code",
   "execution_count": null,
   "id": "96e5780d-f0ec-4c28-ad9a-96eefcc2cd4d",
   "metadata": {},
   "outputs": [],
   "source": [
    "import scanpy as sc\n",
    "\n",
    "# Define the clusters you want to include\n",
    "clusters_of_interest = ['Ep.k', 'Lang', 'Fib.Thy1(-)', 'Ep.sp', 'Neut.IE', 'Fib.Thy1(+)', 'Ep.prol', 'Ep.b-pb', 'ECM.Vim(+)', 'Neut.S100a8-9(-)', 'APCmyel.perivasc', 'Ep.crev', 'APC.myel', 'Mast', 'T.cyt', 'Plasma', 'T.APCmyel.mix', 'En.aSMA(-)', 'En.Im.mix', 'En.HLA-DR(+)', 'Neut.BV', 'Thy1.CD45.cell', 'T.IE', 'Fib.HLA-DR(+)', 'En.HLA-DR(-)', 'SMC.HLA-DR(+)', 'Neut.S100a8-9.CT', 'Tcyt.B.mix', 'SMC.HLA-DR(-)', 'Pl.T.mix', 'Unclear', 'T.h', 'Th.B.mix', 'B']\n",
    "\n",
    "# Filter the AnnData object to include only these clusters\n",
    "adata_subset = adata[adata.obs['spatial_cluster'].isin(clusters_of_interest)]\n",
    "\n",
    "# Recompute the dendrogram for the subsetted data\n",
    "sc.tl.dendrogram(adata_subset, groupby='spatial_cluster')\n",
    "\n",
    "# Define the order of genes you want to visualize\n",
    "ordered_genes = ['Hoechst', 'CK19', 'S100a8-9', 'CK5', 'PanCK', 'Ki67', 'CD138', 'Vimentin', 'Thy-1', 'HLA-DR', 'CD45', 'MCT', 'aSMA', 'CD31', 'MPO', 'CD20', 'CD3', 'CD8a', 'CD4',]  # replace with the actual gene names and their order\n",
    "\n",
    "# Example with sc.pl.matrixplot for ordered genes\n",
    "sc.pl.matrixplot(adata_subset, var_names=ordered_genes, groupby='spatial_cluster', \n",
    "                 dendrogram=True, use_raw=False, cmap=\"vlag\", standard_scale='var', swap_axes=True, vmin=0.2)\n"
   ]
  },
  {
   "cell_type": "code",
   "execution_count": null,
   "id": "cec627bd-458b-4b03-951d-ab373f6762d4",
   "metadata": {},
   "outputs": [],
   "source": [
    "#top 3 defining protein markers\n",
    "import scanpy as sc\n",
    "\n",
    "# Step 1: Subset the adata object to only the specific clusters\n",
    "desired_clusters = ['Epithelial', 'Fibroblast', 'Immune', 'Vascular']\n",
    "adata_subset = adata[adata.obs['lvl1_spatial_cluster'].isin(desired_clusters)]\n",
    "\n",
    "# Step 2: Perform differential expression analysis for the selected clusters\n",
    "sc.tl.rank_genes_groups(adata_subset, 'lvl1_spatial_cluster', method='wilcoxon', use_raw=False)\n",
    "\n",
    "# Step 3: Extract top marker genes for the selected clusters\n",
    "top_genes_per_cluster = {}\n",
    "for cluster in adata_subset.obs['lvl1_spatial_cluster'].cat.categories:\n",
    "    top_genes_per_cluster[cluster] = adata_subset.uns['rank_genes_groups']['names'][cluster]\n",
    "\n",
    "# Step 4: Generate the dendrogram to get cluster order\n",
    "sc.tl.dendrogram(adata_subset, groupby='lvl1_spatial_cluster')\n",
    "\n",
    "# Step 5: Retrieve the cluster order based on the dendrogram\n",
    "cluster_order = adata_subset.uns['dendrogram_lvl1_spatial_cluster']['categories_ordered']\n",
    "\n",
    "# Step 6: Ensure each cluster has at least 3 unique genes\n",
    "unique_genes = set()\n",
    "genes_for_plot = []\n",
    "\n",
    "for cluster in cluster_order:\n",
    "    if cluster in top_genes_per_cluster:\n",
    "        cluster_genes = top_genes_per_cluster[cluster]\n",
    "        genes_for_this_cluster = []\n",
    "        for gene in cluster_genes:\n",
    "            if len(genes_for_this_cluster) >= 3:\n",
    "                break\n",
    "            if gene not in unique_genes:\n",
    "                unique_genes.add(gene)\n",
    "                genes_for_this_cluster.append(gene)\n",
    "        genes_for_plot.extend(genes_for_this_cluster)\n",
    "\n",
    "# Step 7: Plot the matrixplot with the unique genes\n",
    "sc.pl.matrixplot(adata_subset, var_names=genes_for_plot, groupby='lvl1_spatial_cluster', dendrogram=True, use_raw=False, cmap=\"vlag\", standard_scale='var')"
   ]
  },
  {
   "cell_type": "code",
   "execution_count": null,
   "id": "b2ac861f-0dae-4a1f-a0ac-5de72b3874de",
   "metadata": {},
   "outputs": [],
   "source": [
    "#manual selection of protein markers\n",
    "import scanpy as sc\n",
    "\n",
    "# Ensure the dendrogram information is calculated for the grouping\n",
    "sc.tl.dendrogram(adata, groupby='lvl1_spatial_cluster')\n",
    "\n",
    "# Define the subset of clusters you want to include\n",
    "clusters_of_interest =  ['Epithelial', 'Fibroblast', 'Immune', 'Vascular'] # Replace with actual cluster names\n",
    "\n",
    "# Define the subset of genes you want to plot\n",
    "correct_order = ['CK5', 'PanCK', 'CD138', 'CD45', 'MPO', 'CD3', 'MCT', 'aSMA', 'CD31', 'Vimentin']\n",
    "\n",
    "# Subset the AnnData object to include only the clusters of interest\n",
    "adata_subset = adata[adata.obs['lvl1_spatial_cluster'].isin(clusters_of_interest)]\n",
    "\n",
    "# Recompute the dendrogram for the subsetted data\n",
    "sc.tl.dendrogram(adata_subset, groupby='lvl1_spatial_cluster')\n",
    "\n",
    "# Create the MatrixPlot with the desired genes and clusters\n",
    "dotplot = sc.pl.matrixplot(\n",
    "    adata_subset, \n",
    "    var_names=correct_order, \n",
    "    groupby='lvl1_spatial_cluster', \n",
    "    dendrogram=True, \n",
    "    use_raw=False, \n",
    "    cmap=\"vlag\",  # Use a color map of your choice\n",
    "    standard_scale='var', \n",
    "    swap_axes=True\n",
    ")\n"
   ]
  },
  {
   "cell_type": "code",
   "execution_count": null,
   "id": "006ce9a0-15a1-4ebf-9e84-ec55980eeb0b",
   "metadata": {},
   "outputs": [],
   "source": [
    "import scanpy as sc\n",
    "\n",
    "# Define the replacement dictionary\n",
    "replacement_dict2 = {\n",
    "    'CT-Lymphoid interface': 'Immune-CT interface-1',\n",
    "    'Immune-BV': 'Immune-CT interface-2'\n",
    "}\n",
    "\n",
    "# Replace values in the 'niche' column\n",
    "adata.obs['niche_knn30k11'] = adata.obs['niche_knn30k11'].replace(replacement_dict2)\n",
    "\n",
    "# Print unique values after replacement\n",
    "print(adata.obs['niche_knn30k11'].unique())"
   ]
  },
  {
   "cell_type": "code",
   "execution_count": null,
   "id": "0ff496fd-28cb-484c-949e-ccc62a149cd6",
   "metadata": {},
   "outputs": [],
   "source": [
    "import matplotlib.pyplot as plt\n",
    "import numpy as np\n",
    "from matplotlib.backends.backend_pdf import PdfPages\n",
    "import os\n",
    "\n",
    "# Sample and rotation setup for HV219B1_HV219B1_0\n",
    "sample_name = 'HV219B1_HV219B1_0'\n",
    "rotation_angle = 180  # Define rotation for this sample\n",
    "\n",
    "# Specify the directory where you want to save the PDF\n",
    "save_directory = '/data/vasileiosionat2/IBEX_FINAL/Scimap/Outputs/Clusters_new/pdfs'\n",
    "pdf_filename = os.path.join(save_directory, f'{sample_name}_all_clusters_4rows.pdf')\n",
    "\n",
    "# Subset the data for the specific sample\n",
    "subset_adata = adata[adata.obs['imageid'] == sample_name]\n",
    "\n",
    "# Get unique clusters for the selected sample\n",
    "unique_clusters = subset_adata.obs['niche_knn30k11'].unique()\n",
    "\n",
    "# Define the order of clusters as you want them to appear\n",
    "custom_order = ['Basal-Parabasal', 'Parabasal', 'Spinous', 'Crevicular', 'Fibrous CT', 'BV', 'Neutrophil (CT)', 'Lymphoid', 'Plasma','Immune-CT interface-1','Immune-CT interface-2']  # Replace with your actual cluster names\n",
    "\n",
    "# Reorder clusters based on custom_order\n",
    "ordered_clusters = [cluster for cluster in custom_order if cluster in unique_clusters]\n",
    "\n",
    "# Define the number of rows and columns\n",
    "num_rows = 4\n",
    "num_cols = int(np.ceil(len(ordered_clusters) / num_rows))  # Calculate columns based on clusters and rows\n",
    "\n",
    "# Create a PdfPages object to save the plots\n",
    "with PdfPages(pdf_filename) as pdf:\n",
    "    # Create a figure for the sample\n",
    "    fig, axes = plt.subplots(num_rows, num_cols, figsize=(16, 22))\n",
    "    fig.patch.set_facecolor('white')\n",
    "\n",
    "    # Flatten the axes array for easier indexing\n",
    "    axes = axes.flatten()\n",
    "\n",
    "    # Get the coordinates for the sample\n",
    "    x_coords = subset_adata.obs['X_centroid']\n",
    "    y_coords = subset_adata.obs['Y_centroid']\n",
    "    \n",
    "    # Apply rotation\n",
    "    angle = np.deg2rad(rotation_angle)\n",
    "    new_x_coords = x_coords * np.cos(angle) - y_coords * np.sin(angle)\n",
    "    new_y_coords = x_coords * np.sin(angle) + y_coords * np.cos(angle)\n",
    "\n",
    "    # Determine aspect ratio\n",
    "    x_range = new_x_coords.max() - new_x_coords.min()\n",
    "    y_range = new_y_coords.max() - new_y_coords.min()\n",
    "    aspect_ratio = x_range / y_range\n",
    "\n",
    "    # Loop over each unique cluster in the ordered list\n",
    "    for idx, cluster in enumerate(ordered_clusters):\n",
    "        ax = axes[idx]\n",
    "\n",
    "        # Set black background for the subplot\n",
    "        ax.set_facecolor('white')\n",
    "\n",
    "        # Remove the outline\n",
    "        for spine in ax.spines.values():\n",
    "            spine.set_visible(False)\n",
    "\n",
    "        # Map colors such that the current cluster is white and others are grey\n",
    "        color_mapping = subset_adata.obs['niche_knn30k11'].apply(\n",
    "            lambda x: 'red' if x == cluster else '#C0C0C0'\n",
    "        )\n",
    "\n",
    "        # Scatter plot for the current cluster\n",
    "        scatter = ax.scatter(\n",
    "            x=new_x_coords, \n",
    "            y=new_y_coords, \n",
    "            c=color_mapping, \n",
    "            s=1.5  # Adjust dot size\n",
    "        )\n",
    "\n",
    "        # Set aspect ratio for each subplot\n",
    "        ax.set_aspect(aspect_ratio)\n",
    "\n",
    "        # Add the cluster name below the plot\n",
    "        ax.text(\n",
    "            0.5, 0.02, f'{cluster}', \n",
    "            horizontalalignment='center', \n",
    "            verticalalignment='center', \n",
    "            transform=ax.transAxes, \n",
    "            color='black', fontsize=20, weight='bold'\n",
    "        )\n",
    "\n",
    "        # Remove grids\n",
    "        ax.grid(False)\n",
    "\n",
    "        # Remove ticks and their labels\n",
    "        ax.set_xticks([])\n",
    "        ax.set_yticks([])\n",
    "\n",
    "    # Turn off empty subplots if there are any\n",
    "    for ax in axes[len(ordered_clusters):]:\n",
    "        ax.set_visible(False)\n",
    "\n",
    "    # Adjust the spacing between subplots\n",
    "    plt.subplots_adjust(\n",
    "        left=0.05,    # Space from left edge\n",
    "        right=0.95,   # Space from right edge\n",
    "        top=0.95,     # Space from top edge\n",
    "        bottom=0.05,  # Space from bottom edge\n",
    "        wspace=0.01,   # Width space between columns\n",
    "        hspace=0.05    # Height space between rows\n",
    "    )\n",
    "\n",
    "    # Add a title to the overall figure\n",
    "    plt.suptitle(f'All Clusters in {sample_name}', color='white', fontsize=20, weight='bold', y=1.02)\n",
    "\n",
    "    # Save the current figure to the PDF\n",
    "    #pdf.savefig(fig, dpi=100)\n",
    "    plt.show()\n",
    "    plt.close(fig)"
   ]
  },
  {
   "cell_type": "code",
   "execution_count": null,
   "id": "4c5cc3c5-82ef-44d9-a60b-cbf534ddfbfa",
   "metadata": {},
   "outputs": [],
   "source": [
    "import pandas as pd\n",
    "import seaborn as sns\n",
    "import matplotlib.pyplot as plt\n",
    "\n",
    "# Assuming 'adata.obs' is available and contains 'niche_knn30k11' and 'spatial_cluster'\n",
    "df = pd.DataFrame(adata.obs)\n",
    "df['niche_knn30k11'] = df['niche_knn30k11'].astype('category')\n",
    "\n",
    "# Aggregate counts\n",
    "niche_groups = df.groupby(['niche_knn30k11', 'spatial_cluster']).size().unstack(fill_value=0)\n",
    "\n",
    "# Transpose the DataFrame to swap axes\n",
    "niche_groups = niche_groups.T\n",
    "\n",
    "# Define custom order for the x-axis (after transposing, so this is the niche clusters now)\n",
    "custom_order = ['Basal-Parabasal', 'Parabasal', 'Spinous', 'Crevicular', 'Fibrous CT', 'BV', 'Neutrophil (CT)', 'Lymphoid', 'Plasma','Immune-CT interface-1','Immune-CT interface-2']\n",
    "\n",
    "# Reindex columns based on the custom order\n",
    "niche_groups = niche_groups.reindex(columns=custom_order)\n",
    "\n",
    "# Plot heatmap with enhanced colormap and custom vmax\n",
    "plt.figure(figsize=(6, 8))  # Adjusted figsize to accommodate the x-axis labels\n",
    "sns.heatmap(niche_groups, cmap='inferno', cbar_kws={'label': 'Count', 'ticks': [0, 2000, 4000, 8000], 'format': '%.0f'}, linewidths=0.05, linecolor='black', vmax=8000)\n",
    "plt.title('Cell Type Distribution in Niches')\n",
    "plt.xlabel('Niche Cluster')\n",
    "plt.ylabel('Cell Type')\n",
    "plt.xticks(rotation=45, ha='right')  # Adjust rotation and alignment of xticks\n",
    "plt.yticks(rotation=0)\n",
    "\n",
    "# Customize the color bar label\n",
    "cbar = plt.gca().collections[0].colorbar\n",
    "cbar.set_ticks([0, 2000, 4000, 8000])\n",
    "cbar.ax.set_yticklabels(['0', '2,000', '4,000', '>8,000'])  # Set custom tick labels\n",
    "\n",
    "plt.tight_layout()  # Ensures all elements fit within the figure area\n",
    "plt.show()"
   ]
  },
  {
   "cell_type": "code",
   "execution_count": null,
   "id": "30592e41-6bf2-4475-b5d8-b1332a76f2ba",
   "metadata": {},
   "outputs": [],
   "source": [
    "import scanpy as sc\n",
    "# Define the clusters you want to include\n",
    "clusters_of_interest = ['Basal-Parabasal', 'Parabasal', 'Spinous', 'Crevicular', \n",
    "                        'Fibrous CT', 'BV', 'Neutrophil (CT)', 'Lymphoid', 'Plasma',\n",
    "                        'Immune-CT interface-1','Immune-CT interface-2']\n",
    "\n",
    "# Filter the AnnData object to include only these clusters\n",
    "adata_subset = adata[adata.obs['niche_knn30k11'].isin(clusters_of_interest)]\n",
    "\n",
    "# Recompute the dendrogram for the subsetted data\n",
    "sc.tl.dendrogram(adata_subset, groupby='niche_knn30k11')\n",
    "\n",
    "# Define the order of genes you want to visualize\n",
    "ordered_genes = ['Vimentin','CD45','HLA-DR', 'CD20', 'Thy-1', 'aSMA', 'CD31', 'MPO', 'MCT','CD3', 'CD8a', 'CD4','CK19', 'S100a8-9', 'CK5', 'PanCK', 'Ki67', 'CD138']  # replace with the actual gene names and their order\n",
    "\n",
    "# Example with sc.pl.matrixplot for ordered genes\n",
    "sc.pl.matrixplot(adata_subset, var_names=ordered_genes, groupby='niche_knn30k11', \n",
    "                 dendrogram=True, use_raw=False, cmap=\"vlag\", standard_scale='var', swap_axes=True, vmin=0.2)"
   ]
  },
  {
   "cell_type": "code",
   "execution_count": null,
   "id": "8d9f18a9-af37-4d45-8f39-cc6d63ab008a",
   "metadata": {},
   "outputs": [],
   "source": [
    "adata.write_h5ad(\"/data/vasileiosionat2/IBEX_FINAL/Scimap/Adata/adata_ROIs.h5ad\")"
   ]
  }
 ],
 "metadata": {
  "kernelspec": {
   "display_name": "scimap-naparijroi",
   "language": "python",
   "name": "scimap-naparijroi"
  },
  "language_info": {
   "codemirror_mode": {
    "name": "ipython",
    "version": 3
   },
   "file_extension": ".py",
   "mimetype": "text/x-python",
   "name": "python",
   "nbconvert_exporter": "python",
   "pygments_lexer": "ipython3",
   "version": "3.8.17"
  }
 },
 "nbformat": 4,
 "nbformat_minor": 5
}
