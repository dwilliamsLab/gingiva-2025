{
 "cells": [
  {
   "cell_type": "code",
   "execution_count": null,
   "id": "75d450eb-b7da-4471-a3fb-d84757fc3f40",
   "metadata": {},
   "outputs": [],
   "source": [
    "import scimap as sm\n",
    "import pandas as pd\n",
    "import sys\n",
    "import os\n",
    "import scanpy as sc\n",
    "import seaborn as sns; sns.set(color_codes=True)\n",
    "import anndata\n",
    "import matplotlib.pyplot as plt\n",
    "import numpy as np\n",
    "adata = anndata.read_h5ad(path_to_adata_file)\n",
    "adata.obs"
   ]
  },
  {
   "cell_type": "code",
   "execution_count": null,
   "id": "301485dd-b74b-4d82-85a3-42d1f42b65b9",
   "metadata": {
    "scrolled": true
   },
   "outputs": [],
   "source": [
    "# Running spatial expression calculation\n",
    "adata = sm.tl.spatial_expression(adata, x_coordinate='X_centroid',\n",
    "                                 y_coordinate='Y_centroid',\n",
    "                                 method='knn', knn=30, imageid='imageid', \n",
    "                                 use_raw=True, subset=None,\n",
    "                                 label='spatial_expression_knn30')"
   ]
  },
  {
   "cell_type": "code",
   "execution_count": null,
   "id": "d04e03e2-15d4-4c5d-84a9-88d72dc86100",
   "metadata": {
    "scrolled": true
   },
   "outputs": [],
   "source": [
    "# Running spatial clustering\n",
    "adata = sm.tl.spatial_cluster(adata, k=11, df_name='spatial_expression_knn30', method='kmeans', label='spatial_kmeans_knn30_k11')"
   ]
  },
  {
   "cell_type": "code",
   "execution_count": null,
   "id": "2d8f3fa8-760f-49f9-bc03-6f9b1a1e4517",
   "metadata": {},
   "outputs": [],
   "source": [
    "#Marker expression per unsupervised niche cluster. The heatmap is available on github...\n",
    "sc.pl.matrixplot(adata, var_names= adata.var.index, groupby='spatial_kmeans_knn30_k11', dendrogram=False, use_raw=False, cmap=\"vlag\", standard_scale='var')"
   ]
  },
  {
   "cell_type": "code",
   "execution_count": null,
   "id": "89ccf403-3b6e-4573-9f5d-f50c4bbf8a88",
   "metadata": {
    "scrolled": true
   },
   "outputs": [],
   "source": [
    "# Visualizing niches in representative tissue sections. The output is available on github...\n",
    "\n",
    "unique_clusters = adata.obs['spatial_kmeans_knn30_k11'].unique()\n",
    "num_clusters = len(unique_clusters)\n",
    "\n",
    "# List of sample names\n",
    "sample_names = ['H3', 'H2a', 'P1a', 'P9a']\n",
    "\n",
    "# Define rotations for each sample\n",
    "rotations = {\n",
    "    'H3': 180,\n",
    "    'H2a': 250,\n",
    "    'P1a': 230,\n",
    "    'P9a': 180\n",
    "}\n",
    "\n",
    "# Generate plots for each cluster\n",
    "for cluster in unique_clusters:\n",
    "    fig = plt.figure(figsize=(12, 12))\n",
    "    fig.patch.set_facecolor('black')\n",
    "\n",
    "    # Loop over each sample to generate spatial scatter plots\n",
    "    for idx, sample_name in enumerate(sample_names):\n",
    "        # Subset the data for the current sample\n",
    "        subset_adata = adata[adata.obs['imageid'] == sample_name]\n",
    "        \n",
    "        # Get the coordinates\n",
    "        x_coords = subset_adata.obs['X_centroid']\n",
    "        y_coords = subset_adata.obs['Y_centroid']\n",
    "        \n",
    "        # Apply rotation\n",
    "        angle = np.deg2rad(rotations[sample_name])\n",
    "        new_x_coords = x_coords * np.cos(angle) - y_coords * np.sin(angle)\n",
    "        new_y_coords = x_coords * np.sin(angle) + y_coords * np.cos(angle)\n",
    "        \n",
    "        # Calculate the aspect ratio\n",
    "        x_range = new_x_coords.max() - new_x_coords.min()\n",
    "        y_range = new_y_coords.max() - new_y_coords.min()\n",
    "        aspect_ratio = x_range / y_range\n",
    "\n",
    "        # Determine subplot position\n",
    "        ax = fig.add_axes([\n",
    "            (idx % 2) * 0.5,  # x position\n",
    "            (1 - idx // 2) * 0.5,  # y position\n",
    "            0.5 * aspect_ratio,  # width\n",
    "            0.5  # height\n",
    "        ])\n",
    "        \n",
    "        # Set black background for the subplot\n",
    "        ax.set_facecolor('black')\n",
    "        \n",
    "        # Remove the outline\n",
    "        for spine in ax.spines.values():\n",
    "            spine.set_visible(False)\n",
    "        \n",
    "        # Map colors such that the current cluster is white and others are grey\n",
    "        color_mapping = subset_adata.obs['spatial_kmeans_knn30_k11'].apply(\n",
    "            lambda x: 'white' if x == cluster else 'blue'\n",
    "        )\n",
    "        \n",
    "        scatter = ax.scatter(\n",
    "            x=new_x_coords, \n",
    "            y=new_y_coords, \n",
    "            c=color_mapping, \n",
    "            s=0.3  # Slightly smaller dot size\n",
    "        )\n",
    "        \n",
    "        # Add the sample name below the plot\n",
    "        ax.text(\n",
    "            0.5, 1, sample_name, \n",
    "            horizontalalignment='center', \n",
    "            verticalalignment='center', \n",
    "            transform=ax.transAxes, \n",
    "            color='white', fontsize=12, weight='bold'\n",
    "        )\n",
    "        \n",
    "        # Remove grids\n",
    "        ax.grid(False)\n",
    "        \n",
    "        # Remove ticks and their labels\n",
    "        ax.set_xticks([])\n",
    "        ax.set_yticks([])\n",
    "\n",
    "    # Add the cluster label to the overall figure, higher and with bigger font\n",
    "    plt.suptitle(cluster, color='white', fontsize=20, weight='bold', x=0.4, y=1.1)\n",
    "    \n",
    "    plt.show()"
   ]
  },
  {
   "cell_type": "code",
   "execution_count": null,
   "id": "8f7116a9-6f13-4d32-93d4-093ebe2e04ce",
   "metadata": {},
   "outputs": [],
   "source": [
    "# Rename unsupervised niche clusters to reflect the histologic landmarks\n",
    "adata.obs['niche_renamed'] = adata.obs['spatial_kmeans_knn30_k11']\n",
    "\n",
    "# Define the replacement dictionary\n",
    "replacement_dict = {\n",
    "    '8': 'Im-Str.2',\n",
    "    '3': 'Im-Str.1',\n",
    "    '2': 'Plasma',\n",
    "    '0': 'FibCT',\n",
    "    '4': 'OE.B-PB',\n",
    "    '10': 'BV',\n",
    "    '5': 'Epi-CT',\n",
    "    '9': 'T-B-APC',\n",
    "    '1': 'OE.Sp-K',\n",
    "    '7': 'NeutCT',\n",
    "    '6': 'TAE',\n",
    "}\n",
    "\n",
    "# Replace values in the 'niche_renamed' column\n",
    "adata.obs['niche_renamed'] = adata.obs['niche_renamed'].replace(replacement_dict)\n",
    "\n",
    "# Print unique values after replacement\n",
    "print(adata.obs['niche_renamed'].unique())"
   ]
  },
  {
   "cell_type": "code",
   "execution_count": null,
   "id": "7165c1d9-633c-460e-9e29-7834277adc17",
   "metadata": {},
   "outputs": [],
   "source": [
    "#Merging the 'OE.B-PB' and 'OE-Sp-Krt' into OE (oral epithelial niche)\n",
    "adata.obs['niche_merged'] = adata.obs['niche_renamed']\n",
    "\n",
    "# Define the replacement dictionary\n",
    "replacement_dict = {\n",
    "    'OE.B-PB': 'OE',\n",
    "    'OE.Sp-K': 'OE'\n",
    "}\n",
    "\n",
    "# Replace values in the 'lvl3_spatial_cluster' column\n",
    "adata.obs['niche_merged'] = adata.obs['niche_merged'].replace(replacement_dict)\n",
    "\n",
    "# Print unique values after replacement\n",
    "print(adata.obs['niche_merged'].unique())"
   ]
  }
 ],
 "metadata": {
  "kernelspec": {
   "display_name": "scimap",
   "language": "python",
   "name": "scimap"
  },
  "language_info": {
   "codemirror_mode": {
    "name": "ipython",
    "version": 3
   },
   "file_extension": ".py",
   "mimetype": "text/x-python",
   "name": "python",
   "nbconvert_exporter": "python",
   "pygments_lexer": "ipython3",
   "version": "3.8.17"
  }
 },
 "nbformat": 4,
 "nbformat_minor": 5
}
