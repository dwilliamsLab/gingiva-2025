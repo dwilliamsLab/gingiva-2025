{
 "cells": [
  {
   "cell_type": "code",
   "execution_count": null,
   "id": "50e562ad",
   "metadata": {
    "scrolled": true
   },
   "outputs": [],
   "source": [
    "#In an anaconda environment that contains scimap, use csv files that are MCQuant outputs, as input for scimap\n",
    "#Use glob function to load all csv files, and then convert them to adata\n",
    "import scimap as sm\n",
    "import anndata as ad\n",
    "import pandas as pd\n",
    "import glob\n",
    "path = '/data/vasileiosionat2/IBEX_FINAL/Quantification/Outputs/'\n",
    "files = glob.glob(path +'/*.csv')\n",
    "filepath = files  # printing file name of desired extension\n",
    "adata = sm.pp.mcmicro_to_scimap (filepath)"
   ]
  },
  {
   "cell_type": "code",
   "execution_count": null,
   "id": "dd94a56d",
   "metadata": {},
   "outputs": [],
   "source": [
    "import sys\n",
    "import os\n",
    "import scanpy as sc\n",
    "import seaborn as sns; sns.set(color_codes=True)"
   ]
  },
  {
   "cell_type": "code",
   "execution_count": null,
   "id": "9d5be656",
   "metadata": {},
   "outputs": [],
   "source": [
    "%gui qt"
   ]
  },
  {
   "cell_type": "code",
   "execution_count": null,
   "id": "49913681",
   "metadata": {
    "scrolled": true
   },
   "outputs": [],
   "source": [
    "# Assuming 'adata.obs' is a pandas DataFrame-like structure\n",
    "# Create the 'PatientID' column by extracting the first 5 characters from the 'imageid' column\n",
    "adata.obs['PatientID'] = adata.obs['imageid'].str[:5]\n",
    "\n",
    "# Verify the new column\n",
    "print(adata.obs.head())"
   ]
  },
  {
   "cell_type": "code",
   "execution_count": null,
   "id": "c67810cb",
   "metadata": {},
   "outputs": [],
   "source": [
    "# Assuming 'adata.obs' is a pandas DataFrame-like structure\n",
    "# Create the 'SampleID' column by splitting the 'imageid' column at the first underscore and taking the first part\n",
    "adata.obs['SampleID'] = adata.obs['imageid'].str.split('_').str[0]\n",
    "\n",
    "# Verify the new column\n",
    "print(adata.obs.head())\n"
   ]
  },
  {
   "cell_type": "code",
   "execution_count": null,
   "id": "2311dc2a",
   "metadata": {},
   "outputs": [],
   "source": [
    "# List of PatientIDs that should be labeled as \"Perio\"\n",
    "perio_patients = [\"HV137\", \"HV140\", \"HV154\", \"HV160\", \"HV196\", \"HV204\", \"HV214\", \"HV219\", \"TM327\"]\n",
    "\n",
    "# Create the 'ConditionID' column based on the 'PatientID' column\n",
    "adata.obs['ConditionID'] = adata.obs['PatientID'].apply(lambda x: \"Perio\" if x in perio_patients else \"Healthy\")\n",
    "\n",
    "# Verify the new column\n",
    "print(adata.obs.head())"
   ]
  },
  {
   "cell_type": "code",
   "execution_count": null,
   "id": "f88faaac",
   "metadata": {},
   "outputs": [],
   "source": [
    "#list of markers\n",
    "adata.var[0:20]"
   ]
  },
  {
   "cell_type": "code",
   "execution_count": null,
   "id": "e9538949",
   "metadata": {},
   "outputs": [],
   "source": [
    "#First step of IBEX clustering is using a supervised phenotyping method\n",
    "#Load your phenotyping csv that was created according to the scimap instructions\n",
    "phenotype = pd.read_csv('/data/vasileiosionat2/IBEX_FINAL/Scimap/phenotypes_FINAL.csv')\n",
    "phenotype"
   ]
  },
  {
   "cell_type": "code",
   "execution_count": null,
   "id": "c5d7eae8",
   "metadata": {
    "scrolled": true
   },
   "outputs": [
    {
     "name": "stdout",
     "output_type": "stream",
     "text": [
      "Scaling Vimentin\n",
      "Scaling Image HV154B1_HV154B1_0\n",
      "Scaling CK19\n",
      "Scaling CK5\n",
      "Scaling MCT\n",
      "Scaling CD31\n",
      "Scaling CD4\n",
      "Scaling PanCK\n",
      "Scaling MPO\n",
      "Scaling Ki67\n",
      "Scaling CD8a\n",
      "Scaling Thy-1\n",
      "Scaling CD3\n",
      "Scaling CD45\n",
      "Scaling S100a8-9\n",
      "Scaling CD138\n",
      "Scaling aSMA\n",
      "Scaling Hoechst\n",
      "Scaling CD20\n",
      "Scaling HLA-DR\n",
      "Scaling Vimentin\n",
      "Scaling Image HV220B1_HV220B1_0\n",
      "Scaling CK19\n",
      "Scaling CK5\n",
      "Scaling MCT\n",
      "Scaling CD31\n",
      "Scaling CD4\n",
      "Scaling PanCK\n",
      "Scaling MPO\n",
      "Scaling Ki67\n",
      "Scaling CD8a\n",
      "Scaling Thy-1\n",
      "Scaling CD3\n",
      "Scaling CD45\n",
      "Scaling S100a8-9\n",
      "Scaling CD138\n",
      "Scaling aSMA\n",
      "Scaling Hoechst\n",
      "Scaling CD20\n",
      "Scaling HLA-DR\n",
      "Scaling Vimentin\n",
      "Scaling Image HV140A1_HV140A1_0\n",
      "Scaling CK19\n",
      "Scaling CK5\n",
      "Scaling MCT\n",
      "Scaling CD31\n",
      "Scaling CD4\n",
      "Scaling PanCK\n",
      "Scaling MPO\n",
      "Scaling Ki67\n",
      "Scaling CD8a\n",
      "Scaling Thy-1\n",
      "Scaling CD3\n",
      "Scaling CD45\n",
      "Scaling S100a8-9\n",
      "Scaling CD138\n",
      "Scaling aSMA\n",
      "Scaling Hoechst\n",
      "Scaling CD20\n",
      "Scaling HLA-DR\n",
      "Scaling Vimentin\n",
      "Scaling Image HV160D_HV160D_0\n",
      "Scaling CK19\n",
      "Scaling CK5\n",
      "Scaling MCT\n",
      "Scaling CD31\n",
      "Scaling CD4\n",
      "Scaling PanCK\n",
      "Scaling MPO\n",
      "Scaling Ki67\n",
      "Scaling CD8a\n",
      "Scaling Thy-1\n",
      "Scaling CD3\n",
      "Scaling CD45\n",
      "Scaling S100a8-9\n",
      "Scaling CD138\n",
      "Scaling aSMA\n",
      "Scaling Hoechst\n",
      "Scaling CD20\n",
      "Scaling HLA-DR\n",
      "Scaling Vimentin\n",
      "Scaling Image HV195A1_HV195A1_0\n",
      "Scaling CK19\n",
      "Scaling CK5\n",
      "Scaling MCT\n",
      "Scaling CD31\n",
      "Scaling CD4\n",
      "Scaling PanCK\n",
      "Scaling MPO\n",
      "Scaling Ki67\n",
      "Scaling CD8a\n",
      "Scaling Thy-1\n",
      "Scaling CD3\n",
      "Scaling CD45\n",
      "Scaling S100a8-9\n",
      "Scaling CD138\n",
      "Scaling aSMA\n",
      "Scaling Hoechst\n",
      "Scaling CD20\n",
      "Scaling HLA-DR\n",
      "Scaling Vimentin\n"
     ]
    }
   ],
   "source": [
    "#Rescaling data based on unsupervised gating (GMM)\n",
    "adata = sm.pp.rescale(adata, gate=None)"
   ]
  },
  {
   "cell_type": "code",
   "execution_count": null,
   "id": "ae49765e",
   "metadata": {},
   "outputs": [],
   "source": [
    "#Phenotyping individual cells based on the reschaled data and the supervised phenotyping strategy\n",
    "adata = sm.tl.phenotype_cells(adata, phenotype=phenotype, label='phenotype') "
   ]
  },
  {
   "cell_type": "code",
   "execution_count": null,
   "id": "84da0bba",
   "metadata": {},
   "outputs": [],
   "source": [
    "#Visualizing protein marker expression per phenotype\n",
    "#These phenotypes will be subclustered with kmeans method\n",
    "sc.pl.matrixplot(adata, var_names= adata.var.index, groupby='phenotype', dendrogram=False, use_raw=False, cmap=\"vlag\", standard_scale='var')"
   ]
  },
  {
   "cell_type": "code",
   "execution_count": null,
   "id": "89df5538",
   "metadata": {},
   "outputs": [],
   "source": [
    "#Subclustering the epithelial phenotype\n",
    "adata = sm.tl.cluster (adata, k= 4, method = 'kmeans', sub_cluster = True, subset_genes=['CD138', 'CK19', 'CK5', 'PanCK','S100a8-9'],\n",
    "    sub_cluster_column='phenotype', sub_cluster_group='epithelial', use_raw = False)"
   ]
  },
  {
   "cell_type": "code",
   "execution_count": null,
   "id": "d5459e10",
   "metadata": {},
   "outputs": [],
   "source": [
    "#Subclustering the fibroblast phenotype\n",
    "adata = sm.tl.cluster (adata, k=4, method = 'kmeans', sub_cluster = True, \n",
    "    sub_cluster_column='kmeans', sub_cluster_group='fibroblast', use_raw = False)"
   ]
  },
  {
   "cell_type": "code",
   "execution_count": null,
   "id": "10391661",
   "metadata": {},
   "outputs": [],
   "source": [
    "#Subclustering the APC phenotype\n",
    "adata = sm.tl.cluster (adata, k= 4, method = 'kmeans', sub_cluster = True, \n",
    "    sub_cluster_column='kmeans', sub_cluster_group='APCs-immune', use_raw = False)"
   ]
  },
  {
   "cell_type": "code",
   "execution_count": null,
   "id": "c8bde2fa",
   "metadata": {
    "scrolled": true
   },
   "outputs": [],
   "source": [
    "#Subclustering the T cell phenotype\n",
    "adata = sm.tl.cluster (adata, k= 6, method = 'kmeans', sub_cluster = True, \n",
    "    sub_cluster_column='kmeans', sub_cluster_group='T cell', use_raw = False)"
   ]
  },
  {
   "cell_type": "code",
   "execution_count": null,
   "id": "8a3fd8af",
   "metadata": {},
   "outputs": [],
   "source": [
    "#Subclustering the plasma cell phenotype\n",
    "adata = sm.tl.cluster (adata, k= 4, method = 'kmeans', sub_cluster = True, \n",
    "    sub_cluster_column='kmeans', sub_cluster_group='plasma cells', use_raw = False)"
   ]
  },
  {
   "cell_type": "code",
   "execution_count": null,
   "id": "7fbecc9b",
   "metadata": {},
   "outputs": [],
   "source": [
    "#Subclustering the neutrophil phenotype\n",
    "adata = sm.tl.cluster (adata, k= 4, method = 'kmeans', sub_cluster = True, \n",
    "    sub_cluster_column='kmeans', sub_cluster_group='neutrophils', use_raw = False)"
   ]
  },
  {
   "cell_type": "code",
   "execution_count": null,
   "id": "4438baa4",
   "metadata": {},
   "outputs": [],
   "source": [
    "#Subclustering the immune-other phenotype\n",
    "adata = sm.tl.cluster (adata, k= 3, method = 'kmeans', sub_cluster = True, \n",
    "    sub_cluster_column='kmeans', sub_cluster_group='immune-other', use_raw = False)"
   ]
  },
  {
   "cell_type": "code",
   "execution_count": null,
   "id": "f03cb328",
   "metadata": {},
   "outputs": [],
   "source": [
    "#Subclustering the SMC phenotype\n",
    "adata = sm.tl.cluster (adata, k= 3, method = 'kmeans', sub_cluster = True, \n",
    "    sub_cluster_column='kmeans', sub_cluster_group='SMC', use_raw = False)"
   ]
  },
  {
   "cell_type": "code",
   "execution_count": null,
   "id": "17bb0654",
   "metadata": {},
   "outputs": [],
   "source": [
    "#Subclustering the endothelial phenotype\n",
    "adata = sm.tl.cluster (adata, k= 3, method = 'kmeans', sub_cluster = True, \n",
    "    sub_cluster_column='kmeans', sub_cluster_group='endothelial', use_raw = False)"
   ]
  },
  {
   "cell_type": "code",
   "execution_count": null,
   "id": "bf4f3df8",
   "metadata": {},
   "outputs": [],
   "source": [
    "#Subclustering the mast cell phenotype\n",
    "adata = sm.tl.cluster (adata, k= 2, method = 'kmeans', sub_cluster = True, \n",
    "    sub_cluster_column='kmeans', sub_cluster_group='mast cells', use_raw = False)"
   ]
  },
  {
   "cell_type": "code",
   "execution_count": null,
   "id": "04b266f5",
   "metadata": {},
   "outputs": [],
   "source": [
    "#Subclustering the epithelial clusters based on Ki67 to uncover proliferating epithelial cells\n",
    "adata = sm.tl.cluster (adata, k= 2, method = 'kmeans', sub_cluster = True, subset_genes=['Ki67'],\n",
    "    sub_cluster_column='kmeans', sub_cluster_group=['epithelial-0','epithelial-1','epithelial-2','epithelial-3','immune-other-1'], use_raw = False)"
   ]
  },
  {
   "cell_type": "code",
   "execution_count": null,
   "id": "952c9f81",
   "metadata": {},
   "outputs": [],
   "source": [
    "sc.pl.matrixplot(adata, var_names= adata.var.index, groupby='kmeans', dendrogram=False, use_raw=False, cmap=\"vlag\", standard_scale='var')"
   ]
  },
  {
   "cell_type": "code",
   "execution_count": null,
   "id": "65479c76",
   "metadata": {
    "scrolled": true
   },
   "outputs": [],
   "source": [
    "#Subclustering the immune-other-0\n",
    "adata = sm.tl.cluster (adata, k= 2, method = 'kmeans', sub_cluster = True, subset_genes=['CD138'],\n",
    "    sub_cluster_column='kmeans', sub_cluster_group='immune-other-0', use_raw = False)"
   ]
  },
  {
   "cell_type": "code",
   "execution_count": null,
   "id": "9fe02d9b",
   "metadata": {},
   "outputs": [],
   "source": [
    "sc.pl.matrixplot(adata, var_names= adata.var.index, groupby='kmeans', dendrogram=False, use_raw=False, cmap=\"vlag\", standard_scale='var')"
   ]
  },
  {
   "cell_type": "code",
   "execution_count": null,
   "id": "53059e2a",
   "metadata": {
    "scrolled": true
   },
   "outputs": [],
   "source": [
    "adata.obs['kmeans'].value_counts()"
   ]
  },
  {
   "cell_type": "code",
   "execution_count": null,
   "id": "ff7063a5",
   "metadata": {
    "scrolled": true
   },
   "outputs": [],
   "source": [
    "#subclustering plasma-cells-1\n",
    "adata = sm.tl.cluster (adata, k= 2, method = 'kmeans', sub_cluster = True, subset_genes=['CD3'],\n",
    "    sub_cluster_column='kmeans', sub_cluster_group='plasma cells-1', use_raw = False)"
   ]
  },
  {
   "cell_type": "code",
   "execution_count": null,
   "id": "f518d51c",
   "metadata": {},
   "outputs": [],
   "source": [
    "sc.pl.matrixplot(adata, var_names= adata.var.index, groupby='kmeans', dendrogram=False, use_raw=False, cmap=\"vlag\", standard_scale='var')"
   ]
  },
  {
   "cell_type": "code",
   "execution_count": null,
   "id": "023a9bce",
   "metadata": {},
   "outputs": [],
   "source": [
    "#Subclustering the T-cell-3 cluster\n",
    "adata = sm.tl.cluster (adata, k= 2, method = 'kmeans', sub_cluster = True, subset_genes=['CD138'],\n",
    "    sub_cluster_column='kmeans', sub_cluster_group='T cell-3', use_raw = False)"
   ]
  },
  {
   "cell_type": "code",
   "execution_count": null,
   "id": "b20a6662",
   "metadata": {},
   "outputs": [],
   "source": [
    "sc.pl.matrixplot(adata, var_names= adata.var.index, groupby='kmeans', dendrogram=False, use_raw=False, cmap=\"vlag\", standard_scale='var')"
   ]
  },
  {
   "cell_type": "code",
   "execution_count": null,
   "id": "580f0373",
   "metadata": {
    "scrolled": true
   },
   "outputs": [],
   "source": [
    "#Subclustering the neutrophil clusters\n",
    "adata = sm.tl.cluster (adata, k= 2, method = 'kmeans', sub_cluster = True, subset_genes=['CD31','Thy-1','aSMA'],\n",
    "    sub_cluster_column='kmeans', sub_cluster_group=['neutrophils-0','neutrophils-1'], use_raw = False)"
   ]
  },
  {
   "cell_type": "code",
   "execution_count": null,
   "id": "5c85c2aa",
   "metadata": {
    "scrolled": true
   },
   "outputs": [],
   "source": [
    "sc.pl.matrixplot(adata, var_names= adata.var.index, groupby='kmeans', dendrogram=False, use_raw=False, cmap=\"vlag\", standard_scale='var')"
   ]
  },
  {
   "cell_type": "code",
   "execution_count": null,
   "id": "10518a95",
   "metadata": {
    "scrolled": true
   },
   "outputs": [],
   "source": [
    "#Subclustering the neutrophils-0-1\n",
    "adata = sm.tl.cluster (adata, k= 2, method = 'kmeans', sub_cluster = True, subset_genes=['Thy-1'],\n",
    "    sub_cluster_column='kmeans', sub_cluster_group=['neutrophils-0-1'], use_raw = False)"
   ]
  },
  {
   "cell_type": "code",
   "execution_count": null,
   "id": "78244d4a",
   "metadata": {},
   "outputs": [],
   "source": [
    "sc.pl.matrixplot(adata, var_names= adata.var.index, groupby='kmeans', dendrogram=False, use_raw=False, cmap=\"vlag\", standard_scale='var')"
   ]
  },
  {
   "cell_type": "code",
   "execution_count": null,
   "id": "ae0c063f",
   "metadata": {
    "scrolled": true
   },
   "outputs": [],
   "source": [
    "#Visually inspecting kmena clusters in relation to the marker expression with napari scimap tool\n",
    "\n",
    "image_path1 = '/data/vasileiosionat2/IBEX_FINAL/E)Processed_files/HV137B1.tif'\n",
    "seg_mask_path1 = '/data/vasileiosionat2/IBEX_FINAL/Cellprofiler_Outputs/Masks/HV137B1_0.tiff'\n",
    "   \n",
    "sm.pl.image_viewer(image_path1,\n",
    "                   adata,\n",
    "                   seg_mask=seg_mask_path1,\n",
    "                   subset='HV137B1_HV137B1_0',\n",
    "                   overlay='kmeans',\n",
    "                   point_size=20) \n"
   ]
  },
  {
   "cell_type": "code",
   "execution_count": null,
   "id": "48c6d20f",
   "metadata": {},
   "outputs": [],
   "source": [
    "#Renaming and merging the kmeans cluster outputs according to their marker expression and visual inspection of the cluster\n",
    "adata.obs['cluster'] = 'test'"
   ]
  },
  {
   "cell_type": "code",
   "execution_count": null,
   "id": "b2dc45eb",
   "metadata": {},
   "outputs": [],
   "source": [
    "APC_kmeans = ['APCs-immune-1','APCs-immune-3']\n",
    "adata.obs.loc[adata.obs['kmeans'].isin(APC_kmeans), 'cluster'] = 'APC'"
   ]
  },
  {
   "cell_type": "code",
   "execution_count": null,
   "id": "7d26e5ef",
   "metadata": {},
   "outputs": [],
   "source": [
    "APCT_kmeans = ['APCs-immune-0']\n",
    "adata.obs.loc[adata.obs['kmeans'].isin(APCT_kmeans), 'cluster'] = 'APC (proximity to blood vessel)'"
   ]
  },
  {
   "cell_type": "code",
   "execution_count": null,
   "id": "24aa3d5d",
   "metadata": {},
   "outputs": [],
   "source": [
    "APCT_kmeans = ['APCs-immune-2']\n",
    "adata.obs.loc[adata.obs['kmeans'].isin(APCT_kmeans), 'cluster'] = 'APC (proximity to T cell)'"
   ]
  },
  {
   "cell_type": "code",
   "execution_count": null,
   "id": "57e6b1ca",
   "metadata": {},
   "outputs": [],
   "source": [
    "SMC_kmeans = ['SMC-0','SMC-2']\n",
    "adata.obs.loc[adata.obs['kmeans'].isin(SMC_kmeans), 'cluster'] = 'SMC'"
   ]
  },
  {
   "cell_type": "code",
   "execution_count": null,
   "id": "f5fa943a",
   "metadata": {},
   "outputs": [],
   "source": [
    "APSMC_kmeans = ['SMC-1']\n",
    "adata.obs.loc[adata.obs['kmeans'].isin(APSMC_kmeans), 'cluster'] = 'HLA-DR(+) SMC'"
   ]
  },
  {
   "cell_type": "code",
   "execution_count": null,
   "id": "b79144c1",
   "metadata": {},
   "outputs": [],
   "source": [
    "CD8TBmix_kmeans = ['T cell-5']\n",
    "adata.obs.loc[adata.obs['kmeans'].isin(CD8TBmix_kmeans), 'cluster'] = 'CD8 T cell / b cell mix'"
   ]
  },
  {
   "cell_type": "code",
   "execution_count": null,
   "id": "0d3f2f6b",
   "metadata": {},
   "outputs": [],
   "source": [
    "Thelper_kmeans = ['T cell-2']\n",
    "adata.obs.loc[adata.obs['kmeans'].isin(Thelper_kmeans), 'cluster'] = 'CD4 T cell'"
   ]
  },
  {
   "cell_type": "code",
   "execution_count": null,
   "id": "76bcd870",
   "metadata": {},
   "outputs": [],
   "source": [
    "PlasmaT_kmeans = ['T cell-3-0', 'plasma cells-1-0']\n",
    "adata.obs.loc[adata.obs['kmeans'].isin(PlasmaT_kmeans), 'cluster'] = 'plasma / T cell mix'"
   ]
  },
  {
   "cell_type": "code",
   "execution_count": null,
   "id": "a08ef7bb",
   "metadata": {},
   "outputs": [],
   "source": [
    "B_kmeans = ['b cell']\n",
    "adata.obs.loc[adata.obs['kmeans'].isin(B_kmeans), 'cluster'] = 'b cell'"
   ]
  },
  {
   "cell_type": "code",
   "execution_count": null,
   "id": "87df4229",
   "metadata": {},
   "outputs": [],
   "source": [
    "B_kmeans = ['T cell-1']\n",
    "adata.obs.loc[adata.obs['kmeans'].isin(B_kmeans), 'cluster'] = 'CD4 T cell / b cell mix'"
   ]
  },
  {
   "cell_type": "code",
   "execution_count": null,
   "id": "dde27630",
   "metadata": {},
   "outputs": [],
   "source": [
    "Tcyt_kmeans = ['T cell-4']\n",
    "adata.obs.loc[adata.obs['kmeans'].isin(Tcyt_kmeans), 'cluster'] = 'CD8 T cell'"
   ]
  },
  {
   "cell_type": "code",
   "execution_count": null,
   "id": "dc2cc086",
   "metadata": {},
   "outputs": [],
   "source": [
    "IntraepiT_kmeans = ['T cell-0']\n",
    "adata.obs.loc[adata.obs['kmeans'].isin(IntraepiT_kmeans), 'cluster'] = 'intraepithelial T cell'"
   ]
  },
  {
   "cell_type": "code",
   "execution_count": null,
   "id": "67431559",
   "metadata": {},
   "outputs": [],
   "source": [
    "VEC_kmeans = ['endothelial-2']\n",
    "adata.obs.loc[adata.obs['kmeans'].isin(VEC_kmeans), 'cluster'] = 'aSMA(-) endothelial cell'"
   ]
  },
  {
   "cell_type": "code",
   "execution_count": null,
   "id": "7a4e933f",
   "metadata": {},
   "outputs": [],
   "source": [
    "VEC2_kmeans = ['endothelial-1']\n",
    "adata.obs.loc[adata.obs['kmeans'].isin(VEC2_kmeans), 'cluster'] = 'HLA-DR(+) endothelial cell'"
   ]
  },
  {
   "cell_type": "code",
   "execution_count": null,
   "id": "407daf59",
   "metadata": {},
   "outputs": [],
   "source": [
    "VEC3_kmeans = ['endothelial-0']\n",
    "adata.obs.loc[adata.obs['kmeans'].isin(VEC3_kmeans), 'cluster'] = 'endothelial cell'"
   ]
  },
  {
   "cell_type": "code",
   "execution_count": null,
   "id": "7333411b",
   "metadata": {},
   "outputs": [],
   "source": [
    "BasalEpi_kmeans = ['epithelial-0-0','epithelial-1-1','immune-other-1-0','likely-SMC']\n",
    "adata.obs.loc[adata.obs['kmeans'].isin(BasalEpi_kmeans), 'cluster'] = 'basal/parabasal epithelial cell'"
   ]
  },
  {
   "cell_type": "code",
   "execution_count": null,
   "id": "20a66ca1",
   "metadata": {},
   "outputs": [],
   "source": [
    "SpinousEpi_kmeans = ['epithelial-3-0']\n",
    "adata.obs.loc[adata.obs['kmeans'].isin(SpinousEpi_kmeans), 'cluster'] = 'spinous epithelial cell'"
   ]
  },
  {
   "cell_type": "code",
   "execution_count": null,
   "id": "0f585379",
   "metadata": {},
   "outputs": [],
   "source": [
    "CrEpi_kmeans = ['epithelial-2-0']\n",
    "adata.obs.loc[adata.obs['kmeans'].isin(CrEpi_kmeans), 'cluster'] = 'crevicular / keratin epithelial cell'"
   ]
  },
  {
   "cell_type": "code",
   "execution_count": null,
   "id": "86d6db08",
   "metadata": {},
   "outputs": [],
   "source": [
    "PrEpi_kmeans = ['epithelial-0-1','epithelial-1-0','immune-other-1-1','epithelial-3-1', 'epithelial-2-1']\n",
    "adata.obs.loc[adata.obs['kmeans'].isin(PrEpi_kmeans), 'cluster'] = 'proliferating epithelial cell'"
   ]
  },
  {
   "cell_type": "code",
   "execution_count": null,
   "id": "cf68b793",
   "metadata": {},
   "outputs": [],
   "source": [
    "Fibro_kmeans = ['fibroblast-2']\n",
    "adata.obs.loc[adata.obs['kmeans'].isin(Fibro_kmeans), 'cluster'] = 'fibroblast'"
   ]
  },
  {
   "cell_type": "code",
   "execution_count": null,
   "id": "2ea32025",
   "metadata": {},
   "outputs": [],
   "source": [
    "ECM_kmeans = ['fibroblast-0']\n",
    "adata.obs.loc[adata.obs['kmeans'].isin(ECM_kmeans), 'cluster'] = 'Extracellular matrix / Vim(+)'"
   ]
  },
  {
   "cell_type": "code",
   "execution_count": null,
   "id": "85837cc6",
   "metadata": {},
   "outputs": [],
   "source": [
    "Fibro2_kmeans = ['fibroblast-1']\n",
    "adata.obs.loc[adata.obs['kmeans'].isin(Fibro2_kmeans), 'cluster'] = 'Thy-1(-) fibroblast'"
   ]
  },
  {
   "cell_type": "code",
   "execution_count": null,
   "id": "368b74d7",
   "metadata": {},
   "outputs": [],
   "source": [
    "Fibro3_kmeans = ['fibroblast-3']\n",
    "adata.obs.loc[adata.obs['kmeans'].isin(Fibro3_kmeans), 'cluster'] = 'HLA-DR(+) fibroblast'"
   ]
  },
  {
   "cell_type": "code",
   "execution_count": null,
   "id": "31538cfd",
   "metadata": {},
   "outputs": [],
   "source": [
    "plasma_kmeans = ['plasma cells-2','plasma cells-3','immune-other-0-0']\n",
    "adata.obs.loc[adata.obs['kmeans'].isin(plasma_kmeans), 'cluster'] = 'plasma cell'"
   ]
  },
  {
   "cell_type": "code",
   "execution_count": null,
   "id": "f82f2a2b",
   "metadata": {},
   "outputs": [],
   "source": [
    "plasmaT_kmeans = ['plasma cells-1-1']\n",
    "adata.obs.loc[adata.obs['kmeans'].isin(plasmaT_kmeans), 'cluster'] = 'plasma cell / proximity to T cell'"
   ]
  },
  {
   "cell_type": "code",
   "execution_count": null,
   "id": "96f875f4",
   "metadata": {},
   "outputs": [],
   "source": [
    "BVimmune_kmeans = ['immune-other-0-1','plasma cells-0', 'T cell-3-1']\n",
    "adata.obs.loc[adata.obs['kmeans'].isin(BVimmune_kmeans), 'cluster'] = 'endothelial / immune mix'"
   ]
  },
  {
   "cell_type": "code",
   "execution_count": null,
   "id": "20b98fc3",
   "metadata": {},
   "outputs": [],
   "source": [
    "immuneother_kmeans = ['immune-other-2']\n",
    "adata.obs.loc[adata.obs['kmeans'].isin(immuneother_kmeans), 'cluster'] = 'Thy-1(+) / CD45(+) cell'"
   ]
  },
  {
   "cell_type": "code",
   "execution_count": null,
   "id": "42abce18",
   "metadata": {},
   "outputs": [],
   "source": [
    "LC_kmeans = ['likely-APCs-immune',]\n",
    "adata.obs.loc[adata.obs['kmeans'].isin(LC_kmeans), 'cluster'] = 'intraepithelial APC'"
   ]
  },
  {
   "cell_type": "code",
   "execution_count": null,
   "id": "932dbf98",
   "metadata": {},
   "outputs": [],
   "source": [
    "unknown_kmeans = ['likely-endothelial']\n",
    "adata.obs.loc[adata.obs['kmeans'].isin(unknown_kmeans), 'cluster'] = 'Unknown'"
   ]
  },
  {
   "cell_type": "code",
   "execution_count": null,
   "id": "8d8ef584",
   "metadata": {},
   "outputs": [],
   "source": [
    "mast_kmeans = ['mast cells-0','mast cells-1']\n",
    "adata.obs.loc[adata.obs['kmeans'].isin(mast_kmeans), 'cluster'] = 'mast cell'"
   ]
  },
  {
   "cell_type": "code",
   "execution_count": null,
   "id": "9031a404",
   "metadata": {},
   "outputs": [],
   "source": [
    "Neut1_kmeans = ['neutrophils-1-1','neutrophils-2']\n",
    "adata.obs.loc[adata.obs['kmeans'].isin(Neut1_kmeans), 'cluster'] = 'S100a8/9(-) neutrophil'"
   ]
  },
  {
   "cell_type": "code",
   "execution_count": null,
   "id": "eb0c4752",
   "metadata": {},
   "outputs": [],
   "source": [
    "Neut2_kmeans = ['neutrophils-0-0','neutrophils-0-1-0']\n",
    "adata.obs.loc[adata.obs['kmeans'].isin(Neut2_kmeans), 'cluster'] = 'S100a8/9(+) neutrophil, CT'"
   ]
  },
  {
   "cell_type": "code",
   "execution_count": null,
   "id": "1982af23",
   "metadata": {},
   "outputs": [],
   "source": [
    "Neut3_kmeans = ['neutrophils-3']\n",
    "adata.obs.loc[adata.obs['kmeans'].isin(Neut3_kmeans), 'cluster'] = 'intraepithelial neutrophil'"
   ]
  },
  {
   "cell_type": "code",
   "execution_count": null,
   "id": "08e72744",
   "metadata": {},
   "outputs": [],
   "source": [
    "Neut4_kmeans = ['Unknown','neutrophils-0-1-1','neutrophils-1-0']\n",
    "adata.obs.loc[adata.obs['kmeans'].isin(Neut4_kmeans), 'cluster'] = 'intravascular neutrophil'"
   ]
  },
  {
   "cell_type": "code",
   "execution_count": null,
   "id": "e580d3c3",
   "metadata": {
    "scrolled": true
   },
   "outputs": [],
   "source": [
    "adata.obs['cluster'].value_counts()"
   ]
  },
  {
   "cell_type": "code",
   "execution_count": null,
   "id": "a3179759",
   "metadata": {},
   "outputs": [],
   "source": [
    "sc.pl.matrixplot(adata, var_names= adata.var.index, groupby='cluster', dendrogram=False, use_raw=False, cmap=\"vlag\", standard_scale='var')"
   ]
  },
  {
   "cell_type": "code",
   "execution_count": null,
   "id": "1db78b14",
   "metadata": {
    "scrolled": true
   },
   "outputs": [],
   "source": [
    "#Visualize renamed/merged clusters in Napari.\n",
    "image_path1 = '/data/vasileiosionat2/IBEX_FINAL/E)Processed_files/HV196B.tif'\n",
    "seg_mask_path1 = '/data/vasileiosionat2/IBEX_FINAL/Cellprofiler_Outputs/Masks/HV196B_0.tiff'\n",
    "   \n",
    "#Let's visualize the subpoputions (white points) superimposed to the different channels and to the segmentation mask\n",
    "sm.pl.image_viewer(image_path1,\n",
    "                   adata,\n",
    "                   seg_mask=seg_mask_path1,\n",
    "                   subset='HV196B_HV196B_0',\n",
    "                   overlay='cluster',\n",
    "                   point_size=20)\n"
   ]
  },
  {
   "cell_type": "code",
   "execution_count": null,
   "id": "dd967e0a",
   "metadata": {},
   "outputs": [],
   "source": [
    "# Duplicate the 'cluster' column and rename the new column to 'spatial_cluster'\n",
    "#This will be the most fine-grained cell annotations. Spatial cluster indicates that we incorporated the pathologist annotations that are shown below\n",
    "adata.obs['spatial_cluster'] = adata.obs['cluster']"
   ]
  },
  {
   "cell_type": "code",
   "execution_count": null,
   "id": "1f79381f",
   "metadata": {
    "scrolled": true
   },
   "outputs": [],
   "source": [
    "#Pathologist annotations to facilitate epithelial characterization\n",
    "#Iteratively inspect each sample in napari and select the superficial layers of the oral/surface epithelium.\n",
    "# List of sample names\n",
    "sample_names = ['HV196B', 'HV203B', 'HV189B', 'HV180B2', 'HV180B1', 'HV140A2', 'HV140A1', 'HV214A']\n",
    "\n",
    "# Update paths and parameters for each sample\n",
    "adata = sm.pl.addROI_image('/data/vasileiosionat2/IBEX_FINAL/E)Processed_files/HV196B.tif', adata, \n",
    "                            subset='HV196B_HV196B_0', \n",
    "                            imageid='imageid',               \n",
    "                            overlay=None, overlay_category=None,\n",
    "                            markers=None,\n",
    "                            channel_names='default', \n",
    "                            x_coordinate='X_centroid', y_coordinate='Y_centroid', \n",
    "                            seg_mask='/data/vasileiosionat2/IBEX_FINAL/Cellprofiler_Outputs/Masks/HV196B_0.tiff', \n",
    "                            overwrite=False, \n",
    "                            label='Surface_Epi')\n",
    "\n",
    "adata = sm.pl.addROI_image('/data/vasileiosionat2/IBEX_FINAL/E)Processed_files/HV203B.tif', adata, \n",
    "                            subset='HV203B_HV203B_0', \n",
    "                            imageid='imageid',               \n",
    "                            overlay=None, overlay_category=None,\n",
    "                            markers=None,\n",
    "                            channel_names='default', \n",
    "                            x_coordinate='X_centroid', y_coordinate='Y_centroid', \n",
    "                            seg_mask='/data/vasileiosionat2/IBEX_FINAL/Cellprofiler_Outputs/Masks/HV203B_0.tiff', \n",
    "                            overwrite=False, \n",
    "                            label='Surface_Epi')\n",
    "\n",
    "adata = sm.pl.addROI_image('/data/vasileiosionat2/IBEX_FINAL/E)Processed_files/HV189B.tif', adata, \n",
    "                            subset='HV189B_HV189B_0', \n",
    "                            imageid='imageid',               \n",
    "                            overlay=None, overlay_category=None,\n",
    "                            markers=None,\n",
    "                            channel_names='default', \n",
    "                            x_coordinate='X_centroid', y_coordinate='Y_centroid', \n",
    "                            seg_mask='/data/vasileiosionat2/IBEX_FINAL/Cellprofiler_Outputs/Masks/HV189B_0.tiff', \n",
    "                            overwrite=False, \n",
    "                            label='Surface_Epi')\n",
    "\n",
    "adata = sm.pl.addROI_image('/data/vasileiosionat2/IBEX_FINAL/E)Processed_files/HV180B2.tif', adata, \n",
    "                            subset='HV180B2_HV180B2_0', \n",
    "                            imageid='imageid',               \n",
    "                            overlay=None, overlay_category=None,\n",
    "                            markers=None,\n",
    "                            channel_names='default', \n",
    "                            x_coordinate='X_centroid', y_coordinate='Y_centroid', \n",
    "                            seg_mask='/data/vasileiosionat2/IBEX_FINAL/Cellprofiler_Outputs/Masks/HV180B2_0.tiff', \n",
    "                            overwrite=False, \n",
    "                            label='Surface_Epi')\n",
    "\n",
    "adata = sm.pl.addROI_image('/data/vasileiosionat2/IBEX_FINAL/E)Processed_files/HV180B1.tif', adata, \n",
    "                            subset='HV180B1_HV180B1_0', \n",
    "                            imageid='imageid',               \n",
    "                            overlay=None, overlay_category=None,\n",
    "                            markers=None,\n",
    "                            channel_names='default', \n",
    "                            x_coordinate='X_centroid', y_coordinate='Y_centroid', \n",
    "                            seg_mask='/data/vasileiosionat2/IBEX_FINAL/Cellprofiler_Outputs/Masks/HV180B1_0.tiff', \n",
    "                            overwrite=False, \n",
    "                            label='Surface_Epi')\n",
    "\n",
    "adata = sm.pl.addROI_image('/data/vasileiosionat2/IBEX_FINAL/E)Processed_files/HV140A2.tif', adata, \n",
    "                            subset='HV140A2_HV140A2_0', \n",
    "                            imageid='imageid',               \n",
    "                            overlay=None, overlay_category=None,\n",
    "                            markers=None,\n",
    "                            channel_names='default', \n",
    "                            x_coordinate='X_centroid', y_coordinate='Y_centroid', \n",
    "                            seg_mask='/data/vasileiosionat2/IBEX_FINAL/Cellprofiler_Outputs/Masks/HV140A2_0.tiff', \n",
    "                            overwrite=False, \n",
    "                            label='Surface_Epi')\n",
    "\n",
    "adata = sm.pl.addROI_image('/data/vasileiosionat2/IBEX_FINAL/E)Processed_files/HV140A1.tif', adata, \n",
    "                            subset='HV140A1_HV140A1_0', \n",
    "                            imageid='imageid',               \n",
    "                            overlay=None, overlay_category=None,\n",
    "                            markers=None,\n",
    "                            channel_names='default', \n",
    "                            x_coordinate='X_centroid', y_coordinate='Y_centroid', \n",
    "                            seg_mask='/data/vasileiosionat2/IBEX_FINAL/Cellprofiler_Outputs/Masks/HV140A1_0.tiff', \n",
    "                            overwrite=False, \n",
    "                            label='Surface_Epi')\n",
    "\n",
    "adata = sm.pl.addROI_image('/data/vasileiosionat2/IBEX_FINAL/E)Processed_files/HV214A.tif', adata, \n",
    "                            subset='HV214A_HV214A_0', \n",
    "                            imageid='imageid',               \n",
    "                            overlay=None, overlay_category=None,\n",
    "                            markers=None,\n",
    "                            channel_names='default', \n",
    "                            x_coordinate='X_centroid', y_coordinate='Y_centroid', \n",
    "                            seg_mask='/data/vasileiosionat2/IBEX_FINAL/Cellprofiler_Outputs/Masks/HV214A_0.tiff', \n",
    "                            overwrite=False, \n",
    "                            label='Surface_Epi')\n"
   ]
  },
  {
   "cell_type": "code",
   "execution_count": null,
   "id": "743302f4-95e4-4710-8bcc-b143cd535588",
   "metadata": {},
   "outputs": [],
   "source": [
    "# List of additional sample names\n",
    "additional_sample_names = ['HV207B', 'HV195A2', 'HV219B1', 'HV137B2', 'HV137B1', 'HV219B2', 'HV154B2', 'HV219B3', 'HV154B1', 'HV195A1']\n",
    "\n",
    "# Update paths and parameters for each additional sample\n",
    "adata = sm.pl.addROI_image('/data/vasileiosionat2/IBEX_FINAL/E)Processed_files/HV207B.tif', adata, \n",
    "                            subset='HV207B_HV207B_0', \n",
    "                            imageid='imageid',               \n",
    "                            overlay=None, overlay_category=None,\n",
    "                            markers=None,\n",
    "                            channel_names='default', \n",
    "                            x_coordinate='X_centroid', y_coordinate='Y_centroid', \n",
    "                            seg_mask='/data/vasileiosionat2/IBEX_FINAL/Cellprofiler_Outputs/Masks/HV207B_0.tiff', \n",
    "                            overwrite=False, \n",
    "                            label='Surface_Epi')\n",
    "\n",
    "adata = sm.pl.addROI_image('/data/vasileiosionat2/IBEX_FINAL/E)Processed_files/HV195A2.tif', adata, \n",
    "                            subset='HV195A2_HV195A2_0', \n",
    "                            imageid='imageid',               \n",
    "                            overlay=None, overlay_category=None,\n",
    "                            markers=None,\n",
    "                            channel_names='default', \n",
    "                            x_coordinate='X_centroid', y_coordinate='Y_centroid', \n",
    "                            seg_mask='/data/vasileiosionat2/IBEX_FINAL/Cellprofiler_Outputs/Masks/HV195A2_0.tiff', \n",
    "                            overwrite=False, \n",
    "                            label='Surface_Epi')\n",
    "\n",
    "adata = sm.pl.addROI_image('/data/vasileiosionat2/IBEX_FINAL/E)Processed_files/HV219B1.tif', adata, \n",
    "                            subset='HV219B1_HV219B1_0', \n",
    "                            imageid='imageid',               \n",
    "                            overlay=None, overlay_category=None,\n",
    "                            markers=None,\n",
    "                            channel_names='default', \n",
    "                            x_coordinate='X_centroid', y_coordinate='Y_centroid', \n",
    "                            seg_mask='/data/vasileiosionat2/IBEX_FINAL/Cellprofiler_Outputs/Masks/HV219B1_0.tiff', \n",
    "                            overwrite=False, \n",
    "                            label='Surface_Epi')\n",
    "\n",
    "adata = sm.pl.addROI_image('/data/vasileiosionat2/IBEX_FINAL/E)Processed_files/HV137B2.tif', adata, \n",
    "                            subset='HV137B2_HV137B2_0', \n",
    "                            imageid='imageid',               \n",
    "                            overlay=None, overlay_category=None,\n",
    "                            markers=None,\n",
    "                            channel_names='default', \n",
    "                            x_coordinate='X_centroid', y_coordinate='Y_centroid', \n",
    "                            seg_mask='/data/vasileiosionat2/IBEX_FINAL/Cellprofiler_Outputs/Masks/HV137B2_0.tiff', \n",
    "                            overwrite=False, \n",
    "                            label='Surface_Epi')\n",
    "\n",
    "adata = sm.pl.addROI_image('/data/vasileiosionat2/IBEX_FINAL/E)Processed_files/HV137B1.tif', adata, \n",
    "                            subset='HV137B1_HV137B1_0', \n",
    "                            imageid='imageid',               \n",
    "                            overlay=None, overlay_category=None,\n",
    "                            markers=None,\n",
    "                            channel_names='default', \n",
    "                            x_coordinate='X_centroid', y_coordinate='Y_centroid', \n",
    "                            seg_mask='/data/vasileiosionat2/IBEX_FINAL/Cellprofiler_Outputs/Masks/HV137B1_0.tiff', \n",
    "                            overwrite=False, \n",
    "                            label='Surface_Epi')\n",
    "\n",
    "adata = sm.pl.addROI_image('/data/vasileiosionat2/IBEX_FINAL/E)Processed_files/HV219B2.tif', adata, \n",
    "                            subset='HV219B2_HV219B2_0', \n",
    "                            imageid='imageid',               \n",
    "                            overlay=None, overlay_category=None,\n",
    "                            markers=None,\n",
    "                            channel_names='default', \n",
    "                            x_coordinate='X_centroid', y_coordinate='Y_centroid', \n",
    "                            seg_mask='/data/vasileiosionat2/IBEX_FINAL/Cellprofiler_Outputs/Masks/HV219B2_0.tiff', \n",
    "                            overwrite=False, \n",
    "                            label='Surface_Epi')\n",
    "\n",
    "adata = sm.pl.addROI_image('/data/vasileiosionat2/IBEX_FINAL/E)Processed_files/HV154B2.tif', adata, \n",
    "                            subset='HV154B2_HV154B2_0', \n",
    "                            imageid='imageid',               \n",
    "                            overlay=None, overlay_category=None,\n",
    "                            markers=None,\n",
    "                            channel_names='default', \n",
    "                            x_coordinate='X_centroid', y_coordinate='Y_centroid', \n",
    "                            seg_mask='/data/vasileiosionat2/IBEX_FINAL/Cellprofiler_Outputs/Masks/HV154B2_0.tiff', \n",
    "                            overwrite=False, \n",
    "                            label='Surface_Epi')\n",
    "\n",
    "adata = sm.pl.addROI_image('/data/vasileiosionat2/IBEX_FINAL/E)Processed_files/HV219B3.tif', adata, \n",
    "                            subset='HV219B3_HV219B3_0', \n",
    "                            imageid='imageid',               \n",
    "                            overlay=None, overlay_category=None,\n",
    "                            markers=None,\n",
    "                            channel_names='default', \n",
    "                            x_coordinate='X_centroid', y_coordinate='Y_centroid', \n",
    "                            seg_mask='/data/vasileiosionat2/IBEX_FINAL/Cellprofiler_Outputs/Masks/HV219B3_0.tiff', \n",
    "                            overwrite=False, \n",
    "                            label='Surface_Epi')\n",
    "\n",
    "adata = sm.pl.addROI_image('/data/vasileiosionat2/IBEX_FINAL/E)Processed_files/HV154B1.tif', adata, \n",
    "                            subset='HV154B1_HV154B1_0', \n",
    "                            imageid='imageid',               \n",
    "                            overlay=None, overlay_category=None,\n",
    "                            markers=None,\n",
    "                            channel_names='default', \n",
    "                            x_coordinate='X_centroid', y_coordinate='Y_centroid', \n",
    "                            seg_mask='/data/vasileiosionat2/IBEX_FINAL/Cellprofiler_Outputs/Masks/HV154B1_0.tiff', \n",
    "                            overwrite=False, \n",
    "                            label='Surface_Epi')\n",
    "\n",
    "adata = sm.pl.addROI_image('/data/vasileiosionat2/IBEX_FINAL/E)Processed_files/HV195A1.tif', adata, \n",
    "                            subset='HV195A1_HV195A1_0', \n",
    "                            imageid='imageid',               \n",
    "                            overlay=None, overlay_category=None,\n",
    "                            markers=None,\n",
    "                            channel_names='default', \n",
    "                            x_coordinate='X_centroid', y_coordinate='Y_centroid', \n",
    "                            seg_mask='/data/vasileiosionat2/IBEX_FINAL/Cellprofiler_Outputs/Masks/HV195A1_0.tiff', \n",
    "                            overwrite=False, \n",
    "                            label='Surface_Epi')\n"
   ]
  },
  {
   "cell_type": "code",
   "execution_count": null,
   "id": "9cd883f9-40c1-4341-9800-10e96bfed954",
   "metadata": {},
   "outputs": [],
   "source": [
    "# List of additional sample names\n",
    "additional_sample_names = ['HV214A2surg', 'HV204B', 'HV220B2', 'HV214A1surg', 'HV140B', 'TM327I', 'HV190B', 'HV171B', 'HV191B', 'HV220B1', 'HV160D']\n",
    "\n",
    "# Update paths and parameters for each additional sample\n",
    "adata = sm.pl.addROI_image('/data/vasileiosionat2/IBEX_FINAL/E)Processed_files/HV214A2surg.tif', adata, \n",
    "                            subset='HV214A2surg_HV214A2surg_0', \n",
    "                            imageid='imageid',               \n",
    "                            overlay=None, overlay_category=None,\n",
    "                            markers=None,\n",
    "                            channel_names='default', \n",
    "                            x_coordinate='X_centroid', y_coordinate='Y_centroid', \n",
    "                            seg_mask='/data/vasileiosionat2/IBEX_FINAL/Cellprofiler_Outputs/Masks/HV214A2surg_0.tiff', \n",
    "                            overwrite=False, \n",
    "                            label='Surface_Epi')\n",
    "\n",
    "adata = sm.pl.addROI_image('/data/vasileiosionat2/IBEX_FINAL/E)Processed_files/HV204B.tif', adata, \n",
    "                            subset='HV204B_HV204B_0', \n",
    "                            imageid='imageid',               \n",
    "                            overlay=None, overlay_category=None,\n",
    "                            markers=None,\n",
    "                            channel_names='default', \n",
    "                            x_coordinate='X_centroid', y_coordinate='Y_centroid', \n",
    "                            seg_mask='/data/vasileiosionat2/IBEX_FINAL/Cellprofiler_Outputs/Masks/HV204B_0.tiff', \n",
    "                            overwrite=False, \n",
    "                            label='Surface_Epi')\n",
    "\n",
    "adata = sm.pl.addROI_image('/data/vasileiosionat2/IBEX_FINAL/E)Processed_files/HV220B2.tif', adata, \n",
    "                            subset='HV220B2_HV220B2_0', \n",
    "                            imageid='imageid',               \n",
    "                            overlay=None, overlay_category=None,\n",
    "                            markers=None,\n",
    "                            channel_names='default', \n",
    "                            x_coordinate='X_centroid', y_coordinate='Y_centroid', \n",
    "                            seg_mask='/data/vasileiosionat2/IBEX_FINAL/Cellprofiler_Outputs/Masks/HV220B2_0.tiff', \n",
    "                            overwrite=False, \n",
    "                            label='Surface_Epi')\n",
    "\n",
    "adata = sm.pl.addROI_image('/data/vasileiosionat2/IBEX_FINAL/E)Processed_files/HV214A1surg.tif', adata, \n",
    "                            subset='HV214A1surg_HV214A1surg_0', \n",
    "                            imageid='imageid',               \n",
    "                            overlay=None, overlay_category=None,\n",
    "                            markers=None,\n",
    "                            channel_names='default', \n",
    "                            x_coordinate='X_centroid', y_coordinate='Y_centroid', \n",
    "                            seg_mask='/data/vasileiosionat2/IBEX_FINAL/Cellprofiler_Outputs/Masks/HV214A1surg_0.tiff', \n",
    "                            overwrite=False, \n",
    "                            label='Surface_Epi')\n",
    "\n",
    "adata = sm.pl.addROI_image('/data/vasileiosionat2/IBEX_FINAL/E)Processed_files/HV140B.tif', adata, \n",
    "                            subset='HV140B_HV140B_0', \n",
    "                            imageid='imageid',               \n",
    "                            overlay=None, overlay_category=None,\n",
    "                            markers=None,\n",
    "                            channel_names='default', \n",
    "                            x_coordinate='X_centroid', y_coordinate='Y_centroid', \n",
    "                            seg_mask='/data/vasileiosionat2/IBEX_FINAL/Cellprofiler_Outputs/Masks/HV140B_0.tiff', \n",
    "                            overwrite=False, \n",
    "                            label='Surface_Epi')\n",
    "\n",
    "adata = sm.pl.addROI_image('/data/vasileiosionat2/IBEX_FINAL/E)Processed_files/TM327I.tif', adata, \n",
    "                            subset='TM327I_TM327I_0', \n",
    "                            imageid='imageid',               \n",
    "                            overlay=None, overlay_category=None,\n",
    "                            markers=None,\n",
    "                            channel_names='default', \n",
    "                            x_coordinate='X_centroid', y_coordinate='Y_centroid', \n",
    "                            seg_mask='/data/vasileiosionat2/IBEX_FINAL/Cellprofiler_Outputs/Masks/TM327I_0.tiff', \n",
    "                            overwrite=False, \n",
    "                            label='Surface_Epi')\n",
    "\n",
    "adata = sm.pl.addROI_image('/data/vasileiosionat2/IBEX_FINAL/E)Processed_files/HV190B.tif', adata, \n",
    "                            subset='HV190B_HV190B_0', \n",
    "                            imageid='imageid',               \n",
    "                            overlay=None, overlay_category=None,\n",
    "                            markers=None,\n",
    "                            channel_names='default', \n",
    "                            x_coordinate='X_centroid', y_coordinate='Y_centroid', \n",
    "                            seg_mask='/data/vasileiosionat2/IBEX_FINAL/Cellprofiler_Outputs/Masks/HV190B_0.tiff', \n",
    "                            overwrite=False, \n",
    "                            label='Surface_Epi')\n",
    "\n",
    "adata = sm.pl.addROI_image('/data/vasileiosionat2/IBEX_FINAL/E)Processed_files/HV171B.tif', adata, \n",
    "                            subset='HV171B_HV171B_0', \n",
    "                            imageid='imageid',               \n",
    "                            overlay=None, overlay_category=None,\n",
    "                            markers=None,\n",
    "                            channel_names='default', \n",
    "                            x_coordinate='X_centroid', y_coordinate='Y_centroid', \n",
    "                            seg_mask='/data/vasileiosionat2/IBEX_FINAL/Cellprofiler_Outputs/Masks/HV171B_0.tiff', \n",
    "                            overwrite=False, \n",
    "                            label='Surface_Epi')\n",
    "\n",
    "adata = sm.pl.addROI_image('/data/vasileiosionat2/IBEX_FINAL/E)Processed_files/HV191B.tif', adata, \n",
    "                            subset='HV191B_HV191B_0', \n",
    "                            imageid='imageid',               \n",
    "                            overlay=None, overlay_category=None,\n",
    "                            markers=None,\n",
    "                            channel_names='default', \n",
    "                            x_coordinate='X_centroid', y_coordinate='Y_centroid', \n",
    "                            seg_mask='/data/vasileiosionat2/IBEX_FINAL/Cellprofiler_Outputs/Masks/HV191B_0.tiff', \n",
    "                            overwrite=False, \n",
    "                            label='Surface_Epi')\n",
    "\n",
    "adata = sm.pl.addROI_image('/data/vasileiosionat2/IBEX_FINAL/E)Processed_files/HV220B1.tif', adata, \n",
    "                            subset='HV220B1_HV220B1_0', \n",
    "                            imageid='imageid',               \n",
    "                            overlay=None, overlay_category=None,\n",
    "                            markers=None,\n",
    "                            channel_names='default', \n",
    "                            x_coordinate='X_centroid', y_coordinate='Y_centroid', \n",
    "                            seg_mask='/data/vasileiosionat2/IBEX_FINAL/Cellprofiler_Outputs/Masks/HV220B1_0.tiff', \n",
    "                            overwrite=False, \n",
    "                            label='Surface_Epi')\n",
    "\n",
    "adata = sm.pl.addROI_image('/data/vasileiosionat2/IBEX_FINAL/E)Processed_files/HV160D.tif', adata, \n",
    "                            subset='HV160D_HV160D_0', \n",
    "                            imageid='imageid',               \n",
    "                            overlay=None, overlay_category=None,\n",
    "                            markers=None,\n",
    "                            channel_names='default', \n",
    "                            x_coordinate='X_centroid', y_coordinate='Y_centroid', \n",
    "                            seg_mask='/data/vasileiosionat2/IBEX_FINAL/Cellprofiler_Outputs/Masks/HV160D_0.tiff', \n",
    "                            overwrite=False, \n",
    "                            label='Surface_Epi')"
   ]
  },
  {
   "cell_type": "code",
   "execution_count": null,
   "id": "77855d93-d13d-4f00-98d8-bf102ed52133",
   "metadata": {},
   "outputs": [],
   "source": [
    "#First, add the new category to the 'spatial_cluster' column\n",
    "adata.obs['spatial_cluster'] = adata.obs['spatial_cluster'].cat.add_categories(['keratin epithelial cell'])\n",
    "\n",
    "# Define the condition for updating 'keratin epithelial cell'\n",
    "keratin_condition = (adata.obs['cluster'] == 'crevicular / keratin epithelial cell') & (adata.obs['Surface_Epi'] == 'Surface_Epi')\n",
    "\n",
    "# Update the 'spatial_cluster' column where the condition is met\n",
    "adata.obs.loc[keratin_condition, 'spatial_cluster'] = 'keratin epithelial cell'"
   ]
  },
  {
   "cell_type": "code",
   "execution_count": null,
   "id": "958a141c-2825-44c1-a3bc-4a9f0a4139d5",
   "metadata": {},
   "outputs": [],
   "source": [
    "#Because \"APC - proximity to T\"l was more of a mixture of APCs with T cells, we performed kmeans for CD3 to separate those that are more T cells from those that are more APCs. \n",
    "\n",
    "adata = sm.tl.cluster (adata, k= 2, method = 'kmeans', sub_cluster = True, subset_genes=['CD3'], label='kmeans_new',\n",
    "    sub_cluster_column='spatial_cluster', sub_cluster_group=['APC (proximity to T cell)'], use_raw = False)"
   ]
  },
  {
   "cell_type": "code",
   "execution_count": null,
   "id": "c7576782-688a-4bd9-a6c5-489f2c7cf4e9",
   "metadata": {},
   "outputs": [],
   "source": [
    "#In the event there are some B cells within the Thelper-B mix, we reclustered based on CD20. \n",
    "\n",
    "adata = sm.tl.cluster (adata, k= 2, method = 'kmeans', sub_cluster = True, subset_genes=['CD20'], label='kmeans_new',\n",
    "    sub_cluster_column='spatial_cluster', sub_cluster_group=['Thelper-B mix'], use_raw = False)"
   ]
  },
  {
   "cell_type": "code",
   "execution_count": null,
   "id": "08550069-5c11-4c58-a11f-ff5920d50352",
   "metadata": {},
   "outputs": [],
   "source": [
    "# First, add the new category to the 'spatial_cluster' column\n",
    "adata.obs['spatial_cluster'] = adata.obs['spatial_cluster'].cat.add_categories(['T cell (proximity to APC)'])\n",
    "\n",
    "# Now, define the condition\n",
    "unknown2_condition = (adata.obs['spatial_cluster'] == 'APC (proximity to T cell)') & (adata.obs['kmeans_new'] == 'APC (proximity to T cell)-0')\n",
    "\n",
    "# Update the 'spatial_cluster' column where the condition is met\n",
    "adata.obs.loc[unknown2_condition, 'spatial_cluster'] = 'T cell (proximity to APC)'"
   ]
  },
  {
   "cell_type": "code",
   "execution_count": null,
   "id": "cf6beed2-1f05-4f8d-a711-606a1855d6dc",
   "metadata": {},
   "outputs": [],
   "source": [
    "adata = sm.tl.cluster(\n",
    "    adata, \n",
    "    k=2,  # Set the number of clusters for k-means\n",
    "    method='kmeans',  # Use k-means clustering\n",
    "    sub_cluster=True,  # Enable sub-clustering\n",
    "    subset_genes=['Ki67'],  # Specify the genes to use for clustering\n",
    "    sub_cluster_column='spatial_cluster',  # Save the sub-clustering results in this column\n",
    "    sub_cluster_group='Plasma',  # Perform sub-clustering only within the 'Plasma' group\n",
    "    use_raw=False,  # Use processed data, not raw data\n",
    "    label= 'spatial_cluster'\n",
    ")"
   ]
  },
  {
   "cell_type": "code",
   "execution_count": null,
   "id": "7e8b4067-bffa-4a08-9b00-c95feb02283d",
   "metadata": {},
   "outputs": [],
   "source": [
    "adata.obs['spatial_cluster'] = adata.obs['spatial_cluster'].astype(str)\n",
    "# Convert the 'niche_cc14' column to categorical\n",
    "adata.obs['spatial_cluster'] = pd.Categorical(adata.obs['spatial_cluster'])\n",
    "\n",
    "# Define the replacement dictionary\n",
    "replacement_dict = {\n",
    "    'Plasma-0': 'Plasma',\n",
    "    'Plasma-1': 'PB',\n",
    "}\n",
    "\n",
    "\n",
    "# Replace values in the 'niche_cc14' column\n",
    "adata.obs['spatial_cluster'] = adata.obs['spatial_cluster'].replace(replacement_dict)\n",
    "print(adata.obs['spatial_cluster'].unique())"
   ]
  },
  {
   "cell_type": "code",
   "execution_count": null,
   "id": "ca19bb0d",
   "metadata": {
    "scrolled": true
   },
   "outputs": [],
   "source": [
    "# Assuming 'adata' is your AnnData object\n",
    "adata.write_h5ad(\"/data/vasileiosionat2/IBEX_FINAL/Scimap/Adata/adata.h5ad\")"
   ]
  }
 ],
 "metadata": {
  "kernelspec": {
   "display_name": "scimap-naparijroi",
   "language": "python",
   "name": "scimap-naparijroi"
  },
  "language_info": {
   "codemirror_mode": {
    "name": "ipython",
    "version": 3
   },
   "file_extension": ".py",
   "mimetype": "text/x-python",
   "name": "python",
   "nbconvert_exporter": "python",
   "pygments_lexer": "ipython3",
   "version": "3.8.17"
  }
 },
 "nbformat": 4,
 "nbformat_minor": 5
}
