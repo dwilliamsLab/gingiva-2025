{
 "cells": [
  {
   "cell_type": "code",
   "execution_count": null,
   "id": "422c7fbd-f4e6-4477-9d8b-caeef7c270fa",
   "metadata": {},
   "outputs": [],
   "source": [
    "import scimap as sm\n",
    "import pandas as pd\n",
    "import sys\n",
    "import os\n",
    "import scanpy as sc\n",
    "import seaborn as sns; sns.set(color_codes=True)"
   ]
  },
  {
   "cell_type": "code",
   "execution_count": null,
   "id": "89e50834-f1fc-417c-ab0e-fba4b16d2f5c",
   "metadata": {
    "scrolled": true
   },
   "outputs": [],
   "source": [
    "import anndata\n",
    "adata = anndata.read_h5ad(\"/data/vasileiosionat2/IBEX_FINAL/Scimap/Adata/adata_ROIs.h5ad\")\n",
    "adata.obs"
   ]
  },
  {
   "cell_type": "code",
   "execution_count": null,
   "id": "624f8501-c175-4741-8d53-764f122d436d",
   "metadata": {},
   "outputs": [],
   "source": [
    "sc.pl.matrixplot(adata, var_names= adata.var.index, groupby='spatial_cluster', dendrogram=False, use_raw=False, cmap=\"vlag\", standard_scale='var')"
   ]
  },
  {
   "cell_type": "code",
   "execution_count": null,
   "id": "79be22c0-25f8-49fe-9aec-5d99d6bbb57d",
   "metadata": {},
   "outputs": [],
   "source": [
    "#Coarser-level information (level 3)\n",
    "adata.obs['lvl3_spatial_cluster'] = 'test'"
   ]
  },
  {
   "cell_type": "code",
   "execution_count": null,
   "id": "c0afe292-e92f-4c44-aece-6343b2dd2c15",
   "metadata": {},
   "outputs": [],
   "source": [
    "APCmajor_kmeans = ['APC (proximity to T cell)','APC', 'APC (proximity to blood vessel)']\n",
    "adata.obs.loc[adata.obs['spatial_cluster'].isin(APCmajor_kmeans), 'lvl3_spatial_cluster'] = 'APC-myeloid'"
   ]
  },
  {
   "cell_type": "code",
   "execution_count": null,
   "id": "80a0264c-7fcf-4a5e-a12f-845cf00a374a",
   "metadata": {},
   "outputs": [],
   "source": [
    "CD4_kmeans = ['CD4 T cell']\n",
    "adata.obs.loc[adata.obs['spatial_cluster'].isin(CD4_kmeans), 'lvl3_spatial_cluster'] = 'CD4 T cell'"
   ]
  },
  {
   "cell_type": "code",
   "execution_count": null,
   "id": "b0d21179-2d7e-4753-b9ae-691851851651",
   "metadata": {},
   "outputs": [],
   "source": [
    "CD8_kmeans = ['CD8 T cell']\n",
    "adata.obs.loc[adata.obs['spatial_cluster'].isin(CD8_kmeans), 'lvl3_spatial_cluster'] = 'CD8 T cell'"
   ]
  },
  {
   "cell_type": "code",
   "execution_count": null,
   "id": "d6813b6a-6301-4630-9339-999289ac0081",
   "metadata": {},
   "outputs": [],
   "source": [
    "SMCmajor_kmeans = ['HLA-DR(+) SMC', 'SMC', ]\n",
    "adata.obs.loc[adata.obs['spatial_cluster'].isin(SMCmajor_kmeans), 'lvl3_spatial_cluster'] = 'SMC'"
   ]
  },
  {
   "cell_type": "code",
   "execution_count": null,
   "id": "139120f1-1795-4c97-b5a8-f1505d54d90d",
   "metadata": {},
   "outputs": [],
   "source": [
    "Fibromajor_kmeans = ['fibroblast','HLA-DR(+) fibroblast','Thy-1(-) fibroblast']\n",
    "adata.obs.loc[adata.obs['spatial_cluster'].isin(Fibromajor_kmeans), 'lvl3_spatial_cluster'] = 'fibroblast'"
   ]
  },
  {
   "cell_type": "code",
   "execution_count": null,
   "id": "34e0ac9f-b315-42bd-b709-0fc505443293",
   "metadata": {},
   "outputs": [],
   "source": [
    "Endomajor_kmeans = ['HLA-DR(+) endothelial cell', 'aSMA(-) endothelial cell', 'endothelial cell']\n",
    "adata.obs.loc[adata.obs['spatial_cluster'].isin(Endomajor_kmeans), 'lvl3_spatial_cluster'] = 'endothelial cell'"
   ]
  },
  {
   "cell_type": "code",
   "execution_count": null,
   "id": "50a0fa99-9ce3-482a-b486-d52037e79ebc",
   "metadata": {},
   "outputs": [],
   "source": [
    "TEpi_kmeans = ['intraepithelial T cell']\n",
    "adata.obs.loc[adata.obs['spatial_cluster'].isin(TEpi_kmeans), 'lvl3_spatial_cluster'] = 'intraepithelial T cell'"
   ]
  },
  {
   "cell_type": "code",
   "execution_count": null,
   "id": "408b778e-99f8-4270-9eef-9fc4922ee127",
   "metadata": {},
   "outputs": [],
   "source": [
    "Neut_kmeans = ['S100a8/9(-) neutrophil', 'S100a8/9(+) neutrophil, CT', 'intravascular neutrophil']\n",
    "adata.obs.loc[adata.obs['spatial_cluster'].isin(Neut_kmeans), 'lvl3_spatial_cluster'] = 'neutrophil'"
   ]
  },
  {
   "cell_type": "code",
   "execution_count": null,
   "id": "3e652a23-cf0e-4c6b-8920-6257cf0009a5",
   "metadata": {},
   "outputs": [],
   "source": [
    "Neut2_kmeans = ['intraepithelial neutrophil']\n",
    "adata.obs.loc[adata.obs['spatial_cluster'].isin(Neut2_kmeans), 'lvl3_spatial_cluster'] = 'intraepithelial neutrophil'"
   ]
  },
  {
   "cell_type": "code",
   "execution_count": null,
   "id": "700e7ae8-a343-490b-867a-0f7c1705eae0",
   "metadata": {},
   "outputs": [],
   "source": [
    "Unknownmix_kmeans = ['Unknown','Unknown2','endothelial / immune mix','Thy-1(+) / CD45(+) cell','plasma / T cell mix','Extracellular matrix / Vim(+)','CD8 T cell / b cell mix', ]\n",
    "adata.obs.loc[adata.obs['spatial_cluster'].isin(Unknownmix_kmeans), 'lvl3_spatial_cluster'] = 'other'"
   ]
  },
  {
   "cell_type": "code",
   "execution_count": null,
   "id": "b4b5c43a-e3a5-44c7-a5e9-9c34cf195389",
   "metadata": {},
   "outputs": [],
   "source": [
    "TAPCmix_kmeans = ['CD4 T cell / b cell mix', 'T cell (proximity to APC)']\n",
    "adata.obs.loc[adata.obs['spatial_cluster'].isin(TAPCmix_kmeans), 'lvl3_spatial_cluster'] = 'T cell / APC mix'"
   ]
  },
  {
   "cell_type": "code",
   "execution_count": null,
   "id": "162d7c59-5808-4b13-bed4-e33480de7f96",
   "metadata": {},
   "outputs": [],
   "source": [
    "Bmajor_kmeans = ['b cell']\n",
    "adata.obs.loc[adata.obs['spatial_cluster'].isin(Bmajor_kmeans), 'lvl3_spatial_cluster'] = 'b cell'"
   ]
  },
  {
   "cell_type": "code",
   "execution_count": null,
   "id": "f7c5facb-29e4-4ac2-9a5e-da04a2288bf2",
   "metadata": {},
   "outputs": [],
   "source": [
    "BasalEpi_kmeans = ['basal/parabasal epithelial cell']\n",
    "adata.obs.loc[adata.obs['spatial_cluster'].isin(BasalEpi_kmeans), 'lvl3_spatial_cluster'] = 'basal / parabasal epithelial cell'"
   ]
  },
  {
   "cell_type": "code",
   "execution_count": null,
   "id": "359f5ada-825d-4ef1-8226-a157f333780b",
   "metadata": {},
   "outputs": [],
   "source": [
    "CrEpi_kmeans = ['crevicular epithelial cell']\n",
    "adata.obs.loc[adata.obs['spatial_cluster'].isin(CrEpi_kmeans), 'lvl3_spatial_cluster'] = 'crevicular epithelial cell'"
   ]
  },
  {
   "cell_type": "code",
   "execution_count": null,
   "id": "944d157d-7664-49d7-8497-c7ad8bbb86f4",
   "metadata": {},
   "outputs": [],
   "source": [
    "CrEpi_kmeans = ['keratin epithelial cell']\n",
    "adata.obs.loc[adata.obs['spatial_cluster'].isin(CrEpi_kmeans), 'lvl3_spatial_cluster'] = 'keratin epithelial cell'"
   ]
  },
  {
   "cell_type": "code",
   "execution_count": null,
   "id": "a816e8c9-5b67-4130-80eb-705f9b8b1010",
   "metadata": {},
   "outputs": [],
   "source": [
    "LCmajor_kmeans = ['intraepithelial APC']\n",
    "adata.obs.loc[adata.obs['spatial_cluster'].isin(LCmajor_kmeans), 'lvl3_spatial_cluster'] = 'Langerhans cell'"
   ]
  },
  {
   "cell_type": "code",
   "execution_count": null,
   "id": "2946a037-385a-44d6-9c87-75eafa16be53",
   "metadata": {},
   "outputs": [],
   "source": [
    "Mast_kmeans = ['mast cell']\n",
    "adata.obs.loc[adata.obs['spatial_cluster'].isin(Mast_kmeans), 'lvl3_spatial_cluster'] = 'mast cell'"
   ]
  },
  {
   "cell_type": "code",
   "execution_count": null,
   "id": "cb38768e-a137-4121-9069-64de542e24f8",
   "metadata": {},
   "outputs": [],
   "source": [
    "Plasmamajor_kmeans = ['plasma cell','plasma cell / proximity to T cell', 'PB']\n",
    "adata.obs.loc[adata.obs['spatial_cluster'].isin(Plasmamajor_kmeans), 'lvl3_spatial_cluster'] = 'plasma cell'"
   ]
  },
  {
   "cell_type": "code",
   "execution_count": null,
   "id": "7ca1a8bc-884a-45ae-ae38-9d7cdcb7c00b",
   "metadata": {},
   "outputs": [],
   "source": [
    "ProlEpi_kmeans = ['proliferating epithelial cell']\n",
    "adata.obs.loc[adata.obs['spatial_cluster'].isin(ProlEpi_kmeans), 'lvl3_spatial_cluster'] = 'proliferating epithelial cell'"
   ]
  },
  {
   "cell_type": "code",
   "execution_count": null,
   "id": "53205576-26f1-4c68-b377-c5cc331e6f9d",
   "metadata": {},
   "outputs": [],
   "source": [
    "SpEpi_kmeans = ['spinous epithelial cell']\n",
    "adata.obs.loc[adata.obs['spatial_cluster'].isin(SpEpi_kmeans), 'lvl3_spatial_cluster'] = 'spinous epithelial cell'"
   ]
  },
  {
   "cell_type": "code",
   "execution_count": null,
   "id": "a2d72c55-2596-49ee-99d4-9809f31c1fea",
   "metadata": {
    "scrolled": true
   },
   "outputs": [],
   "source": [
    "adata.obs['lvl3_spatial_cluster'].value_counts()"
   ]
  },
  {
   "cell_type": "code",
   "execution_count": null,
   "id": "a4973060-2186-44c9-955c-dfc3f67693f7",
   "metadata": {},
   "outputs": [],
   "source": [
    "sc.pl.matrixplot(adata, var_names= adata.var.index, groupby='lvl3_spatial_cluster', dendrogram=False, use_raw=False, cmap=\"vlag\", standard_scale='var')"
   ]
  },
  {
   "cell_type": "code",
   "execution_count": null,
   "id": "f255fedc-0332-4ab7-af92-4288f558fbbe",
   "metadata": {},
   "outputs": [],
   "source": [
    "#Lvl2 information\n",
    "adata.obs['lvl2_spatial_cluster'] = 'test'"
   ]
  },
  {
   "cell_type": "code",
   "execution_count": null,
   "id": "92c2304a-61df-4923-b659-45c8abe31351",
   "metadata": {},
   "outputs": [],
   "source": [
    "APCmajorcl_kmeans = ['APC-myeloid','Langerhans cell']\n",
    "adata.obs.loc[adata.obs['lvl3_spatial_cluster'].isin(APCmajorcl_kmeans), 'lvl2_spatial_cluster'] = 'Myeloid'"
   ]
  },
  {
   "cell_type": "code",
   "execution_count": null,
   "id": "c5cc2483-917a-4c9e-a5a1-e957404293e5",
   "metadata": {},
   "outputs": [],
   "source": [
    "Lymphoid_kmeans = ['CD4 T cell','CD8 T cell', 'intraepithelial T cell', 'plasma cell', 'b cell','T cell / APC mix']\n",
    "adata.obs.loc[adata.obs['lvl3_spatial_cluster'].isin(Lymphoid_kmeans), 'lvl2_spatial_cluster'] = 'Lymphoid'"
   ]
  },
  {
   "cell_type": "code",
   "execution_count": null,
   "id": "c26ed9a1-3268-4995-a0ca-ed751be3b9c0",
   "metadata": {},
   "outputs": [],
   "source": [
    "SurfaceEpi_kmeans = ['basal / parabasal epithelial cell', 'spinous epithelial cell', 'proliferating epithelial cell','keratin epithelial cell']\n",
    "adata.obs.loc[adata.obs['lvl3_spatial_cluster'].isin(SurfaceEpi_kmeans), 'lvl2_spatial_cluster'] = 'Epi (oral)'"
   ]
  },
  {
   "cell_type": "code",
   "execution_count": null,
   "id": "c9c8b02c-67be-4ec4-8bea-cc6d5eedd2c7",
   "metadata": {},
   "outputs": [],
   "source": [
    "CrEpi_kmeans = ['crevicular epithelial cell']\n",
    "adata.obs.loc[adata.obs['lvl3_spatial_cluster'].isin(CrEpi_kmeans), 'lvl2_spatial_cluster'] = 'Epi (crevicular)'"
   ]
  },
  {
   "cell_type": "code",
   "execution_count": null,
   "id": "14bf043b-6e2e-4998-b0ba-a886e7dc366a",
   "metadata": {},
   "outputs": [],
   "source": [
    "Endomajorcl_kmeans = ['endothelial cell']\n",
    "adata.obs.loc[adata.obs['lvl3_spatial_cluster'].isin(Endomajorcl_kmeans), 'lvl2_spatial_cluster'] = 'Endothelial'"
   ]
  },
  {
   "cell_type": "code",
   "execution_count": null,
   "id": "543f4e23-9219-4200-9901-f9c2b2956b77",
   "metadata": {},
   "outputs": [],
   "source": [
    "SMCmajorcl_kmeans = ['SMC']\n",
    "adata.obs.loc[adata.obs['lvl3_spatial_cluster'].isin(SMCmajorcl_kmeans), 'lvl2_spatial_cluster'] = 'SMC'"
   ]
  },
  {
   "cell_type": "code",
   "execution_count": null,
   "id": "55fc88b5-5970-4032-85b3-4b69777e26fc",
   "metadata": {},
   "outputs": [],
   "source": [
    "Neutmajorcl_kmeans = ['neutrophil','intraepithelial neutrophil','mast cell']\n",
    "adata.obs.loc[adata.obs['lvl3_spatial_cluster'].isin(Neutmajorcl_kmeans), 'lvl2_spatial_cluster'] = 'Granulocytic'"
   ]
  },
  {
   "cell_type": "code",
   "execution_count": null,
   "id": "315b2e32-2dcc-416d-abb9-63f6fb8b08ba",
   "metadata": {},
   "outputs": [],
   "source": [
    "Mixmajorcl_kmeans = ['other']\n",
    "adata.obs.loc[adata.obs['lvl3_spatial_cluster'].isin(Mixmajorcl_kmeans), 'lvl2_spatial_cluster'] = 'Other'"
   ]
  },
  {
   "cell_type": "code",
   "execution_count": null,
   "id": "0b479967-ca27-4201-b527-9e8c8ab6a9ae",
   "metadata": {},
   "outputs": [],
   "source": [
    "#retrospective addition of those two clusters into Lymphoid and Immune. They stayed as other in the lvl3\n",
    "Lymphoidmix_kmeans = ['Plasma-T mix','CD20-CD8(+)mix ']\n",
    "adata.obs.loc[adata.obs['spatial_cluster'].isin(Lymphoidmix_kmeans), 'lvl2_spatial_cluster'] = 'Lymphoid'"
   ]
  },
  {
   "cell_type": "code",
   "execution_count": null,
   "id": "2faaa2b1-651e-45b6-bc97-b018d749fe7c",
   "metadata": {},
   "outputs": [],
   "source": [
    "Fibromajorcl_kmeans = ['fibroblast']\n",
    "adata.obs.loc[adata.obs['lvl3_spatial_cluster'].isin(Fibromajorcl_kmeans), 'lvl2_spatial_cluster'] = 'Fibroblast'"
   ]
  },
  {
   "cell_type": "code",
   "execution_count": null,
   "id": "29338b18-3e02-4484-a3a5-3a8231a158c5",
   "metadata": {},
   "outputs": [],
   "source": [
    "adata.obs['lvl2_spatial_cluster'].value_counts()"
   ]
  },
  {
   "cell_type": "code",
   "execution_count": null,
   "id": "00c99a78-f1bb-45e7-9ff2-11e7230ab939",
   "metadata": {},
   "outputs": [],
   "source": [
    "sc.pl.matrixplot(adata, var_names= adata.var.index, groupby='lvl2_spatial_cluster', dendrogram=False, use_raw=False, cmap=\"vlag\", standard_scale='var')"
   ]
  },
  {
   "cell_type": "code",
   "execution_count": null,
   "id": "c74089d4-cea2-43aa-b8e3-cf69777ff770",
   "metadata": {},
   "outputs": [],
   "source": [
    "#Major populations, Epithelial, Immune, Vascular, Fibroblast and Others\n",
    "adata.obs['lvl1_spatial_cluster'] = 'test'"
   ]
  },
  {
   "cell_type": "code",
   "execution_count": null,
   "id": "eab68059-fcf6-49d6-bb7b-4a1faa0261d1",
   "metadata": {},
   "outputs": [],
   "source": [
    "Epi_kmeans = ['Epi (oral)','Epi (crevicular)']\n",
    "adata.obs.loc[adata.obs['lvl2_spatial_cluster'].isin(Epi_kmeans), 'lvl1_spatial_cluster'] = 'Epithelial'"
   ]
  },
  {
   "cell_type": "code",
   "execution_count": null,
   "id": "08ac686f-6ae2-4881-a616-c0783a9f925c",
   "metadata": {},
   "outputs": [],
   "source": [
    "Immune_kmeans = ['Lymphoid','Myeloid','Granulocytic']\n",
    "adata.obs.loc[adata.obs['lvl2_spatial_cluster'].isin(Immune_kmeans), 'lvl1_spatial_cluster'] = 'Immune'"
   ]
  },
  {
   "cell_type": "code",
   "execution_count": null,
   "id": "ca92d160-1cab-4887-a29e-dad2188a8548",
   "metadata": {},
   "outputs": [],
   "source": [
    "Fibroblast_kmeans = ['Fibroblast']\n",
    "adata.obs.loc[adata.obs['lvl2_spatial_cluster'].isin(Fibroblast_kmeans), 'lvl1_spatial_cluster'] = 'Fibroblast'"
   ]
  },
  {
   "cell_type": "code",
   "execution_count": null,
   "id": "3e10df2e-ff94-4987-958f-89481572daca",
   "metadata": {},
   "outputs": [],
   "source": [
    "Vascular_kmeans = ['SMC','Endothelial']\n",
    "adata.obs.loc[adata.obs['lvl2_spatial_cluster'].isin(Vascular_kmeans), 'lvl1_spatial_cluster'] = 'Vascular'"
   ]
  },
  {
   "cell_type": "code",
   "execution_count": null,
   "id": "dddccb75-96f6-48d8-8cdc-13e980ca10d1",
   "metadata": {},
   "outputs": [],
   "source": [
    "Mix_kmeans = ['Other']\n",
    "adata.obs.loc[adata.obs['lvl2_spatial_cluster'].isin(Mix_kmeans), 'lvl1_spatial_cluster'] = 'Other'"
   ]
  },
  {
   "cell_type": "code",
   "execution_count": null,
   "id": "0bc8f1f9-0608-4c73-afaa-e3cd448933b5",
   "metadata": {
    "scrolled": true
   },
   "outputs": [],
   "source": [
    "adata.obs['lvl1_spatial_cluster'].value_counts()"
   ]
  },
  {
   "cell_type": "code",
   "execution_count": null,
   "id": "9e4d4781-3ab9-4217-8429-0cd96db5a3db",
   "metadata": {
    "scrolled": true
   },
   "outputs": [],
   "source": [
    "sc.pl.matrixplot(adata, var_names= adata.var.index, groupby='lvl1_spatial_cluster', dendrogram=False, use_raw=False, cmap=\"vlag\", standard_scale='var')"
   ]
  },
  {
   "cell_type": "code",
   "execution_count": null,
   "id": "679d0edd-3cba-4aa9-88c9-539727ffe925",
   "metadata": {},
   "outputs": [],
   "source": []
  },
  {
   "cell_type": "code",
   "execution_count": null,
   "id": "8e3e9ad4-ab0e-4b1d-ba72-7271e9993904",
   "metadata": {},
   "outputs": [],
   "source": [
    "adata.write_h5ad(\"/data/vasileiosionat2/IBEX_FINAL/Scimap/Adata/adata_ROIs.h5ad\")"
   ]
  },
  {
   "cell_type": "code",
   "execution_count": null,
   "id": "ffcf5ca9-f80a-44df-a8fb-a0bebdd194d8",
   "metadata": {
    "scrolled": true
   },
   "outputs": [],
   "source": [
    "adata.obs"
   ]
  },
  {
   "cell_type": "code",
   "execution_count": null,
   "id": "c9f4cbd5-cf65-4b14-b27a-87abcb60d3ca",
   "metadata": {},
   "outputs": [],
   "source": [
    "# List of categories that should be labeled as 'Epi'\n",
    "epi_categories = [\n",
    "    'basal / parabasal epithelial cell',\n",
    "    'spinous epithelial cell',\n",
    "    'proliferating epithelial cell',\n",
    "    'crevicular epithelial cell',\n",
    "    'intraepithelial neutrophil',\n",
    "    'Langerhans cell',\n",
    "    'keratin epithelial cell',\n",
    "    'intraepithelial T cell'\n",
    "]\n",
    "\n",
    "# Create a new column 'Region' with default value 'CT'\n",
    "adata.obs['Region'] = 'CT'\n",
    "\n",
    "# Update 'Region' to 'Epi' for the specified categories\n",
    "adata.obs.loc[adata.obs['lvl3_spatial_cluster'].isin(epi_categories), 'Region'] = 'Epi'\n"
   ]
  }
 ],
 "metadata": {
  "kernelspec": {
   "display_name": "scimap-naparijroi",
   "language": "python",
   "name": "scimap-naparijroi"
  },
  "language_info": {
   "codemirror_mode": {
    "name": "ipython",
    "version": 3
   },
   "file_extension": ".py",
   "mimetype": "text/x-python",
   "name": "python",
   "nbconvert_exporter": "python",
   "pygments_lexer": "ipython3",
   "version": "3.8.17"
  }
 },
 "nbformat": 4,
 "nbformat_minor": 5
}
