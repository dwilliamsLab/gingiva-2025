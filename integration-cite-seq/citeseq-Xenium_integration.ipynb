{
 "cells": [
  {
   "cell_type": "code",
   "execution_count": null,
   "id": "079eaefc-7824-40c6-9150-23868c8cbc3e",
   "metadata": {},
   "outputs": [],
   "source": [
    "!pip list"
   ]
  },
  {
   "cell_type": "code",
   "execution_count": null,
   "id": "93cf2f58-bced-4b53-8d88-a5d0fdfb7764",
   "metadata": {
    "scrolled": true
   },
   "outputs": [],
   "source": [
    "# Install a specific version of numpy\n",
    "!pip install numpy==1.24.4\n",
    "\n",
    "# Install a specific version of numba\n",
    "!pip install numba==0.57.1\n",
    "\n",
    "# Reinstall scanpy and squidpy\n",
    "!pip uninstall -y scanpy squidpy\n",
    "!pip install scanpy squidpy"
   ]
  },
  {
   "cell_type": "code",
   "execution_count": null,
   "id": "13bf4054-a23f-48b3-9fab-072eb4645700",
   "metadata": {},
   "outputs": [],
   "source": [
    "!pip show numpy"
   ]
  },
  {
   "cell_type": "code",
   "execution_count": null,
   "id": "d117c6a0-fe28-4cca-8b03-04e43661c4b3",
   "metadata": {},
   "outputs": [],
   "source": [
    "!pip install numpy==1.24.0"
   ]
  },
  {
   "cell_type": "code",
   "execution_count": null,
   "id": "18cc52ce-c301-4ee8-9bec-1433503c27a4",
   "metadata": {
    "tags": []
   },
   "outputs": [],
   "source": [
    "import scanpy as sc\n",
    "from sklearn.neighbors import KNeighborsClassifier, NearestNeighbors\n",
    "import pandas as pd\n",
    "import seaborn as sns\n",
    "import matplotlib.pyplot as plt"
   ]
  },
  {
   "cell_type": "code",
   "execution_count": null,
   "id": "3885008a-104a-47cc-b103-bfa18e439cf3",
   "metadata": {
    "tags": []
   },
   "outputs": [],
   "source": [
    "refStr = sc.read_h5ad('/data/vasileiosionat2/Xenium/Integration_2025_only_stromal/NEW CITE seq h5ad files 2025.01/Stromal.h5ad')"
   ]
  },
  {
   "cell_type": "code",
   "execution_count": null,
   "id": "666f3332-7e35-4f10-830c-36604934790f",
   "metadata": {
    "scrolled": true
   },
   "outputs": [],
   "source": [
    "refStr.obs"
   ]
  },
  {
   "cell_type": "code",
   "execution_count": null,
   "id": "c4ffd2fc-5df6-42a1-873b-f2f6386eed02",
   "metadata": {
    "scrolled": true
   },
   "outputs": [],
   "source": [
    "import pandas as pd\n",
    "\n",
    "# Specify the file path\n",
    "file_path = \"/data/vasileiosionat2/Xenium/Integration_2025_only_stromal/NEW CITE seq h5ad files 2025.01/Stromal_metadata.csv\"\n",
    "\n",
    "# Read the CSV into a DataFrame\n",
    "dfStr = pd.read_csv(file_path)\n",
    "\n",
    "# Display the DataFrame\n",
    "print(dfStr)\n",
    "\n",
    "# Access specific columns or rows\n",
    "#print(dfStrdfStr[\"ColumnName\"])  # Access a column\n",
    "#print(dfStr.iloc[0])        # Access the first row\n"
   ]
  },
  {
   "cell_type": "code",
   "execution_count": null,
   "id": "d19fc267-4aa8-45de-9140-c1d42f30281b",
   "metadata": {},
   "outputs": [],
   "source": [
    "import pandas as pd\n",
    "import anndata as ad\n",
    "\n",
    "# Check the dimensions\n",
    "if len(dfStr) != refStr.n_obs:\n",
    "    raise ValueError(\"Number of rows in the CSV file does not match the number of observations in adata.obs\")\n",
    "\n",
    "# Optionally, ensure the rows align\n",
    "# If the index of `csv_data` and `adata.obs` don't match, you may need to align them:\n",
    "# csv_data.index = adata.obs.index\n",
    "\n",
    "# Add the CSV columns to `adata.obs`\n",
    "for column in dfStr.columns:\n",
    "    refStr.obs[column] = dfStr[column].values\n",
    "\n",
    "# Save the updated AnnData object (optional)\n",
    "#adata.write(\"updated_adata.h5ad\")\n"
   ]
  },
  {
   "cell_type": "code",
   "execution_count": null,
   "id": "8984d6a4-77ed-4cbc-9a3d-07919a96bb37",
   "metadata": {},
   "outputs": [],
   "source": [
    "refStr.obs"
   ]
  },
  {
   "cell_type": "code",
   "execution_count": null,
   "id": "7a34ea96-ed17-4ec3-8a70-6258099aeef3",
   "metadata": {},
   "outputs": [],
   "source": [
    "refStr.var"
   ]
  },
  {
   "cell_type": "code",
   "execution_count": null,
   "id": "01644aca-d299-4668-8236-1fc475b3830b",
   "metadata": {},
   "outputs": [],
   "source": [
    "# Remove the 'Unnamed: 0' column from adata.obs\n",
    "if 'Unnamed: 0' in refStr.obs.columns:\n",
    "    del refStr.obs['Unnamed: 0']\n",
    "\n",
    "# Alternatively, using the drop method\n",
    "# adata.obs.drop(columns=['Unnamed: 0'], inplace=True)\n",
    "\n",
    "# Verify the column is removed\n",
    "print(refStr.obs.head())\n"
   ]
  },
  {
   "cell_type": "code",
   "execution_count": null,
   "id": "919e0555-2080-48bc-bfff-06b93a040f2c",
   "metadata": {},
   "outputs": [],
   "source": [
    "refStr.obs.rename(columns={\"StromalClusters\": \"cluster\"}, inplace=True)"
   ]
  },
  {
   "cell_type": "code",
   "execution_count": null,
   "id": "4b1833b1-1d71-4ebd-8ef8-44c0e31389ae",
   "metadata": {},
   "outputs": [],
   "source": [
    "refStr.obs"
   ]
  },
  {
   "cell_type": "code",
   "execution_count": null,
   "id": "201f8d76-431a-4473-9137-1933da2e29c6",
   "metadata": {},
   "outputs": [],
   "source": [
    "refStr.X"
   ]
  },
  {
   "cell_type": "code",
   "execution_count": null,
   "id": "89ab334a-e1e6-47b3-97d4-8bb007a7184f",
   "metadata": {},
   "outputs": [],
   "source": [
    "if '_index' in refStr.raw.var.columns:\n",
    "    refStr.raw.var.rename(columns={'_index': 'index_backup'}, inplace=True)\n"
   ]
  },
  {
   "cell_type": "code",
   "execution_count": null,
   "id": "feaae03d-50d1-4403-90c3-6527a27286ba",
   "metadata": {},
   "outputs": [],
   "source": [
    "refStr.write(\"/data/vasileiosionat2/Xenium/Integration_2025_only_stromal/Modified_citeseq_files/Stromal.h5ad\")"
   ]
  },
  {
   "cell_type": "code",
   "execution_count": null,
   "id": "75405fe4-a875-4a3c-94ac-6e153e7ed3a0",
   "metadata": {},
   "outputs": [],
   "source": [
    "refStr.obs"
   ]
  },
  {
   "cell_type": "code",
   "execution_count": null,
   "id": "bfffed2a-ed36-476e-bab0-71696aedd723",
   "metadata": {},
   "outputs": [],
   "source": [
    "ref_stromal = sc.read_h5ad(\"/data/vasileiosionat2/Xenium/Integration_2025_only_stromal/Modified_citeseq_files/Stromal.h5ad\")"
   ]
  },
  {
   "cell_type": "code",
   "execution_count": null,
   "id": "a46175a7-e56d-4c7d-9c85-a1302236bb76",
   "metadata": {},
   "outputs": [],
   "source": [
    "adata = sc.read_h5ad('/data/vasileiosionat2/Xenium/Drake_outputs/ccProcessed.h5ad')"
   ]
  },
  {
   "cell_type": "code",
   "execution_count": null,
   "id": "76420ca5-9499-44d9-9caf-0576e5131349",
   "metadata": {},
   "outputs": [],
   "source": [
    "stromal_adata = adata[adata.obs['Lvl1'].isin(['Fibroblast', 'Vascular'])].copy()"
   ]
  },
  {
   "cell_type": "code",
   "execution_count": null,
   "id": "0d6235af-79db-491d-b953-b1453e28c734",
   "metadata": {},
   "outputs": [],
   "source": [
    "stromal_adata.obs"
   ]
  },
  {
   "cell_type": "code",
   "execution_count": null,
   "id": "ca20a9f0-f229-4075-aecf-1b60446721cf",
   "metadata": {},
   "outputs": [],
   "source": [
    "# Add assay information to obs for clarity\n",
    "stromal_adata.obs['assay'] = 'Xenium_stromal'\n",
    "ref_stromal.obs['assay'] = 'citeSeq_stromal'\n",
    "\n",
    "# Merge datasets with batch key and categories\n",
    "merged_stromal = stromal_adata.concatenate(\n",
    "    ref_stromal,\n",
    "    batch_key=\"assay\",\n",
    "    batch_categories=[\"Xenium_stromal\", \"citeSeq_stromal\"],\n",
    "    index_unique=None  # Avoids adding a suffix to index entries\n",
    ")"
   ]
  },
  {
   "cell_type": "code",
   "execution_count": null,
   "id": "c5674c9c-c156-4cda-9582-29bb558f9147",
   "metadata": {},
   "outputs": [],
   "source": [
    "sc.pp.scale(merged_stromal)\n",
    "sc.tl.pca(merged_stromal)"
   ]
  },
  {
   "cell_type": "code",
   "execution_count": null,
   "id": "fe3173bf-9b38-4500-8715-539f6bb3bae9",
   "metadata": {},
   "outputs": [],
   "source": [
    "sc.external.pp.harmony_integrate(merged_stromal, key=\"assay\", max_iter_harmony=20, max_iter_kmeans=30)"
   ]
  },
  {
   "cell_type": "code",
   "execution_count": null,
   "id": "78f7e37b-9864-4e3c-bdee-58b56267e108",
   "metadata": {},
   "outputs": [],
   "source": [
    "# Visualize merged with UMAP embedding; takes a long time\n",
    "sc.pp.neighbors(merged_stromal, n_neighbors=50, use_rep=\"X_pca_harmony\", metric=\"correlation\")\n",
    "sc.tl.umap(merged_stromal, min_dist=0.5)"
   ]
  },
  {
   "cell_type": "code",
   "execution_count": null,
   "id": "8317721e-a381-4273-aebc-7fd7fb488e5c",
   "metadata": {},
   "outputs": [],
   "source": [
    "sc.pl.umap(merged_stromal, color='assay')"
   ]
  },
  {
   "cell_type": "code",
   "execution_count": null,
   "id": "c4f9c1c0-deee-48ee-a353-51e61929f12b",
   "metadata": {},
   "outputs": [],
   "source": [
    "sc.pl.umap(merged_stromal, color='cluster')"
   ]
  },
  {
   "cell_type": "code",
   "execution_count": null,
   "id": "a9a4a414-13d9-4205-86c5-cde5c7fa7694",
   "metadata": {},
   "outputs": [],
   "source": [
    "sc.pl.umap(merged_stromal, color='Lvl4')"
   ]
  },
  {
   "cell_type": "code",
   "execution_count": null,
   "id": "2c9aadd0-c380-4bfc-9a0e-236870047a21",
   "metadata": {},
   "outputs": [],
   "source": [
    "merged_stromal.write(\"/data/vasileiosionat2/Xenium/Integration_2025_only_stromal/Modified_citeseq_files/Xenium_citeSeq_stromal_harmony.h5ad\")"
   ]
  },
  {
   "cell_type": "code",
   "execution_count": null,
   "id": "289446b7-b7cc-4d02-b6ac-1c1a4f46cd81",
   "metadata": {
    "tags": []
   },
   "outputs": [],
   "source": [
    "merged_stromal = sc.read_h5ad('/data/vasileiosionat2/Xenium/Integration_2025_only_stromal/Modified_citeseq_files/Xenium_citeSeq_stromal_harmony.h5ad')"
   ]
  },
  {
   "cell_type": "code",
   "execution_count": null,
   "id": "d81509f3-04b6-4c7f-bed2-398917cdd8f2",
   "metadata": {},
   "outputs": [],
   "source": [
    "merged_stromal.obs"
   ]
  },
  {
   "cell_type": "code",
   "execution_count": null,
   "id": "4d741753-5357-4733-88c7-f594914857bf",
   "metadata": {},
   "outputs": [],
   "source": [
    "print(\"Unique assays in merged_stromal:\", merged_stromal.obs[\"assay\"].unique())"
   ]
  },
  {
   "cell_type": "code",
   "execution_count": null,
   "id": "47fcfa38-41b1-4097-8bbd-f11d15f3e3ed",
   "metadata": {},
   "outputs": [],
   "source": [
    "# Transfer annotations from scRNAseq to xenium\n",
    "nn = KNeighborsClassifier(n_neighbors=1, n_jobs=16, weights='distance', metric='euclidean')\n",
    "train = merged_stromal[merged_stromal.obs[\"assay\"] == \"citeSeq_stromal\"]\n",
    "nn.fit(train.obsm[\"X_pca_harmony\"], train.obs['cluster']) \n",
    "labels = nn.predict(merged_stromal[merged_stromal.obs[\"assay\"] == \"Xenium_stromal\"].obsm[\"X_pca_harmony\"])\n",
    "merged_stromal.obs_names_make_unique()\n",
    "merged_stromal.obs[\"citeSeq_to_Xenium_label\"] = pd.Series(labels, index=merged_stromal[merged_stromal.obs[\"assay\"] == \"Xenium_stromal\"].obs.index)"
   ]
  },
  {
   "cell_type": "code",
   "execution_count": null,
   "id": "706c5724-7493-4f48-b885-1b15b82c4951",
   "metadata": {},
   "outputs": [],
   "source": [
    "sc.pl.umap(merged_stromal, color='citeSeq_to_Xenium_label')"
   ]
  },
  {
   "cell_type": "code",
   "execution_count": null,
   "id": "6fb4881b-652a-4c9f-9914-da4c6876ac8e",
   "metadata": {},
   "outputs": [],
   "source": [
    "# Rename 'Xenium_stromal' to 'Xenium' and 'citeSeq_stromal' to 'citeSeq'\n",
    "merged_stromal.obs['assay'] = merged_stromal.obs['assay'].replace({\n",
    "    'Xenium_stromal': 'Xenium',\n",
    "    'citeSeq_stromal': 'citeSeq'\n",
    "})"
   ]
  },
  {
   "cell_type": "code",
   "execution_count": null,
   "id": "01fbf721-433a-447d-946f-cbf3a86b57c3",
   "metadata": {},
   "outputs": [],
   "source": [
    "# Save transferred annotations to file\n",
    "citeSeq_to_xenium_predicted_stromal_labels = merged_stromal.obs.loc[merged_stromal.obs['assay'] == 'Xenium', ['orig.ident','Lvl4','citeSeq_to_Xenium_label']]\n",
    "citeSeq_to_xenium_predicted_stromal_labels.index = citeSeq_to_xenium_predicted_stromal_labels.index.str.replace('-Xenium','')\n",
    "citeSeq_to_xenium_predicted_stromal_labels.to_csv('/data/vasileiosionat2/Xenium/Integration_2025_only_stromal/Modified_citeseq_files/citeSeq_to_Xenium_predicted_stromal_celltype.csv')"
   ]
  },
  {
   "cell_type": "code",
   "execution_count": null,
   "id": "15ce3ec1-03ca-4d9f-8637-2838c3b95907",
   "metadata": {},
   "outputs": [],
   "source": [
    "# Transfer annotations from xenium to scRNAseq\n",
    "nn = KNeighborsClassifier(n_neighbors=1, n_jobs=16, weights='distance', metric='euclidean')\n",
    "train = merged_stromal[merged_stromal.obs[\"assay\"] == \"Xenium\"]\n",
    "nn.fit(train.obsm[\"X_pca_harmony\"], train.obs['Lvl4']) \n",
    "labels = nn.predict(merged_stromal[merged_stromal.obs[\"assay\"] == \"citeSeq\"].obsm[\"X_pca_harmony\"])\n",
    "merged_stromal.obs[\"Xenium_to_citeSeq_label\"] = pd.Series(labels, index=merged_stromal[merged_stromal.obs[\"assay\"] == \"citeSeq\"].obs.index)"
   ]
  },
  {
   "cell_type": "code",
   "execution_count": null,
   "id": "1559f0cd-8481-4fae-bad8-190d7ac7a0ae",
   "metadata": {},
   "outputs": [],
   "source": [
    "# Save transferred annotations to file\n",
    "Xenium_to_citeSeq_predicted_stromal_labels = merged_stromal.obs.loc[merged_stromal.obs['assay'] == 'citeSeq', ['orig.ident','cluster','Xenium_to_citeSeq_label']]\n",
    "Xenium_to_citeSeq_predicted_stromal_labels.index = Xenium_to_citeSeq_predicted_stromal_labels.index.str.replace('-citeSeq','')\n",
    "Xenium_to_citeSeq_predicted_stromal_labels.to_csv('/data/vasileiosionat2/Xenium/Integration_2025_only_stromal/Modified_citeseq_files/Xenium_to_citeSeq_predicted_stromal_celltype.csv')"
   ]
  },
  {
   "cell_type": "code",
   "execution_count": null,
   "id": "d965bcef-fe4e-41af-b45f-0a440759f3e9",
   "metadata": {},
   "outputs": [],
   "source": [
    "# Combine original labels from scSeq and transferred labels from xenium into one column\n",
    "merged_stromal.obs.loc[merged_stromal.obs['assay'] == 'Xenium', 'final_label_citeSeq'] = merged_stromal.obs[merged_stromal.obs['assay'] == 'Xenium']['citeSeq_to_Xenium_label']\n",
    "merged_stromal.obs.loc[merged_stromal.obs['assay'] == 'citeSeq', 'final_label_citeSeq'] = merged_stromal.obs[merged_stromal.obs['assay'] == 'citeSeq']['cluster']\n",
    "# Combine original labels from xenium and transferred labels from scSeq into one column\n",
    "# Convert categories to strings (safe option)\n",
    "merged_stromal.obs.loc[merged_stromal.obs['assay'] == 'citeSeq', 'final_label_X'] = \\\n",
    "    merged_stromal.obs.loc[merged_stromal.obs['assay'] == 'citeSeq', 'Xenium_to_citeSeq_label'].astype(str)\n",
    "\n",
    "merged_stromal.obs.loc[merged_stromal.obs['assay'] == 'Xenium', 'final_label_X'] = \\\n",
    "    merged_stromal.obs.loc[merged_stromal.obs['assay'] == 'Xenium', 'Lvl4'].astype(str)\n",
    "\n",
    "\n",
    "# Visualized merged labels on UMAP\n",
    "sc.pl.umap(merged_stromal, color='final_label_citeSeq')\n",
    "sc.pl.umap(merged_stromal, color='assay')\n",
    "sc.pl.umap(merged_stromal, color='final_label_X')"
   ]
  },
  {
   "cell_type": "code",
   "execution_count": null,
   "id": "e1c2a2a0-90d4-4d66-812d-2aa0bfe826b4",
   "metadata": {},
   "outputs": [],
   "source": [
    "# Rename 'Xenium_stromal' to 'Xenium' and 'citeSeq_stromal' to 'citeSeq'\n",
    "merged_stromal.obs['final_label_citeSeq'] = merged_stromal.obs['final_label_citeSeq'].replace({\n",
    "    'Cycling': 'Cycling stromal',\n",
    "})"
   ]
  },
  {
   "cell_type": "code",
   "execution_count": null,
   "id": "4d51f4e3-09fb-4653-a2a0-eaaef1b9bb6c",
   "metadata": {},
   "outputs": [],
   "source": [
    "# Rename 'Xenium_stromal' to 'Xenium' and 'citeSeq_stromal' to 'citeSeq'\n",
    "merged_stromal.obs['citeSeq_to_Xenium_label'] = merged_stromal.obs['citeSeq_to_Xenium_label'].replace({\n",
    "    'Cycling': 'Cycling stromal',\n",
    "})"
   ]
  },
  {
   "cell_type": "code",
   "execution_count": null,
   "id": "de0071d3-a42a-4426-8323-e5958d28c49e",
   "metadata": {},
   "outputs": [],
   "source": [
    "merged_stromal.write(\"/data/vasileiosionat2/Xenium/Integration_2025_only_stromal/Modified_citeseq_files/Xenium_citeSeq_stromal_harmony.h5ad\")"
   ]
  },
  {
   "cell_type": "code",
   "execution_count": null,
   "id": "aaab44aa-1e87-4a07-ab45-6244703fe658",
   "metadata": {},
   "outputs": [],
   "source": [
    "# import matplotlib.pyplot as plt\n",
    "import numpy as np\n",
    "from matplotlib.backends.backend_pdf import PdfPages\n",
    "import os\n",
    "\n",
    "\n",
    "rotation_angle = 30  # Define rotation for this sample\n",
    "\n",
    "# Specify the directory where you want to save the PDF\n",
    "save_directory = '/data/vasileiosionat2/Xenium/Figures/lvl4_pdf/'\n",
    "pdf_filename = os.path.join(save_directory, f'all_clusters_4rows.pdf')\n",
    "\n",
    "# Filter the data for the specific sample\n",
    "adata_sample = merged_stromal[merged_stromal.obs['sample'] == 's2r2_HV184']\n",
    "\n",
    "unique_clusters = adata_sample.obs.loc[\n",
    "    adata_sample.obs['final_label_citeSeq'].astype(str).str.startswith(\"Fib\")|\n",
    "    (adata_sample.obs['final_label_citeSeq'].str.startswith(\"End\")),\n",
    "    'final_label_citeSeq'\n",
    "].unique()\n",
    "\n",
    "# Reorder clusters (if a custom order is provided, replace `sorted(unique_clusters)`)\n",
    "ordered_clusters = sorted(unique_clusters)\n",
    "\n",
    "# Define the number of rows and columns\n",
    "num_rows = 6\n",
    "num_cols = int(np.ceil(len(ordered_clusters) / num_rows))  # Calculate columns based on clusters and rows\n",
    "\n",
    "# Create a PdfPages object to save the plots\n",
    "with PdfPages(pdf_filename) as pdf:\n",
    "    # Create a figure for the sample\n",
    "    fig, axes = plt.subplots(num_rows, num_cols, figsize=(26, 36))\n",
    "    fig.patch.set_facecolor('white')\n",
    "\n",
    "    # Flatten the axes array for easier indexing\n",
    "    axes = axes.flatten()\n",
    "\n",
    "    # Get the coordinates for the sample\n",
    "    x_coords = adata_sample.obs['x_centroid']\n",
    "    y_coords = adata_sample.obs['y_centroid']\n",
    "    \n",
    "    # Apply rotation\n",
    "    angle = np.deg2rad(rotation_angle)\n",
    "    new_x_coords = x_coords * np.cos(angle) - y_coords * np.sin(angle)\n",
    "    new_y_coords = x_coords * np.sin(angle) + y_coords * np.cos(angle)\n",
    "\n",
    "    # Determine aspect ratio\n",
    "    x_range = new_x_coords.max() - new_x_coords.min()\n",
    "    y_range = new_y_coords.max() - new_y_coords.min()\n",
    "    aspect_ratio = x_range / y_range\n",
    "\n",
    "       # Loop over each unique cluster in the ordered list\n",
    "    for idx, cluster in enumerate(ordered_clusters):\n",
    "        ax = axes[idx]\n",
    "\n",
    "        # Set white background for the subplot\n",
    "        ax.set_facecolor('white')\n",
    "\n",
    "        # Remove the outline\n",
    "        for spine in ax.spines.values():\n",
    "            spine.set_visible(False)\n",
    "\n",
    "        # Scatter plot for the grey dots (all other clusters)\n",
    "        ax.scatter(\n",
    "            x=new_x_coords[adata_sample.obs['final_label_citeSeq'] != cluster],\n",
    "            y=new_y_coords[adata_sample.obs['final_label_citeSeq'] != cluster],\n",
    "            c='#C0C0C0', \n",
    "            s=3  # Adjust dot size\n",
    "        )\n",
    "\n",
    "        # Scatter plot for the red dots (the current cluster)\n",
    "        ax.scatter(\n",
    "            x=new_x_coords[adata_sample.obs['final_label_citeSeq'] == cluster],\n",
    "            y=new_y_coords[adata_sample.obs['final_label_citeSeq'] == cluster],\n",
    "            c='red', \n",
    "            s=9  # Adjust dot size\n",
    "        )\n",
    "\n",
    "        # Set aspect ratio for each subplot\n",
    "        ax.set_aspect(aspect_ratio)\n",
    "\n",
    "        # Add the cluster name below the plot\n",
    "        ax.text(\n",
    "            0.5, 0.02, f'{cluster}', \n",
    "            horizontalalignment='center', \n",
    "            verticalalignment='center', \n",
    "            transform=ax.transAxes, \n",
    "            color='black', fontsize=20, weight='bold'\n",
    "        )\n",
    "\n",
    "        # Remove grids\n",
    "        ax.grid(False)\n",
    "\n",
    "        # Remove ticks and their labels\n",
    "        ax.set_xticks([])\n",
    "        ax.set_yticks([])\n",
    "\n",
    "    # Turn off empty subplots if there are any\n",
    "    for ax in axes[len(ordered_clusters):]:\n",
    "        ax.set_visible(False)\n",
    "\n",
    "    # Define the directory and file name for the TIFF file\n",
    "    tiff_filename = os.path.join(save_directory, f'all_clusters_4rows.tiff')\n",
    "\n",
    "    # Adjust the spacing between subplots\n",
    "    plt.subplots_adjust(\n",
    "        left=0.05,    # Space from left edge\n",
    "        right=0.95,   # Space from right edge\n",
    "        top=0.95,     # Space from top edge\n",
    "        bottom=0.05,  # Space from bottom edge\n",
    "        wspace=0.1,   # Width space between columns\n",
    "        hspace=0.05    # Height space between rows\n",
    "    )\n",
    "\n",
    "    # Add a title to the overall figure\n",
    "    plt.suptitle(f'All Clusters in s2r2_HV184', color='white', fontsize=20, weight='bold', y=1.02)\n",
    "\n",
    "    # Save the current figure as a TIFF file\n",
    "    #fig.savefig(tiff_filename, dpi=300, format='tiff')\n",
    "\n",
    "    plt.show()\n",
    "    plt.close(fig)"
   ]
  },
  {
   "cell_type": "code",
   "execution_count": null,
   "id": "8317dcb6-4b11-4c6d-9204-8b391af5d6a7",
   "metadata": {},
   "outputs": [],
   "source": [
    "import pandas as pd\n",
    "import seaborn as sns\n",
    "import matplotlib.pyplot as plt\n",
    "\n",
    "# Assuming 'plot_niches' is a DataFrame or similar data structure\n",
    "df = pd.DataFrame(merged_stromal.obs)\n",
    "df['Lvl5'] = df['Lvl5'].astype('category')\n",
    "\n",
    "# Aggregate counts\n",
    "niche_groups = df.groupby(['final_label_citeSeq', 'niche_cc14']).size().unstack(fill_value=0)\n",
    "\n",
    "# Identify clusters to remove\n",
    "clusters_to_remove = df['final_label_citeSeq'].str.contains('Mix') | df['final_label_citeSeq'].str.startswith('Neuro')\n",
    "\n",
    "# Get the unique clusters to be removed\n",
    "clusters_to_remove = df.loc[clusters_to_remove, 'final_label_citeSeq'].unique()\n",
    "\n",
    "# Filter out these clusters from the plot\n",
    "niche_groups_filtered = niche_groups[~niche_groups.index.isin(clusters_to_remove)]\n",
    "\n",
    "# Calculate relative frequencies\n",
    "niche_groups_relative = niche_groups_filtered.div(niche_groups_filtered.sum(axis=1), axis=0)\n",
    "\n",
    "# Plot heatmap with enhanced colormap\n",
    "plt.figure(figsize=(16, 20))  # Adjusted figsize to accommodate the x-axis labels\n",
    "sns.heatmap(niche_groups_relative, cmap='plasma', cbar_kws={'label': 'Relative Frequency'}, linewidths=0.05, linecolor='black')\n",
    "plt.title('Relative Cell Type Distribution in Niches')\n",
    "plt.xlabel('Niche')\n",
    "plt.ylabel('Cell Cluster')\n",
    "plt.xticks(rotation=45, ha='right')  # Adjust rotation and alignment of xticks\n",
    "plt.yticks(rotation=0)\n",
    "plt.tight_layout()  # Ensures all elements fit within the figure area\n",
    "plt.show()\n"
   ]
  },
  {
   "cell_type": "code",
   "execution_count": null,
   "id": "7993ae95-7d4f-48f6-b283-71356a15da2d",
   "metadata": {},
   "outputs": [],
   "source": [
    "# Visualize xenium annotations vs transferred scRNAseq annotations\n",
    "xen_obj = merged_stromal[merged_stromal.obs['assay']=='Xenium']\n",
    "xen_obj.obs['Lvl4'] = xen_obj.obs['Lvl4'].astype('str')\n",
    "celltype_counts = pd.DataFrame(xen_obj.obs.groupby(['Lvl4','citeSeq_to_Xenium_label']).size()).unstack()\n",
    "celltype_counts.columns = celltype_counts.columns.droplevel()\n",
    "celltype_counts.index.name = 'Xenium cell type'\n",
    "celltype_counts.columns.name = 'predicted citeSeq cell type'\n",
    "celltype_counts = celltype_counts.T\n",
    "# Row scale co-occurrence frequencies (by predicted scRNAseq cell type)\n",
    "celltype_counts = celltype_counts.div(celltype_counts.sum(axis=1), axis=0) \n",
    "celltype_counts = celltype_counts.loc[:,celltype_counts.idxmax(axis=0).sort_values().index]\n",
    "celltype_counts = celltype_counts.fillna(0)"
   ]
  },
  {
   "cell_type": "code",
   "execution_count": null,
   "id": "c6d9d04b-b818-42dd-bee4-88ec06f6ee34",
   "metadata": {
    "scrolled": true
   },
   "outputs": [],
   "source": [
    "column_sums = celltype_counts.abs().sum(axis=0)\n",
    "print(column_sums)\n",
    "# Select columns to keep based on the threshold\n",
    "columns_to_keep = column_sums[column_sums >= 0.1].index\n",
    "print(columns_to_keep)\n",
    "celltype_counts2 = celltype_counts[columns_to_keep]\n",
    "print(celltype_counts2)"
   ]
  },
  {
   "cell_type": "code",
   "execution_count": null,
   "id": "3ba864a9-cb14-4d9c-a802-38c9d29df8d0",
   "metadata": {
    "scrolled": true
   },
   "outputs": [],
   "source": [
    "plt.figure(figsize = (26,14))\n",
    "sns.heatmap(celltype_counts2, cmap='YlGnBu')"
   ]
  },
  {
   "cell_type": "code",
   "execution_count": null,
   "id": "4b863a5e-d208-43ee-8ed5-b74a9ce395de",
   "metadata": {},
   "outputs": [],
   "source": []
  },
  {
   "cell_type": "code",
   "execution_count": null,
   "id": "d928f232-85ea-4347-8adf-9aa085c89dab",
   "metadata": {
    "tags": []
   },
   "outputs": [],
   "source": [
    "refTNK = sc.read_h5ad('/data/vasileiosionat2/Xenium/Integration_2025_only_stromal/NEW CITE seq h5ad files 2025.01/TNK.h5ad')"
   ]
  },
  {
   "cell_type": "code",
   "execution_count": null,
   "id": "17fd88c5-1acc-43be-a19f-c611b764ce39",
   "metadata": {},
   "outputs": [],
   "source": [
    "refTNK.obs"
   ]
  },
  {
   "cell_type": "code",
   "execution_count": null,
   "id": "78daa02f-5409-4902-a663-6493d10a4380",
   "metadata": {},
   "outputs": [],
   "source": [
    "refTNK.var"
   ]
  },
  {
   "cell_type": "code",
   "execution_count": null,
   "id": "fddd9179-2584-489b-8c08-a74d52d68b0b",
   "metadata": {
    "scrolled": true
   },
   "outputs": [],
   "source": [
    "import pandas as pd\n",
    "\n",
    "# Specify the file path\n",
    "file_path = \"/data/vasileiosionat2/Xenium/Integration_2025_only_stromal/NEW CITE seq h5ad files 2025.01/TNK_metadata.csv\"\n",
    "\n",
    "# Read the CSV into a DataFrame\n",
    "dfTNK = pd.read_csv(file_path)\n",
    "\n",
    "# Display the DataFrame\n",
    "print(dfTNK)\n",
    "\n",
    "# Access specific columns or rows\n",
    "#print(dfTNK[\"ColumnName\"])  # Access a column\n",
    "#print(dfTNK.iloc[0])        # Access the first row\n"
   ]
  },
  {
   "cell_type": "code",
   "execution_count": null,
   "id": "87af4c4f-58f5-4941-bc08-041d944a33d9",
   "metadata": {},
   "outputs": [],
   "source": [
    "import pandas as pd\n",
    "import anndata as ad\n",
    "\n",
    "# Check the dimensions\n",
    "if len(dfTNK) != refTNK.n_obs:\n",
    "    raise ValueError(\"Number of rows in the CSV file does not match the number of observations in adata.obs\")\n",
    "\n",
    "# Optionally, ensure the rows align\n",
    "# If the index of `csv_data` and `adata.obs` don't match, you may need to align them:\n",
    "# csv_data.index = adata.obs.index\n",
    "\n",
    "# Add the CSV columns to `adata.obs`\n",
    "for column in dfTNK.columns:\n",
    "    refTNK.obs[column] = dfTNK[column].values\n",
    "\n",
    "# Save the updated AnnData object (optional)\n",
    "#adata.write(\"updated_adata.h5ad\")\n"
   ]
  },
  {
   "cell_type": "code",
   "execution_count": null,
   "id": "66df54e5-80cb-4aa8-86b7-950d60807859",
   "metadata": {},
   "outputs": [],
   "source": [
    "refTNK.obs"
   ]
  },
  {
   "cell_type": "code",
   "execution_count": null,
   "id": "20a42da0-d22a-4fef-b0b4-4b84fc2fc086",
   "metadata": {},
   "outputs": [],
   "source": [
    "# Remove the 'Unnamed: 0' column from adata.obs\n",
    "if 'Unnamed: 0' in refTNK.obs.columns:\n",
    "    del refTNK.obs['Unnamed: 0']\n",
    "\n",
    "# Alternatively, using the drop method\n",
    "# adata.obs.drop(columns=['Unnamed: 0'], inplace=True)\n",
    "\n",
    "# Verify the column is removed\n",
    "print(refTNK.obs.head())\n"
   ]
  },
  {
   "cell_type": "code",
   "execution_count": null,
   "id": "fbbbb98a-fc66-4767-9adb-57628d2cfdf3",
   "metadata": {},
   "outputs": [],
   "source": [
    "refTNK.obs.rename(columns={\"TNKClusters\": \"cluster\"}, inplace=True)"
   ]
  },
  {
   "cell_type": "code",
   "execution_count": null,
   "id": "fa0f7327-8d55-4059-ae0c-286a09967d8e",
   "metadata": {},
   "outputs": [],
   "source": [
    "refTNK.obs"
   ]
  },
  {
   "cell_type": "code",
   "execution_count": null,
   "id": "ce383f41-7d21-4af2-bfac-5bb7ff37c5bb",
   "metadata": {
    "tags": []
   },
   "outputs": [],
   "source": [
    "refBPl = sc.read_h5ad('/data/vasileiosionat2/Xenium/Integration_2025_only_stromal/NEW CITE seq h5ad files 2025.01/BPlasma.h5ad')"
   ]
  },
  {
   "cell_type": "code",
   "execution_count": null,
   "id": "68d4f7ab-b33a-4a38-87b5-b1f65798402a",
   "metadata": {},
   "outputs": [],
   "source": [
    "refBPl.obs"
   ]
  },
  {
   "cell_type": "code",
   "execution_count": null,
   "id": "1c3c7c71-c59f-4f1a-be1e-818e276f3c3c",
   "metadata": {},
   "outputs": [],
   "source": [
    "refBPl.var"
   ]
  },
  {
   "cell_type": "code",
   "execution_count": null,
   "id": "1484bea9-ac68-4d6e-baea-574678240cab",
   "metadata": {
    "scrolled": true
   },
   "outputs": [],
   "source": [
    "import pandas as pd\n",
    "\n",
    "# Specify the file path\n",
    "file_path = \"/data/vasileiosionat2/Xenium/Integration_2025_only_stromal/NEW CITE seq h5ad files 2025.01/BPlasma_metadata.csv\"\n",
    "\n",
    "# Read the CSV into a DataFrame\n",
    "dfBPl = pd.read_csv(file_path)\n",
    "\n",
    "# Display the DataFrame\n",
    "print(dfBPl)\n",
    "\n",
    "# Access specific columns or rows\n",
    "#print(dfBPl[\"ColumnName\"])  # Access a column\n",
    "#print(dfBPl.iloc[0])        # Access the first row\n"
   ]
  },
  {
   "cell_type": "code",
   "execution_count": null,
   "id": "13348f02-e839-4df5-b2f4-85ddae02a550",
   "metadata": {},
   "outputs": [],
   "source": [
    "import pandas as pd\n",
    "import anndata as ad\n",
    "\n",
    "# Check the dimensions\n",
    "if len(dfBPl) != refBPl.n_obs:\n",
    "    raise ValueError(\"Number of rows in the CSV file does not match the number of observations in adata.obs\")\n",
    "\n",
    "# Optionally, ensure the rows align\n",
    "# If the index of `csv_data` and `adata.obs` don't match, you may need to align them:\n",
    "# csv_data.index = adata.obs.index\n",
    "\n",
    "# Add the CSV columns to `adata.obs`\n",
    "for column in dfBPl.columns:\n",
    "    refBPl.obs[column] = dfBPl[column].values\n",
    "\n",
    "# Save the updated AnnData object (optional)\n",
    "#adata.write(\"updated_adata.h5ad\")\n"
   ]
  },
  {
   "cell_type": "code",
   "execution_count": null,
   "id": "b7234322-d0b8-43c1-9de3-8bb4a7283f4a",
   "metadata": {},
   "outputs": [],
   "source": [
    "refBPl.obs"
   ]
  },
  {
   "cell_type": "code",
   "execution_count": null,
   "id": "fd4a1ca0-3e9a-4c0d-a006-5b4a1aad96f9",
   "metadata": {},
   "outputs": [],
   "source": [
    "# Remove the 'Unnamed: 0' column from adata.obs\n",
    "if 'Unnamed: 0' in refBPl.obs.columns:\n",
    "    del refBPl.obs['Unnamed: 0']\n",
    "\n",
    "# Alternatively, using the drop method\n",
    "# adata.obs.drop(columns=['Unnamed: 0'], inplace=True)\n",
    "\n",
    "# Verify the column is removed\n",
    "print(refBPl.obs.head())\n"
   ]
  },
  {
   "cell_type": "code",
   "execution_count": null,
   "id": "15ed757c-5add-4964-bc7b-a12c7d596c1c",
   "metadata": {},
   "outputs": [],
   "source": [
    "refBPl.obs.rename(columns={\"BPlasmaClusters\": \"cluster\"}, inplace=True)"
   ]
  },
  {
   "cell_type": "code",
   "execution_count": null,
   "id": "766a6375-49b6-4435-8571-00045ecc9c65",
   "metadata": {},
   "outputs": [],
   "source": [
    "refBPl.obs"
   ]
  },
  {
   "cell_type": "code",
   "execution_count": null,
   "id": "8ed4d5fd-bdd7-4f27-9f98-1b96013c0ac3",
   "metadata": {
    "tags": []
   },
   "outputs": [],
   "source": [
    "refMyel = sc.read_h5ad('/data/vasileiosionat2/Xenium/Integration_2025_only_stromal/NEW CITE seq h5ad files 2025.01/Myeloid.h5ad')"
   ]
  },
  {
   "cell_type": "code",
   "execution_count": null,
   "id": "1543de16-ee9e-4c49-91ca-004600c9702a",
   "metadata": {},
   "outputs": [],
   "source": [
    "refMyel.obs"
   ]
  },
  {
   "cell_type": "code",
   "execution_count": null,
   "id": "8ee70dd6-6a33-4e75-b5d6-7d07f18c15f6",
   "metadata": {
    "scrolled": true
   },
   "outputs": [],
   "source": [
    "import pandas as pd\n",
    "\n",
    "# Specify the file path\n",
    "file_path = \"/data/vasileiosionat2/Xenium/Integration_2025_only_stromal/NEW CITE seq h5ad files 2025.01/Myeloid_metadata.csv\"\n",
    "\n",
    "# Read the CSV into a DataFrame\n",
    "dfMyel = pd.read_csv(file_path)\n",
    "\n",
    "# Display the DataFrame\n",
    "print(dfMyel)\n",
    "\n",
    "# Access specific columns or rows\n",
    "#print(dfTNK[\"ColumnName\"])  # Access a column\n",
    "#print(dfTNK.iloc[0])        # Access the first row\n"
   ]
  },
  {
   "cell_type": "code",
   "execution_count": null,
   "id": "fa4f8f84-db22-47ea-98ad-df59d6162717",
   "metadata": {},
   "outputs": [],
   "source": [
    "import pandas as pd\n",
    "import anndata as ad\n",
    "\n",
    "# Check the dimensions\n",
    "if len(dfMyel) != refMyel.n_obs:\n",
    "    raise ValueError(\"Number of rows in the CSV file does not match the number of observations in adata.obs\")\n",
    "\n",
    "# Optionally, ensure the rows align\n",
    "# If the index of `csv_data` and `adata.obs` don't match, you may need to align them:\n",
    "# csv_data.index = adata.obs.index\n",
    "\n",
    "# Add the CSV columns to `adata.obs`\n",
    "for column in dfMyel.columns:\n",
    "    refMyel.obs[column] = dfMyel[column].values\n",
    "\n",
    "# Save the updated AnnData object (optional)\n",
    "#adata.write(\"updated_adata.h5ad\")\n"
   ]
  },
  {
   "cell_type": "code",
   "execution_count": null,
   "id": "b923c197-e6c4-4cc7-89d4-4b2a64796d6b",
   "metadata": {},
   "outputs": [],
   "source": [
    "refMyel.obs"
   ]
  },
  {
   "cell_type": "code",
   "execution_count": null,
   "id": "2edae58c-8b74-4f0a-9307-7c035f9cc51c",
   "metadata": {},
   "outputs": [],
   "source": [
    "# Remove the 'Unnamed: 0' column from adata.obs\n",
    "if 'Unnamed: 0' in refMyel.obs.columns:\n",
    "    del refMyel.obs['Unnamed: 0']\n",
    "\n",
    "# Alternatively, using the drop method\n",
    "# adata.obs.drop(columns=['Unnamed: 0'], inplace=True)\n",
    "\n",
    "# Verify the column is removed\n",
    "print(refMyel.obs.head())\n"
   ]
  },
  {
   "cell_type": "code",
   "execution_count": null,
   "id": "6b70f543-0633-40d7-8d9f-e943c6498e27",
   "metadata": {},
   "outputs": [],
   "source": [
    "refMyel.obs.rename(columns={\"MyeloidClusters\": \"cluster\"}, inplace=True)"
   ]
  },
  {
   "cell_type": "code",
   "execution_count": null,
   "id": "0ff48c27-4f4a-471e-b5af-de7bc428ac09",
   "metadata": {},
   "outputs": [],
   "source": [
    "refMyel.obs"
   ]
  },
  {
   "cell_type": "code",
   "execution_count": null,
   "id": "aedc849a-a784-4b01-8098-cea2af650c4e",
   "metadata": {},
   "outputs": [],
   "source": [
    "import anndata as ad\n",
    "\n",
    "# Concatenate AnnData objects\n",
    "ref_immune_combined = ad.concat([refTNK, refBPl, refMyel], join='outer')\n",
    "\n",
    "# Save the combined AnnData object (optional)\n",
    "#adata_combined.write(\"combined_adata.h5ad\")\n"
   ]
  },
  {
   "cell_type": "code",
   "execution_count": null,
   "id": "24988216-61bc-4729-b784-a64cf951e40d",
   "metadata": {},
   "outputs": [],
   "source": [
    "ref_immune_combined.obs"
   ]
  },
  {
   "cell_type": "code",
   "execution_count": null,
   "id": "842c14c5-ab62-4c69-8ae2-05206760e002",
   "metadata": {},
   "outputs": [],
   "source": [
    "ref_immune_combined.var"
   ]
  },
  {
   "cell_type": "code",
   "execution_count": null,
   "id": "2e61c25d-477e-402e-b03a-052d9227f110",
   "metadata": {},
   "outputs": [],
   "source": [
    "print(ref_immune_combined.shape)"
   ]
  },
  {
   "cell_type": "code",
   "execution_count": null,
   "id": "11b6d9a2-ab48-4bee-b7a2-ac9351fba90f",
   "metadata": {},
   "outputs": [],
   "source": [
    "ref_immune_combined.X"
   ]
  },
  {
   "cell_type": "code",
   "execution_count": null,
   "id": "7a0d4709-1335-4370-8916-445b4dce3dd3",
   "metadata": {},
   "outputs": [],
   "source": [
    "ref_immune_combined.write(\"/data/vasileiosionat2/Xenium/Integration_2025_only_stromal/Modified_citeseq_files/Immune.h5ad\")"
   ]
  },
  {
   "cell_type": "code",
   "execution_count": null,
   "id": "bcd8e88e-c82a-4163-b586-29748186179c",
   "metadata": {},
   "outputs": [],
   "source": [
    "ref_immune =  sc.read_h5ad(\"/data/vasileiosionat2/Xenium/Integration_2025_only_stromal/Modified_citeseq_files/Immune.h5ad\")"
   ]
  },
  {
   "cell_type": "code",
   "execution_count": null,
   "id": "93545d04-fb53-4bdf-9c17-66815573c36e",
   "metadata": {
    "tags": []
   },
   "outputs": [],
   "source": [
    "adata = sc.read_h5ad('/data/vasileiosionat2/Xenium/Drake_outputs/ccProcessed.h5ad')"
   ]
  },
  {
   "cell_type": "code",
   "execution_count": null,
   "id": "86625639-e22b-474c-bd6f-e3484c853c15",
   "metadata": {},
   "outputs": [],
   "source": [
    "import pandas as pd\n",
    "\n",
    "# Assuming adata.obs contains 'Lvl4' and 'Lvl5'\n",
    "cluster_counts = (\n",
    "    adata.obs.groupby(['Lvl1', 'Lvl4']).size().unstack(fill_value=0)\n",
    ")\n",
    "\n",
    "# Adjust Pandas display settings to show all rows and all columns\n",
    "pd.set_option('display.max_columns', None)  # Show all columns\n",
    "pd.set_option('display.max_rows', None)     # Show all rows\n",
    "pd.set_option('display.width', None)       # Avoid line breaks for wide DataFrames\n",
    "\n",
    "# Display the full result\n",
    "print(cluster_counts)\n",
    "\n",
    "# Reset the options if needed (optional)\n",
    "pd.reset_option('display.max_columns')\n",
    "pd.reset_option('display.max_rows')\n",
    "pd.reset_option('display.width')\n"
   ]
  },
  {
   "cell_type": "code",
   "execution_count": null,
   "id": "31facae0-bcab-49c1-b5ac-6742ff4dfcad",
   "metadata": {},
   "outputs": [],
   "source": [
    "adata.obs.loc[adata.obs['Lvl4'].isin(['T.B.Mix', 'Mac.Neut.Mix']), 'Lvl1'] = 'Immune'"
   ]
  },
  {
   "cell_type": "code",
   "execution_count": null,
   "id": "cd3c3568-55d5-444d-8582-ff76f8093711",
   "metadata": {},
   "outputs": [],
   "source": [
    "adata.obs.loc[adata.obs['Lvl4'].isin(['Mac.Neut.Mix']), 'Lvl2'] = 'Myeloid'"
   ]
  },
  {
   "cell_type": "code",
   "execution_count": null,
   "id": "bfb80252-1810-4d4c-b8e0-04194bb8e77b",
   "metadata": {},
   "outputs": [],
   "source": [
    "import pandas as pd\n",
    "\n",
    "# Assuming adata.obs contains 'Lvl4' and 'Lvl5'\n",
    "cluster_counts = (\n",
    "    adata.obs.groupby(['Lvl2', 'Lvl4']).size().unstack(fill_value=0)\n",
    ")\n",
    "\n",
    "# Adjust Pandas display settings to show all rows and all columns\n",
    "pd.set_option('display.max_columns', None)  # Show all columns\n",
    "pd.set_option('display.max_rows', None)     # Show all rows\n",
    "pd.set_option('display.width', None)       # Avoid line breaks for wide DataFrames\n",
    "\n",
    "# Display the full result\n",
    "print(cluster_counts)\n",
    "\n",
    "# Reset the options if needed (optional)\n",
    "pd.reset_option('display.max_columns')\n",
    "pd.reset_option('display.max_rows')\n",
    "pd.reset_option('display.width')\n"
   ]
  },
  {
   "cell_type": "code",
   "execution_count": null,
   "id": "20428544-4d7b-4216-a3b1-47f61d6e8458",
   "metadata": {},
   "outputs": [],
   "source": [
    "import pandas as pd\n",
    "\n",
    "# Assuming adata.obs contains 'Lvl4' and 'Lvl5'\n",
    "cluster_counts = (\n",
    "    adata.obs.groupby(['Lvl1', 'Lvl4']).size().unstack(fill_value=0)\n",
    ")\n",
    "\n",
    "# Adjust Pandas display settings to show all rows and all columns\n",
    "pd.set_option('display.max_columns', None)  # Show all columns\n",
    "pd.set_option('display.max_rows', None)     # Show all rows\n",
    "pd.set_option('display.width', None)       # Avoid line breaks for wide DataFrames\n",
    "\n",
    "# Display the full result\n",
    "print(cluster_counts)\n",
    "\n",
    "# Reset the options if needed (optional)\n",
    "pd.reset_option('display.max_columns')\n",
    "pd.reset_option('display.max_rows')\n",
    "pd.reset_option('display.width')\n"
   ]
  },
  {
   "cell_type": "code",
   "execution_count": null,
   "id": "47b324da-6349-4de1-b90c-03a697e3361b",
   "metadata": {},
   "outputs": [],
   "source": [
    "#After T cell clustering save\n",
    "adata.write_h5ad(\"/data/vasileiosionat2/Xenium/Drake_outputs/ccProcessed.h5ad\")"
   ]
  },
  {
   "cell_type": "code",
   "execution_count": null,
   "id": "18b84967-61d7-4121-ae83-fc130e2733e5",
   "metadata": {},
   "outputs": [],
   "source": [
    "immune_adata = adata[adata.obs['Lvl1'].isin(['Immune'])].copy()"
   ]
  },
  {
   "cell_type": "code",
   "execution_count": null,
   "id": "19e33f93-ed64-4b21-a8ea-57c96ad3405b",
   "metadata": {},
   "outputs": [],
   "source": [
    "immune_adata.obs"
   ]
  },
  {
   "cell_type": "code",
   "execution_count": null,
   "id": "f24783e8-9119-4aa9-a0af-85f847643958",
   "metadata": {
    "tags": []
   },
   "outputs": [],
   "source": [
    "# Add assay information to obs for clarity\n",
    "immune_adata.obs['assay'] = 'Xenium'\n",
    "ref_immune.obs['assay'] = 'citeSeq'\n",
    "\n",
    "# Merge datasets with batch key and categories\n",
    "merged_immune = immune_adata.concatenate(\n",
    "    ref_immune,\n",
    "    batch_key=\"assay\",\n",
    "    batch_categories=[\"Xenium\", \"citeSeq\"],\n",
    "    index_unique=None  # Avoids adding a suffix to index entries\n",
    ")"
   ]
  },
  {
   "cell_type": "code",
   "execution_count": null,
   "id": "9da1181a-3388-4e09-a87c-a07c59ef9b6c",
   "metadata": {},
   "outputs": [],
   "source": [
    "sc.pp.scale(merged_immune)\n",
    "sc.tl.pca(merged_immune)"
   ]
  },
  {
   "cell_type": "code",
   "execution_count": null,
   "id": "d046fb95-315e-412c-842b-8a5da2543199",
   "metadata": {},
   "outputs": [],
   "source": [
    "sc.external.pp.harmony_integrate(merged_immune, key=\"assay\", max_iter_harmony=20, max_iter_kmeans=30)"
   ]
  },
  {
   "cell_type": "code",
   "execution_count": null,
   "id": "f7522c3a-a583-4799-80c8-7d23d8f4e568",
   "metadata": {},
   "outputs": [],
   "source": [
    "# Visualize merged with UMAP embedding; takes a long time\n",
    "sc.pp.neighbors(merged_immune, n_neighbors=50, use_rep=\"X_pca_harmony\", metric=\"correlation\")\n",
    "sc.tl.umap(merged_immune, min_dist=0.5)"
   ]
  },
  {
   "cell_type": "code",
   "execution_count": null,
   "id": "3fb31d19-3492-486a-a997-cafab9a67942",
   "metadata": {},
   "outputs": [],
   "source": [
    "sc.pl.umap(merged_immune, color='assay')"
   ]
  },
  {
   "cell_type": "code",
   "execution_count": null,
   "id": "bf607224-bb22-43b9-b69f-96617d4d8e1a",
   "metadata": {},
   "outputs": [],
   "source": [
    "sc.pl.umap(merged_immune, color='cluster')"
   ]
  },
  {
   "cell_type": "code",
   "execution_count": null,
   "id": "47762155-b84f-4d13-87d0-7f0be444fa51",
   "metadata": {},
   "outputs": [],
   "source": [
    "sc.pl.umap(merged_immune, color='Lvl4')"
   ]
  },
  {
   "cell_type": "code",
   "execution_count": null,
   "id": "e335c842-cbba-4184-9523-ea639b24ae3c",
   "metadata": {},
   "outputs": [],
   "source": [
    "merged_immune.write(\"/data/vasileiosionat2/Xenium/Integration_2025_only_stromal/Modified_citeseq_files/Xenium_citeSeq_immune_harmony.h5ad\")"
   ]
  },
  {
   "cell_type": "code",
   "execution_count": null,
   "id": "d43f285c-1937-4bad-b78f-c11ddcbdbfa8",
   "metadata": {
    "tags": []
   },
   "outputs": [],
   "source": [
    "merged_immune = sc.read_h5ad('/data/vasileiosionat2/Xenium/Integration_2025_only_stromal/Modified_citeseq_files/Xenium_citeSeq_immune_harmony.h5ad')"
   ]
  },
  {
   "cell_type": "code",
   "execution_count": null,
   "id": "008c1d43-9d1a-4199-a3ab-41df7897863e",
   "metadata": {},
   "outputs": [],
   "source": [
    "merged_immune.obs"
   ]
  },
  {
   "cell_type": "code",
   "execution_count": null,
   "id": "15ba8b45-8838-4e9e-bf9b-85cb2961dad1",
   "metadata": {},
   "outputs": [],
   "source": [
    "# Transfer annotations from scRNAseq to xenium\n",
    "nn = KNeighborsClassifier(n_neighbors=1, n_jobs=16, weights='distance', metric='euclidean')\n",
    "train = merged_immune[merged_immune.obs[\"assay\"] == \"citeSeq\"]\n",
    "nn.fit(train.obsm[\"X_pca_harmony\"], train.obs['cluster']) \n",
    "labels = nn.predict(merged_immune[merged_immune.obs[\"assay\"] == \"Xenium\"].obsm[\"X_pca_harmony\"])\n",
    "merged_immune.obs_names_make_unique()\n",
    "merged_immune.obs[\"citeSeq_to_Xenium_label\"] = pd.Series(labels, index=merged_immune[merged_immune.obs[\"assay\"] == \"Xenium\"].obs.index)"
   ]
  },
  {
   "cell_type": "code",
   "execution_count": null,
   "id": "a4a96700-6bbd-4660-be95-23cd4a5b9a37",
   "metadata": {},
   "outputs": [],
   "source": [
    "sc.pl.umap(merged_immune, color='citeSeq_to_Xenium_label')"
   ]
  },
  {
   "cell_type": "code",
   "execution_count": null,
   "id": "e96c397f-bc57-430e-af14-9f753381b159",
   "metadata": {},
   "outputs": [],
   "source": [
    "# Save transferred annotations to file\n",
    "citeSeq_to_xenium_predicted_immune_labels = merged_immune.obs.loc[merged_immune.obs['assay'] == 'Xenium', ['orig.ident','Lvl4','citeSeq_to_Xenium_label']]\n",
    "citeSeq_to_xenium_predicted_immune_labels.index = citeSeq_to_xenium_predicted_immune_labels.index.str.replace('-Xenium','')\n",
    "citeSeq_to_xenium_predicted_immune_labels.to_csv('/data/vasileiosionat2/Xenium/Integration_2025_only_stromal/Modified_citeseq_files/citeSeq_to_Xenium_predicted_immune_celltype.csv')"
   ]
  },
  {
   "cell_type": "code",
   "execution_count": null,
   "id": "3296e6ad-e186-41dc-86e4-237d94b98022",
   "metadata": {},
   "outputs": [],
   "source": [
    "# Transfer annotations from xenium to scRNAseq\n",
    "nn = KNeighborsClassifier(n_neighbors=1, n_jobs=16, weights='distance', metric='euclidean')\n",
    "train = merged_immune[merged_immune.obs[\"assay\"] == \"Xenium\"]\n",
    "nn.fit(train.obsm[\"X_pca_harmony\"], train.obs['Lvl4']) \n",
    "labels = nn.predict(merged_immune[merged_immune.obs[\"assay\"] == \"citeSeq\"].obsm[\"X_pca_harmony\"])\n",
    "merged_immune.obs[\"Xenium_to_citeSeq_label\"] = pd.Series(labels, index=merged_immune[merged_immune.obs[\"assay\"] == \"citeSeq\"].obs.index)"
   ]
  },
  {
   "cell_type": "code",
   "execution_count": null,
   "id": "94603688-1196-4da1-9da6-e84739e2af8b",
   "metadata": {},
   "outputs": [],
   "source": [
    "# Save transferred annotations to file\n",
    "Xenium_to_citeSeq_predicted_immune_labels = merged_immune.obs.loc[merged_immune.obs['assay'] == 'citeSeq', ['orig.ident','cluster','Xenium_to_citeSeq_label']]\n",
    "Xenium_to_citeSeq_predicted_immune_labels.index = Xenium_to_citeSeq_predicted_immune_labels.index.str.replace('-citeSeq','')\n",
    "Xenium_to_citeSeq_predicted_immune_labels.to_csv('/data/vasileiosionat2/Xenium/Integration_2025_only_stromal/Modified_citeseq_files/Xenium_to_citeSeq_predicted_immune_celltype.csv')"
   ]
  },
  {
   "cell_type": "code",
   "execution_count": null,
   "id": "71544d13-5d4a-48d3-a1d4-0d9bcf1a5b71",
   "metadata": {},
   "outputs": [],
   "source": [
    "# Combine original labels from scSeq and transferred labels from xenium into one column\n",
    "merged_immune.obs.loc[merged_immune.obs['assay'] == 'Xenium', 'final_label_citeSeq'] = merged_immune.obs[merged_immune.obs['assay'] == 'Xenium']['citeSeq_to_Xenium_label']\n",
    "merged_immune.obs.loc[merged_immune.obs['assay'] == 'citeSeq', 'final_label_citeSeq'] = merged_immune.obs[merged_immune.obs['assay'] == 'citeSeq']['cluster']\n",
    "# Combine original labels from xenium and transferred labels from scSeq into one column\n",
    "# Convert categories to strings (safe option)\n",
    "merged_immune.obs.loc[merged_immune.obs['assay'] == 'citeSeq', 'final_label_X'] = \\\n",
    "    merged_immune.obs.loc[merged_immune.obs['assay'] == 'citeSeq', 'Xenium_to_citeSeq_label'].astype(str)\n",
    "\n",
    "merged_immune.obs.loc[merged_immune.obs['assay'] == 'Xenium', 'final_label_X'] = \\\n",
    "    merged_immune.obs.loc[merged_immune.obs['assay'] == 'Xenium', 'Lvl4'].astype(str)\n",
    "\n",
    "\n",
    "# Visualized merged labels on UMAP\n",
    "sc.pl.umap(merged_immune, color='final_label_citeSeq')\n",
    "sc.pl.umap(merged_immune, color='assay')\n",
    "sc.pl.umap(merged_immune, color='final_label_X')"
   ]
  },
  {
   "cell_type": "code",
   "execution_count": null,
   "id": "d1975ccd-cf04-413c-825c-8751c313617a",
   "metadata": {},
   "outputs": [],
   "source": [
    "# Rename 'Xenium_stromal' to 'Xenium' and 'citeSeq_stromal' to 'citeSeq'\n",
    "merged_immune.obs['final_label_citeSeq'] = merged_immune.obs['final_label_citeSeq'].replace({\n",
    "    'Cycling': 'Cycling myeloid',\n",
    "})"
   ]
  },
  {
   "cell_type": "code",
   "execution_count": null,
   "id": "8b5353bb-c43a-4755-86d9-beca21bae674",
   "metadata": {},
   "outputs": [],
   "source": [
    "# Rename 'Xenium_stromal' to 'Xenium' and 'citeSeq_stromal' to 'citeSeq'\n",
    "merged_immune.obs['citeSeq_to_Xenium_label'] = merged_immune.obs['citeSeq_to_Xenium_label'].replace({\n",
    "    'Cycling': 'Cycling myeloid',\n",
    "})"
   ]
  },
  {
   "cell_type": "code",
   "execution_count": null,
   "id": "1c231024-dd04-4626-b4b7-6871ed84c070",
   "metadata": {},
   "outputs": [],
   "source": [
    "merged_immune.obs['citeSeq_to_Xenium_label'].unique().tolist()"
   ]
  },
  {
   "cell_type": "code",
   "execution_count": null,
   "id": "31a4ccdf-7ca5-47f0-a6e9-0485ea89a5af",
   "metadata": {},
   "outputs": [],
   "source": [
    "merged_immune.write(\"/data/vasileiosionat2/Xenium/Integration_2025_only_stromal/Modified_citeseq_files/Xenium_citeSeq_immune_harmony.h5ad\")"
   ]
  },
  {
   "cell_type": "code",
   "execution_count": null,
   "id": "61d9c04a-0a1c-45d2-bec0-c58088d526a6",
   "metadata": {},
   "outputs": [],
   "source": [
    "# import matplotlib.pyplot as plt\n",
    "import numpy as np\n",
    "from matplotlib.backends.backend_pdf import PdfPages\n",
    "import os\n",
    "\n",
    "\n",
    "rotation_angle = 30  # Define rotation for this sample\n",
    "\n",
    "# Specify the directory where you want to save the PDF\n",
    "save_directory = '/data/vasileiosionat2/Xenium/Figures/lvl4_pdf/'\n",
    "pdf_filename = os.path.join(save_directory, f'all_clusters_4rows.pdf')\n",
    "\n",
    "# Filter the data for the specific sample\n",
    "adata_sample = merged_immune[merged_immune.obs['sample'] == 's2r3']\n",
    "\n",
    "unique_clusters = adata_sample.obs.loc[\n",
    "    adata_sample.obs['final_label_citeSeq'].astype(str).str.startswith(\"B\")|\n",
    "    (adata_sample.obs['final_label_citeSeq'].str.startswith(\"Pl\")),\n",
    "    'final_label_citeSeq'\n",
    "].unique()\n",
    "\n",
    "# Reorder clusters (if a custom order is provided, replace `sorted(unique_clusters)`)\n",
    "ordered_clusters = sorted(unique_clusters)\n",
    "\n",
    "# Define the number of rows and columns\n",
    "num_rows = 6\n",
    "num_cols = int(np.ceil(len(ordered_clusters) / num_rows))  # Calculate columns based on clusters and rows\n",
    "\n",
    "# Create a PdfPages object to save the plots\n",
    "with PdfPages(pdf_filename) as pdf:\n",
    "    # Create a figure for the sample\n",
    "    fig, axes = plt.subplots(num_rows, num_cols, figsize=(26, 36))\n",
    "    fig.patch.set_facecolor('white')\n",
    "\n",
    "    # Flatten the axes array for easier indexing\n",
    "    axes = axes.flatten()\n",
    "\n",
    "    # Get the coordinates for the sample\n",
    "    x_coords = adata_sample.obs['x_centroid']\n",
    "    y_coords = adata_sample.obs['y_centroid']\n",
    "    \n",
    "    # Apply rotation\n",
    "    angle = np.deg2rad(rotation_angle)\n",
    "    new_x_coords = x_coords * np.cos(angle) - y_coords * np.sin(angle)\n",
    "    new_y_coords = x_coords * np.sin(angle) + y_coords * np.cos(angle)\n",
    "\n",
    "    # Determine aspect ratio\n",
    "    x_range = new_x_coords.max() - new_x_coords.min()\n",
    "    y_range = new_y_coords.max() - new_y_coords.min()\n",
    "    aspect_ratio = x_range / y_range\n",
    "\n",
    "       # Loop over each unique cluster in the ordered list\n",
    "    for idx, cluster in enumerate(ordered_clusters):\n",
    "        ax = axes[idx]\n",
    "\n",
    "        # Set white background for the subplot\n",
    "        ax.set_facecolor('white')\n",
    "\n",
    "        # Remove the outline\n",
    "        for spine in ax.spines.values():\n",
    "            spine.set_visible(False)\n",
    "\n",
    "        # Scatter plot for the grey dots (all other clusters)\n",
    "        ax.scatter(\n",
    "            x=new_x_coords[adata_sample.obs['final_label_citeSeq'] != cluster],\n",
    "            y=new_y_coords[adata_sample.obs['final_label_citeSeq'] != cluster],\n",
    "            c='#C0C0C0', \n",
    "            s=3  # Adjust dot size\n",
    "        )\n",
    "\n",
    "        # Scatter plot for the red dots (the current cluster)\n",
    "        ax.scatter(\n",
    "            x=new_x_coords[adata_sample.obs['final_label_citeSeq'] == cluster],\n",
    "            y=new_y_coords[adata_sample.obs['final_label_citeSeq'] == cluster],\n",
    "            c='red', \n",
    "            s=9  # Adjust dot size\n",
    "        )\n",
    "\n",
    "        # Set aspect ratio for each subplot\n",
    "        ax.set_aspect(aspect_ratio)\n",
    "\n",
    "        # Add the cluster name below the plot\n",
    "        ax.text(\n",
    "            0.5, 0.02, f'{cluster}', \n",
    "            horizontalalignment='center', \n",
    "            verticalalignment='center', \n",
    "            transform=ax.transAxes, \n",
    "            color='black', fontsize=20, weight='bold'\n",
    "        )\n",
    "\n",
    "        # Remove grids\n",
    "        ax.grid(False)\n",
    "\n",
    "        # Remove ticks and their labels\n",
    "        ax.set_xticks([])\n",
    "        ax.set_yticks([])\n",
    "\n",
    "    # Turn off empty subplots if there are any\n",
    "    for ax in axes[len(ordered_clusters):]:\n",
    "        ax.set_visible(False)\n",
    "\n",
    "    # Define the directory and file name for the TIFF file\n",
    "    tiff_filename = os.path.join(save_directory, f'all_clusters_4rows.tiff')\n",
    "\n",
    "    # Adjust the spacing between subplots\n",
    "    plt.subplots_adjust(\n",
    "        left=0.05,    # Space from left edge\n",
    "        right=0.95,   # Space from right edge\n",
    "        top=0.95,     # Space from top edge\n",
    "        bottom=0.05,  # Space from bottom edge\n",
    "        wspace=0.1,   # Width space between columns\n",
    "        hspace=0.05    # Height space between rows\n",
    "    )\n",
    "\n",
    "    # Add a title to the overall figure\n",
    "    plt.suptitle(f'All Clusters in s2r2_HV184', color='white', fontsize=20, weight='bold', y=1.02)\n",
    "\n",
    "    # Save the current figure as a TIFF file\n",
    "    #fig.savefig(tiff_filename, dpi=300, format='tiff')\n",
    "\n",
    "    plt.show()\n",
    "    plt.close(fig)"
   ]
  },
  {
   "cell_type": "code",
   "execution_count": null,
   "id": "36c0388f-8b94-4b0f-ba9d-ffc49c4848a9",
   "metadata": {},
   "outputs": [],
   "source": [
    "# import matplotlib.pyplot as plt\n",
    "import numpy as np\n",
    "from matplotlib.backends.backend_pdf import PdfPages\n",
    "import os\n",
    "\n",
    "\n",
    "rotation_angle = 30  # Define rotation for this sample\n",
    "\n",
    "# Specify the directory where you want to save the PDF\n",
    "save_directory = '/data/vasileiosionat2/Xenium/Figures/lvl4_pdf/'\n",
    "pdf_filename = os.path.join(save_directory, f'all_clusters_4rows.pdf')\n",
    "\n",
    "# Filter the data for the specific sample\n",
    "adata_sample = merged_immune[merged_immune.obs['sample'] == 's2r3']\n",
    "\n",
    "unique_clusters = adata_sample.obs.loc[\n",
    "    adata_sample.obs['final_label_citeSeq'].astype(str).str.startswith(\"CD\")|\n",
    "    (adata_sample.obs['final_label_citeSeq'].str.startswith(\"T\")),\n",
    "    'final_label_citeSeq'\n",
    "].unique()\n",
    "\n",
    "# Reorder clusters (if a custom order is provided, replace `sorted(unique_clusters)`)\n",
    "ordered_clusters = sorted(unique_clusters)\n",
    "\n",
    "# Define the number of rows and columns\n",
    "num_rows = 6\n",
    "num_cols = int(np.ceil(len(ordered_clusters) / num_rows))  # Calculate columns based on clusters and rows\n",
    "\n",
    "# Create a PdfPages object to save the plots\n",
    "with PdfPages(pdf_filename) as pdf:\n",
    "    # Create a figure for the sample\n",
    "    fig, axes = plt.subplots(num_rows, num_cols, figsize=(26, 36))\n",
    "    fig.patch.set_facecolor('white')\n",
    "\n",
    "    # Flatten the axes array for easier indexing\n",
    "    axes = axes.flatten()\n",
    "\n",
    "    # Get the coordinates for the sample\n",
    "    x_coords = adata_sample.obs['x_centroid']\n",
    "    y_coords = adata_sample.obs['y_centroid']\n",
    "    \n",
    "    # Apply rotation\n",
    "    angle = np.deg2rad(rotation_angle)\n",
    "    new_x_coords = x_coords * np.cos(angle) - y_coords * np.sin(angle)\n",
    "    new_y_coords = x_coords * np.sin(angle) + y_coords * np.cos(angle)\n",
    "\n",
    "    # Determine aspect ratio\n",
    "    x_range = new_x_coords.max() - new_x_coords.min()\n",
    "    y_range = new_y_coords.max() - new_y_coords.min()\n",
    "    aspect_ratio = x_range / y_range\n",
    "\n",
    "       # Loop over each unique cluster in the ordered list\n",
    "    for idx, cluster in enumerate(ordered_clusters):\n",
    "        ax = axes[idx]\n",
    "\n",
    "        # Set white background for the subplot\n",
    "        ax.set_facecolor('white')\n",
    "\n",
    "        # Remove the outline\n",
    "        for spine in ax.spines.values():\n",
    "            spine.set_visible(False)\n",
    "\n",
    "        # Scatter plot for the grey dots (all other clusters)\n",
    "        ax.scatter(\n",
    "            x=new_x_coords[adata_sample.obs['final_label_citeSeq'] != cluster],\n",
    "            y=new_y_coords[adata_sample.obs['final_label_citeSeq'] != cluster],\n",
    "            c='#C0C0C0', \n",
    "            s=3  # Adjust dot size\n",
    "        )\n",
    "\n",
    "        # Scatter plot for the red dots (the current cluster)\n",
    "        ax.scatter(\n",
    "            x=new_x_coords[adata_sample.obs['final_label_citeSeq'] == cluster],\n",
    "            y=new_y_coords[adata_sample.obs['final_label_citeSeq'] == cluster],\n",
    "            c='red', \n",
    "            s=9  # Adjust dot size\n",
    "        )\n",
    "\n",
    "        # Set aspect ratio for each subplot\n",
    "        ax.set_aspect(aspect_ratio)\n",
    "\n",
    "        # Add the cluster name below the plot\n",
    "        ax.text(\n",
    "            0.5, 0.02, f'{cluster}', \n",
    "            horizontalalignment='center', \n",
    "            verticalalignment='center', \n",
    "            transform=ax.transAxes, \n",
    "            color='black', fontsize=20, weight='bold'\n",
    "        )\n",
    "\n",
    "        # Remove grids\n",
    "        ax.grid(False)\n",
    "\n",
    "        # Remove ticks and their labels\n",
    "        ax.set_xticks([])\n",
    "        ax.set_yticks([])\n",
    "\n",
    "    # Turn off empty subplots if there are any\n",
    "    for ax in axes[len(ordered_clusters):]:\n",
    "        ax.set_visible(False)\n",
    "\n",
    "    # Define the directory and file name for the TIFF file\n",
    "    tiff_filename = os.path.join(save_directory, f'all_clusters_4rows.tiff')\n",
    "\n",
    "    # Adjust the spacing between subplots\n",
    "    plt.subplots_adjust(\n",
    "        left=0.05,    # Space from left edge\n",
    "        right=0.95,   # Space from right edge\n",
    "        top=0.95,     # Space from top edge\n",
    "        bottom=0.05,  # Space from bottom edge\n",
    "        wspace=0.1,   # Width space between columns\n",
    "        hspace=0.05    # Height space between rows\n",
    "    )\n",
    "\n",
    "    # Add a title to the overall figure\n",
    "    plt.suptitle(f'All Clusters in s2r2_HV184', color='white', fontsize=20, weight='bold', y=1.02)\n",
    "\n",
    "    # Save the current figure as a TIFF file\n",
    "    #fig.savefig(tiff_filename, dpi=300, format='tiff')\n",
    "\n",
    "    plt.show()\n",
    "    plt.close(fig)"
   ]
  },
  {
   "cell_type": "code",
   "execution_count": null,
   "id": "840026e8-4ec2-4800-8a45-2bf096d79c62",
   "metadata": {},
   "outputs": [],
   "source": [
    "# import matplotlib.pyplot as plt\n",
    "import numpy as np\n",
    "from matplotlib.backends.backend_pdf import PdfPages\n",
    "import os\n",
    "\n",
    "\n",
    "rotation_angle = 30  # Define rotation for this sample\n",
    "\n",
    "# Specify the directory where you want to save the PDF\n",
    "save_directory = '/data/vasileiosionat2/Xenium/Figures/lvl4_pdf/'\n",
    "pdf_filename = os.path.join(save_directory, f'all_clusters_4rows.pdf')\n",
    "\n",
    "# Filter the data for the specific sample\n",
    "adata_sample = merged_immune[merged_immune.obs['sample'] == 's2r3']\n",
    "\n",
    "unique_clusters = adata_sample.obs.loc[\n",
    "    adata_sample.obs['final_label_citeSeq'].astype(str).str.startswith(\"A\")|\n",
    "    (adata_sample.obs['final_label_citeSeq'].str.startswith(\"N\")),\n",
    "    'final_label_citeSeq'\n",
    "].unique()\n",
    "\n",
    "# Reorder clusters (if a custom order is provided, replace `sorted(unique_clusters)`)\n",
    "ordered_clusters = sorted(unique_clusters)\n",
    "\n",
    "# Define the number of rows and columns\n",
    "num_rows = 6\n",
    "num_cols = int(np.ceil(len(ordered_clusters) / num_rows))  # Calculate columns based on clusters and rows\n",
    "\n",
    "# Create a PdfPages object to save the plots\n",
    "with PdfPages(pdf_filename) as pdf:\n",
    "    # Create a figure for the sample\n",
    "    fig, axes = plt.subplots(num_rows, num_cols, figsize=(26, 36))\n",
    "    fig.patch.set_facecolor('white')\n",
    "\n",
    "    # Flatten the axes array for easier indexing\n",
    "    axes = axes.flatten()\n",
    "\n",
    "    # Get the coordinates for the sample\n",
    "    x_coords = adata_sample.obs['x_centroid']\n",
    "    y_coords = adata_sample.obs['y_centroid']\n",
    "    \n",
    "    # Apply rotation\n",
    "    angle = np.deg2rad(rotation_angle)\n",
    "    new_x_coords = x_coords * np.cos(angle) - y_coords * np.sin(angle)\n",
    "    new_y_coords = x_coords * np.sin(angle) + y_coords * np.cos(angle)\n",
    "\n",
    "    # Determine aspect ratio\n",
    "    x_range = new_x_coords.max() - new_x_coords.min()\n",
    "    y_range = new_y_coords.max() - new_y_coords.min()\n",
    "    aspect_ratio = x_range / y_range\n",
    "\n",
    "       # Loop over each unique cluster in the ordered list\n",
    "    for idx, cluster in enumerate(ordered_clusters):\n",
    "        ax = axes[idx]\n",
    "\n",
    "        # Set white background for the subplot\n",
    "        ax.set_facecolor('white')\n",
    "\n",
    "        # Remove the outline\n",
    "        for spine in ax.spines.values():\n",
    "            spine.set_visible(False)\n",
    "\n",
    "        # Scatter plot for the grey dots (all other clusters)\n",
    "        ax.scatter(\n",
    "            x=new_x_coords[adata_sample.obs['final_label_citeSeq'] != cluster],\n",
    "            y=new_y_coords[adata_sample.obs['final_label_citeSeq'] != cluster],\n",
    "            c='#C0C0C0', \n",
    "            s=3  # Adjust dot size\n",
    "        )\n",
    "\n",
    "        # Scatter plot for the red dots (the current cluster)\n",
    "        ax.scatter(\n",
    "            x=new_x_coords[adata_sample.obs['final_label_citeSeq'] == cluster],\n",
    "            y=new_y_coords[adata_sample.obs['final_label_citeSeq'] == cluster],\n",
    "            c='red', \n",
    "            s=9  # Adjust dot size\n",
    "        )\n",
    "\n",
    "        # Set aspect ratio for each subplot\n",
    "        ax.set_aspect(aspect_ratio)\n",
    "\n",
    "        # Add the cluster name below the plot\n",
    "        ax.text(\n",
    "            0.5, 0.02, f'{cluster}', \n",
    "            horizontalalignment='center', \n",
    "            verticalalignment='center', \n",
    "            transform=ax.transAxes, \n",
    "            color='black', fontsize=20, weight='bold'\n",
    "        )\n",
    "\n",
    "        # Remove grids\n",
    "        ax.grid(False)\n",
    "\n",
    "        # Remove ticks and their labels\n",
    "        ax.set_xticks([])\n",
    "        ax.set_yticks([])\n",
    "\n",
    "    # Turn off empty subplots if there are any\n",
    "    for ax in axes[len(ordered_clusters):]:\n",
    "        ax.set_visible(False)\n",
    "\n",
    "    # Define the directory and file name for the TIFF file\n",
    "    tiff_filename = os.path.join(save_directory, f'all_clusters_4rows.tiff')\n",
    "\n",
    "    # Adjust the spacing between subplots\n",
    "    plt.subplots_adjust(\n",
    "        left=0.05,    # Space from left edge\n",
    "        right=0.95,   # Space from right edge\n",
    "        top=0.95,     # Space from top edge\n",
    "        bottom=0.05,  # Space from bottom edge\n",
    "        wspace=0.1,   # Width space between columns\n",
    "        hspace=0.05    # Height space between rows\n",
    "    )\n",
    "\n",
    "    # Add a title to the overall figure\n",
    "    plt.suptitle(f'All Clusters in s2r2_HV184', color='white', fontsize=20, weight='bold', y=1.02)\n",
    "\n",
    "    # Save the current figure as a TIFF file\n",
    "    #fig.savefig(tiff_filename, dpi=300, format='tiff')\n",
    "\n",
    "    plt.show()\n",
    "    plt.close(fig)"
   ]
  },
  {
   "cell_type": "code",
   "execution_count": null,
   "id": "d2878f6d-4ac0-4e58-aad7-2178fe72be06",
   "metadata": {},
   "outputs": [],
   "source": [
    "import pandas as pd\n",
    "import seaborn as sns\n",
    "import matplotlib.pyplot as plt\n",
    "\n",
    "# Assuming 'plot_niches' is a DataFrame or similar data structure\n",
    "df = pd.DataFrame(merged_immune.obs)\n",
    "df['Lvl5'] = df['Lvl5'].astype('category')\n",
    "\n",
    "# Aggregate counts\n",
    "niche_groups = df.groupby(['final_label_citeSeq', 'niche_cc14']).size().unstack(fill_value=0)\n",
    "\n",
    "# Identify clusters to remove\n",
    "clusters_to_remove = df['final_label_citeSeq'].str.contains('Mix') | df['final_label_citeSeq'].str.startswith('Neuro')\n",
    "\n",
    "# Get the unique clusters to be removed\n",
    "clusters_to_remove = df.loc[clusters_to_remove, 'final_label_citeSeq'].unique()\n",
    "\n",
    "# Filter out these clusters from the plot\n",
    "niche_groups_filtered = niche_groups[~niche_groups.index.isin(clusters_to_remove)]\n",
    "\n",
    "# Calculate relative frequencies\n",
    "niche_groups_relative = niche_groups_filtered.div(niche_groups_filtered.sum(axis=1), axis=0)\n",
    "\n",
    "# Plot heatmap with enhanced colormap\n",
    "plt.figure(figsize=(16, 20))  # Adjusted figsize to accommodate the x-axis labels\n",
    "sns.heatmap(niche_groups_relative, cmap='plasma', cbar_kws={'label': 'Relative Frequency'}, linewidths=0.05, linecolor='black')\n",
    "plt.title('Relative Cell Type Distribution in Niches')\n",
    "plt.xlabel('Niche')\n",
    "plt.ylabel('Cell Cluster')\n",
    "plt.xticks(rotation=45, ha='right')  # Adjust rotation and alignment of xticks\n",
    "plt.yticks(rotation=0)\n",
    "plt.tight_layout()  # Ensures all elements fit within the figure area\n",
    "plt.show()\n"
   ]
  },
  {
   "cell_type": "code",
   "execution_count": null,
   "id": "d9d181f9-b8ca-49ca-a805-641533534388",
   "metadata": {},
   "outputs": [],
   "source": [
    "# Visualize xenium annotations vs transferred scRNAseq annotations\n",
    "xen_obj = merged_immune[merged_immune.obs['assay']=='Xenium']\n",
    "xen_obj.obs['Lvl4'] = xen_obj.obs['Lvl4'].astype('str')\n",
    "celltype_counts = pd.DataFrame(xen_obj.obs.groupby(['Lvl4','citeSeq_to_Xenium_label']).size()).unstack()\n",
    "celltype_counts.columns = celltype_counts.columns.droplevel()\n",
    "celltype_counts.index.name = 'Xenium cell type'\n",
    "celltype_counts.columns.name = 'predicted citeSeq cell type'\n",
    "celltype_counts = celltype_counts.T\n",
    "# Row scale co-occurrence frequencies (by predicted scRNAseq cell type)\n",
    "celltype_counts = celltype_counts.div(celltype_counts.sum(axis=1), axis=0) \n",
    "celltype_counts = celltype_counts.loc[:,celltype_counts.idxmax(axis=0).sort_values().index]\n",
    "celltype_counts = celltype_counts.fillna(0)"
   ]
  },
  {
   "cell_type": "code",
   "execution_count": null,
   "id": "988cad5f-84b2-4a45-a0b0-5d1a3bf8473d",
   "metadata": {
    "scrolled": true
   },
   "outputs": [],
   "source": [
    "column_sums = celltype_counts.abs().sum(axis=0)\n",
    "print(column_sums)\n",
    "# Select columns to keep based on the threshold\n",
    "columns_to_keep = column_sums[column_sums >= 0.1].index\n",
    "print(columns_to_keep)\n",
    "celltype_counts2 = celltype_counts[columns_to_keep]\n",
    "print(celltype_counts2)"
   ]
  },
  {
   "cell_type": "code",
   "execution_count": null,
   "id": "3fd263be-f32f-47c3-8527-5fc924e12af1",
   "metadata": {},
   "outputs": [],
   "source": [
    "plt.figure(figsize = (26,14))\n",
    "sns.heatmap(celltype_counts2, cmap='YlGnBu')"
   ]
  },
  {
   "cell_type": "code",
   "execution_count": null,
   "id": "9c410d86-d84e-4e29-a17b-97b0909be579",
   "metadata": {},
   "outputs": [],
   "source": [
    "# Subset the data where 'assay' is 'Xenium'\n",
    "subset = merged_immune.obs[merged_immune.obs['assay'] == 'Xenium']\n",
    "\n",
    "# Count the number of cells in each category of 'final_label_citeSeq'\n",
    "counts = subset['Lvl4'].value_counts()\n",
    "\n",
    "# Display the result\n",
    "print(counts)"
   ]
  },
  {
   "cell_type": "code",
   "execution_count": null,
   "id": "440f6858-1e68-4c3a-bc55-35dc0ce3243e",
   "metadata": {
    "tags": []
   },
   "outputs": [],
   "source": [
    "refEpi = sc.read_h5ad('/data/vasileiosionat2/Xenium/Integration_2025_only_stromal/NEW CITE seq h5ad files 2025.01/Epithelial.h5ad')"
   ]
  },
  {
   "cell_type": "code",
   "execution_count": null,
   "id": "f420d968-0964-41db-b534-2778a32c4513",
   "metadata": {},
   "outputs": [],
   "source": [
    "refEpi.obs"
   ]
  },
  {
   "cell_type": "code",
   "execution_count": null,
   "id": "81554582-b8ae-4dc3-a981-045499145f82",
   "metadata": {},
   "outputs": [],
   "source": [
    "refEpi.var"
   ]
  },
  {
   "cell_type": "code",
   "execution_count": null,
   "id": "19f846e4-b1c2-4604-b8ed-7162e71cfa91",
   "metadata": {
    "scrolled": true
   },
   "outputs": [],
   "source": [
    "import pandas as pd\n",
    "\n",
    "# Specify the file path\n",
    "file_path = \"/data/vasileiosionat2/Xenium/Integration_2025_only_stromal/NEW CITE seq h5ad files 2025.01/Epithelial_metadata.csv\"\n",
    "\n",
    "# Read the CSV into a DataFrame\n",
    "dfEpi = pd.read_csv(file_path)\n",
    "\n",
    "# Display the DataFrame\n",
    "print(dfEpi)\n",
    "\n",
    "# Access specific columns or rows\n",
    "#print(dfEpi[\"ColumnName\"])  # Access a column\n",
    "#print(dfEpi.iloc[0])        # Access the first row\n"
   ]
  },
  {
   "cell_type": "code",
   "execution_count": null,
   "id": "7630d1e2-9318-44b4-856a-6f04b3ce169f",
   "metadata": {},
   "outputs": [],
   "source": [
    "import pandas as pd\n",
    "import anndata as ad\n",
    "\n",
    "# Check the dimensions\n",
    "if len(dfEpi) != refEpi.n_obs:\n",
    "    raise ValueError(\"Number of rows in the CSV file does not match the number of observations in adata.obs\")\n",
    "\n",
    "# Optionally, ensure the rows align\n",
    "# If the index of `csv_data` and `adata.obs` don't match, you may need to align them:\n",
    "# csv_data.index = adata.obs.index\n",
    "\n",
    "# Add the CSV columns to `adata.obs`\n",
    "for column in dfEpi.columns:\n",
    "    refEpi.obs[column] = dfEpi[column].values\n",
    "\n",
    "# Save the updated AnnData object (optional)\n",
    "#adata.write(\"updated_adata.h5ad\")\n"
   ]
  },
  {
   "cell_type": "code",
   "execution_count": null,
   "id": "64a6468a-16e7-482c-8682-32e4597a8a96",
   "metadata": {},
   "outputs": [],
   "source": [
    "refEpi.obs"
   ]
  },
  {
   "cell_type": "code",
   "execution_count": null,
   "id": "246f7a7d-a549-456b-a926-f56e5d0e8fbc",
   "metadata": {},
   "outputs": [],
   "source": [
    "# Remove the 'Unnamed: 0' column from adata.obs\n",
    "if 'Unnamed: 0' in refEpi.obs.columns:\n",
    "    del refEpi.obs['Unnamed: 0']\n",
    "\n",
    "# Alternatively, using the drop method\n",
    "# adata.obs.drop(columns=['Unnamed: 0'], inplace=True)\n",
    "\n",
    "# Verify the column is removed\n",
    "print(refEpi.obs.head())\n"
   ]
  },
  {
   "cell_type": "code",
   "execution_count": null,
   "id": "d6210f77-14c6-4bf3-b8dd-d1e38a4caf79",
   "metadata": {},
   "outputs": [],
   "source": [
    "refEpi.obs.rename(columns={\"EpithelialClusters\": \"cluster\"}, inplace=True)"
   ]
  },
  {
   "cell_type": "code",
   "execution_count": null,
   "id": "a117bc7a-5cf7-4f04-b445-c8bb615671dc",
   "metadata": {
    "scrolled": true
   },
   "outputs": [],
   "source": [
    "refEpi.obs"
   ]
  },
  {
   "cell_type": "code",
   "execution_count": null,
   "id": "fd7fb6fe-963e-4376-af2d-ccdcd2d8c9d4",
   "metadata": {},
   "outputs": [],
   "source": [
    "refEpi.X"
   ]
  },
  {
   "cell_type": "code",
   "execution_count": null,
   "id": "bd7cb525-2e81-4a9d-8363-4bcc203030bf",
   "metadata": {},
   "outputs": [],
   "source": [
    "if '_index' in refEpi.raw.var.columns:\n",
    "    refEpi.raw.var.rename(columns={'_index': 'index_backup'}, inplace=True)\n"
   ]
  },
  {
   "cell_type": "code",
   "execution_count": null,
   "id": "52ee7b0d-7644-49a6-8198-770722bc59d7",
   "metadata": {},
   "outputs": [],
   "source": [
    "refEpi.write(\"/data/vasileiosionat2/Xenium/Integration_2025_only_stromal/Modified_citeseq_files/Epithelial.h5ad\")"
   ]
  },
  {
   "cell_type": "code",
   "execution_count": null,
   "id": "bbf76eb9-36e3-4209-8148-9ae8171dffde",
   "metadata": {},
   "outputs": [],
   "source": [
    "refEpi.obs"
   ]
  },
  {
   "cell_type": "code",
   "execution_count": null,
   "id": "e8546e6e-691e-4136-bd61-2c8b70142b0e",
   "metadata": {},
   "outputs": [],
   "source": [
    "ref_epi = sc.read_h5ad(\"/data/vasileiosionat2/Xenium/Integration_2025_only_stromal/Modified_citeseq_files/Epithelial.h5ad\")"
   ]
  },
  {
   "cell_type": "code",
   "execution_count": null,
   "id": "7b8330f2-dc68-4c8b-aa96-7a705202baa8",
   "metadata": {},
   "outputs": [],
   "source": [
    "adata = sc.read_h5ad('/data/vasileiosionat2/Xenium/Drake_outputs/ccProcessed.h5ad')"
   ]
  },
  {
   "cell_type": "code",
   "execution_count": null,
   "id": "494483df-5b98-47e2-8c37-30ac03294905",
   "metadata": {},
   "outputs": [],
   "source": [
    "epi_adata = adata[adata.obs['Lvl1'].isin(['Epithelial'])].copy()"
   ]
  },
  {
   "cell_type": "code",
   "execution_count": null,
   "id": "a57012c2-cfe0-4de7-9c4d-4fd89708ee91",
   "metadata": {},
   "outputs": [],
   "source": [
    "epi_adata.obs"
   ]
  },
  {
   "cell_type": "code",
   "execution_count": null,
   "id": "cce07edd-b6b1-4175-8388-85dd45cd8f45",
   "metadata": {},
   "outputs": [],
   "source": [
    "# Add assay information to obs for clarity\n",
    "epi_adata.obs['assay'] = 'Xenium'\n",
    "ref_epi.obs['assay'] = 'citeSeq'\n",
    "\n",
    "# Merge datasets with batch key and categories\n",
    "merged_epi = epi_adata.concatenate(\n",
    "    ref_epi,\n",
    "    batch_key=\"assay\",\n",
    "    batch_categories=[\"Xenium\", \"citeSeq\"],\n",
    "    index_unique=None  # Avoids adding a suffix to index entries\n",
    ")"
   ]
  },
  {
   "cell_type": "code",
   "execution_count": null,
   "id": "673affd4-ddd8-4d83-a6b8-bb4485223f0b",
   "metadata": {},
   "outputs": [],
   "source": [
    "sc.pp.scale(merged_epi)\n",
    "sc.tl.pca(merged_epi)"
   ]
  },
  {
   "cell_type": "code",
   "execution_count": null,
   "id": "d3d164eb-fde1-494e-941e-e908cc7edc98",
   "metadata": {},
   "outputs": [],
   "source": [
    "sc.external.pp.harmony_integrate(merged_epi, key=\"assay\", max_iter_harmony=20, max_iter_kmeans=30)"
   ]
  },
  {
   "cell_type": "code",
   "execution_count": null,
   "id": "face1bb7-e850-4256-b0e7-8bfbffbc6d40",
   "metadata": {},
   "outputs": [],
   "source": [
    "# Visualize merged with UMAP embedding; takes a long time\n",
    "sc.pp.neighbors(merged_epi, n_neighbors=50, use_rep=\"X_pca_harmony\", metric=\"correlation\")\n",
    "sc.tl.umap(merged_epi, min_dist=0.5)"
   ]
  },
  {
   "cell_type": "code",
   "execution_count": null,
   "id": "ee059059-e4e9-477f-a04d-797570f64538",
   "metadata": {},
   "outputs": [],
   "source": [
    "sc.pl.umap(merged_epi, color='assay')"
   ]
  },
  {
   "cell_type": "code",
   "execution_count": null,
   "id": "d0f83bed-4f86-4f1a-926d-3da1a48d3963",
   "metadata": {},
   "outputs": [],
   "source": [
    "sc.pl.umap(merged_epi, color='cluster')"
   ]
  },
  {
   "cell_type": "code",
   "execution_count": null,
   "id": "53e2b11e-672b-4bee-b94d-57d1faa9fe8e",
   "metadata": {},
   "outputs": [],
   "source": [
    "sc.pl.umap(merged_epi, color='Lvl3')"
   ]
  },
  {
   "cell_type": "code",
   "execution_count": null,
   "id": "2ab3367b-17d6-4a0b-bf3c-f24aa4742166",
   "metadata": {},
   "outputs": [],
   "source": [
    "merged_epi.write(\"/data/vasileiosionat2/Xenium/Integration_2025_only_stromal/Modified_citeseq_files/Xenium_citeSeq_epithelial_harmony.h5ad\")"
   ]
  },
  {
   "cell_type": "code",
   "execution_count": null,
   "id": "5f743d4d-66a6-46eb-aec5-f19d3659cc98",
   "metadata": {
    "tags": []
   },
   "outputs": [],
   "source": [
    "merged_epi = sc.read_h5ad('/data/vasileiosionat2/Xenium/Integration_2025_only_stromal/Modified_citeseq_files/Xenium_citeSeq_epithelial_harmony.h5ad')"
   ]
  },
  {
   "cell_type": "code",
   "execution_count": null,
   "id": "56ea99df-84d9-44bb-9f44-190f9d31dff4",
   "metadata": {},
   "outputs": [],
   "source": [
    "merged_epi.obs"
   ]
  },
  {
   "cell_type": "code",
   "execution_count": null,
   "id": "b6d3c33b-bbde-4b69-b86d-bf3280feba8b",
   "metadata": {
    "scrolled": true
   },
   "outputs": [],
   "source": [
    "print(\"Unique assays in merged_stromal:\", merged_epi.obs[\"assay\"].unique())"
   ]
  },
  {
   "cell_type": "code",
   "execution_count": null,
   "id": "c015411d-0edb-4138-9257-ed3cd9aaea72",
   "metadata": {},
   "outputs": [],
   "source": [
    "# Transfer annotations from scRNAseq to xenium\n",
    "nn = KNeighborsClassifier(n_neighbors=1, n_jobs=16, weights='distance', metric='euclidean')\n",
    "train = merged_epi[merged_epi.obs[\"assay\"] == \"citeSeq\"]\n",
    "nn.fit(train.obsm[\"X_pca_harmony\"], train.obs['cluster']) \n",
    "labels = nn.predict(merged_epi[merged_epi.obs[\"assay\"] == \"Xenium\"].obsm[\"X_pca_harmony\"])\n",
    "merged_epi.obs_names_make_unique()\n",
    "merged_epi.obs[\"citeSeq_to_Xenium_label\"] = pd.Series(labels, index=merged_epi[merged_epi.obs[\"assay\"] == \"Xenium\"].obs.index)"
   ]
  },
  {
   "cell_type": "code",
   "execution_count": null,
   "id": "19ca73d4-f6e0-4d60-b756-22f91948c773",
   "metadata": {},
   "outputs": [],
   "source": [
    "sc.pl.umap(merged_epi, color='citeSeq_to_Xenium_label')"
   ]
  },
  {
   "cell_type": "code",
   "execution_count": null,
   "id": "f4965951-c591-487c-b1ce-005781dab9ed",
   "metadata": {},
   "outputs": [],
   "source": [
    "# Save transferred annotations to file\n",
    "citeSeq_to_xenium_predicted_epi_labels = merged_epi.obs.loc[merged_epi.obs['assay'] == 'Xenium', ['orig.ident','Lvl4','citeSeq_to_Xenium_label']]\n",
    "citeSeq_to_xenium_predicted_epi_labels.index = citeSeq_to_xenium_predicted_epi_labels.index.str.replace('-Xenium','')\n",
    "citeSeq_to_xenium_predicted_epi_labels.to_csv('/data/vasileiosionat2/Xenium/Integration_2025_only_stromal/Modified_citeseq_files/citeSeq_to_Xenium_predicted_epithelial_celltype.csv')"
   ]
  },
  {
   "cell_type": "code",
   "execution_count": null,
   "id": "781ebdbb-0318-46a5-a85d-104683fa6ac2",
   "metadata": {},
   "outputs": [],
   "source": [
    "# Transfer annotations from xenium to scRNAseq\n",
    "nn = KNeighborsClassifier(n_neighbors=1, n_jobs=16, weights='distance', metric='euclidean')\n",
    "train = merged_epi[merged_epi.obs[\"assay\"] == \"Xenium\"]\n",
    "nn.fit(train.obsm[\"X_pca_harmony\"], train.obs['Lvl4']) \n",
    "labels = nn.predict(merged_epi[merged_epi.obs[\"assay\"] == \"citeSeq\"].obsm[\"X_pca_harmony\"])\n",
    "merged_epi.obs[\"Xenium_to_citeSeq_label\"] = pd.Series(labels, index=merged_epi[merged_epi.obs[\"assay\"] == \"citeSeq\"].obs.index)"
   ]
  },
  {
   "cell_type": "code",
   "execution_count": null,
   "id": "453d7295-0bc9-4f9e-9e5e-797e3bee5d55",
   "metadata": {},
   "outputs": [],
   "source": [
    "# Save transferred annotations to file\n",
    "Xenium_to_citeSeq_predicted_epi_labels = merged_epi.obs.loc[merged_epi.obs['assay'] == 'citeSeq', ['orig.ident','cluster','Xenium_to_citeSeq_label']]\n",
    "Xenium_to_citeSeq_predicted_epi_labels.index = Xenium_to_citeSeq_predicted_epi_labels.index.str.replace('-citeSeq','')\n",
    "Xenium_to_citeSeq_predicted_epi_labels.to_csv('/data/vasileiosionat2/Xenium/Integration_2025_only_stromal/Modified_citeseq_files/Xenium_to_citeSeq_predicted_epithelial_celltype.csv')"
   ]
  },
  {
   "cell_type": "code",
   "execution_count": null,
   "id": "1c174a7e-626c-4d81-930b-88fc6df27a63",
   "metadata": {},
   "outputs": [],
   "source": [
    "# Combine original labels from scSeq and transferred labels from xenium into one column\n",
    "merged_epi.obs.loc[merged_epi.obs['assay'] == 'Xenium', 'final_label_citeSeq'] = merged_epi.obs[merged_epi.obs['assay'] == 'Xenium']['citeSeq_to_Xenium_label']\n",
    "merged_epi.obs.loc[merged_epi.obs['assay'] == 'citeSeq', 'final_label_citeSeq'] = merged_epi.obs[merged_epi.obs['assay'] == 'citeSeq']['cluster']\n",
    "# Combine original labels from xenium and transferred labels from scSeq into one column\n",
    "# Convert categories to strings (safe option)\n",
    "merged_epi.obs.loc[merged_epi.obs['assay'] == 'citeSeq', 'final_label_X'] = \\\n",
    "    merged_epi.obs.loc[merged_epi.obs['assay'] == 'citeSeq', 'Xenium_to_citeSeq_label'].astype(str)\n",
    "\n",
    "merged_epi.obs.loc[merged_epi.obs['assay'] == 'Xenium', 'final_label_X'] = \\\n",
    "    merged_epi.obs.loc[merged_epi.obs['assay'] == 'Xenium', 'Lvl4'].astype(str)\n",
    "\n",
    "\n",
    "# Visualized merged labels on UMAP\n",
    "sc.pl.umap(merged_epi, color='final_label_citeSeq')\n",
    "sc.pl.umap(merged_epi, color='assay')\n",
    "sc.pl.umap(merged_epi, color='final_label_X')"
   ]
  },
  {
   "cell_type": "code",
   "execution_count": null,
   "id": "f8b4f396-7c95-4f3d-a008-e8d17e9792d5",
   "metadata": {},
   "outputs": [],
   "source": [
    "merged_epi.write(\"/data/vasileiosionat2/Xenium/Integration_2025_only_stromal/Modified_citeseq_files/Xenium_citeSeq_epithelial_harmony.h5ad\")"
   ]
  },
  {
   "cell_type": "code",
   "execution_count": null,
   "id": "7f04eee4-b6c2-40e7-b357-85c02058c3ae",
   "metadata": {},
   "outputs": [],
   "source": [
    "# import matplotlib.pyplot as plt\n",
    "import numpy as np\n",
    "from matplotlib.backends.backend_pdf import PdfPages\n",
    "import os\n",
    "\n",
    "\n",
    "rotation_angle = 30  # Define rotation for this sample\n",
    "\n",
    "# Specify the directory where you want to save the PDF\n",
    "save_directory = '/data/vasileiosionat2/Xenium/Figures/lvl4_pdf/'\n",
    "pdf_filename = os.path.join(save_directory, f'all_clusters_4rows.pdf')\n",
    "\n",
    "# Filter the data for the specific sample\n",
    "adata_sample = merged_epi[merged_epi.obs['sample'] == 's2r2_HV184']\n",
    "\n",
    "unique_clusters = adata_sample.obs.loc[\n",
    "    adata_sample.obs['final_label_citeSeq'].astype(str).str.startswith(\"Ep\")|\n",
    "    (adata_sample.obs['final_label_citeSeq'].str.startswith(\"C\")),\n",
    "    'final_label_citeSeq'\n",
    "].unique()\n",
    "\n",
    "# Reorder clusters (if a custom order is provided, replace `sorted(unique_clusters)`)\n",
    "ordered_clusters = sorted(unique_clusters)\n",
    "\n",
    "# Define the number of rows and columns\n",
    "num_rows = 6\n",
    "num_cols = int(np.ceil(len(ordered_clusters) / num_rows))  # Calculate columns based on clusters and rows\n",
    "\n",
    "# Create a PdfPages object to save the plots\n",
    "with PdfPages(pdf_filename) as pdf:\n",
    "    # Create a figure for the sample\n",
    "    fig, axes = plt.subplots(num_rows, num_cols, figsize=(26, 36))\n",
    "    fig.patch.set_facecolor('white')\n",
    "\n",
    "    # Flatten the axes array for easier indexing\n",
    "    axes = axes.flatten()\n",
    "\n",
    "    # Get the coordinates for the sample\n",
    "    x_coords = adata_sample.obs['x_centroid']\n",
    "    y_coords = adata_sample.obs['y_centroid']\n",
    "    \n",
    "    # Apply rotation\n",
    "    angle = np.deg2rad(rotation_angle)\n",
    "    new_x_coords = x_coords * np.cos(angle) - y_coords * np.sin(angle)\n",
    "    new_y_coords = x_coords * np.sin(angle) + y_coords * np.cos(angle)\n",
    "\n",
    "    # Determine aspect ratio\n",
    "    x_range = new_x_coords.max() - new_x_coords.min()\n",
    "    y_range = new_y_coords.max() - new_y_coords.min()\n",
    "    aspect_ratio = x_range / y_range\n",
    "\n",
    "       # Loop over each unique cluster in the ordered list\n",
    "    for idx, cluster in enumerate(ordered_clusters):\n",
    "        ax = axes[idx]\n",
    "\n",
    "        # Set white background for the subplot\n",
    "        ax.set_facecolor('white')\n",
    "\n",
    "        # Remove the outline\n",
    "        for spine in ax.spines.values():\n",
    "            spine.set_visible(False)\n",
    "\n",
    "        # Scatter plot for the grey dots (all other clusters)\n",
    "        ax.scatter(\n",
    "            x=new_x_coords[adata_sample.obs['final_label_citeSeq'] != cluster],\n",
    "            y=new_y_coords[adata_sample.obs['final_label_citeSeq'] != cluster],\n",
    "            c='#C0C0C0', \n",
    "            s=3  # Adjust dot size\n",
    "        )\n",
    "\n",
    "        # Scatter plot for the red dots (the current cluster)\n",
    "        ax.scatter(\n",
    "            x=new_x_coords[adata_sample.obs['final_label_citeSeq'] == cluster],\n",
    "            y=new_y_coords[adata_sample.obs['final_label_citeSeq'] == cluster],\n",
    "            c='red', \n",
    "            s=9  # Adjust dot size\n",
    "        )\n",
    "\n",
    "        # Set aspect ratio for each subplot\n",
    "        ax.set_aspect(aspect_ratio)\n",
    "\n",
    "        # Add the cluster name below the plot\n",
    "        ax.text(\n",
    "            0.5, 0.02, f'{cluster}', \n",
    "            horizontalalignment='center', \n",
    "            verticalalignment='center', \n",
    "            transform=ax.transAxes, \n",
    "            color='black', fontsize=20, weight='bold'\n",
    "        )\n",
    "\n",
    "        # Remove grids\n",
    "        ax.grid(False)\n",
    "\n",
    "        # Remove ticks and their labels\n",
    "        ax.set_xticks([])\n",
    "        ax.set_yticks([])\n",
    "\n",
    "    # Turn off empty subplots if there are any\n",
    "    for ax in axes[len(ordered_clusters):]:\n",
    "        ax.set_visible(False)\n",
    "\n",
    "    # Define the directory and file name for the TIFF file\n",
    "    tiff_filename = os.path.join(save_directory, f'all_clusters_4rows.tiff')\n",
    "\n",
    "    # Adjust the spacing between subplots\n",
    "    plt.subplots_adjust(\n",
    "        left=0.05,    # Space from left edge\n",
    "        right=0.95,   # Space from right edge\n",
    "        top=0.95,     # Space from top edge\n",
    "        bottom=0.05,  # Space from bottom edge\n",
    "        wspace=0.1,   # Width space between columns\n",
    "        hspace=0.05    # Height space between rows\n",
    "    )\n",
    "\n",
    "    # Add a title to the overall figure\n",
    "    plt.suptitle(f'All Clusters in s2r2_HV184', color='white', fontsize=20, weight='bold', y=1.02)\n",
    "\n",
    "    # Save the current figure as a TIFF file\n",
    "    #fig.savefig(tiff_filename, dpi=300, format='tiff')\n",
    "\n",
    "    plt.show()\n",
    "    plt.close(fig)"
   ]
  },
  {
   "cell_type": "code",
   "execution_count": null,
   "id": "ea6fe798-175c-4c0b-96d3-366d67ae897b",
   "metadata": {},
   "outputs": [],
   "source": [
    "import pandas as pd\n",
    "import seaborn as sns\n",
    "import matplotlib.pyplot as plt\n",
    "\n",
    "# Assuming 'plot_niches' is a DataFrame or similar data structure\n",
    "df = pd.DataFrame(merged_epi.obs)\n",
    "df['Lvl5'] = df['Lvl5'].astype('category')\n",
    "\n",
    "# Aggregate counts\n",
    "niche_groups = df.groupby(['final_label_citeSeq', 'niche_cc14']).size().unstack(fill_value=0)\n",
    "\n",
    "# Identify clusters to remove\n",
    "clusters_to_remove = df['final_label_citeSeq'].str.contains('Mix') | df['final_label_citeSeq'].str.startswith('Neuro')\n",
    "\n",
    "# Get the unique clusters to be removed\n",
    "clusters_to_remove = df.loc[clusters_to_remove, 'final_label_citeSeq'].unique()\n",
    "\n",
    "# Filter out these clusters from the plot\n",
    "niche_groups_filtered = niche_groups[~niche_groups.index.isin(clusters_to_remove)]\n",
    "\n",
    "# Calculate relative frequencies\n",
    "niche_groups_relative = niche_groups_filtered.div(niche_groups_filtered.sum(axis=1), axis=0)\n",
    "\n",
    "# Plot heatmap with enhanced colormap\n",
    "plt.figure(figsize=(16, 20))  # Adjusted figsize to accommodate the x-axis labels\n",
    "sns.heatmap(niche_groups_relative, cmap='plasma', cbar_kws={'label': 'Relative Frequency'}, linewidths=0.05, linecolor='black')\n",
    "plt.title('Relative Cell Type Distribution in Niches')\n",
    "plt.xlabel('Niche')\n",
    "plt.ylabel('Cell Cluster')\n",
    "plt.xticks(rotation=45, ha='right')  # Adjust rotation and alignment of xticks\n",
    "plt.yticks(rotation=0)\n",
    "plt.tight_layout()  # Ensures all elements fit within the figure area\n",
    "plt.show()\n"
   ]
  },
  {
   "cell_type": "code",
   "execution_count": null,
   "id": "1df31746-2f76-4d61-9c06-24c3390a9d5c",
   "metadata": {},
   "outputs": [],
   "source": [
    "# Visualize xenium annotations vs transferred scRNAseq annotations\n",
    "xen_obj = merged_epi[merged_epi.obs['assay']=='Xenium']\n",
    "xen_obj.obs['Lvl4'] = xen_obj.obs['Lvl4'].astype('str')\n",
    "celltype_counts = pd.DataFrame(xen_obj.obs.groupby(['Lvl4','citeSeq_to_Xenium_label']).size()).unstack()\n",
    "celltype_counts.columns = celltype_counts.columns.droplevel()\n",
    "celltype_counts.index.name = 'Xenium cell type'\n",
    "celltype_counts.columns.name = 'predicted citeSeq cell type'\n",
    "celltype_counts = celltype_counts.T\n",
    "# Row scale co-occurrence frequencies (by predicted scRNAseq cell type)\n",
    "celltype_counts = celltype_counts.div(celltype_counts.sum(axis=1), axis=0) \n",
    "celltype_counts = celltype_counts.loc[:,celltype_counts.idxmax(axis=0).sort_values().index]\n",
    "celltype_counts = celltype_counts.fillna(0)"
   ]
  },
  {
   "cell_type": "code",
   "execution_count": null,
   "id": "5da9eb94-e399-42fa-adbe-c91af4b9cbe5",
   "metadata": {
    "scrolled": true
   },
   "outputs": [],
   "source": [
    "column_sums = celltype_counts.abs().sum(axis=0)\n",
    "print(column_sums)\n",
    "# Select columns to keep based on the threshold\n",
    "columns_to_keep = column_sums[column_sums >= 0.1].index\n",
    "print(columns_to_keep)\n",
    "celltype_counts2 = celltype_counts[columns_to_keep]\n",
    "print(celltype_counts2)"
   ]
  },
  {
   "cell_type": "code",
   "execution_count": null,
   "id": "e4650309-e4bd-4992-bd3d-9ac1e14a810f",
   "metadata": {},
   "outputs": [],
   "source": [
    "plt.figure(figsize = (26,14))\n",
    "sns.heatmap(celltype_counts2, cmap='YlGnBu')"
   ]
  },
  {
   "cell_type": "code",
   "execution_count": null,
   "id": "6f4be5f0-9354-4e4a-8fd4-32b3bc75dc6b",
   "metadata": {},
   "outputs": [],
   "source": [
    "merged_epi.obs.columns.unique().tolist()"
   ]
  },
  {
   "cell_type": "code",
   "execution_count": null,
   "id": "d0d704be-4bd3-4530-a1f2-d3788f28c98f",
   "metadata": {},
   "outputs": [],
   "source": [
    "merged_stromal.obs.columns.unique().tolist()"
   ]
  },
  {
   "cell_type": "code",
   "execution_count": null,
   "id": "2adbe603-3813-4f9b-a4c3-a97ed7f4c92a",
   "metadata": {},
   "outputs": [],
   "source": [
    "merged_immune.obs.columns.unique().tolist()"
   ]
  },
  {
   "cell_type": "code",
   "execution_count": null,
   "id": "51015396-9866-4753-9507-e46f98c1ae6d",
   "metadata": {},
   "outputs": [],
   "source": [
    "adata.obs['Lvl1'].unique()"
   ]
  },
  {
   "cell_type": "code",
   "execution_count": null,
   "id": "5d844872-254b-49f7-bbc1-833f9722a783",
   "metadata": {},
   "outputs": [],
   "source": [
    "other_adata = adata[adata.obs['Lvl1'].isin(['Other'])].copy()"
   ]
  },
  {
   "cell_type": "code",
   "execution_count": null,
   "id": "722cec70-c595-4c4a-9ba0-8e1bd952a9aa",
   "metadata": {},
   "outputs": [],
   "source": [
    "import anndata as ad\n",
    "\n",
    "# Concatenate AnnData objects\n",
    "merged_total = ad.concat([merged_immune, merged_stromal, merged_epi, other_adata], join='outer')\n",
    "\n",
    "# Save the combined AnnData object (optional)\n",
    "#adata_combined.write(\"combined_adata.h5ad\")\n"
   ]
  },
  {
   "cell_type": "code",
   "execution_count": null,
   "id": "827b12cf-e21a-4204-9385-dc19f28f2cea",
   "metadata": {},
   "outputs": [],
   "source": [
    "merged_total.obs.columns.unique().tolist()"
   ]
  },
  {
   "cell_type": "code",
   "execution_count": null,
   "id": "6fa9c694-268e-4cfa-9cb5-7d1b6971b5bc",
   "metadata": {},
   "outputs": [],
   "source": [
    "merged_total.obs"
   ]
  },
  {
   "cell_type": "code",
   "execution_count": null,
   "id": "ed5c6a2b-37c6-4f09-bfed-fbfe092c94cb",
   "metadata": {},
   "outputs": [],
   "source": [
    "# import matplotlib.pyplot as plt\n",
    "import numpy as np\n",
    "from matplotlib.backends.backend_pdf import PdfPages\n",
    "import os\n",
    "\n",
    "\n",
    "rotation_angle = 30  # Define rotation for this sample\n",
    "\n",
    "# Specify the directory where you want to save the PDF\n",
    "save_directory = '/data/vasileiosionat2/Xenium/Figures/lvl4_pdf/'\n",
    "pdf_filename = os.path.join(save_directory, f'all_clusters_4rows.pdf')\n",
    "\n",
    "# Filter the data for the specific sample\n",
    "adata_sample = merged_total[merged_total.obs['sample'] == 's2r2_HV184']\n",
    "\n",
    "unique_clusters = adata_sample.obs.loc[\n",
    "    adata_sample.obs['final_label_citeSeq'].astype(str).str.startswith(\"Ep\")|\n",
    "    (adata_sample.obs['final_label_citeSeq'].str.startswith(\"C\")),\n",
    "    'final_label_citeSeq'\n",
    "].unique()\n",
    "\n",
    "# Reorder clusters (if a custom order is provided, replace `sorted(unique_clusters)`)\n",
    "ordered_clusters = sorted(unique_clusters)\n",
    "\n",
    "# Define the number of rows and columns\n",
    "num_rows = 6\n",
    "num_cols = int(np.ceil(len(ordered_clusters) / num_rows))  # Calculate columns based on clusters and rows\n",
    "\n",
    "# Create a PdfPages object to save the plots\n",
    "with PdfPages(pdf_filename) as pdf:\n",
    "    # Create a figure for the sample\n",
    "    fig, axes = plt.subplots(num_rows, num_cols, figsize=(26, 36))\n",
    "    fig.patch.set_facecolor('white')\n",
    "\n",
    "    # Flatten the axes array for easier indexing\n",
    "    axes = axes.flatten()\n",
    "\n",
    "    # Get the coordinates for the sample\n",
    "    x_coords = adata_sample.obs['x_centroid']\n",
    "    y_coords = adata_sample.obs['y_centroid']\n",
    "    \n",
    "    # Apply rotation\n",
    "    angle = np.deg2rad(rotation_angle)\n",
    "    new_x_coords = x_coords * np.cos(angle) - y_coords * np.sin(angle)\n",
    "    new_y_coords = x_coords * np.sin(angle) + y_coords * np.cos(angle)\n",
    "\n",
    "    # Determine aspect ratio\n",
    "    x_range = new_x_coords.max() - new_x_coords.min()\n",
    "    y_range = new_y_coords.max() - new_y_coords.min()\n",
    "    aspect_ratio = x_range / y_range\n",
    "\n",
    "       # Loop over each unique cluster in the ordered list\n",
    "    for idx, cluster in enumerate(ordered_clusters):\n",
    "        ax = axes[idx]\n",
    "\n",
    "        # Set white background for the subplot\n",
    "        ax.set_facecolor('white')\n",
    "\n",
    "        # Remove the outline\n",
    "        for spine in ax.spines.values():\n",
    "            spine.set_visible(False)\n",
    "\n",
    "        # Scatter plot for the grey dots (all other clusters)\n",
    "        ax.scatter(\n",
    "            x=new_x_coords[adata_sample.obs['final_label_citeSeq'] != cluster],\n",
    "            y=new_y_coords[adata_sample.obs['final_label_citeSeq'] != cluster],\n",
    "            c='#C0C0C0', \n",
    "            s=3  # Adjust dot size\n",
    "        )\n",
    "\n",
    "        # Scatter plot for the red dots (the current cluster)\n",
    "        ax.scatter(\n",
    "            x=new_x_coords[adata_sample.obs['final_label_citeSeq'] == cluster],\n",
    "            y=new_y_coords[adata_sample.obs['final_label_citeSeq'] == cluster],\n",
    "            c='red', \n",
    "            s=9  # Adjust dot size\n",
    "        )\n",
    "\n",
    "        # Set aspect ratio for each subplot\n",
    "        ax.set_aspect(aspect_ratio)\n",
    "\n",
    "        # Add the cluster name below the plot\n",
    "        ax.text(\n",
    "            0.5, 0.02, f'{cluster}', \n",
    "            horizontalalignment='center', \n",
    "            verticalalignment='center', \n",
    "            transform=ax.transAxes, \n",
    "            color='black', fontsize=20, weight='bold'\n",
    "        )\n",
    "\n",
    "        # Remove grids\n",
    "        ax.grid(False)\n",
    "\n",
    "        # Remove ticks and their labels\n",
    "        ax.set_xticks([])\n",
    "        ax.set_yticks([])\n",
    "\n",
    "    # Turn off empty subplots if there are any\n",
    "    for ax in axes[len(ordered_clusters):]:\n",
    "        ax.set_visible(False)\n",
    "\n",
    "    # Define the directory and file name for the TIFF file\n",
    "    tiff_filename = os.path.join(save_directory, f'all_clusters_4rows.tiff')\n",
    "\n",
    "    # Adjust the spacing between subplots\n",
    "    plt.subplots_adjust(\n",
    "        left=0.05,    # Space from left edge\n",
    "        right=0.95,   # Space from right edge\n",
    "        top=0.95,     # Space from top edge\n",
    "        bottom=0.05,  # Space from bottom edge\n",
    "        wspace=0.1,   # Width space between columns\n",
    "        hspace=0.05    # Height space between rows\n",
    "    )\n",
    "\n",
    "    # Add a title to the overall figure\n",
    "    plt.suptitle(f'All Clusters in s2r2_HV184', color='white', fontsize=20, weight='bold', y=1.02)\n",
    "\n",
    "    # Save the current figure as a TIFF file\n",
    "    #fig.savefig(tiff_filename, dpi=300, format='tiff')\n",
    "\n",
    "    plt.show()\n",
    "    plt.close(fig)"
   ]
  },
  {
   "cell_type": "code",
   "execution_count": null,
   "id": "9908d4eb-276d-4bd1-b496-0b1a2e92a1d6",
   "metadata": {},
   "outputs": [],
   "source": [
    "import pandas as pd\n",
    "import seaborn as sns\n",
    "import matplotlib.pyplot as plt\n",
    "\n",
    "# Assuming 'plot_niches' is a DataFrame or similar data structure\n",
    "df = pd.DataFrame(merged_total.obs)\n",
    "df['Lvl5'] = df['Lvl5'].astype('category')\n",
    "\n",
    "# Aggregate counts\n",
    "niche_groups = df.groupby(['final_label_citeSeq', 'niche_cc14']).size().unstack(fill_value=0)\n",
    "\n",
    "# Identify clusters to remove\n",
    "clusters_to_remove = df['final_label_citeSeq'].str.contains('Mix') | df['final_label_citeSeq'].str.startswith('Neuro')\n",
    "\n",
    "# Get the unique clusters to be removed\n",
    "clusters_to_remove = df.loc[clusters_to_remove, 'final_label_citeSeq'].unique()\n",
    "\n",
    "# Filter out these clusters from the plot\n",
    "niche_groups_filtered = niche_groups[~niche_groups.index.isin(clusters_to_remove)]\n",
    "\n",
    "# Calculate relative frequencies\n",
    "niche_groups_relative = niche_groups_filtered.div(niche_groups_filtered.sum(axis=1), axis=0)\n",
    "\n",
    "# Plot heatmap with enhanced colormap\n",
    "plt.figure(figsize=(16, 20))  # Adjusted figsize to accommodate the x-axis labels\n",
    "sns.heatmap(niche_groups_relative, cmap='plasma', cbar_kws={'label': 'Relative Frequency'}, linewidths=0.05, linecolor='black')\n",
    "plt.title('Relative Cell Type Distribution in Niches')\n",
    "plt.xlabel('Niche')\n",
    "plt.ylabel('Cell Cluster')\n",
    "plt.xticks(rotation=45, ha='right')  # Adjust rotation and alignment of xticks\n",
    "plt.yticks(rotation=0)\n",
    "plt.tight_layout()  # Ensures all elements fit within the figure area\n",
    "plt.show()\n"
   ]
  },
  {
   "cell_type": "code",
   "execution_count": null,
   "id": "3771ee6d-5844-42fb-9f86-025f3a73a355",
   "metadata": {},
   "outputs": [],
   "source": [
    "# Visualize xenium annotations vs transferred scRNAseq annotations\n",
    "xen_obj = merged_total[merged_total.obs['assay']=='Xenium']\n",
    "xen_obj.obs['Lvl4'] = xen_obj.obs['Lvl4'].astype('str')\n",
    "celltype_counts = pd.DataFrame(xen_obj.obs.groupby(['Lvl4','citeSeq_to_Xenium_label']).size()).unstack()\n",
    "celltype_counts.columns = celltype_counts.columns.droplevel()\n",
    "celltype_counts.index.name = 'Xenium cell type'\n",
    "celltype_counts.columns.name = 'predicted citeSeq cell type'\n",
    "celltype_counts = celltype_counts.T\n",
    "# Row scale co-occurrence frequencies (by predicted scRNAseq cell type)\n",
    "celltype_counts = celltype_counts.div(celltype_counts.sum(axis=1), axis=0) \n",
    "celltype_counts = celltype_counts.loc[:,celltype_counts.idxmax(axis=0).sort_values().index]\n",
    "celltype_counts = celltype_counts.fillna(0)"
   ]
  },
  {
   "cell_type": "code",
   "execution_count": null,
   "id": "46a29d5f-3d2a-4bdf-b5a2-1181437a0e44",
   "metadata": {
    "scrolled": true
   },
   "outputs": [],
   "source": [
    "column_sums = celltype_counts.abs().sum(axis=0)\n",
    "print(column_sums)\n",
    "# Select columns to keep based on the threshold\n",
    "columns_to_keep = column_sums[column_sums >= 0.1].index\n",
    "print(columns_to_keep)\n",
    "celltype_counts2 = celltype_counts[columns_to_keep]\n",
    "print(celltype_counts2)"
   ]
  },
  {
   "cell_type": "code",
   "execution_count": null,
   "id": "23f59d57-7691-477f-9b2a-d923242392f7",
   "metadata": {},
   "outputs": [],
   "source": [
    "plt.figure(figsize = (26,14))\n",
    "sns.heatmap(celltype_counts2, cmap='YlGnBu')"
   ]
  },
  {
   "cell_type": "code",
   "execution_count": null,
   "id": "6edc9d59-b03e-4572-905d-303a65ed4417",
   "metadata": {},
   "outputs": [],
   "source": [
    "merged_total.write(\"/data/vasileiosionat2/Xenium/Integration_2025_only_stromal/Modified_citeseq_files/Xenium_citeSeq_total_harmony.h5ad\")"
   ]
  }
 ],
 "metadata": {
  "kernelspec": {
   "display_name": "integration",
   "language": "python",
   "name": "integration"
  },
  "language_info": {
   "codemirror_mode": {
    "name": "ipython",
    "version": 3
   },
   "file_extension": ".py",
   "mimetype": "text/x-python",
   "name": "python",
   "nbconvert_exporter": "python",
   "pygments_lexer": "ipython3",
   "version": "3.10.16"
  }
 },
 "nbformat": 4,
 "nbformat_minor": 5
}
