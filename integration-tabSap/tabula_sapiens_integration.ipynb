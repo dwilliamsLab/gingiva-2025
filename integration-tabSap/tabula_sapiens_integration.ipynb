{
 "cells": [
  {
   "cell_type": "code",
   "execution_count": null,
   "id": "079eaefc-7824-40c6-9150-23868c8cbc3e",
   "metadata": {},
   "outputs": [],
   "source": [
    "!pip list"
   ]
  },
  {
   "cell_type": "code",
   "execution_count": null,
   "id": "93cf2f58-bced-4b53-8d88-a5d0fdfb7764",
   "metadata": {
    "scrolled": true
   },
   "outputs": [],
   "source": [
    "# Install a specific version of numpy\n",
    "!pip install numpy==1.24.4\n",
    "\n",
    "# Install a specific version of numba\n",
    "!pip install numba==0.57.1\n",
    "\n",
    "# Reinstall scanpy and squidpy\n",
    "!pip uninstall -y scanpy squidpy\n",
    "!pip install scanpy squidpy"
   ]
  },
  {
   "cell_type": "code",
   "execution_count": null,
   "id": "13bf4054-a23f-48b3-9fab-072eb4645700",
   "metadata": {},
   "outputs": [],
   "source": [
    "!pip show numpy"
   ]
  },
  {
   "cell_type": "code",
   "execution_count": null,
   "id": "d117c6a0-fe28-4cca-8b03-04e43661c4b3",
   "metadata": {},
   "outputs": [],
   "source": [
    "!pip install numpy==1.24.0"
   ]
  },
  {
   "cell_type": "code",
   "execution_count": null,
   "id": "18cc52ce-c301-4ee8-9bec-1433503c27a4",
   "metadata": {
    "tags": []
   },
   "outputs": [],
   "source": [
    "import scanpy as sc\n",
    "from sklearn.neighbors import KNeighborsClassifier, NearestNeighbors\n",
    "import pandas as pd\n",
    "import seaborn as sns\n",
    "import matplotlib.pyplot as plt"
   ]
  },
  {
   "cell_type": "code",
   "execution_count": null,
   "id": "40e5b646-265e-47e8-83df-c1535b1546d5",
   "metadata": {},
   "outputs": [],
   "source": [
    "adata = sc.read_h5ad(\"/data/vasileiosionat2/Xenium/tabula_sapiens_epithelial/combined.h5ad\")"
   ]
  },
  {
   "cell_type": "code",
   "execution_count": null,
   "id": "04b9f77f-6ea0-4919-ae11-30e957b08a8f",
   "metadata": {},
   "outputs": [],
   "source": [
    "adata.obs"
   ]
  },
  {
   "cell_type": "code",
   "execution_count": null,
   "id": "fcd06429-5222-4a56-84f1-a204385c4a87",
   "metadata": {},
   "outputs": [],
   "source": [
    "adata_Wil = adata[adata.obs['ref'] == 'Williams 2021'].copy()"
   ]
  },
  {
   "cell_type": "code",
   "execution_count": null,
   "id": "eb076bf0-c302-4d98-9d80-2f6e4e22eb52",
   "metadata": {},
   "outputs": [],
   "source": [
    "adata_Wil.obs"
   ]
  },
  {
   "cell_type": "code",
   "execution_count": null,
   "id": "375642d6-8216-48b8-b250-281936895202",
   "metadata": {},
   "outputs": [],
   "source": [
    "adata_Wil_Epi = adata_Wil[adata_Wil.obs['generalCellTypes'] == 'Epithelial'].copy()"
   ]
  },
  {
   "cell_type": "code",
   "execution_count": null,
   "id": "759195ff-a6c5-4b0c-9e89-c9ef9bc8cb1a",
   "metadata": {},
   "outputs": [],
   "source": [
    "adata_Wil_GEpi = adata_Wil_Epi[adata_Wil_Epi.obs['tissue'] == 'gingiva'].copy()"
   ]
  },
  {
   "cell_type": "code",
   "execution_count": null,
   "id": "06ee6ff8-eb3b-424e-9b4f-e2b6ab80c326",
   "metadata": {},
   "outputs": [],
   "source": [
    "adata_Wil_GEpi.obs"
   ]
  },
  {
   "cell_type": "code",
   "execution_count": null,
   "id": "87d8f08f-e3be-402d-9596-1403d64a5d45",
   "metadata": {},
   "outputs": [],
   "source": [
    "adata_Wil_GEpi.obs['orig.ident'].unique().tolist()"
   ]
  },
  {
   "cell_type": "code",
   "execution_count": null,
   "id": "17fd88c5-1acc-43be-a19f-c611b764ce39",
   "metadata": {},
   "outputs": [],
   "source": [
    "ref_Xen = sc.read_h5ad(\"/data/vasileiosionat2/Xenium/Drake_outputs/ccProcessed.h5ad\")"
   ]
  },
  {
   "cell_type": "code",
   "execution_count": null,
   "id": "d1e62ba4-c46b-4398-aab7-aba9e667c728",
   "metadata": {},
   "outputs": [],
   "source": [
    "ref_Xen_Epi = ref_Xen[ref_Xen.obs['Lvl3'].isin([\"Crev\", \"Basal\", \"Spinous\", \"Keratin\"])].copy()\n"
   ]
  },
  {
   "cell_type": "code",
   "execution_count": null,
   "id": "2400c993-fb32-49a2-b776-0af265188ded",
   "metadata": {},
   "outputs": [],
   "source": [
    "ref_Xen_Epi.obs"
   ]
  },
  {
   "cell_type": "code",
   "execution_count": null,
   "id": "78daa02f-5409-4902-a663-6493d10a4380",
   "metadata": {
    "scrolled": true
   },
   "outputs": [],
   "source": [
    "assay_data = pd.Series('scSeq', index=adata_Wil_GEpi.obs.index)\n",
    "adata_Wil_GEpi.obs['assay'] = assay_data\n",
    "\n",
    "merged = adata_Wil_GEpi.concatenate(\n",
    "    ref_Xen_Epi, batch_key=\"assay\", batch_categories=[\"scSeq\", \"xenium\"]\n",
    ")"
   ]
  },
  {
   "cell_type": "code",
   "execution_count": null,
   "id": "fddd9179-2584-489b-8c08-a74d52d68b0b",
   "metadata": {
    "scrolled": true
   },
   "outputs": [],
   "source": [
    "sc.pp.scale(merged)\n",
    "sc.tl.pca(merged)"
   ]
  },
  {
   "cell_type": "code",
   "execution_count": null,
   "id": "87af4c4f-58f5-4941-bc08-041d944a33d9",
   "metadata": {
    "scrolled": true
   },
   "outputs": [],
   "source": [
    "# This step takes time; ~10 min per iteration\n",
    "sc.external.pp.harmony_integrate(merged, key=\"assay\", max_iter_harmony=20, max_iter_kmeans=30)"
   ]
  },
  {
   "cell_type": "code",
   "execution_count": null,
   "id": "66df54e5-80cb-4aa8-86b7-950d60807859",
   "metadata": {
    "scrolled": true
   },
   "outputs": [],
   "source": [
    "# Visualize merged with UMAP embedding; takes a long time\n",
    "sc.pp.neighbors(merged, n_neighbors=50, use_rep=\"X_pca_harmony\", metric=\"correlation\")\n",
    "sc.tl.umap(merged, min_dist=0.5)"
   ]
  },
  {
   "cell_type": "code",
   "execution_count": null,
   "id": "60fb4689-657d-451a-85b2-fdb35302953c",
   "metadata": {},
   "outputs": [],
   "source": [
    "merged.obs"
   ]
  },
  {
   "cell_type": "code",
   "execution_count": null,
   "id": "86dd19f3-f22d-4eb2-97bf-e3d805737793",
   "metadata": {},
   "outputs": [],
   "source": [
    "sc.pl.umap(merged, color='assay')"
   ]
  },
  {
   "cell_type": "code",
   "execution_count": null,
   "id": "20a42da0-d22a-4fef-b0b4-4b84fc2fc086",
   "metadata": {},
   "outputs": [],
   "source": [
    "# Transfer annotations from xenium to scRNAseq\n",
    "nn = KNeighborsClassifier(n_neighbors=1, n_jobs=16, weights='distance', metric='euclidean')\n",
    "train = merged[merged.obs[\"assay\"] == \"xenium\"]\n",
    "nn.fit(train.obsm[\"X_pca_harmony\"], train.obs['Lvl3']) \n",
    "labels = nn.predict(merged[merged.obs[\"assay\"] == \"scSeq\"].obsm[\"X_pca_harmony\"])\n",
    "merged.obs[\"xenium_to_sc_label\"] = pd.Series(labels, index=merged[merged.obs[\"assay\"] == \"scSeq\"].obs.index)"
   ]
  },
  {
   "cell_type": "code",
   "execution_count": null,
   "id": "19ea4800-df83-417c-9735-e2e2efbf2a64",
   "metadata": {},
   "outputs": [],
   "source": [
    "merged_sc = merged[merged.obs['assay'] == 'scSeq'].copy()"
   ]
  },
  {
   "cell_type": "code",
   "execution_count": null,
   "id": "d15f09fd-fdda-46f4-838d-80665c1776fb",
   "metadata": {},
   "outputs": [],
   "source": [
    "# Visualize xenium annotations vs transferred scRNAseq annotations\n",
    "xen_obj = merged[merged.obs['assay']=='scSeq']\n",
    "xen_obj.obs['clusterCellTypes'] = xen_obj.obs['clusterCellTypes'].astype('str')\n",
    "celltype_counts = pd.DataFrame(xen_obj.obs.groupby(['clusterCellTypes','xenium_to_sc_label']).size()).unstack()\n",
    "celltype_counts.columns = celltype_counts.columns.droplevel()\n",
    "celltype_counts.index.name = 'sc cell type'\n",
    "celltype_counts.columns.name = 'predicted Xenium cell type'\n",
    "celltype_counts = celltype_counts.T\n",
    "# Row scale co-occurrence frequencies (by predicted scRNAseq cell type)\n",
    "celltype_counts = celltype_counts.div(celltype_counts.sum(axis=1), axis=0) \n",
    "celltype_counts = celltype_counts.loc[:,celltype_counts.idxmax(axis=0).sort_values().index]\n",
    "celltype_counts = celltype_counts.fillna(0)"
   ]
  },
  {
   "cell_type": "code",
   "execution_count": null,
   "id": "cf1b61af-0fae-49f0-a02e-ab51865aad5a",
   "metadata": {},
   "outputs": [],
   "source": [
    "column_sums = celltype_counts.abs().sum(axis=0)\n",
    "print(column_sums)\n",
    "# Select columns to keep based on the threshold\n",
    "columns_to_keep = column_sums[column_sums >= 0.1].index\n",
    "print(columns_to_keep)\n",
    "celltype_counts2 = celltype_counts[columns_to_keep]\n",
    "print(celltype_counts2)"
   ]
  },
  {
   "cell_type": "code",
   "execution_count": null,
   "id": "d850042c-3699-4043-953f-5d0ea02d3b25",
   "metadata": {},
   "outputs": [],
   "source": [
    "plt.figure(figsize = (14,6))\n",
    "sns.heatmap(celltype_counts2, cmap='YlGnBu')"
   ]
  },
  {
   "cell_type": "code",
   "execution_count": null,
   "id": "4092a835-4927-48ac-b7ae-8e21d54d0e33",
   "metadata": {},
   "outputs": [],
   "source": [
    "import scanpy as sc\n",
    "\n",
    "# Step 1: Ensure all observation names are unique\n",
    "adata.obs_names_make_unique()\n",
    "\n",
    "# Subset the data to include categories starting with 'T-' or equal to 'B'\n",
    "adata_subset = merged_sc[merged_sc.obs['clusterCellTypes'].isin([\"Epithelial 1\", \"Epithelial 2\", \"Epithelial 3\", \"Cycling\"])].copy()\n",
    "\n",
    "# Step 3: Log-transform the data if not already done\n",
    "sc.pp.log1p(adata_subset)\n",
    "\n",
    "# Step 4: Perform differential expression analysis using the Wilcoxon method\n",
    "sc.tl.rank_genes_groups(adata_subset, 'clusterCellTypes', method='wilcoxon', use_raw=False)\n",
    "\n",
    "# Step 5: Extract top marker genes for each cluster\n",
    "top_genes_per_cluster = {}\n",
    "for cluster in adata_subset.obs['clusterCellTypes'].cat.categories:\n",
    "    top_genes_per_cluster[cluster] = adata_subset.uns['rank_genes_groups']['names'][cluster][:10]  # Top 10 genes\n",
    "\n",
    "# Step 6: Generate dendrogram for cluster ordering\n",
    "sc.tl.dendrogram(adata_subset, groupby='clusterCellTypes')\n",
    "\n",
    "# Step 7: Retrieve the cluster order based on the dendrogram\n",
    "cluster_order = adata_subset.uns['dendrogram_clusterCellTypes']['categories_ordered']\n",
    "\n",
    "# Step 8: Ensure each cluster has at least 3 unique genes\n",
    "unique_genes = set()\n",
    "genes_for_plot = []\n",
    "\n",
    "for cluster in cluster_order:\n",
    "    if cluster in top_genes_per_cluster:\n",
    "        cluster_genes = top_genes_per_cluster[cluster]\n",
    "        genes_for_this_cluster = []\n",
    "        for gene in cluster_genes:\n",
    "            if len(genes_for_this_cluster) >= 20:\n",
    "                break\n",
    "            if gene not in unique_genes:\n",
    "                unique_genes.add(gene)\n",
    "                genes_for_this_cluster.append(gene)\n",
    "        genes_for_plot.extend(genes_for_this_cluster)\n",
    "\n",
    "# Step 9: Plot the dotplot with the unique genes, swapping axes if necessary\n",
    "sc.pl.dotplot(\n",
    "    adata_subset,\n",
    "    var_names=genes_for_plot,\n",
    "    groupby='clusterCellTypes',\n",
    "    dendrogram=True,\n",
    "    use_raw=False,\n",
    "    cmap=\"vlag\",\n",
    "    standard_scale='var',\n",
    "    swap_axes=True\n",
    ")"
   ]
  },
  {
   "cell_type": "code",
   "execution_count": null,
   "id": "a8b01e16-1876-4ffc-aa40-2a8ff89df63d",
   "metadata": {},
   "outputs": [],
   "source": [
    "import scanpy as sc\n",
    "# Start plotting with black background\n",
    "import matplotlib.pyplot as plt\n",
    "import numpy as np\n",
    "\n",
    "plt.rcParams['font.family'] = 'Arial'\n",
    "plt.rcParams['pdf.fonttype'] = 42  # Ensures fonts are embedded as text, not outlines\n",
    "plt.rcParams['ps.fonttype'] = 42\n",
    "\n",
    "# Define the subset of clusters you want to include and their desired order\n",
    "clusters_of_interest = [\"Epithelial 1\", \"Epithelial 2\", \"Epithelial 3\"]\n",
    "\n",
    "# Define the subset of genes you want to plot in the desired order\n",
    "correct_order = [\n",
    "   'KRT5', 'COL17A1', 'DST', 'ITGB4', 'CXCL14', 'C1R', 'IL1R2',\n",
    "      'CAVIN1', 'PDPN', 'BASP1',\n",
    "'SLC26A2', 'MYC', 'CFH', 'PTN',\n",
    "'MKI67', 'CDK1', 'AQP3', 'KRT19', 'FGFBP1', 'S100A16', 'LY6D', 'SDC1', \n",
    "  'CYP4B1', 'MAMDC2', 'SERPINB3', 'NOD2',\n",
    "'S100A16', 'SLPI', 'IL1RN', 'ANXA1',\n",
    "'C15orf48', 'IL36A','CNFN', 'IL36G',\n",
    " 'SERPINB2', 'EHF',  'ERBB2', 'ODAM', 'ODAPH', 'LAMC2', 'CXCL1', 'CXCL2', 'CXCL6', 'SLPI',\n",
    "'IL1A', 'IL36G', 'C15orf48', 'ANXA1', 'DNASE1L3',\n",
    "'COL17A1', 'DST', 'C1R', 'ITGB4', 'SAA1', 'SAA2',\n",
    "'CYP4B1', 'CFH', 'EHF',  'CLEC7A', 'CFHR3'\n",
    "]\n",
    "\n",
    "# Subset the AnnData object to include only the clusters of interest\n",
    "adata_subset = adata_Wil_GEpi[adata_Wil_GEpi.obs['clusterCellTypes'].isin(clusters_of_interest)].copy()\n",
    "\n",
    "# Ensure clusters are ordered as specified\n",
    "adata_subset.obs['clusterCellTypes'] = adata_subset.obs['clusterCellTypes'].astype(\n",
    "    pd.CategoricalDtype(categories=clusters_of_interest, ordered=True)\n",
    ")\n",
    "\n",
    "# Create the DotPlot\n",
    "dotplot = sc.pl.DotPlot(\n",
    "    adata_subset,\n",
    "    var_names=correct_order,       # Genes on the x-axis\n",
    "    groupby='clusterCellTypes',                # Clusters on the y-axis\n",
    "    standard_scale='var',          # Apply standard scaling across variables\n",
    "    vmin=0.2,\n",
    "    vmax=0.8,                       # Set a max value for the scale\n",
    "    figsize=(20, 4)\n",
    "\n",
    ")\n",
    "\n",
    "# Transpose the axes using the swap_axes method\n",
    "dotplot = dotplot.swap_axes(swap_axes=False)\n",
    "\n",
    "# Modify the style for grayscale and remove outlines\n",
    "dotplot = dotplot.style(\n",
    "    cmap=\"Greys\",               # Use grayscale colormap\n",
    "    dot_edge_color=None,        # Remove dot outlines\n",
    "    dot_edge_lw=0,              # No line width for edges\n",
    "    grid=False,                 # Optional: Disable grid lines\n",
    "    dot_min=0.1,                # Minimum dot size\n",
    "    dot_max=0.8,                 # Maximum dot size\n",
    ")\n",
    "\n",
    "# Show the plot\n",
    "dotplot.show()\n",
    "\n",
    "# Save the plot as SVG with a transparent background\n",
    "output_path = '/data/vasileiosionat2/IBEX_FINAL/Scimap/Outputs/Figures_paper/Figure4/Xenium_Total_Epi_Lvl5_dotplot.pdf'\n",
    "#dotplot.savefig(output_path, dpi=300, bbox_inches='tight', transparent=True)"
   ]
  },
  {
   "cell_type": "code",
   "execution_count": null,
   "id": "9771f738-48c5-47a3-aada-cca451bc1ca1",
   "metadata": {},
   "outputs": [],
   "source": [
    "import scanpy as sc\n",
    "# Start plotting with black background\n",
    "import matplotlib.pyplot as plt\n",
    "import numpy as np\n",
    "\n",
    "plt.rcParams['font.family'] = 'Arial'\n",
    "plt.rcParams['pdf.fonttype'] = 42  # Ensures fonts are embedded as text, not outlines\n",
    "plt.rcParams['ps.fonttype'] = 42\n",
    "\n",
    "# Define the subset of clusters you want to include and their desired order\n",
    "clusters_of_interest = [\"Crev\", \"Basal\", \"Spinous\", \"Keratin\"]\n",
    "\n",
    "# Define the subset of genes you want to plot in the desired order\n",
    "correct_order = [\n",
    "   'KRT5', 'COL17A1', 'DST', 'ITGB4', 'CXCL14', 'C1R', 'IL1R2',\n",
    "      'CAVIN1', 'PDPN', 'BASP1',\n",
    "'SLC26A2', 'MYC', 'CFH', 'PTN',\n",
    "'MKI67', 'CDK1', 'AQP3', 'KRT19', 'FGFBP1', 'S100A16', 'LY6D', 'SDC1', \n",
    "  'CYP4B1', 'MAMDC2', 'SERPINB3', 'NOD2',\n",
    "'S100A16', 'SLPI', 'IL1RN', 'ANXA1',\n",
    "'C15orf48', 'IL36A','CNFN', 'IL36G',\n",
    " 'SERPINB2', 'EHF',  'ERBB2', 'ODAM', 'ODAPH', 'LAMC2', 'CXCL1', 'CXCL2', 'CXCL6', 'SLPI',\n",
    "'IL1A', 'IL36G', 'C15orf48', 'ANXA1', 'DNASE1L3',\n",
    "'COL17A1', 'DST', 'C1R', 'ITGB4', 'SAA1', 'SAA2',\n",
    "'CYP4B1', 'CFH', 'EHF',  'CLEC7A', 'CFHR3'\n",
    "]\n",
    "\n",
    "# Subset the AnnData object to include only the clusters of interest\n",
    "adata_subset = adata_Wil_GEpi[adata_Wil_GEpi.obs['xenium_to_sc_label'].isin(clusters_of_interest)].copy()\n",
    "\n",
    "# Ensure clusters are ordered as specified\n",
    "adata_subset.obs['xenium_to_sc_label'] = adata_subset.obs['xenium_to_sc_label'].astype(\n",
    "    pd.CategoricalDtype(categories=clusters_of_interest, ordered=True)\n",
    ")\n",
    "\n",
    "# Create the DotPlot\n",
    "dotplot = sc.pl.DotPlot(\n",
    "    adata_subset,\n",
    "    var_names=correct_order,       # Genes on the x-axis\n",
    "    groupby='xenium_to_sc_label',                # Clusters on the y-axis\n",
    "    standard_scale='var',          # Apply standard scaling across variables\n",
    "    vmin=0.2,\n",
    "    vmax=0.8,                       # Set a max value for the scale\n",
    "    figsize=(20, 4)\n",
    "\n",
    ")\n",
    "\n",
    "# Transpose the axes using the swap_axes method\n",
    "dotplot = dotplot.swap_axes(swap_axes=False)\n",
    "\n",
    "# Modify the style for grayscale and remove outlines\n",
    "dotplot = dotplot.style(\n",
    "    cmap=\"Greys\",               # Use grayscale colormap\n",
    "    dot_edge_color=None,        # Remove dot outlines\n",
    "    dot_edge_lw=0,              # No line width for edges\n",
    "    grid=False,                 # Optional: Disable grid lines\n",
    "    dot_min=0.1,                # Minimum dot size\n",
    "    dot_max=0.8,                 # Maximum dot size\n",
    ")\n",
    "\n",
    "# Show the plot\n",
    "dotplot.show()\n",
    "\n",
    "# Save the plot as SVG with a transparent background\n",
    "output_path = '/data/vasileiosionat2/IBEX_FINAL/Scimap/Outputs/Figures_paper/Figure4/Xenium_Total_Epi_Lvl5_dotplot.pdf'\n",
    "#dotplot.savefig(output_path, dpi=300, bbox_inches='tight', transparent=True)"
   ]
  },
  {
   "cell_type": "code",
   "execution_count": null,
   "id": "e63c186e-c2b2-47a5-bfd1-52a050262593",
   "metadata": {},
   "outputs": [],
   "source": [
    "adata.var"
   ]
  },
  {
   "cell_type": "code",
   "execution_count": null,
   "id": "3fb932f2-eacf-4ec5-8971-f69669a60a8c",
   "metadata": {},
   "outputs": [],
   "source": [
    "category_counts = merged_sc.obs[\"clusterCellTypes\"].value_counts()\n",
    "print(category_counts)"
   ]
  },
  {
   "cell_type": "code",
   "execution_count": null,
   "id": "d73d7c41-d0ab-4be4-bf99-82099d6083ff",
   "metadata": {},
   "outputs": [],
   "source": [
    "category_counts = merged_sc.obs[\"xenium_to_sc_label\"].value_counts()\n",
    "print(category_counts)"
   ]
  },
  {
   "cell_type": "code",
   "execution_count": null,
   "id": "e2a780be-2d2c-471e-9496-0899b173c170",
   "metadata": {},
   "outputs": [],
   "source": [
    "merged_sc.obs.index = merged_sc.obs.index.str.replace(\"-scSeq\", \"\", regex=False)"
   ]
  },
  {
   "cell_type": "code",
   "execution_count": null,
   "id": "fbbbb98a-fc66-4767-9adb-57628d2cfdf3",
   "metadata": {},
   "outputs": [],
   "source": [
    "adata_Wil_GEpi.obs[\"xenium_to_sc_label\"] = merged_sc.obs[\"xenium_to_sc_label\"].reindex(adata_Wil_GEpi.obs.index)"
   ]
  },
  {
   "cell_type": "code",
   "execution_count": null,
   "id": "429b6b17-6b8e-4871-b1de-e6104f5d6341",
   "metadata": {},
   "outputs": [],
   "source": [
    "adata_ts = sc.read_h5ad(\"/data/vasileiosionat2/Xenium/tabula_sapiens_epithelial/676b8605-7e5f-42c3-940a-aa7042c50f63.h5ad\")"
   ]
  },
  {
   "cell_type": "code",
   "execution_count": null,
   "id": "64272407-ec95-420a-acd9-00b5a3fefc36",
   "metadata": {},
   "outputs": [],
   "source": [
    "adata_ts.obs"
   ]
  },
  {
   "cell_type": "code",
   "execution_count": null,
   "id": "073d7072-43bf-40c5-a212-e688c0162ae1",
   "metadata": {},
   "outputs": [],
   "source": [
    "adata_ts.obs['tissue_type'].unique().tolist()"
   ]
  },
  {
   "cell_type": "code",
   "execution_count": null,
   "id": "92fdfdad-fc2b-487a-be39-45c589a1fdf2",
   "metadata": {},
   "outputs": [],
   "source": [
    "adata_Wil_HGEpi = adata_Wil_GEpi[adata_Wil_GEpi.obs['status'] == 'H'].copy()"
   ]
  },
  {
   "cell_type": "code",
   "execution_count": null,
   "id": "8bacdbb9-f4e6-455e-91c5-dd915e11c306",
   "metadata": {},
   "outputs": [],
   "source": [
    "category_counts = adata_Wil_HGEpi.obs[\"xenium_to_sc_label\"].value_counts()\n",
    "print(category_counts)"
   ]
  },
  {
   "cell_type": "code",
   "execution_count": null,
   "id": "8a8dc681-91e0-4eef-b576-2a93c071d2e9",
   "metadata": {},
   "outputs": [],
   "source": [
    "adata_Wil_HGEpi.obs"
   ]
  },
  {
   "cell_type": "code",
   "execution_count": null,
   "id": "a9a10843-224f-400e-adce-f3d3ec24b1f5",
   "metadata": {},
   "outputs": [],
   "source": [
    "adata_Wil_HGEpi.obs[\"cell_type_integration\"] = adata_Wil_HGEpi.obs[\"tissue\"].astype(str) + \"_\" + adata_Wil_HGEpi.obs[\"xenium_to_sc_label\"].astype(str)"
   ]
  },
  {
   "cell_type": "code",
   "execution_count": null,
   "id": "02ce78be-70b2-485e-9bd1-31fa79c56538",
   "metadata": {},
   "outputs": [],
   "source": [
    "adata_Wil_HGEpi.obs"
   ]
  },
  {
   "cell_type": "code",
   "execution_count": null,
   "id": "43abafb5-41bf-4ff9-a832-94977b7b5eca",
   "metadata": {},
   "outputs": [],
   "source": [
    "adata_ts.obs[\"cell_type_integration\"] = adata_ts.obs[\"tissue\"].astype(str) + \"_\" + adata_ts.obs[\"cell_type\"].astype(str)"
   ]
  },
  {
   "cell_type": "code",
   "execution_count": null,
   "id": "3cbcc903-a2be-40fa-b87a-ff27134f8e92",
   "metadata": {},
   "outputs": [],
   "source": [
    "adata_ts.obs"
   ]
  },
  {
   "cell_type": "code",
   "execution_count": null,
   "id": "513f7a09-96d0-4e45-bbae-37d4625fd3f0",
   "metadata": {
    "scrolled": true
   },
   "outputs": [],
   "source": [
    "adata_ts.obs['cell_type_integration'].unique().tolist()"
   ]
  },
  {
   "cell_type": "code",
   "execution_count": null,
   "id": "dc6aaae0-008e-4859-98a8-3b468cf8ef40",
   "metadata": {},
   "outputs": [],
   "source": [
    "import scanpy as sc\n",
    "\n",
    "# Assuming adata1 and adata2 are your two AnnData objects\n",
    "# First, check that the two AnnData objects have a common index in their 'obs' columns\n",
    "common_obs_columns = adata_ts.obs.columns.intersection(adata_Wil_HGEpi.obs.columns)\n",
    "common_obs_columns"
   ]
  },
  {
   "cell_type": "code",
   "execution_count": null,
   "id": "c8c44818-0635-4849-8c67-62e437a9de82",
   "metadata": {},
   "outputs": [],
   "source": [
    "adata_ts.var.index = adata_ts.var.index.astype(str)\n",
    "adata_Wil_HGEpi.var.index = adata_Wil_HGEpi.var.index.astype(str)"
   ]
  },
  {
   "cell_type": "code",
   "execution_count": null,
   "id": "ea5afadd-f04b-42ff-bf28-e439060e1506",
   "metadata": {},
   "outputs": [],
   "source": [
    "adata_Wil_HGEpi.var"
   ]
  },
  {
   "cell_type": "code",
   "execution_count": null,
   "id": "ffb9967e-4700-4f8f-9dc1-f2b592ab10a5",
   "metadata": {},
   "outputs": [],
   "source": [
    "import pandas as pd\n",
    "import scanpy as sc\n",
    "\n",
    "# Step 1: Standardize column names\n",
    "adata_ts.var.columns = adata_ts.var.columns.str.lower()\n",
    "adata_Wil_HGEpi.var.columns = adata_Wil_HGEpi.var.columns.str.lower()\n",
    "\n",
    "# Step 2: If adata2.var has only one column, rename it\n",
    "if adata_Wil_HGEpi.var.shape[1] == 1:\n",
    "    adata_Wil_HGEpi.var.rename(columns={adata_Wil_HGEpi.var.columns[0]: \"feature_name\"}, inplace=True)  # Adjust if necessary\n",
    "\n",
    "# Step 3: Align var_names (index) based on Ensembl IDs or Gene Names\n",
    "# If `adata1.var` contains Ensembl IDs, ensure `adata2` matches\n",
    "if \"feature_name\" in adata_ts.var.columns:\n",
    "    adata_ts.var.set_index(\"feature_name\", inplace=True)\n",
    "    \n",
    "if \"feature_name\" in adata_Wil_HGEpi.var.columns:\n",
    "    adata_Wil_HGEpi.var.set_index(\"feature_name\", inplace=True)\n",
    "\n",
    "# Step 4: Identify common genes (after renaming/indexing)\n",
    "common_genes = adata_ts.var_names.intersection(adata_Wil_HGEpi.var_names)\n",
    "\n",
    "# Step 5: Subset both datasets to only include shared genes\n",
    "adata_ts = adata_ts[:, common_genes].copy()\n",
    "adata_Wil_HGEpi = adata_Wil_HGEpi[:, common_genes].copy()\n",
    "\n",
    "# Step 6: Merge metadata from `adata1.var` into `adata2.var`\n",
    "adata_Wil_HGEpi.var = adata_ts.var.loc[common_genes]  # Ensure `adata2.var` matches `adata1.var`\n",
    "\n",
    "# Step 7: Concatenate\n",
    "adata_combined = adata_ts.concatenate(adata_Wil_HGEpi, join='inner', batch_key=\"batch\")\n",
    "\n",
    "# Step 8: Restore original `var` structure\n",
    "adata_combined.var = adata_ts.var  # Retain original metadata from `adata1`\n"
   ]
  },
  {
   "cell_type": "code",
   "execution_count": null,
   "id": "9f130993-5307-4b00-83e3-bc3df745cb78",
   "metadata": {},
   "outputs": [],
   "source": [
    "sc.pp.normalize_total(adata_combined, target_sum=1e4)  # Normalize counts per cell\n",
    "sc.pp.log1p(adata_combined)  # Log-transform\n",
    "sc.pp.highly_variable_genes(adata_combined, flavor='seurat', n_top_genes=2000)"
   ]
  },
  {
   "cell_type": "code",
   "execution_count": null,
   "id": "932c01c1-ac90-4ec1-890a-90a206f6a17e",
   "metadata": {},
   "outputs": [],
   "source": [
    "adata_combined = adata_combined[:, adata_combined.var['highly_variable']].copy()\n",
    "sc.pp.scale(adata_combined)"
   ]
  },
  {
   "cell_type": "code",
   "execution_count": null,
   "id": "9d50a317-099d-4f9b-b1e4-edc65819ef2e",
   "metadata": {},
   "outputs": [],
   "source": [
    "adata_combined.var"
   ]
  },
  {
   "cell_type": "code",
   "execution_count": null,
   "id": "ed46ad77-798c-4d91-8fee-6088f4b29dcc",
   "metadata": {},
   "outputs": [],
   "source": [
    "adata_combined.obs"
   ]
  },
  {
   "cell_type": "code",
   "execution_count": null,
   "id": "6727a9fe-4d38-47b8-8c44-4c6ddbb1c271",
   "metadata": {},
   "outputs": [],
   "source": [
    "sc.tl.pca(adata_combined)"
   ]
  },
  {
   "cell_type": "code",
   "execution_count": null,
   "id": "28a958a0-b1e1-4444-8f45-9566a9a815d7",
   "metadata": {},
   "outputs": [],
   "source": [
    "adata_combined.write('/data/vasileiosionat2/Xenium/tabula_sapiens_epithelial/ts_oralscSeq.h5ad')"
   ]
  },
  {
   "cell_type": "code",
   "execution_count": null,
   "id": "d4ee9886-6cc0-419e-b1a9-5931a7e49f9c",
   "metadata": {},
   "outputs": [],
   "source": [
    "adata_combined = sc.read_h5ad(\"/data/vasileiosionat2/Xenium/tabula_sapiens_epithelial/ts_oralscSeq.h5ad\")"
   ]
  },
  {
   "cell_type": "code",
   "execution_count": null,
   "id": "ef75d390-182d-422e-ac16-47911d9d4c5c",
   "metadata": {},
   "outputs": [],
   "source": [
    "adata_combined.obs"
   ]
  },
  {
   "cell_type": "code",
   "execution_count": null,
   "id": "33ec4bb7-475f-4dd9-94f6-993b2a16fd6d",
   "metadata": {
    "scrolled": true
   },
   "outputs": [],
   "source": [
    "# This step takes time; ~10 min per iteration\n",
    "sc.external.pp.harmony_integrate(adata_combined, key=\"batch\", max_iter_harmony=20, max_iter_kmeans=30)"
   ]
  },
  {
   "cell_type": "code",
   "execution_count": null,
   "id": "048db9a2-7fdc-44ef-acc8-6e45dfdd0bac",
   "metadata": {},
   "outputs": [],
   "source": [
    "# Visualize merged with UMAP embedding; takes a long time\n",
    "sc.pp.neighbors(adata_combined, n_neighbors=30, use_rep=\"X_pca_harmony\", metric=\"correlation\")\n",
    "sc.tl.umap(adata_combined, min_dist=0.8)"
   ]
  },
  {
   "cell_type": "code",
   "execution_count": null,
   "id": "d5213e22-48c0-47b9-a3af-858353c352cf",
   "metadata": {},
   "outputs": [],
   "source": [
    "sc.pl.umap(adata_combined, color='tissue_in_publication')"
   ]
  },
  {
   "cell_type": "code",
   "execution_count": null,
   "id": "ae98b63d-7852-40d2-983d-0a47f01d1660",
   "metadata": {},
   "outputs": [],
   "source": [
    "adata_combined.obs['tissue_in_publication'] = adata_combined.obs['tissue_in_publication'].cat.add_categories('Gingiva-TAE')\n",
    "adata_combined.obs['tissue_in_publication'] = adata_combined.obs['tissue_in_publication'].cat.add_categories('Gingiva-OE')\n",
    "\n",
    "# Now assign the value 'gingiva' to the 'tissue_in_publication' column where 'batch' is 1\n",
    "adata_combined.obs.loc[adata_combined.obs['batch'] == \"1\", 'tissue_in_publication'] = 'Gingiva-OE'\n",
    "# Now assign the value 'gingiva' to the 'tissue_in_publication' column where 'batch' is 1\n",
    "adata_combined.obs.loc[adata_combined.obs['cell_type_integration'] == \"gingiva_Crev\", 'tissue_in_publication'] = 'Gingiva-TAE'"
   ]
  },
  {
   "cell_type": "code",
   "execution_count": null,
   "id": "4e1f67bb-178c-4c81-907e-ec638af9bc6a",
   "metadata": {},
   "outputs": [],
   "source": [
    "adata_combined.obs['tissue_in_publication'].unique().tolist()"
   ]
  },
  {
   "cell_type": "code",
   "execution_count": null,
   "id": "0ce5d6df-170b-411f-b6e0-34466b382bdb",
   "metadata": {},
   "outputs": [],
   "source": [
    "adata_combined_barrier = adata_combined[adata_combined.obs['tissue_in_publication'].isin([\"Lung\", \"Large_Intestine\", \"Skin\",\n",
    "                                                                                          \"Small_Intestine\", \"Tongue\", \"Gingiva-OE\", \"Gingiva-TAE\"])].copy()"
   ]
  },
  {
   "cell_type": "code",
   "execution_count": null,
   "id": "86334937-55dd-44f5-a011-e9dfc4d58e99",
   "metadata": {},
   "outputs": [],
   "source": [
    "adata_combined_barrier.obs['cell_type_integration'].unique().tolist()"
   ]
  },
  {
   "cell_type": "code",
   "execution_count": null,
   "id": "c579e2cc-85ce-4e93-9760-357a84a577a2",
   "metadata": {},
   "outputs": [],
   "source": [
    "adata_combined_barrier_Epi = adata_combined_barrier[adata_combined_barrier.obs['cell_type_integration'].isin(['lung_respiratory goblet cell',\n",
    " 'lung_basal cell',\n",
    " 'lung_pulmonary alveolar type 2 cell',\n",
    " 'lung_pulmonary alveolar type 1 cell',\n",
    " 'skin of chest_epithelial cell',\n",
    " 'skin of abdomen_epithelial cell',\n",
    " 'lung_lung ciliated cell',\n",
    " 'lung_club cell',\n",
    " 'posterior part of tongue_basal cell',\n",
    " 'anterior part of tongue_basal cell',\n",
    " 'anterior part of tongue_stratified squamous epithelial cell',\n",
    " 'large intestine_enterocyte of epithelium of large intestine',\n",
    " 'large intestine_paneth cell of colon',\n",
    " 'large intestine_intestinal crypt stem cell of colon',\n",
    " 'large intestine_tuft cell of colon',\n",
    " 'small intestine_enterocyte of epithelium proper of small intestine',\n",
    " 'small intestine_paneth cell of epithelium of small intestine',\n",
    " 'small intestine_intestinal crypt stem cell of small intestine',\n",
    " 'small intestine_small intestine goblet cell',\n",
    " 'small intestine_intestinal tuft cell',\n",
    " 'tongue_basal cell',\n",
    " 'tongue_stratified squamous epithelial cell',\n",
    " 'large intestine_large intestine goblet cell',\n",
    " 'large intestine_enterochromaffin-like cell', \n",
    " 'small intestine_BEST4+ intestinal epithelial cell, human',\n",
    " 'small intestine_enterocyte of epithelium proper of ileum',\n",
    " 'small intestine_enterocyte of epithelium proper of duodenum', \n",
    " 'small intestine_transit amplifying cell of small intestine', \n",
    " 'ascending colon_large intestine goblet cell',\n",
    " 'ascending colon_intestinal crypt stem cell of colon',\n",
    " 'ascending colon_tuft cell of colon',\n",
    " 'ascending colon_enterocyte of epithelium of large intestine',\n",
    " 'ascending colon_BEST4+ intestinal epithelial cell, human',\n",
    " 'ascending colon_transit amplifying cell of colon',\n",
    " 'ascending colon_enterochromaffin-like cell', 'ileum_enterocyte of epithelium proper of ileum',\n",
    " 'ileum_small intestine goblet cell',\n",
    " 'ileum_intestinal crypt stem cell of small intestine',\n",
    " 'ileum_paneth cell of epithelium of small intestine',\n",
    " 'ileum_intestinal tuft cell',\n",
    " 'ileum_BEST4+ intestinal epithelial cell, human', \n",
    " 'duodenum_enterocyte of epithelium proper of duodenum',\n",
    " 'duodenum_BEST4+ intestinal epithelial cell, human',\n",
    " 'duodenum_paneth cell of epithelium of small intestine',\n",
    " 'duodenum_small intestine goblet cell',\n",
    " 'duodenum_intestinal crypt stem cell of small intestine', 'duodenum_intestinal tuft cell',\n",
    " 'duodenum_transit amplifying cell of small intestine',\n",
    " 'sigmoid colon_large intestine goblet cell',\n",
    " 'sigmoid colon_intestinal crypt stem cell of colon',\n",
    " 'sigmoid colon_BEST4+ intestinal epithelial cell, human',\n",
    " 'sigmoid colon_enterocyte of epithelium of large intestine',\n",
    " 'sigmoid colon_transit amplifying cell of colon',\n",
    " 'sigmoid colon_paneth cell of colon',\n",
    " 'large intestine_transit amplifying cell of colon', \n",
    "  'posterior part of tongue_stratified squamous epithelial cell', 'sigmoid colon_enterochromaffin-like cell',\n",
    " 'sigmoid colon_tuft cell of colon',\n",
    " 'ascending colon_paneth cell of colon',\n",
    " 'duodenum_enterocyte of epithelium proper of ileum', \n",
    " 'jejunum_enterocyte of epithelium proper of jejunum',\n",
    " 'jejunum_intestinal crypt stem cell of small intestine',\n",
    " 'jejunum_intestinal tuft cell',\n",
    " 'jejunum_paneth cell of epithelium of small intestine',\n",
    " 'jejunum_BEST4+ intestinal epithelial cell, human',\n",
    " 'jejunum_small intestine goblet cell', 'gingiva_Crev',\n",
    " 'gingiva_Basal',\n",
    " 'gingiva_Spinous',\n",
    " 'gingiva_Keratin'])].copy()"
   ]
  },
  {
   "cell_type": "code",
   "execution_count": null,
   "id": "ed9cec67-6df4-4096-9b5b-03205a062733",
   "metadata": {},
   "outputs": [],
   "source": [
    "adata_combined_barrier_Epi.obs['cell_type_integration'].unique().tolist()"
   ]
  },
  {
   "cell_type": "code",
   "execution_count": null,
   "id": "c8fd1d57-632c-4a93-8611-ca96220b8ed4",
   "metadata": {},
   "outputs": [],
   "source": [
    "adata_combined_barrier_Epi.obs"
   ]
  },
  {
   "cell_type": "code",
   "execution_count": null,
   "id": "d8b0bda1-cff6-410a-8477-7240865ed3ed",
   "metadata": {},
   "outputs": [],
   "source": [
    "import scanpy as sc\n",
    "\n",
    "# Assuming you've already harmonized and performed PCA\n",
    "\n",
    "# Step 1: Perform PCA if not already done (assuming PCA is required)\n",
    "# You can skip this if PCA is already available\n",
    "sc.pp.pca(adata_combined_barrier_Epi, n_comps=20)\n",
    "\n",
    "# Step 2: Compute the nearest neighbors\n",
    "sc.pp.neighbors(adata_combined_barrier_Epi, use_rep='X_pca', n_neighbors=15)\n",
    "\n",
    "# Step 3: Perform Leiden clustering with a low resolution for coarse clustering\n",
    "sc.tl.leiden(adata_combined_barrier_Epi, resolution=0.1)  # A lower value gives fewer, coarser clusters\n",
    "\n",
    "# Step 4: Visualize the coarse clusters\n",
    "sc.pl.umap(adata_combined_barrier_Epi, color=['leiden'])\n"
   ]
  },
  {
   "cell_type": "code",
   "execution_count": null,
   "id": "88208f38-d78d-4f5c-830e-852410ea87cf",
   "metadata": {},
   "outputs": [],
   "source": [
    "sc.pl.umap(adata_combined_barrier_Epi, color=['tissue_in_publication'])"
   ]
  },
  {
   "cell_type": "code",
   "execution_count": null,
   "id": "b7397be1-b01b-4c72-a6e2-bd4ef4935216",
   "metadata": {},
   "outputs": [],
   "source": [
    "adata_combined_barrier_Epi.obs['tissue_in_publication'].unique().tolist()"
   ]
  },
  {
   "cell_type": "code",
   "execution_count": null,
   "id": "4cd7b2b5-9d25-4cad-90fd-b25a8e694922",
   "metadata": {},
   "outputs": [],
   "source": [
    "import scanpy as sc\n",
    "\n",
    "# Step 1: Ensure all observation names are unique\n",
    "adata_combined.obs_names_make_unique()\n",
    "\n",
    "# Subset the data to include categories starting with 'T-' or equal to 'B'\n",
    "adata_subset = adata_combined_barrier_Epi[adata_combined_barrier_Epi.obs['cell_type_integration'].isin([\n",
    " 'skin of chest_epithelial cell',\n",
    " 'posterior part of tongue_basal cell',\n",
    " 'anterior part of tongue_basal cell',\n",
    " 'anterior part of tongue_stratified squamous epithelial cell',\n",
    " 'eye_conjunctival epithelial cell',\n",
    " 'tongue_basal cell',\n",
    " 'tongue_stratified squamous epithelial cell',\n",
    " 'ocular surface region_conjunctival epithelial cell',\n",
    " 'ocular surface region_corneal epithelial cell',\n",
    " 'sclera_conjunctival epithelial cell',\n",
    "'anterior segment of eyeball_conjunctival epithelial cell',\n",
    "'posterior part of tongue_stratified squamous epithelial cell',\n",
    " 'conjunctiva_conjunctival epithelial cell',\n",
    "'posterior segment of eyeball_conjunctival epithelial cell', 'cornea_corneal epithelial cell',\n",
    "'eyelid_conjunctival epithelial cell', 'gingiva_Crev', 'gingiva_Basal', 'gingiva_Spinous',\n",
    "'gingiva_Keratin'\n",
    "])]\n",
    "\n",
    "# Ensure 'leiden' is categorical\n",
    "adata_subset.obs['cell_type_integration'] = adata_subset.obs['cell_type_integration'].astype('category')\n",
    "\n",
    "# Step 2: Log-transform the data if not already done\n",
    "sc.pp.log1p(adata_subset)\n",
    "\n",
    "# Step 3: Perform differential expression analysis using the Wilcoxon method\n",
    "sc.tl.rank_genes_groups(adata_subset, 'cell_type_integration', method='wilcoxon', use_raw=False)\n",
    "\n",
    "# Step 4: Extract top marker genes for each cluster\n",
    "top_genes_per_cluster = {}\n",
    "for cluster in adata_subset.obs['cell_type_integration'].cat.categories:\n",
    "    # Ensure that you're correctly accessing the gene names using a valid index\n",
    "    top_genes_per_cluster[cluster] = adata_subset.uns['rank_genes_groups']['names'][cluster][:20]  # Top 10 genes\n",
    "\n",
    "# Step 5: Generate dendrogram for cluster ordering\n",
    "sc.tl.dendrogram(adata_subset, groupby='cell_type_integration')\n",
    "\n",
    "# Step 6: Retrieve the cluster order based on the dendrogram\n",
    "cluster_order = adata_subset.uns['dendrogram_cell_type_integration']['categories_ordered']\n",
    "\n",
    "# Step 7: Ensure each cluster has at least 3 unique genes\n",
    "unique_genes = set()\n",
    "genes_for_plot = []\n",
    "\n",
    "for cluster in cluster_order:\n",
    "    if cluster in top_genes_per_cluster:\n",
    "        cluster_genes = top_genes_per_cluster[cluster]\n",
    "        genes_for_this_cluster = []\n",
    "        for gene in cluster_genes:\n",
    "            # Ensure that the gene is not already added to the unique genes set\n",
    "            if len(genes_for_this_cluster) >= 20:  # Adjust to your desired number of genes\n",
    "                break\n",
    "            if gene not in unique_genes:\n",
    "                unique_genes.add(gene)\n",
    "                genes_for_this_cluster.append(gene)\n",
    "        genes_for_plot.extend(genes_for_this_cluster)\n",
    "\n",
    "# Step 8: Plot the dotplot with the unique genes, swapping axes if necessary\n",
    "sc.pl.dotplot(\n",
    "    adata_subset,\n",
    "    var_names=genes_for_plot,\n",
    "    groupby='cell_type_integration',  # Ensure 'leiden' is used here for clustering\n",
    "    dendrogram=True,\n",
    "    use_raw=False,\n",
    "    cmap=\"vlag\",\n",
    "    standard_scale='var',\n",
    "    swap_axes=True\n",
    ")"
   ]
  },
  {
   "cell_type": "code",
   "execution_count": null,
   "id": "fc859303-4f07-46c4-97c4-13406aeb4738",
   "metadata": {},
   "outputs": [],
   "source": [
    "adata_combined_barrier_Epi.obs['tissue_in_publication'] = adata_combined_barrier_Epi.obs['tissue_in_publication'].cat.add_categories('Gingiva-TAE')\n",
    "\n",
    "# Now assign the value 'gingiva' to the 'tissue_in_publication' column where 'batch' is 1\n",
    "adata_combined_barrier_Epi.obs.loc[adata_combined_barrier_Epi.obs['cell_type_integration'] == \"gingiva_Crev\", 'tissue_in_publication'] = 'Gingiva-TAE'"
   ]
  },
  {
   "cell_type": "code",
   "execution_count": null,
   "id": "37553a92-ff19-43eb-a9d5-f4b32049e8e4",
   "metadata": {},
   "outputs": [],
   "source": [
    "import scanpy as sc\n",
    "import pandas as pd\n",
    "\n",
    "# Step 1: Ensure all observation names are unique\n",
    "adata_combined_barrier_Epi.obs_names_make_unique()\n",
    "\n",
    "# Subset the data to include categories starting with 'T-' or equal to 'B'\n",
    "adata_subset = adata_combined_barrier_Epi[adata_combined_barrier_Epi.obs['tissue_in_publication'].isin(['Lung',\n",
    " 'Tongue',\n",
    " 'Skin',\n",
    " 'Large_Intestine',\n",
    " 'Small_Intestine',\n",
    " 'Gingiva-OE',\n",
    " 'Gingiva-TAE'\n",
    "])]\n",
    "\n",
    "# Ensure 'leiden' is categorical\n",
    "adata_subset.obs['tissue_in_publication'] = adata_subset.obs['tissue_in_publication'].astype('category')\n",
    "\n",
    "# Step 2: Log-transform the data if not already done\n",
    "sc.pp.log1p(adata_subset)\n",
    "\n",
    "# Step 3: Perform differential expression analysis using the Wilcoxon method\n",
    "sc.tl.rank_genes_groups(adata_subset, 'tissue_in_publication', method='wilcoxon', use_raw=False)\n",
    "\n",
    "# Step 4: Extract top marker genes for each cluster\n",
    "top_genes_per_cluster = {}\n",
    "for cluster in adata_subset.obs['tissue_in_publication'].cat.categories:\n",
    "    # Ensure that you're correctly accessing the gene names using a valid index\n",
    "    top_genes_per_cluster[cluster] = adata_subset.uns['rank_genes_groups']['names'][cluster][:50]  # Top 30 genes\n",
    "\n",
    "# Create a DataFrame where each column corresponds to a tissue and each row contains one of the top 30 genes\n",
    "df_top_genes = pd.DataFrame.from_dict(top_genes_per_cluster, orient='index').transpose()\n",
    "\n",
    "# Save to Excel\n",
    "#df_top_genes.to_excel(\"top_marker_genes_by_tissue.xlsx\", index=False)\n",
    "\n",
    "# Step 5: Generate dendrogram for cluster ordering\n",
    "sc.tl.dendrogram(adata_subset, groupby='tissue_in_publication')\n",
    "\n",
    "# Step 6: Retrieve the cluster order based on the dendrogram\n",
    "cluster_order = adata_subset.uns['dendrogram_tissue_in_publication']['categories_ordered']\n",
    "\n",
    "# Step 7: Ensure each cluster has at least 3 unique genes\n",
    "unique_genes = set()\n",
    "genes_for_plot = []\n",
    "\n",
    "for cluster in cluster_order:\n",
    "    if cluster in top_genes_per_cluster:\n",
    "        cluster_genes = top_genes_per_cluster[cluster]\n",
    "        genes_for_this_cluster = []\n",
    "        for gene in cluster_genes:\n",
    "            # Ensure that the gene is not already added to the unique genes set\n",
    "            if len(genes_for_this_cluster) >= 30:  # Adjust to your desired number of genes\n",
    "                break\n",
    "            if gene not in unique_genes:\n",
    "                unique_genes.add(gene)\n",
    "                genes_for_this_cluster.append(gene)\n",
    "        genes_for_plot.extend(genes_for_this_cluster)\n",
    "\n",
    "# Step 8: Plot the dotplot with the unique genes, swapping axes if necessary\n",
    "sc.pl.dotplot(\n",
    "    adata_subset,\n",
    "    var_names=genes_for_plot,\n",
    "    groupby='tissue_in_publication',  # Ensure 'leiden' is used here for clustering\n",
    "    dendrogram=True,\n",
    "    use_raw=False,\n",
    "    cmap=\"vlag\",\n",
    "    standard_scale='var',\n",
    "    swap_axes=True,\n",
    ")\n"
   ]
  },
  {
   "cell_type": "code",
   "execution_count": null,
   "id": "4968b3a2-0d2a-4143-876c-826825a0ef9f",
   "metadata": {},
   "outputs": [],
   "source": [
    "df_top_genes"
   ]
  },
  {
   "cell_type": "code",
   "execution_count": null,
   "id": "0e0ae6f9-1be1-408a-9dc7-6d8e05b3ea39",
   "metadata": {},
   "outputs": [],
   "source": [
    "import scanpy as sc\n",
    "# Start plotting with black background\n",
    "import matplotlib.pyplot as plt\n",
    "import numpy as np\n",
    "\n",
    "plt.rcParams['font.family'] = 'Arial'\n",
    "plt.rcParams['pdf.fonttype'] = 42  # Ensures fonts are embedded as text, not outlines\n",
    "plt.rcParams['ps.fonttype'] = 42\n",
    "\n",
    "# Define the subset of clusters you want to include and their desired order\n",
    "clusters_of_interest = [ 'Skin',\n",
    " 'Large_Intestine',\n",
    " 'Small_Intestine',\n",
    " 'Lung',\n",
    " 'Tongue',\n",
    " 'Gingiva-OE',\n",
    " 'Gingiva-TAE']\n",
    "\n",
    "# Define the subset of genes you want to plot in the desired order\n",
    "correct_order = [\n",
    "   'DCD', 'SEC11C', 'CEACAM5', 'MUC12', 'KRT20', 'PIGR', 'MUC13',\n",
    "      'MUC17', 'MME', 'SFTPB',\n",
    "'IFITM3', 'SLPI', 'CXCL17', 'KRT13',\n",
    "'KRT5', 'KRT6A',  'S100A8', 'S100A9', 'CXCL14', 'KRT4', 'ODAM', 'MMP12', 'FDCSP', 'SAA1', \n",
    "  'SAA2', 'DNASE1L3', 'CXCL1', 'CXCL8', ]\n",
    "\n",
    "# Subset the AnnData object to include only the clusters of interest\n",
    "adata_subset = adata_combined_barrier_Epi[adata_combined_barrier_Epi.obs['tissue_in_publication'].isin(clusters_of_interest)].copy()\n",
    "\n",
    "# Ensure clusters are ordered as specified\n",
    "adata_subset.obs['tissue_in_publication'] = adata_subset.obs['tissue_in_publication'].astype(\n",
    "    pd.CategoricalDtype(categories=clusters_of_interest, ordered=True)\n",
    ")\n",
    "\n",
    "# Create the DotPlot\n",
    "dotplot = sc.pl.DotPlot(\n",
    "    adata_subset,\n",
    "    var_names=correct_order,       # Genes on the x-axis\n",
    "    groupby='tissue_in_publication',                # Clusters on the y-axis\n",
    "    standard_scale='var',          # Apply standard scaling across variables\n",
    "    vmin=0.1,\n",
    "    vmax=0.8,                       # Set a max value for the scale\n",
    "    figsize=(9, 4)\n",
    "\n",
    ")\n",
    "\n",
    "# Transpose the axes using the swap_axes method\n",
    "dotplot = dotplot.swap_axes(swap_axes=False)\n",
    "\n",
    "# Modify the style for grayscale and remove outlines\n",
    "dotplot = dotplot.style(\n",
    "    cmap=\"Greys\",               # Use grayscale colormap\n",
    "    dot_edge_color=None,        # Remove dot outlines\n",
    "    dot_edge_lw=0,              # No line width for edges\n",
    "    grid=False,                 # Optional: Disable grid lines\n",
    "    dot_min=0.1,                # Minimum dot size\n",
    "    dot_max=0.8,                 # Maximum dot size\n",
    ")\n",
    "\n",
    "# Show the plot\n",
    "dotplot.show()\n",
    "\n",
    "# Save the plot as SVG with a transparent background\n",
    "output_path = '/data/vasileiosionat2/IBEX_FINAL/Scimap/Outputs/Figures_paper/Figure4/Tabula_Sapiens_integration.pdf'\n",
    "dotplot.savefig(output_path, dpi=300, bbox_inches='tight', transparent=True)"
   ]
  },
  {
   "cell_type": "code",
   "execution_count": null,
   "id": "8416327a-f104-486a-a0b9-ae51ed205ed7",
   "metadata": {},
   "outputs": [],
   "source": [
    "import scanpy as sc\n",
    "\n",
    "# Step 1: Ensure all observation names are unique\n",
    "adata_combined.obs_names_make_unique()\n",
    "\n",
    "# Subset the data to include categories starting with 'T-' or equal to 'B'\n",
    "adata_subset = adata_combined_barrier_Epi[adata_combined_barrier_Epi.obs['leiden'].isin(['2', '5', '8', '10', '9', '0', '4', '6', '13', '1', '3', '11', '12', '7'])]\n",
    "\n",
    "# Ensure 'leiden' is categorical\n",
    "adata_subset.obs['leiden'] = adata_subset.obs['leiden'].astype('category')\n",
    "\n",
    "# Step 2: Log-transform the data if not already done\n",
    "sc.pp.log1p(adata_subset)\n",
    "\n",
    "# Step 3: Perform differential expression analysis using the Wilcoxon method\n",
    "sc.tl.rank_genes_groups(adata_subset, 'leiden', method='wilcoxon', use_raw=False)\n",
    "\n",
    "# Step 4: Extract top marker genes for each cluster\n",
    "top_genes_per_cluster = {}\n",
    "for cluster in adata_subset.obs['leiden'].cat.categories:\n",
    "    # Ensure that you're correctly accessing the gene names using a valid index\n",
    "    top_genes_per_cluster[cluster] = adata_subset.uns['rank_genes_groups']['names'][cluster][:10]  # Top 10 genes\n",
    "\n",
    "# Step 5: Generate dendrogram for cluster ordering\n",
    "sc.tl.dendrogram(adata_subset, groupby='leiden')\n",
    "\n",
    "# Step 6: Retrieve the cluster order based on the dendrogram\n",
    "cluster_order = adata_subset.uns['dendrogram_leiden']['categories_ordered']\n",
    "\n",
    "# Step 7: Ensure each cluster has at least 3 unique genes\n",
    "unique_genes = set()\n",
    "genes_for_plot = []\n",
    "\n",
    "for cluster in cluster_order:\n",
    "    if cluster in top_genes_per_cluster:\n",
    "        cluster_genes = top_genes_per_cluster[cluster]\n",
    "        genes_for_this_cluster = []\n",
    "        for gene in cluster_genes:\n",
    "            # Ensure that the gene is not already added to the unique genes set\n",
    "            if len(genes_for_this_cluster) >= 20:  # Adjust to your desired number of genes\n",
    "                break\n",
    "            if gene not in unique_genes:\n",
    "                unique_genes.add(gene)\n",
    "                genes_for_this_cluster.append(gene)\n",
    "        genes_for_plot.extend(genes_for_this_cluster)\n",
    "\n",
    "# Step 8: Plot the dotplot with the unique genes, swapping axes if necessary\n",
    "sc.pl.dotplot(\n",
    "    adata_subset,\n",
    "    var_names=genes_for_plot,\n",
    "    groupby='leiden',  # Ensure 'leiden' is used here for clustering\n",
    "    dendrogram=True,\n",
    "    use_raw=False,\n",
    "    cmap=\"vlag\",\n",
    "    standard_scale='var',\n",
    "    swap_axes=True\n",
    ")"
   ]
  },
  {
   "cell_type": "code",
   "execution_count": null,
   "id": "d4d47558-99de-4621-a620-0a05024fc46b",
   "metadata": {},
   "outputs": [],
   "source": []
  },
  {
   "cell_type": "code",
   "execution_count": null,
   "id": "5af70021-342a-40ad-92aa-824311c5bc3c",
   "metadata": {},
   "outputs": [],
   "source": [
    "import scanpy as sc\n",
    "# Start plotting with black background\n",
    "import matplotlib.pyplot as plt\n",
    "import numpy as np\n",
    "\n",
    "plt.rcParams['font.family'] = 'Arial'\n",
    "plt.rcParams['pdf.fonttype'] = 42  # Ensures fonts are embedded as text, not outlines\n",
    "plt.rcParams['ps.fonttype'] = 42\n",
    "\n",
    "# Define the subset of clusters you want to include and their desired order\n",
    "clusters_of_interest = ['2', '5', '8', '10', '9', '0', '4', '6', '13', '1', '3', '11', '12', '7']\n",
    "\n",
    "# Define the subset of genes you want to plot in the desired order\n",
    "correct_order = [\n",
    "   'KRT5', 'COL17A1', 'DST', 'ITGB4', 'CXCL14', 'C1R', 'IL1R2',\n",
    "      'CAVIN1', 'PDPN', 'BASP1',\n",
    "'SLC26A2', 'MYC', 'CFH', 'PTN',\n",
    "'MKI67', 'CDK1', 'AQP3', 'KRT19', 'FGFBP1', 'S100A16', 'LY6D', 'SDC1', \n",
    "  'CYP4B1', 'MAMDC2', 'SERPINB3', 'NOD2',\n",
    "'S100A16', 'SLPI', 'IL1RN', 'ANXA1',\n",
    "'C15orf48', 'IL36A','CNFN', 'IL36G',\n",
    " 'SERPINB2', 'EHF',  'ERBB2', 'ODAM', 'ODAPH', 'LAMC2', 'CXCL1', 'CXCL2', 'CXCL6', 'SLPI',\n",
    "'IL1A', 'IL36G', 'C15orf48', 'ANXA1', 'DNASE1L3',\n",
    "'COL17A1', 'DST', 'C1R', 'ITGB4', 'SAA1', 'SAA2',\n",
    "'CYP4B1', 'CFH', 'EHF',  'CLEC7A', 'CFHR3'\n",
    "]\n",
    "\n",
    "# Subset the AnnData object to include only the clusters of interest\n",
    "adata_subset = adata_combined_barrier_Epi[adata_combined_barrier_Epi.obs['leiden'].isin(clusters_of_interest)].copy()\n",
    "\n",
    "# Ensure clusters are ordered as specified\n",
    "adata_subset.obs['leiden'] = adata_subset.obs['leiden'].astype(\n",
    "    pd.CategoricalDtype(categories=clusters_of_interest, ordered=True)\n",
    ")\n",
    "\n",
    "# Create the DotPlot\n",
    "dotplot = sc.pl.DotPlot(\n",
    "    adata_subset,\n",
    "    var_names=correct_order,       # Genes on the x-axis\n",
    "    groupby='leiden',                # Clusters on the y-axis\n",
    "    standard_scale='var',          # Apply standard scaling across variables\n",
    "    vmin=0.2,\n",
    "    vmax=0.8,                       # Set a max value for the scale\n",
    "    figsize=(20, 4)\n",
    "\n",
    ")\n",
    "\n",
    "# Transpose the axes using the swap_axes method\n",
    "dotplot = dotplot.swap_axes(swap_axes=False)\n",
    "\n",
    "# Modify the style for grayscale and remove outlines\n",
    "dotplot = dotplot.style(\n",
    "    cmap=\"Greys\",               # Use grayscale colormap\n",
    "    dot_edge_color=None,        # Remove dot outlines\n",
    "    dot_edge_lw=0,              # No line width for edges\n",
    "    grid=False,                 # Optional: Disable grid lines\n",
    "    dot_min=0.1,                # Minimum dot size\n",
    "    dot_max=0.8,                 # Maximum dot size\n",
    ")\n",
    "\n",
    "# Show the plot\n",
    "dotplot.show()\n",
    "\n",
    "# Save the plot as SVG with a transparent background\n",
    "output_path = '/data/vasileiosionat2/IBEX_FINAL/Scimap/Outputs/Figures_paper/Figure4/Xenium_Total_Epi_Lvl5_dotplot.pdf'\n",
    "#dotplot.savefig(output_path, dpi=300, bbox_inches='tight', transparent=True)"
   ]
  },
  {
   "cell_type": "code",
   "execution_count": null,
   "id": "e5371e61-dbf9-4bcd-9455-a579c3d64464",
   "metadata": {},
   "outputs": [],
   "source": [
    "sc.pl.umap(adata_combined_barrier_Epi, color=['cell_type_integration'])"
   ]
  },
  {
   "cell_type": "code",
   "execution_count": null,
   "id": "99247b74-80fd-4893-b8db-579823bad178",
   "metadata": {
    "scrolled": true
   },
   "outputs": [],
   "source": [
    "adata_combined.obs['cell_type_integration'].unique().tolist()"
   ]
  },
  {
   "cell_type": "code",
   "execution_count": null,
   "id": "14c4b761-cfe2-456d-a384-c174b6c3ad70",
   "metadata": {},
   "outputs": [],
   "source": [
    "import scanpy as sc\n",
    "\n",
    "# Assuming you already have the AnnData object `adata`\n",
    "# Check the leiden clusters and the cell type integration\n",
    "gingiva_crev_cells = adata_combined[adata_combined.obs['cell_type_integration'] == 'gingiva_Crev']\n",
    "\n",
    "# Check the leiden cluster assignments for 'gingiva_Crev' cells\n",
    "gingiva_crev_cells.obs['leiden'].unique().tolist()"
   ]
  },
  {
   "cell_type": "code",
   "execution_count": null,
   "id": "d695dcbc-346e-4b3c-a5d8-758a088c8470",
   "metadata": {},
   "outputs": [],
   "source": [
    "import scanpy as sc\n",
    "\n",
    "# Assuming you already have the AnnData object `adata`\n",
    "# Check the leiden clusters and the cell type integration\n",
    "leiden1 = adata_combined[adata_combined.obs['leiden'] == '1']\n",
    "\n",
    "# Count the number of cells for each unique value in 'cell_type_integration' for the 'leiden' cluster 1\n",
    "cell_counts = leiden1.obs['cell_type_integration'].value_counts()\n",
    "\n",
    "# Display the counts\n",
    "print(cell_counts)\n"
   ]
  },
  {
   "cell_type": "code",
   "execution_count": null,
   "id": "02353706-4178-44f5-a7b7-8dd59994801d",
   "metadata": {
    "scrolled": true
   },
   "outputs": [],
   "source": [
    "# Visualize merged with UMAP embedding; takes a long time\n",
    "sc.pp.neighbors(adata_combined, n_neighbors=50, use_rep=\"X_pca_harmony\", metric=\"correlation\")\n",
    "sc.tl.umap(adata_combined, min_dist=0.5)"
   ]
  },
  {
   "cell_type": "code",
   "execution_count": null,
   "id": "64223b19-f9f6-4ee7-aba4-44c96fa09528",
   "metadata": {},
   "outputs": [],
   "source": [
    "adata_ts.obs.columns.unique().tolist()"
   ]
  },
  {
   "cell_type": "code",
   "execution_count": null,
   "id": "fa0f7327-8d55-4059-ae0c-286a09967d8e",
   "metadata": {},
   "outputs": [],
   "source": [
    "refTNK.obs"
   ]
  },
  {
   "cell_type": "code",
   "execution_count": null,
   "id": "ce383f41-7d21-4af2-bfac-5bb7ff37c5bb",
   "metadata": {
    "tags": []
   },
   "outputs": [],
   "source": [
    "refBPl = sc.read_h5ad('/data/vasileiosionat2/Xenium/Integration/BPlasma.h5ad')"
   ]
  },
  {
   "cell_type": "code",
   "execution_count": null,
   "id": "68d4f7ab-b33a-4a38-87b5-b1f65798402a",
   "metadata": {},
   "outputs": [],
   "source": [
    "refBPl.obs"
   ]
  },
  {
   "cell_type": "code",
   "execution_count": null,
   "id": "1c3c7c71-c59f-4f1a-be1e-818e276f3c3c",
   "metadata": {},
   "outputs": [],
   "source": [
    "refBPl.var]"
   ]
  },
  {
   "cell_type": "code",
   "execution_count": null,
   "id": "1484bea9-ac68-4d6e-baea-574678240cab",
   "metadata": {
    "scrolled": true
   },
   "outputs": [],
   "source": [
    "import pandas as pd\n",
    "\n",
    "# Specify the file path\n",
    "file_path = \"/data/vasileiosionat2/Xenium/Integration/BPlasma.csv\"\n",
    "\n",
    "# Read the CSV into a DataFrame\n",
    "dfBPl = pd.read_csv(file_path)\n",
    "\n",
    "# Display the DataFrame\n",
    "print(dfBPl)\n",
    "\n",
    "# Access specific columns or rows\n",
    "#print(dfBPl[\"ColumnName\"])  # Access a column\n",
    "#print(dfBPl.iloc[0])        # Access the first row\n"
   ]
  },
  {
   "cell_type": "code",
   "execution_count": null,
   "id": "13348f02-e839-4df5-b2f4-85ddae02a550",
   "metadata": {},
   "outputs": [],
   "source": [
    "import pandas as pd\n",
    "import anndata as ad\n",
    "\n",
    "# Check the dimensions\n",
    "if len(dfBPl) != refBPl.n_obs:\n",
    "    raise ValueError(\"Number of rows in the CSV file does not match the number of observations in adata.obs\")\n",
    "\n",
    "# Optionally, ensure the rows align\n",
    "# If the index of `csv_data` and `adata.obs` don't match, you may need to align them:\n",
    "# csv_data.index = adata.obs.index\n",
    "\n",
    "# Add the CSV columns to `adata.obs`\n",
    "for column in dfBPl.columns:\n",
    "    refBPl.obs[column] = dfBPl[column].values\n",
    "\n",
    "# Save the updated AnnData object (optional)\n",
    "#adata.write(\"updated_adata.h5ad\")\n"
   ]
  },
  {
   "cell_type": "code",
   "execution_count": null,
   "id": "b7234322-d0b8-43c1-9de3-8bb4a7283f4a",
   "metadata": {},
   "outputs": [],
   "source": [
    "refBPl.obs"
   ]
  },
  {
   "cell_type": "code",
   "execution_count": null,
   "id": "fd4a1ca0-3e9a-4c0d-a006-5b4a1aad96f9",
   "metadata": {},
   "outputs": [],
   "source": [
    "# Remove the 'Unnamed: 0' column from adata.obs\n",
    "if 'Unnamed: 0' in refBPl.obs.columns:\n",
    "    del refBPl.obs['Unnamed: 0']\n",
    "\n",
    "# Alternatively, using the drop method\n",
    "# adata.obs.drop(columns=['Unnamed: 0'], inplace=True)\n",
    "\n",
    "# Verify the column is removed\n",
    "print(refBPl.obs.head())\n"
   ]
  },
  {
   "cell_type": "code",
   "execution_count": null,
   "id": "15ed757c-5add-4964-bc7b-a12c7d596c1c",
   "metadata": {},
   "outputs": [],
   "source": [
    "refBPl.obs.rename(columns={\"BPlasmaClusters\": \"cluster\"}, inplace=True)"
   ]
  },
  {
   "cell_type": "code",
   "execution_count": null,
   "id": "766a6375-49b6-4435-8571-00045ecc9c65",
   "metadata": {},
   "outputs": [],
   "source": [
    "refBPl.obs"
   ]
  },
  {
   "cell_type": "code",
   "execution_count": null,
   "id": "3885008a-104a-47cc-b103-bfa18e439cf3",
   "metadata": {
    "tags": []
   },
   "outputs": [],
   "source": [
    "refStr = sc.read_h5ad('/data/vasileiosionat2/Xenium/Integration/Stromal.h5ad')"
   ]
  },
  {
   "cell_type": "code",
   "execution_count": null,
   "id": "666f3332-7e35-4f10-830c-36604934790f",
   "metadata": {
    "scrolled": true
   },
   "outputs": [],
   "source": [
    "refStr.obs"
   ]
  },
  {
   "cell_type": "code",
   "execution_count": null,
   "id": "c4ffd2fc-5df6-42a1-873b-f2f6386eed02",
   "metadata": {
    "scrolled": true
   },
   "outputs": [],
   "source": [
    "import pandas as pd\n",
    "\n",
    "# Specify the file path\n",
    "file_path = \"/data/vasileiosionat2/Xenium/Integration/Stromal.csv\"\n",
    "\n",
    "# Read the CSV into a DataFrame\n",
    "dfStr = pd.read_csv(file_path)\n",
    "\n",
    "# Display the DataFrame\n",
    "print(dfStr)\n",
    "\n",
    "# Access specific columns or rows\n",
    "#print(dfStrdfStr[\"ColumnName\"])  # Access a column\n",
    "#print(dfStr.iloc[0])        # Access the first row\n"
   ]
  },
  {
   "cell_type": "code",
   "execution_count": null,
   "id": "d19fc267-4aa8-45de-9140-c1d42f30281b",
   "metadata": {},
   "outputs": [],
   "source": [
    "import pandas as pd\n",
    "import anndata as ad\n",
    "\n",
    "# Check the dimensions\n",
    "if len(dfStr) != refStr.n_obs:\n",
    "    raise ValueError(\"Number of rows in the CSV file does not match the number of observations in adata.obs\")\n",
    "\n",
    "# Optionally, ensure the rows align\n",
    "# If the index of `csv_data` and `adata.obs` don't match, you may need to align them:\n",
    "# csv_data.index = adata.obs.index\n",
    "\n",
    "# Add the CSV columns to `adata.obs`\n",
    "for column in dfStr.columns:\n",
    "    refStr.obs[column] = dfStr[column].values\n",
    "\n",
    "# Save the updated AnnData object (optional)\n",
    "#adata.write(\"updated_adata.h5ad\")\n"
   ]
  },
  {
   "cell_type": "code",
   "execution_count": null,
   "id": "8984d6a4-77ed-4cbc-9a3d-07919a96bb37",
   "metadata": {},
   "outputs": [],
   "source": [
    "refStr.obs"
   ]
  },
  {
   "cell_type": "code",
   "execution_count": null,
   "id": "7a34ea96-ed17-4ec3-8a70-6258099aeef3",
   "metadata": {},
   "outputs": [],
   "source": [
    "refStr.var"
   ]
  },
  {
   "cell_type": "code",
   "execution_count": null,
   "id": "34c050aa-e7b8-4f64-b48d-71994522bfb9",
   "metadata": {},
   "outputs": [],
   "source": [
    "refMyel.var"
   ]
  },
  {
   "cell_type": "code",
   "execution_count": null,
   "id": "01644aca-d299-4668-8236-1fc475b3830b",
   "metadata": {},
   "outputs": [],
   "source": [
    "# Remove the 'Unnamed: 0' column from adata.obs\n",
    "if 'Unnamed: 0' in refStr.obs.columns:\n",
    "    del refStr.obs['Unnamed: 0']\n",
    "\n",
    "# Alternatively, using the drop method\n",
    "# adata.obs.drop(columns=['Unnamed: 0'], inplace=True)\n",
    "\n",
    "# Verify the column is removed\n",
    "print(refStr.obs.head())\n"
   ]
  },
  {
   "cell_type": "code",
   "execution_count": null,
   "id": "919e0555-2080-48bc-bfff-06b93a040f2c",
   "metadata": {},
   "outputs": [],
   "source": [
    "refStr.obs.rename(columns={\"StromalClusters\": \"cluster\"}, inplace=True)"
   ]
  },
  {
   "cell_type": "code",
   "execution_count": null,
   "id": "4b1833b1-1d71-4ebd-8ef8-44c0e31389ae",
   "metadata": {},
   "outputs": [],
   "source": [
    "refStr.obs"
   ]
  },
  {
   "cell_type": "code",
   "execution_count": null,
   "id": "440f6858-1e68-4c3a-bc55-35dc0ce3243e",
   "metadata": {
    "tags": []
   },
   "outputs": [],
   "source": [
    "refEpi = sc.read_h5ad('/data/vasileiosionat2/Xenium/Integration/Epithelial.h5ad')"
   ]
  },
  {
   "cell_type": "code",
   "execution_count": null,
   "id": "f420d968-0964-41db-b534-2778a32c4513",
   "metadata": {},
   "outputs": [],
   "source": [
    "refEpi.obs"
   ]
  },
  {
   "cell_type": "code",
   "execution_count": null,
   "id": "81554582-b8ae-4dc3-a981-045499145f82",
   "metadata": {},
   "outputs": [],
   "source": [
    "refEpi.var"
   ]
  },
  {
   "cell_type": "code",
   "execution_count": null,
   "id": "19f846e4-b1c2-4604-b8ed-7162e71cfa91",
   "metadata": {
    "scrolled": true
   },
   "outputs": [],
   "source": [
    "import pandas as pd\n",
    "\n",
    "# Specify the file path\n",
    "file_path = \"/data/vasileiosionat2/Xenium/Integration/Epithelial.csv\"\n",
    "\n",
    "# Read the CSV into a DataFrame\n",
    "dfEpi = pd.read_csv(file_path)\n",
    "\n",
    "# Display the DataFrame\n",
    "print(dfEpi)\n",
    "\n",
    "# Access specific columns or rows\n",
    "print(dfEpi[\"ColumnName\"])  # Access a column\n",
    "print(dfEpi.iloc[0])        # Access the first row\n"
   ]
  },
  {
   "cell_type": "code",
   "execution_count": null,
   "id": "7630d1e2-9318-44b4-856a-6f04b3ce169f",
   "metadata": {},
   "outputs": [],
   "source": [
    "import pandas as pd\n",
    "import anndata as ad\n",
    "\n",
    "# Check the dimensions\n",
    "if len(dfEpi) != refEpi.n_obs:\n",
    "    raise ValueError(\"Number of rows in the CSV file does not match the number of observations in adata.obs\")\n",
    "\n",
    "# Optionally, ensure the rows align\n",
    "# If the index of `csv_data` and `adata.obs` don't match, you may need to align them:\n",
    "# csv_data.index = adata.obs.index\n",
    "\n",
    "# Add the CSV columns to `adata.obs`\n",
    "for column in dfEpi.columns:\n",
    "    refEpi.obs[column] = dfEpi[column].values\n",
    "\n",
    "# Save the updated AnnData object (optional)\n",
    "#adata.write(\"updated_adata.h5ad\")\n"
   ]
  },
  {
   "cell_type": "code",
   "execution_count": null,
   "id": "64a6468a-16e7-482c-8682-32e4597a8a96",
   "metadata": {},
   "outputs": [],
   "source": [
    "refEpi.obs"
   ]
  },
  {
   "cell_type": "code",
   "execution_count": null,
   "id": "246f7a7d-a549-456b-a926-f56e5d0e8fbc",
   "metadata": {},
   "outputs": [],
   "source": [
    "# Remove the 'Unnamed: 0' column from adata.obs\n",
    "if 'Unnamed: 0' in refEpi.obs.columns:\n",
    "    del refEpi.obs['Unnamed: 0']\n",
    "\n",
    "# Alternatively, using the drop method\n",
    "# adata.obs.drop(columns=['Unnamed: 0'], inplace=True)\n",
    "\n",
    "# Verify the column is removed\n",
    "print(refEpi.obs.head())\n"
   ]
  },
  {
   "cell_type": "code",
   "execution_count": null,
   "id": "d6210f77-14c6-4bf3-b8dd-d1e38a4caf79",
   "metadata": {},
   "outputs": [],
   "source": [
    "refEpi.obs.rename(columns={\"EpithelialClusters\": \"cluster\"}, inplace=True)"
   ]
  },
  {
   "cell_type": "code",
   "execution_count": null,
   "id": "a117bc7a-5cf7-4f04-b445-c8bb615671dc",
   "metadata": {},
   "outputs": [],
   "source": [
    "refEpi.obs"
   ]
  },
  {
   "cell_type": "code",
   "execution_count": null,
   "id": "8ed4d5fd-bdd7-4f27-9f98-1b96013c0ac3",
   "metadata": {
    "tags": []
   },
   "outputs": [],
   "source": [
    "refMyel = sc.read_h5ad('/data/vasileiosionat2/Xenium/Integration/Myeloid.h5ad')"
   ]
  },
  {
   "cell_type": "code",
   "execution_count": null,
   "id": "1543de16-ee9e-4c49-91ca-004600c9702a",
   "metadata": {},
   "outputs": [],
   "source": [
    "refMyel.obs"
   ]
  },
  {
   "cell_type": "code",
   "execution_count": null,
   "id": "8ee70dd6-6a33-4e75-b5d6-7d07f18c15f6",
   "metadata": {
    "scrolled": true
   },
   "outputs": [],
   "source": [
    "import pandas as pd\n",
    "\n",
    "# Specify the file path\n",
    "file_path = \"/data/vasileiosionat2/Xenium/Integration/Myeloid.csv\"\n",
    "\n",
    "# Read the CSV into a DataFrame\n",
    "dfMyel = pd.read_csv(file_path)\n",
    "\n",
    "# Display the DataFrame\n",
    "print(dfMyel)\n",
    "\n",
    "# Access specific columns or rows\n",
    "#print(dfTNK[\"ColumnName\"])  # Access a column\n",
    "#print(dfTNK.iloc[0])        # Access the first row\n"
   ]
  },
  {
   "cell_type": "code",
   "execution_count": null,
   "id": "fa4f8f84-db22-47ea-98ad-df59d6162717",
   "metadata": {},
   "outputs": [],
   "source": [
    "import pandas as pd\n",
    "import anndata as ad\n",
    "\n",
    "# Check the dimensions\n",
    "if len(dfMyel) != refMyel.n_obs:\n",
    "    raise ValueError(\"Number of rows in the CSV file does not match the number of observations in adata.obs\")\n",
    "\n",
    "# Optionally, ensure the rows align\n",
    "# If the index of `csv_data` and `adata.obs` don't match, you may need to align them:\n",
    "# csv_data.index = adata.obs.index\n",
    "\n",
    "# Add the CSV columns to `adata.obs`\n",
    "for column in dfMyel.columns:\n",
    "    refMyel.obs[column] = dfMyel[column].values\n",
    "\n",
    "# Save the updated AnnData object (optional)\n",
    "#adata.write(\"updated_adata.h5ad\")\n"
   ]
  },
  {
   "cell_type": "code",
   "execution_count": null,
   "id": "b923c197-e6c4-4cc7-89d4-4b2a64796d6b",
   "metadata": {},
   "outputs": [],
   "source": [
    "refMyel.obs"
   ]
  },
  {
   "cell_type": "code",
   "execution_count": null,
   "id": "2edae58c-8b74-4f0a-9307-7c035f9cc51c",
   "metadata": {},
   "outputs": [],
   "source": [
    "# Remove the 'Unnamed: 0' column from adata.obs\n",
    "if 'Unnamed: 0' in refMyel.obs.columns:\n",
    "    del refMyel.obs['Unnamed: 0']\n",
    "\n",
    "# Alternatively, using the drop method\n",
    "# adata.obs.drop(columns=['Unnamed: 0'], inplace=True)\n",
    "\n",
    "# Verify the column is removed\n",
    "print(refMyel.obs.head())\n"
   ]
  },
  {
   "cell_type": "code",
   "execution_count": null,
   "id": "6b70f543-0633-40d7-8d9f-e943c6498e27",
   "metadata": {},
   "outputs": [],
   "source": [
    "refMyel.obs.rename(columns={\"MyeloidClusters\": \"cluster\"}, inplace=True)"
   ]
  },
  {
   "cell_type": "code",
   "execution_count": null,
   "id": "0ff48c27-4f4a-471e-b5af-de7bc428ac09",
   "metadata": {},
   "outputs": [],
   "source": [
    "refMyel.obs"
   ]
  },
  {
   "cell_type": "code",
   "execution_count": null,
   "id": "aedc849a-a784-4b01-8098-cea2af650c4e",
   "metadata": {},
   "outputs": [],
   "source": [
    "import anndata as ad\n",
    "\n",
    "# Concatenate AnnData objects\n",
    "citeSeq_combined = ad.concat([refTNK, refBPl, refMyel, refStr, refEpi], join='outer')\n",
    "\n",
    "# Save the combined AnnData object (optional)\n",
    "#adata_combined.write(\"combined_adata.h5ad\")\n"
   ]
  },
  {
   "cell_type": "code",
   "execution_count": null,
   "id": "24988216-61bc-4729-b784-a64cf951e40d",
   "metadata": {},
   "outputs": [],
   "source": [
    "citeSeq_combined.obs"
   ]
  },
  {
   "cell_type": "code",
   "execution_count": null,
   "id": "842c14c5-ab62-4c69-8ae2-05206760e002",
   "metadata": {},
   "outputs": [],
   "source": [
    "citeSeq_combined.var"
   ]
  },
  {
   "cell_type": "code",
   "execution_count": null,
   "id": "2e61c25d-477e-402e-b03a-052d9227f110",
   "metadata": {},
   "outputs": [],
   "source": [
    "print(citeSeq_combined.shape)"
   ]
  },
  {
   "cell_type": "code",
   "execution_count": null,
   "id": "11b6d9a2-ab48-4bee-b7a2-ac9351fba90f",
   "metadata": {},
   "outputs": [],
   "source": [
    "citeSeq_combined.X"
   ]
  },
  {
   "cell_type": "code",
   "execution_count": null,
   "id": "7a0d4709-1335-4370-8916-445b4dce3dd3",
   "metadata": {},
   "outputs": [],
   "source": [
    "citeSeq_combined.write(\"/data/vasileiosionat2/Xenium/Integration/citeSeq_combined.h5ad\")\n"
   ]
  },
  {
   "cell_type": "code",
   "execution_count": null,
   "id": "bcd8e88e-c82a-4163-b586-29748186179c",
   "metadata": {},
   "outputs": [],
   "source": [
    "ref =  sc.read_h5ad('/data/vasileiosionat2/Xenium/Integration/citeSeq_combined.h5ad')"
   ]
  },
  {
   "cell_type": "code",
   "execution_count": null,
   "id": "93545d04-fb53-4bdf-9c17-66815573c36e",
   "metadata": {
    "tags": []
   },
   "outputs": [],
   "source": [
    "adata = sc.read_h5ad('/data/vasileiosionat2/Xenium/Drake_outputs/ccProcessed.h5ad')"
   ]
  },
  {
   "cell_type": "code",
   "execution_count": null,
   "id": "19e33f93-ed64-4b21-a8ea-57c96ad3405b",
   "metadata": {},
   "outputs": [],
   "source": [
    "adata.obs"
   ]
  },
  {
   "cell_type": "code",
   "execution_count": null,
   "id": "f24783e8-9119-4aa9-a0af-85f847643958",
   "metadata": {
    "tags": []
   },
   "outputs": [],
   "source": [
    "assay_data = pd.Series('Xenium', index=adata.obs.index)\n",
    "adata.obs['assay'] = assay_data\n",
    "\n",
    "merged = adata.concatenate(\n",
    "    ref, batch_key=\"assay\", batch_categories=[\"Xenium\", \"citeSeq\"]\n",
    ")"
   ]
  },
  {
   "cell_type": "code",
   "execution_count": null,
   "id": "9da1181a-3388-4e09-a87c-a07c59ef9b6c",
   "metadata": {},
   "outputs": [],
   "source": [
    "sc.pp.scale(merged)\n",
    "+sc.tl.pca(merged)"
   ]
  },
  {
   "cell_type": "code",
   "execution_count": null,
   "id": "d046fb95-315e-412c-842b-8a5da2543199",
   "metadata": {},
   "outputs": [],
   "source": [
    "sc.external.pp.harmony_integrate(merged, key=\"assay\", max_iter_harmony=20, max_iter_kmeans=30)"
   ]
  },
  {
   "cell_type": "code",
   "execution_count": null,
   "id": "f7522c3a-a583-4799-80c8-7d23d8f4e568",
   "metadata": {},
   "outputs": [],
   "source": [
    "# Visualize merged with UMAP embedding; takes a long time\n",
    "sc.pp.neighbors(merged, n_neighbors=50, use_rep=\"X_pca_harmony\", metric=\"correlation\")\n",
    "sc.tl.umap(merged, min_dist=0.5)"
   ]
  },
  {
   "cell_type": "code",
   "execution_count": null,
   "id": "3fb31d19-3492-486a-a997-cafab9a67942",
   "metadata": {},
   "outputs": [],
   "source": [
    "sc.pl.umap(merged, color='assay')"
   ]
  },
  {
   "cell_type": "code",
   "execution_count": null,
   "id": "bf607224-bb22-43b9-b69f-96617d4d8e1a",
   "metadata": {},
   "outputs": [],
   "source": [
    "sc.pl.umap(merged, color='cluster')"
   ]
  },
  {
   "cell_type": "code",
   "execution_count": null,
   "id": "47762155-b84f-4d13-87d0-7f0be444fa51",
   "metadata": {},
   "outputs": [],
   "source": [
    "sc.pl.umap(merged, color='Lvl3')"
   ]
  },
  {
   "cell_type": "code",
   "execution_count": null,
   "id": "0243287f-555b-4b77-ac3b-a0b433de402d",
   "metadata": {},
   "outputs": [],
   "source": [
    "sc.pl.umap(merged, color='Lvl2')"
   ]
  },
  {
   "cell_type": "code",
   "execution_count": null,
   "id": "f1380a46-5cc5-425d-9fa4-84eff76ea095",
   "metadata": {},
   "outputs": [],
   "source": [
    "merged.write(\"/data/vasileiosionat2/Xenium/Integration/Xenium_citeSeq_harmony.h5ad\")\n"
   ]
  },
  {
   "cell_type": "code",
   "execution_count": null,
   "id": "a0eb0115-05b8-4404-96e9-4466e53112ec",
   "metadata": {
    "tags": []
   },
   "outputs": [],
   "source": [
    "merged = sc.read_h5ad('/data/vasileiosionat2/Xenium/Integration/Xenium_citeSeq_harmony.h5ad')"
   ]
  },
  {
   "cell_type": "code",
   "execution_count": null,
   "id": "a4eac870-21f9-436c-b85a-9796be00e4a0",
   "metadata": {},
   "outputs": [],
   "source": [
    "merged.obs"
   ]
  },
  {
   "cell_type": "code",
   "execution_count": null,
   "id": "886f6873-3190-4e7b-9225-4f4119865f4e",
   "metadata": {},
   "outputs": [],
   "source": [
    "# Transfer annotations from scRNAseq to xenium\n",
    "nn = KNeighborsClassifier(n_neighbors=1, n_jobs=16, weights='distance', metric='euclidean')\n",
    "train = merged[merged.obs[\"assay\"] == \"citeSeq\"]\n",
    "nn.fit(train.obsm[\"X_pca_harmony\"], train.obs['cluster']) \n",
    "labels = nn.predict(merged[merged.obs[\"assay\"] == \"Xenium\"].obsm[\"X_pca_harmony\"])\n",
    "merged.obs_names_make_unique()\n",
    "merged.obs[\"citeSeq_to_Xenium_label\"] = pd.Series(labels, index=merged[merged.obs[\"assay\"] == \"Xenium\"].obs.index)"
   ]
  },
  {
   "cell_type": "code",
   "execution_count": null,
   "id": "b23d9000-7e66-4a4e-aa9c-81f8a5f5cf54",
   "metadata": {},
   "outputs": [],
   "source": [
    "sc.pl.umap(merged, color='citeSeq_to_Xenium_label')"
   ]
  },
  {
   "cell_type": "code",
   "execution_count": null,
   "id": "5c094c41-6787-4e68-be44-0f5dbe7bba0b",
   "metadata": {},
   "outputs": [],
   "source": [
    "# Save transferred annotations to file\n",
    "citeSeq_to_xenium_predicted_labels = merged.obs.loc[merged.obs['assay'] == 'Xenium', ['orig.ident','Lvl4','citeSeq_to_Xenium_label']]\n",
    "citeSeq_to_xenium_predicted_labels.index = citeSeq_to_xenium_predicted_labels.index.str.replace('-Xenium','')\n",
    "citeSeq_to_xenium_predicted_labels.to_csv('/data/vasileiosionat2/Xenium/Integration/citeSeq_to_Xenium_predicted_celltype.csv')"
   ]
  },
  {
   "cell_type": "code",
   "execution_count": null,
   "id": "6afa38b8-e1e6-4994-9afe-8240dffcc524",
   "metadata": {},
   "outputs": [],
   "source": [
    "# Transfer annotations from xenium to scRNAseq\n",
    "nn = KNeighborsClassifier(n_neighbors=1, n_jobs=16, weights='distance', metric='euclidean')\n",
    "train = merged[merged.obs[\"assay\"] == \"Xenium\"]\n",
    "nn.fit(train.obsm[\"X_pca_harmony\"], train.obs['Lvl4']) \n",
    "labels = nn.predict(merged[merged.obs[\"assay\"] == \"citeSeq\"].obsm[\"X_pca_harmony\"])\n",
    "merged.obs[\"Xenium_to_citeSeq_label\"] = pd.Series(labels, index=merged[merged.obs[\"assay\"] == \"citeSeq\"].obs.index)"
   ]
  },
  {
   "cell_type": "code",
   "execution_count": null,
   "id": "032c4569-9832-4451-ad82-71b92c040861",
   "metadata": {},
   "outputs": [],
   "source": [
    "# Save transferred annotations to file\n",
    "Xenium_to_citeSeq_predicted_labels = merged.obs.loc[merged.obs['assay'] == 'citeSeq', ['orig.ident','cluster','Xenium_to_citeSeq_label']]\n",
    "Xenium_to_citeSeq_predicted_labels.index = Xenium_to_citeSeq_predicted_labels.index.str.replace('-citeSeq','')\n",
    "Xenium_to_citeSeq_predicted_labels.to_csv('/data/vasileiosionat2/Xenium/Integration/Xenium_to_citeSeq_predicted_celltype.csv')"
   ]
  },
  {
   "cell_type": "code",
   "execution_count": null,
   "id": "80e6e4d0-98d0-45b3-8df4-0a1a3ba4b4c3",
   "metadata": {},
   "outputs": [],
   "source": [
    "# Combine original labels from scSeq and transferred labels from xenium into one column\n",
    "merged.obs.loc[merged.obs['assay'] == 'Xenium', 'final_label_citeSeq'] = merged.obs[merged.obs['assay'] == 'Xenium']['citeSeq_to_Xenium_label']\n",
    "merged.obs.loc[merged.obs['assay'] == 'citeSeq', 'final_label_citeSeq'] = merged.obs[merged.obs['assay'] == 'citeSeq']['cluster']\n",
    "# Combine original labels from xenium and transferred labels from scSeq into one column\n",
    "# Convert categories to strings (safe option)\n",
    "merged.obs.loc[merged.obs['assay'] == 'citeSeq', 'final_label_X'] = \\\n",
    "    merged.obs.loc[merged.obs['assay'] == 'citeSeq', 'Xenium_to_citeSeq_label'].astype(str)\n",
    "\n",
    "merged.obs.loc[merged.obs['assay'] == 'Xenium', 'final_label_X'] = \\\n",
    "    merged.obs.loc[merged.obs['assay'] == 'Xenium', 'Lvl4'].astype(str)\n",
    "\n",
    "\n",
    "# Visualized merged labels on UMAP\n",
    "sc.pl.umap(merged, color='final_label_citeSeq')\n",
    "sc.pl.umap(merged, color='assay')\n",
    "sc.pl.umap(merged, color='final_label_X')"
   ]
  },
  {
   "cell_type": "code",
   "execution_count": null,
   "id": "ade66877-30c3-4b3e-9fbf-2db3ecd53959",
   "metadata": {},
   "outputs": [],
   "source": [
    "merged.write(\"/data/vasileiosionat2/Xenium/Integration/Xenium_citeSeq_harmony.h5ad\")"
   ]
  },
  {
   "cell_type": "code",
   "execution_count": null,
   "id": "5ebbeecc-4b03-4b4e-ba4b-1c75fb6e2af3",
   "metadata": {},
   "outputs": [],
   "source": [
    "# import matplotlib.pyplot as plt\n",
    "import numpy as np\n",
    "from matplotlib.backends.backend_pdf import PdfPages\n",
    "import os\n",
    "\n",
    "\n",
    "rotation_angle = 30  # Define rotation for this sample\n",
    "\n",
    "# Specify the directory where you want to save the PDF\n",
    "save_directory = '/data/vasileiosionat2/Xenium/Figures/lvl4_pdf/'\n",
    "pdf_filename = os.path.join(save_directory, f'all_clusters_4rows.pdf')\n",
    "\n",
    "# Filter the data for the specific sample\n",
    "adata_sample = merged[merged.obs['sample'] == 's2r2_HV184']\n",
    "\n",
    "unique_clusters = adata_sample.obs.loc[\n",
    "    adata_sample.obs['final_label_citeSeq'].astype(str).str.startswith(\"Pl\")|\n",
    "    (adata_sample.obs['final_label_citeSeq'].str.startswith(\"B\")),\n",
    "    'final_label_citeSeq'\n",
    "].unique()\n",
    "\n",
    "# Reorder clusters (if a custom order is provided, replace `sorted(unique_clusters)`)\n",
    "ordered_clusters = sorted(unique_clusters)\n",
    "\n",
    "# Define the number of rows and columns\n",
    "num_rows = 6\n",
    "num_cols = int(np.ceil(len(ordered_clusters) / num_rows))  # Calculate columns based on clusters and rows\n",
    "\n",
    "# Create a PdfPages object to save the plots\n",
    "with PdfPages(pdf_filename) as pdf:\n",
    "    # Create a figure for the sample\n",
    "    fig, axes = plt.subplots(num_rows, num_cols, figsize=(26, 36))\n",
    "    fig.patch.set_facecolor('white')\n",
    "\n",
    "    # Flatten the axes array for easier indexing\n",
    "    axes = axes.flatten()\n",
    "\n",
    "    # Get the coordinates for the sample\n",
    "    x_coords = adata_sample.obs['x_centroid']\n",
    "    y_coords = adata_sample.obs['y_centroid']\n",
    "    \n",
    "    # Apply rotation\n",
    "    angle = np.deg2rad(rotation_angle)\n",
    "    new_x_coords = x_coords * np.cos(angle) - y_coords * np.sin(angle)\n",
    "    new_y_coords = x_coords * np.sin(angle) + y_coords * np.cos(angle)\n",
    "\n",
    "    # Determine aspect ratio\n",
    "    x_range = new_x_coords.max() - new_x_coords.min()\n",
    "    y_range = new_y_coords.max() - new_y_coords.min()\n",
    "    aspect_ratio = x_range / y_range\n",
    "\n",
    "       # Loop over each unique cluster in the ordered list\n",
    "    for idx, cluster in enumerate(ordered_clusters):\n",
    "        ax = axes[idx]\n",
    "\n",
    "        # Set white background for the subplot\n",
    "        ax.set_facecolor('white')\n",
    "\n",
    "        # Remove the outline\n",
    "        for spine in ax.spines.values():\n",
    "            spine.set_visible(False)\n",
    "\n",
    "        # Scatter plot for the grey dots (all other clusters)\n",
    "        ax.scatter(\n",
    "            x=new_x_coords[adata_sample.obs['final_label_citeSeq'] != cluster],\n",
    "            y=new_y_coords[adata_sample.obs['final_label_citeSeq'] != cluster],\n",
    "            c='#C0C0C0', \n",
    "            s=3  # Adjust dot size\n",
    "        )\n",
    "\n",
    "        # Scatter plot for the red dots (the current cluster)\n",
    "        ax.scatter(\n",
    "            x=new_x_coords[adata_sample.obs['final_label_citeSeq'] == cluster],\n",
    "            y=new_y_coords[adata_sample.obs['final_label_citeSeq'] == cluster],\n",
    "            c='red', \n",
    "            s=9  # Adjust dot size\n",
    "        )\n",
    "\n",
    "        # Set aspect ratio for each subplot\n",
    "        ax.set_aspect(aspect_ratio)\n",
    "\n",
    "        # Add the cluster name below the plot\n",
    "        ax.text(\n",
    "            0.5, 0.02, f'{cluster}', \n",
    "            horizontalalignment='center', \n",
    "            verticalalignment='center', \n",
    "            transform=ax.transAxes, \n",
    "            color='black', fontsize=20, weight='bold'\n",
    "        )\n",
    "\n",
    "        # Remove grids\n",
    "        ax.grid(False)\n",
    "\n",
    "        # Remove ticks and their labels\n",
    "        ax.set_xticks([])\n",
    "        ax.set_yticks([])\n",
    "\n",
    "    # Turn off empty subplots if there are any\n",
    "    for ax in axes[len(ordered_clusters):]:\n",
    "        ax.set_visible(False)\n",
    "\n",
    "    # Define the directory and file name for the TIFF file\n",
    "    tiff_filename = os.path.join(save_directory, f'all_clusters_4rows.tiff')\n",
    "\n",
    "    # Adjust the spacing between subplots\n",
    "    plt.subplots_adjust(\n",
    "        left=0.05,    # Space from left edge\n",
    "        right=0.95,   # Space from right edge\n",
    "        top=0.95,     # Space from top edge\n",
    "        bottom=0.05,  # Space from bottom edge\n",
    "        wspace=0.1,   # Width space between columns\n",
    "        hspace=0.05    # Height space between rows\n",
    "    )\n",
    "\n",
    "    # Add a title to the overall figure\n",
    "    plt.suptitle(f'All Clusters in s2r2_HV184', color='white', fontsize=20, weight='bold', y=1.02)\n",
    "\n",
    "    # Save the current figure as a TIFF file\n",
    "    #fig.savefig(tiff_filename, dpi=300, format='tiff')\n",
    "\n",
    "    plt.show()\n",
    "    plt.close(fig)"
   ]
  },
  {
   "cell_type": "code",
   "execution_count": null,
   "id": "2cc8649a-b931-4a16-ae40-184e8dcc9207",
   "metadata": {},
   "outputs": [],
   "source": [
    "# import matplotlib.pyplot as plt\n",
    "import numpy as np\n",
    "from matplotlib.backends.backend_pdf import PdfPages\n",
    "import os\n",
    "\n",
    "\n",
    "rotation_angle = 30  # Define rotation for this sample\n",
    "\n",
    "# Specify the directory where you want to save the PDF\n",
    "save_directory = '/data/vasileiosionat2/Xenium/Figures/lvl4_pdf/'\n",
    "pdf_filename = os.path.join(save_directory, f'all_clusters_4rows.pdf')\n",
    "\n",
    "# Filter the data for the specific sample\n",
    "adata_sample = merged[merged.obs['sample'] == 's2r2_HV184']\n",
    "\n",
    "unique_clusters = adata_sample.obs.loc[\n",
    "    adata_sample.obs['final_label_citeSeq'].astype(str).str.startswith(\"CD\"),\n",
    "    'final_label_citeSeq'\n",
    "].unique()\n",
    "\n",
    "# Reorder clusters (if a custom order is provided, replace `sorted(unique_clusters)`)\n",
    "ordered_clusters = sorted(unique_clusters)\n",
    "\n",
    "# Define the number of rows and columns\n",
    "num_rows = 6\n",
    "num_cols = int(np.ceil(len(ordered_clusters) / num_rows))  # Calculate columns based on clusters and rows\n",
    "\n",
    "# Create a PdfPages object to save the plots\n",
    "with PdfPages(pdf_filename) as pdf:\n",
    "    # Create a figure for the sample\n",
    "    fig, axes = plt.subplots(num_rows, num_cols, figsize=(26, 36))\n",
    "    fig.patch.set_facecolor('white')\n",
    "\n",
    "    # Flatten the axes array for easier indexing\n",
    "    axes = axes.flatten()\n",
    "\n",
    "    # Get the coordinates for the sample\n",
    "    x_coords = adata_sample.obs['x_centroid']\n",
    "    y_coords = adata_sample.obs['y_centroid']\n",
    "    \n",
    "    # Apply rotation\n",
    "    angle = np.deg2rad(rotation_angle)\n",
    "    new_x_coords = x_coords * np.cos(angle) - y_coords * np.sin(angle)\n",
    "    new_y_coords = x_coords * np.sin(angle) + y_coords * np.cos(angle)\n",
    "\n",
    "    # Determine aspect ratio\n",
    "    x_range = new_x_coords.max() - new_x_coords.min()\n",
    "    y_range = new_y_coords.max() - new_y_coords.min()\n",
    "    aspect_ratio = x_range / y_range\n",
    "\n",
    "       # Loop over each unique cluster in the ordered list\n",
    "    for idx, cluster in enumerate(ordered_clusters):\n",
    "        ax = axes[idx]\n",
    "\n",
    "        # Set white background for the subplot\n",
    "        ax.set_facecolor('white')\n",
    "\n",
    "        # Remove the outline\n",
    "        for spine in ax.spines.values():\n",
    "            spine.set_visible(False)\n",
    "\n",
    "        # Scatter plot for the grey dots (all other clusters)\n",
    "        ax.scatter(\n",
    "            x=new_x_coords[adata_sample.obs['final_label_citeSeq'] != cluster],\n",
    "            y=new_y_coords[adata_sample.obs['final_label_citeSeq'] != cluster],\n",
    "            c='#C0C0C0', \n",
    "            s=3  # Adjust dot size\n",
    "        )\n",
    "\n",
    "        # Scatter plot for the red dots (the current cluster)\n",
    "        ax.scatter(\n",
    "            x=new_x_coords[adata_sample.obs['final_label_citeSeq'] == cluster],\n",
    "            y=new_y_coords[adata_sample.obs['final_label_citeSeq'] == cluster],\n",
    "            c='red', \n",
    "            s=9  # Adjust dot size\n",
    "        )\n",
    "\n",
    "        # Set aspect ratio for each subplot\n",
    "        ax.set_aspect(aspect_ratio)\n",
    "\n",
    "        # Add the cluster name below the plot\n",
    "        ax.text(\n",
    "            0.5, 0.02, f'{cluster}', \n",
    "            horizontalalignment='center', \n",
    "            verticalalignment='center', \n",
    "            transform=ax.transAxes, \n",
    "            color='black', fontsize=20, weight='bold'\n",
    "        )\n",
    "\n",
    "        # Remove grids\n",
    "        ax.grid(False)\n",
    "\n",
    "        # Remove ticks and their labels\n",
    "        ax.set_xticks([])\n",
    "        ax.set_yticks([])\n",
    "\n",
    "    # Turn off empty subplots if there are any\n",
    "    for ax in axes[len(ordered_clusters):]:\n",
    "        ax.set_visible(False)\n",
    "\n",
    "    # Define the directory and file name for the TIFF file\n",
    "    tiff_filename = os.path.join(save_directory, f'all_clusters_4rows.tiff')\n",
    "\n",
    "    # Adjust the spacing between subplots\n",
    "    plt.subplots_adjust(\n",
    "        left=0.05,    # Space from left edge\n",
    "        right=0.95,   # Space from right edge\n",
    "        top=0.95,     # Space from top edge\n",
    "        bottom=0.05,  # Space from bottom edge\n",
    "        wspace=0.1,   # Width space between columns\n",
    "        hspace=0.05    # Height space between rows\n",
    "    )\n",
    "\n",
    "    # Add a title to the overall figure\n",
    "    plt.suptitle(f'All Clusters in s2r2_HV184', color='white', fontsize=20, weight='bold', y=1.02)\n",
    "\n",
    "    # Save the current figure as a TIFF file\n",
    "    #fig.savefig(tiff_filename, dpi=300, format='tiff')\n",
    "\n",
    "    plt.show()\n",
    "    plt.close(fig)"
   ]
  },
  {
   "cell_type": "code",
   "execution_count": null,
   "id": "f80450d1-8fd7-4fdc-9ec6-2bfb86c5cd02",
   "metadata": {},
   "outputs": [],
   "source": [
    "# import matplotlib.pyplot as plt\n",
    "import numpy as np\n",
    "from matplotlib.backends.backend_pdf import PdfPages\n",
    "import os\n",
    "\n",
    "\n",
    "rotation_angle = 30  # Define rotation for this sample\n",
    "\n",
    "# Specify the directory where you want to save the PDF\n",
    "save_directory = '/data/vasileiosionat2/Xenium/Figures/lvl4_pdf/'\n",
    "pdf_filename = os.path.join(save_directory, f'all_clusters_4rows.pdf')\n",
    "\n",
    "# Filter the data for the specific sample\n",
    "adata_sample = merged[merged.obs['sample'] == 's2r2_HV184']\n",
    "\n",
    "unique_clusters = adata_sample.obs.loc[\n",
    "    adata_sample.obs['final_label_citeSeq'].astype(str).str.startswith(\"Fib\"),\n",
    "    'final_label_citeSeq'\n",
    "].unique()\n",
    "\n",
    "# Reorder clusters (if a custom order is provided, replace `sorted(unique_clusters)`)\n",
    "ordered_clusters = sorted(unique_clusters)\n",
    "\n",
    "# Define the number of rows and columns\n",
    "num_rows = 6\n",
    "num_cols = int(np.ceil(len(ordered_clusters) / num_rows))  # Calculate columns based on clusters and rows\n",
    "\n",
    "# Create a PdfPages object to save the plots\n",
    "with PdfPages(pdf_filename) as pdf:\n",
    "    # Create a figure for the sample\n",
    "    fig, axes = plt.subplots(num_rows, num_cols, figsize=(26, 36))\n",
    "    fig.patch.set_facecolor('white')\n",
    "\n",
    "    # Flatten the axes array for easier indexing\n",
    "    axes = axes.flatten()\n",
    "\n",
    "    # Get the coordinates for the sample\n",
    "    x_coords = adata_sample.obs['x_centroid']\n",
    "    y_coords = adata_sample.obs['y_centroid']\n",
    "    \n",
    "    # Apply rotation\n",
    "    angle = np.deg2rad(rotation_angle)\n",
    "    new_x_coords = x_coords * np.cos(angle) - y_coords * np.sin(angle)\n",
    "    new_y_coords = x_coords * np.sin(angle) + y_coords * np.cos(angle)\n",
    "\n",
    "    # Determine aspect ratio\n",
    "    x_range = new_x_coords.max() - new_x_coords.min()\n",
    "    y_range = new_y_coords.max() - new_y_coords.min()\n",
    "    aspect_ratio = x_range / y_range\n",
    "\n",
    "       # Loop over each unique cluster in the ordered list\n",
    "    for idx, cluster in enumerate(ordered_clusters):\n",
    "        ax = axes[idx]\n",
    "\n",
    "        # Set white background for the subplot\n",
    "        ax.set_facecolor('white')\n",
    "\n",
    "        # Remove the outline\n",
    "        for spine in ax.spines.values():\n",
    "            spine.set_visible(False)\n",
    "\n",
    "        # Scatter plot for the grey dots (all other clusters)\n",
    "        ax.scatter(\n",
    "            x=new_x_coords[adata_sample.obs['final_label_citeSeq'] != cluster],\n",
    "            y=new_y_coords[adata_sample.obs['final_label_citeSeq'] != cluster],\n",
    "            c='#C0C0C0', \n",
    "            s=3  # Adjust dot size\n",
    "        )\n",
    "\n",
    "        # Scatter plot for the red dots (the current cluster)\n",
    "        ax.scatter(\n",
    "            x=new_x_coords[adata_sample.obs['final_label_citeSeq'] == cluster],\n",
    "            y=new_y_coords[adata_sample.obs['final_label_citeSeq'] == cluster],\n",
    "            c='red', \n",
    "            s=9  # Adjust dot size\n",
    "        )\n",
    "\n",
    "        # Set aspect ratio for each subplot\n",
    "        ax.set_aspect(aspect_ratio)\n",
    "\n",
    "        # Add the cluster name below the plot\n",
    "        ax.text(\n",
    "            0.5, 0.02, f'{cluster}', \n",
    "            horizontalalignment='center', \n",
    "            verticalalignment='center', \n",
    "            transform=ax.transAxes, \n",
    "            color='black', fontsize=20, weight='bold'\n",
    "        )\n",
    "\n",
    "        # Remove grids\n",
    "        ax.grid(False)\n",
    "\n",
    "        # Remove ticks and their labels\n",
    "        ax.set_xticks([])\n",
    "        ax.set_yticks([])\n",
    "\n",
    "    # Turn off empty subplots if there are any\n",
    "    for ax in axes[len(ordered_clusters):]:\n",
    "        ax.set_visible(False)\n",
    "\n",
    "    # Define the directory and file name for the TIFF file\n",
    "    tiff_filename = os.path.join(save_directory, f'all_clusters_4rows.tiff')\n",
    "\n",
    "    # Adjust the spacing between subplots\n",
    "    plt.subplots_adjust(\n",
    "        left=0.05,    # Space from left edge\n",
    "        right=0.95,   # Space from right edge\n",
    "        top=0.95,     # Space from top edge\n",
    "        bottom=0.05,  # Space from bottom edge\n",
    "        wspace=0.1,   # Width space between columns\n",
    "        hspace=0.05    # Height space between rows\n",
    "    )\n",
    "\n",
    "    # Add a title to the overall figure\n",
    "    plt.suptitle(f'All Clusters in s2r2_HV184', color='white', fontsize=20, weight='bold', y=1.02)\n",
    "\n",
    "    # Save the current figure as a TIFF file\n",
    "    #fig.savefig(tiff_filename, dpi=300, format='tiff')\n",
    "\n",
    "    plt.show()\n",
    "    plt.close(fig)"
   ]
  },
  {
   "cell_type": "code",
   "execution_count": null,
   "id": "7b07ac93-e9c5-4cbc-a934-3de48687bb45",
   "metadata": {},
   "outputs": [],
   "source": [
    "# import matplotlib.pyplot as plt\n",
    "import numpy as np\n",
    "from matplotlib.backends.backend_pdf import PdfPages\n",
    "import os\n",
    "\n",
    "\n",
    "rotation_angle = 30  # Define rotation for this sample\n",
    "\n",
    "# Specify the directory where you want to save the PDF\n",
    "save_directory = '/data/vasileiosionat2/Xenium/Figures/lvl4_pdf/'\n",
    "pdf_filename = os.path.join(save_directory, f'all_clusters_4rows.pdf')\n",
    "\n",
    "# Filter the data for the specific sample\n",
    "adata_sample = merged[merged.obs['sample'] == 's2r2_HV184']\n",
    "\n",
    "unique_clusters = adata_sample.obs.loc[\n",
    "    adata_sample.obs['final_label_citeSeq'].astype(str).str.startswith(\"Epi\"),\n",
    "    'final_label_citeSeq'\n",
    "].unique()\n",
    "\n",
    "# Reorder clusters (if a custom order is provided, replace `sorted(unique_clusters)`)\n",
    "ordered_clusters = sorted(unique_clusters)\n",
    "\n",
    "# Define the number of rows and columns\n",
    "num_rows = 6\n",
    "num_cols = int(np.ceil(len(ordered_clusters) / num_rows))  # Calculate columns based on clusters and rows\n",
    "\n",
    "# Create a PdfPages object to save the plots\n",
    "with PdfPages(pdf_filename) as pdf:\n",
    "    # Create a figure for the sample\n",
    "    fig, axes = plt.subplots(num_rows, num_cols, figsize=(26, 36))\n",
    "    fig.patch.set_facecolor('white')\n",
    "\n",
    "    # Flatten the axes array for easier indexing\n",
    "    axes = axes.flatten()\n",
    "\n",
    "    # Get the coordinates for the sample\n",
    "    x_coords = adata_sample.obs['x_centroid']\n",
    "    y_coords = adata_sample.obs['y_centroid']\n",
    "    \n",
    "    # Apply rotation\n",
    "    angle = np.deg2rad(rotation_angle)\n",
    "    new_x_coords = x_coords * np.cos(angle) - y_coords * np.sin(angle)\n",
    "    new_y_coords = x_coords * np.sin(angle) + y_coords * np.cos(angle)\n",
    "\n",
    "    # Determine aspect ratio\n",
    "    x_range = new_x_coords.max() - new_x_coords.min()\n",
    "    y_range = new_y_coords.max() - new_y_coords.min()\n",
    "    aspect_ratio = x_range / y_range\n",
    "\n",
    "       # Loop over each unique cluster in the ordered list\n",
    "    for idx, cluster in enumerate(ordered_clusters):\n",
    "        ax = axes[idx]\n",
    "\n",
    "        # Set white background for the subplot\n",
    "        ax.set_facecolor('white')\n",
    "\n",
    "        # Remove the outline\n",
    "        for spine in ax.spines.values():\n",
    "            spine.set_visible(False)\n",
    "\n",
    "        # Scatter plot for the grey dots (all other clusters)\n",
    "        ax.scatter(\n",
    "            x=new_x_coords[adata_sample.obs['final_label_citeSeq'] != cluster],\n",
    "            y=new_y_coords[adata_sample.obs['final_label_citeSeq'] != cluster],\n",
    "            c='#C0C0C0', \n",
    "            s=3  # Adjust dot size\n",
    "        )\n",
    "\n",
    "        # Scatter plot for the red dots (the current cluster)\n",
    "        ax.scatter(\n",
    "            x=new_x_coords[adata_sample.obs['final_label_citeSeq'] == cluster],\n",
    "            y=new_y_coords[adata_sample.obs['final_label_citeSeq'] == cluster],\n",
    "            c='red', \n",
    "            s=9  # Adjust dot size\n",
    "        )\n",
    "\n",
    "        # Set aspect ratio for each subplot\n",
    "        ax.set_aspect(aspect_ratio)\n",
    "\n",
    "        # Add the cluster name below the plot\n",
    "        ax.text(\n",
    "            0.5, 0.02, f'{cluster}', \n",
    "            horizontalalignment='center', \n",
    "            verticalalignment='center', \n",
    "            transform=ax.transAxes, \n",
    "            color='black', fontsize=20, weight='bold'\n",
    "        )\n",
    "\n",
    "        # Remove grids\n",
    "        ax.grid(False)\n",
    "\n",
    "        # Remove ticks and their labels\n",
    "        ax.set_xticks([])\n",
    "        ax.set_yticks([])\n",
    "\n",
    "    # Turn off empty subplots if there are any\n",
    "    for ax in axes[len(ordered_clusters):]:\n",
    "        ax.set_visible(False)\n",
    "\n",
    "    # Define the directory and file name for the TIFF file\n",
    "    tiff_filename = os.path.join(save_directory, f'all_clusters_4rows.tiff')\n",
    "\n",
    "    # Adjust the spacing between subplots\n",
    "    plt.subplots_adjust(\n",
    "        left=0.05,    # Space from left edge\n",
    "        right=0.95,   # Space from right edge\n",
    "        top=0.95,     # Space from top edge\n",
    "        bottom=0.05,  # Space from bottom edge\n",
    "        wspace=0.1,   # Width space between columns\n",
    "        hspace=0.05    # Height space between rows\n",
    "    )\n",
    "\n",
    "    # Add a title to the overall figure\n",
    "    plt.suptitle(f'All Clusters in s2r2_HV184', color='white', fontsize=20, weight='bold', y=1.02)\n",
    "\n",
    "    # Save the current figure as a TIFF file\n",
    "    #fig.savefig(tiff_filename, dpi=300, format='tiff')\n",
    "\n",
    "    plt.show()\n",
    "    plt.close(fig)"
   ]
  },
  {
   "cell_type": "code",
   "execution_count": null,
   "id": "be98bd60-2546-4e76-8ff4-b44da0ab4d47",
   "metadata": {},
   "outputs": [],
   "source": [
    "import pandas as pd\n",
    "import seaborn as sns\n",
    "import matplotlib.pyplot as plt\n",
    "\n",
    "# Assuming 'plot_niches' is a DataFrame or similar data structure\n",
    "df = pd.DataFrame(merged.obs)\n",
    "df['Lvl5'] = df['Lvl5'].astype('category')\n",
    "\n",
    "# Aggregate counts\n",
    "niche_groups = df.groupby(['final_label_citeSeq', 'niche_cc14']).size().unstack(fill_value=0)\n",
    "\n",
    "# Identify clusters to remove\n",
    "clusters_to_remove = df['final_label_citeSeq'].str.contains('Mix') | df['final_label_citeSeq'].str.startswith('Neuro')\n",
    "\n",
    "# Get the unique clusters to be removed\n",
    "clusters_to_remove = df.loc[clusters_to_remove, 'final_label_citeSeq'].unique()\n",
    "\n",
    "# Filter out these clusters from the plot\n",
    "niche_groups_filtered = niche_groups[~niche_groups.index.isin(clusters_to_remove)]\n",
    "\n",
    "# Calculate relative frequencies\n",
    "niche_groups_relative = niche_groups_filtered.div(niche_groups_filtered.sum(axis=1), axis=0)\n",
    "\n",
    "# Plot heatmap with enhanced colormap\n",
    "plt.figure(figsize=(16, 40))  # Adjusted figsize to accommodate the x-axis labels\n",
    "sns.heatmap(niche_groups_relative, cmap='plasma', cbar_kws={'label': 'Relative Frequency'}, linewidths=0.05, linecolor='black')\n",
    "plt.title('Relative Cell Type Distribution in Niches')\n",
    "plt.xlabel('Niche')\n",
    "plt.ylabel('Cell Cluster')\n",
    "plt.xticks(rotation=45, ha='right')  # Adjust rotation and alignment of xticks\n",
    "plt.yticks(rotation=0)\n",
    "plt.tight_layout()  # Ensures all elements fit within the figure area\n",
    "plt.show()\n"
   ]
  },
  {
   "cell_type": "code",
   "execution_count": null,
   "id": "8f60d046-6a42-4864-af4a-40263b10d90e",
   "metadata": {},
   "outputs": [],
   "source": [
    "# Visualize xenium annotations vs transferred scRNAseq annotations\n",
    "xen_obj = merged[merged.obs['assay']=='Xenium']\n",
    "xen_obj.obs['Lvl4'] = xen_obj.obs['Lvl4'].astype('str')\n",
    "celltype_counts = pd.DataFrame(xen_obj.obs.groupby(['Lvl4','citeSeq_to_Xenium_label']).size()).unstack()\n",
    "celltype_counts.columns = celltype_counts.columns.droplevel()\n",
    "celltype_counts.index.name = 'Xenium cell type'\n",
    "celltype_counts.columns.name = 'predicted citeSeq cell type'\n",
    "celltype_counts = celltype_counts.T\n",
    "# Row scale co-occurrence frequencies (by predicted scRNAseq cell type)\n",
    "celltype_counts = celltype_counts.div(celltype_counts.sum(axis=1), axis=0) \n",
    "celltype_counts = celltype_counts.loc[:,celltype_counts.idxmax(axis=0).sort_values().index]\n",
    "celltype_counts = celltype_counts.fillna(0)"
   ]
  },
  {
   "cell_type": "code",
   "execution_count": null,
   "id": "1e77427f-4961-454c-a7bc-cda8a007b1f7",
   "metadata": {},
   "outputs": [],
   "source": [
    "column_sums = celltype_counts.abs().sum(axis=0)\n",
    "print(column_sums)\n",
    "# Select columns to keep based on the threshold\n",
    "columns_to_keep = column_sums[column_sums >= 0.1].index\n",
    "print(columns_to_keep)\n",
    "celltype_counts2 = celltype_counts[columns_to_keep]\n",
    "print(celltype_counts2)"
   ]
  },
  {
   "cell_type": "code",
   "execution_count": null,
   "id": "a86559e1-f0d6-43bf-ada0-11fa789ce1eb",
   "metadata": {},
   "outputs": [],
   "source": [
    "plt.figure(figsize = (26,14))\n",
    "sns.heatmap(celltype_counts2, cmap='YlGnBu')"
   ]
  },
  {
   "cell_type": "code",
   "execution_count": null,
   "id": "c156d37f-dcf7-47f2-ba6a-d221c603392a",
   "metadata": {},
   "outputs": [],
   "source": [
    "ref =  sc.read_h5ad('/data/vasileiosionat2/Xenium/Integration/citeSeq_combined.h5ad')"
   ]
  },
  {
   "cell_type": "code",
   "execution_count": null,
   "id": "b9eb4397-9677-4971-a71f-6b3b7ccafc54",
   "metadata": {},
   "outputs": [],
   "source": [
    "!pip install --user scikit-misc"
   ]
  },
  {
   "cell_type": "code",
   "execution_count": null,
   "id": "99537eee-0447-4509-9a04-05d135cdf68d",
   "metadata": {},
   "outputs": [],
   "source": [
    "sc.pp.highly_variable_genes(ref, flavor='seurat_v3', n_top_genes=2000)"
   ]
  },
  {
   "cell_type": "code",
   "execution_count": null,
   "id": "ee7c31ea-85d4-41ff-ab60-9f35586e8755",
   "metadata": {},
   "outputs": [],
   "source": [
    "genes = ref.var.index[ref.var.highly_variable].union(adata.var.index)"
   ]
  },
  {
   "cell_type": "code",
   "execution_count": null,
   "id": "2a421d02-3a72-43da-84a9-5ce452d881e4",
   "metadata": {},
   "outputs": [],
   "source": [
    "print(genes)"
   ]
  },
  {
   "cell_type": "code",
   "execution_count": null,
   "id": "5a519a19-e2d5-4552-a35e-7993f7a73d6b",
   "metadata": {},
   "outputs": [],
   "source": [
    "# Read in scRNAseq expression values\n",
    "# scrnaseq_exp = sc.read('../data/scRNAseq/scanpy_obj/in_vivo_w13_15_subcluster_celltypes.h5ad').to_df()\n",
    "valid_genes = list(set(genes) & set(ref.var_names))  # Use set intersection for efficiency"
   ]
  },
  {
   "cell_type": "code",
   "execution_count": null,
   "id": "a03d54bc-b3fd-41f2-a4e2-a92b5fa65b40",
   "metadata": {},
   "outputs": [],
   "source": [
    "citeSeq_exp = ref[:, valid_genes].to_df()\n",
    "#sc_exp = ref[:,genes].to_df()\n",
    "citeSeq_exp = sc_exp.loc[:, (sc_exp != 0).any(axis=0)] # Drop genes without any counts"
   ]
  },
  {
   "cell_type": "code",
   "execution_count": null,
   "id": "7a0c51f9-9053-484e-a554-3fed02b790e7",
   "metadata": {},
   "outputs": [],
   "source": [
    "# Transfer scRNAseq expression to xenium \n",
    "nn = NearestNeighbors(n_jobs=16)\n",
    "nn.fit(merged[merged.obs[\"assay\"] == \"citeSeq\"].obsm[\"X_pca_harmony\"])\n",
    "dist, inds = nn.kneighbors(merged[merged.obs[\"assay\"] == \"Xenium\"].obsm[\"X_pca_harmony\"], n_neighbors=1)\n",
    "predicted_Xenium_exp = pd.DataFrame(sc_exp.iloc[inds.flatten()].to_numpy(), \n",
    "                                     index=merged[merged.obs[\"assay\"] == \"Xenium\"].obs.index, \n",
    "                                     columns=citeSeq_exp.columns)"
   ]
  },
  {
   "cell_type": "code",
   "execution_count": null,
   "id": "0eba590a-c2f3-4f3b-863b-d15925737a25",
   "metadata": {},
   "outputs": [],
   "source": [
    "# Save transferred scRNAseq expression to file\n",
    "predicted_Xenium_exp.to_csv('/data/vasileiosionat2/Xenium/Integration/citeSeq_xen_results.csv')"
   ]
  },
  {
   "cell_type": "code",
   "execution_count": null,
   "id": "09b19036-c21e-402c-8567-1ffe76fa495b",
   "metadata": {},
   "outputs": [],
   "source": [
    "# Read vFISH results into Scanpy object\n",
    "adata_citeSeq_Xen = sc.read_csv('/data/vasileiosionat2/Xenium/Integration/citeSeq_xen_results.csv')"
   ]
  },
  {
   "cell_type": "code",
   "execution_count": null,
   "id": "4e6f6e46-76a7-43f0-8451-6a5ecdc295a9",
   "metadata": {},
   "outputs": [],
   "source": [
    "# Add spatial coordinates and metadata from original xenium object\n",
    "adata_citeSeq_Xen.obsm['spatial'] = sc.read('/data/vasileiosionat2/Xenium/Drake_outputs/ccProcessed.h5ad').obsm['spatial']\n",
    "adata_citeSeq_Xen.obs = sc.read('/data/vasileiosionat2/Xenium/Drake_outputs/ccProcessed.h5ad').obs"
   ]
  },
  {
   "cell_type": "code",
   "execution_count": null,
   "id": "b751117e-a0d7-4e24-bf5e-db507ab7d6af",
   "metadata": {},
   "outputs": [],
   "source": [
    "# Save vFISH object\n",
    "adata_citeSeq_Xen.write('/data/vasileiosionat2/Xenium/Drake_outputs/Xen_with_citeSeq_Exp.h5ad')"
   ]
  },
  {
   "cell_type": "code",
   "execution_count": null,
   "id": "e16c6e5f-fcbd-4203-8669-680c5280e651",
   "metadata": {},
   "outputs": [],
   "source": [
    "adata_citeSeq_Xen.uns['spatial'] = {s: {} for s in adata_citeSeq_Xen.obs['sample'].unique()}"
   ]
  },
  {
   "cell_type": "code",
   "execution_count": null,
   "id": "dcc345b9-23e5-4258-8264-b10b20a250d2",
   "metadata": {},
   "outputs": [],
   "source": [
    "# Define your list of desired cell types\n",
    "celltype_list = celltype_counts2.columns\n",
    "\n",
    "# Access cell type labels (assuming they are stored in 'cell_type' column)\n",
    "cell_types = adata.obs['Lvl4']\n",
    "\n",
    "# Create a boolean mask for filtering\n",
    "celltype_filter = cell_types.isin(celltype_list)\n",
    "print(celltype_filter)\n"
   ]
  },
  {
   "cell_type": "code",
   "execution_count": null,
   "id": "1c17c190-ec85-4a11-a674-363b7d58b60d",
   "metadata": {},
   "outputs": [],
   "source": [
    "# Subset adata object based on the mask\n",
    "adata_citeSeq_Xen_f = adata_citeSeq_Xen[celltype_filter]\n",
    "adata_citeSeq_Xen_f[adata_citeSeq_Xen_f.obs['Lvl4'].isin(columns_to_keep)]\n",
    "adata_citeSeq_Xen_f"
   ]
  },
  {
   "cell_type": "code",
   "execution_count": null,
   "id": "241f7317-2558-4ec4-965d-03c4efc1235e",
   "metadata": {},
   "outputs": [],
   "source": [
    "# Define your desired cell type order (replace with your actual Lvl4 levels)\n",
    "celltype_order = celltype_counts2.columns\n",
    "print(celltype_order)\n",
    "\n",
    "# Reorder adata.obs based on the custom list\n",
    "adata_citeSeq_Xen_f.obs[\"Lvl4_ord\"] = pd.Categorical(\n",
    "    values=adata_citeSeq_Xen_f.obs.Lvl4, categories=celltype_order, ordered=True\n",
    ")"
   ]
  },
  {
   "cell_type": "code",
   "execution_count": null,
   "id": "eb3b2be6-6526-478c-b73f-68d0a41624d6",
   "metadata": {
    "scrolled": true
   },
   "outputs": [],
   "source": [
    "sc.tl.rank_genes_groups(adata_citeSeq_Xen_f, groupby=\"Lvl4_ord\", method=\"wilcoxon\")"
   ]
  },
  {
   "cell_type": "code",
   "execution_count": null,
   "id": "0a5da094-96f6-4ec7-ab40-ad4bd66bd99f",
   "metadata": {},
   "outputs": [],
   "source": [
    "sc.pl.rank_genes_groups_dotplot(\n",
    "  adata_citeSeq_Xen_f,\n",
    "  groupby=\"Lvl4_ord\",\n",
    "  standard_scale=\"var\",\n",
    "  n_genes=4,\n",
    "  dendrogram=False\n",
    ")"
   ]
  },
  {
   "cell_type": "code",
   "execution_count": null,
   "id": "e59d5ba0-b3dd-494e-8f03-03625a2bb560",
   "metadata": {},
   "outputs": [],
   "source": [
    "import squidpy as sq\n",
    "\n",
    "sq.pl.spatial_scatter(\n",
    "    adata_citeSeq_Xen_f, \n",
    "    color=['CCL19'], \n",
    "    library_key='sample',  \n",
    "    size=5, \n",
    "    img=None,\n",
    "    spatial_key='spatial',\n",
    "    palette='tab10',\n",
    "    #connectivity_key='spatial_connectivities',\n",
    "    #img_alpha=0.3,\n",
    "    figsize=(10,10),\n",
    "    ncols=1,\n",
    "    library_id=adata.obs['sample'].unique()[9],\n",
    "    title=\"SAA1 - Imputed\",\n",
    "    vmax=10\n",
    ")\n",
    "sq.pl.spatial_scatter(\n",
    "    adata, \n",
    "    color=['CCL19'], \n",
    "    library_key='sample',  \n",
    "    size=5, \n",
    "    img=None,\n",
    "    spatial_key='spatial',\n",
    "    palette='tab10',\n",
    "    #connectivity_key='spatial_connectivities',\n",
    "    #img_alpha=0.3,\n",
    "    figsize=(10,10),\n",
    "    ncols=1,\n",
    "    library_id=adata.obs['sample'].unique()[9],\n",
    "    title=\"SAA - Xenium\"\n",
    ")"
   ]
  }
 ],
 "metadata": {
  "kernelspec": {
   "display_name": "integration",
   "language": "python",
   "name": "integration"
  },
  "language_info": {
   "codemirror_mode": {
    "name": "ipython",
    "version": 3
   },
   "file_extension": ".py",
   "mimetype": "text/x-python",
   "name": "python",
   "nbconvert_exporter": "python",
   "pygments_lexer": "ipython3",
   "version": "3.10.16"
  }
 },
 "nbformat": 4,
 "nbformat_minor": 5
}
