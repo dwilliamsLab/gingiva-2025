{
 "cells": [
  {
   "cell_type": "code",
   "execution_count": null,
   "id": "18cc52ce-c301-4ee8-9bec-1433503c27a4",
   "metadata": {
    "tags": []
   },
   "outputs": [],
   "source": [
    "import scanpy as sc\n",
    "from sklearn.neighbors import KNeighborsClassifier, NearestNeighbors\n",
    "import pandas as pd\n",
    "import seaborn as sns\n",
    "import matplotlib.pyplot as plt"
   ]
  },
  {
   "cell_type": "code",
   "execution_count": null,
   "id": "40e5b646-265e-47e8-83df-c1535b1546d5",
   "metadata": {},
   "outputs": [],
   "source": [
    "#Open downsampled oral single cell dataset\n",
    "adata = sc.read_h5ad(\"path_to_sc_dataset.h5ad\")\n",
    "#Create a subset of the adata to only include cells from the Williams et all dataset\n",
    "adata_Wil = adata[adata.obs['ref'] == 'Williams 2021'].copy()\n",
    "#Subset to include only epithelial cells\n",
    "adata_Wil_Epi = adata_Wil[adata_Wil.obs['generalCellTypes'] == 'Epithelial'].copy()\n",
    "#Subset to only include gingival tissue cells\n",
    "adata_Wil_GEpi = adata_Wil_Epi[adata_Wil_Epi.obs['tissue'] == 'gingiva'].copy()"
   ]
  },
  {
   "cell_type": "code",
   "execution_count": null,
   "id": "17fd88c5-1acc-43be-a19f-c611b764ce39",
   "metadata": {},
   "outputs": [],
   "source": [
    "#Open the Xenium dataset\n",
    "ref_Xen = sc.read_h5ad(\"path_to_Xenium_dataset\")\n",
    "#Subset to include only epithelial cells\n",
    "ref_Xen_Epi = ref_Xen[ref_Xen.obs['Lvl3'].isin([\"Ep.TA\", \"Ep.or.b-pb\", \"Ep.or.sp\", \"Ep.or.k\"])].copy()\n"
   ]
  },
  {
   "cell_type": "code",
   "execution_count": null,
   "id": "78daa02f-5409-4902-a663-6493d10a4380",
   "metadata": {
    "scrolled": true
   },
   "outputs": [],
   "source": [
    "#Concatenate datasets\n",
    "assay_data = pd.Series('scSeq', index=adata_Wil_GEpi.obs.index)\n",
    "adata_Wil_GEpi.obs['assay'] = assay_data\n",
    "\n",
    "merged = adata_Wil_GEpi.concatenate(\n",
    "    ref_Xen_Epi, batch_key=\"assay\", batch_categories=[\"scSeq\", \"xenium\"]\n",
    ")"
   ]
  },
  {
   "cell_type": "code",
   "execution_count": null,
   "id": "fddd9179-2584-489b-8c08-a74d52d68b0b",
   "metadata": {
    "scrolled": true
   },
   "outputs": [],
   "source": [
    "sc.pp.scale(merged)\n",
    "sc.tl.pca(merged)"
   ]
  },
  {
   "cell_type": "code",
   "execution_count": null,
   "id": "87af4c4f-58f5-4941-bc08-041d944a33d9",
   "metadata": {
    "scrolled": true
   },
   "outputs": [],
   "source": [
    "# This step takes time; ~10 min per iteration\n",
    "sc.external.pp.harmony_integrate(merged, key=\"assay\", max_iter_harmony=20, max_iter_kmeans=30)"
   ]
  },
  {
   "cell_type": "code",
   "execution_count": null,
   "id": "66df54e5-80cb-4aa8-86b7-950d60807859",
   "metadata": {
    "scrolled": true
   },
   "outputs": [],
   "source": [
    "# Visualize merged with UMAP embedding; takes a long time\n",
    "sc.pp.neighbors(merged, n_neighbors=50, use_rep=\"X_pca_harmony\", metric=\"correlation\")\n",
    "sc.tl.umap(merged, min_dist=0.5)"
   ]
  },
  {
   "cell_type": "code",
   "execution_count": null,
   "id": "86dd19f3-f22d-4eb2-97bf-e3d805737793",
   "metadata": {},
   "outputs": [],
   "source": [
    "sc.pl.umap(merged, color='assay')"
   ]
  },
  {
   "cell_type": "code",
   "execution_count": null,
   "id": "20a42da0-d22a-4fef-b0b4-4b84fc2fc086",
   "metadata": {},
   "outputs": [],
   "source": [
    "# Transfer annotations from xenium to scRNAseq\n",
    "nn = KNeighborsClassifier(n_neighbors=1, n_jobs=16, weights='distance', metric='euclidean')\n",
    "train = merged[merged.obs[\"assay\"] == \"xenium\"]\n",
    "nn.fit(train.obsm[\"X_pca_harmony\"], train.obs['Lvl3']) \n",
    "labels = nn.predict(merged[merged.obs[\"assay\"] == \"scSeq\"].obsm[\"X_pca_harmony\"])\n",
    "merged.obs[\"xenium_to_sc_label\"] = pd.Series(labels, index=merged[merged.obs[\"assay\"] == \"scSeq\"].obs.index)"
   ]
  },
  {
   "cell_type": "code",
   "execution_count": null,
   "id": "19ea4800-df83-417c-9735-e2e2efbf2a64",
   "metadata": {},
   "outputs": [],
   "source": [
    "merged_sc = merged[merged.obs['assay'] == 'scSeq'].copy()"
   ]
  },
  {
   "cell_type": "code",
   "execution_count": null,
   "id": "d15f09fd-fdda-46f4-838d-80665c1776fb",
   "metadata": {},
   "outputs": [],
   "source": [
    "# Visualize xenium annotations vs transferred scRNAseq annotations\n",
    "xen_obj = merged[merged.obs['assay']=='scSeq']\n",
    "xen_obj.obs['clusterCellTypes'] = xen_obj.obs['clusterCellTypes'].astype('str')\n",
    "celltype_counts = pd.DataFrame(xen_obj.obs.groupby(['clusterCellTypes','xenium_to_sc_label']).size()).unstack()\n",
    "celltype_counts.columns = celltype_counts.columns.droplevel()\n",
    "celltype_counts.index.name = 'sc cell type'\n",
    "celltype_counts.columns.name = 'predicted Xenium cell type'\n",
    "celltype_counts = celltype_counts.T\n",
    "# Row scale co-occurrence frequencies (by predicted scRNAseq cell type)\n",
    "celltype_counts = celltype_counts.div(celltype_counts.sum(axis=1), axis=0) \n",
    "celltype_counts = celltype_counts.loc[:,celltype_counts.idxmax(axis=0).sort_values().index]\n",
    "celltype_counts = celltype_counts.fillna(0)\n",
    "column_sums = celltype_counts.abs().sum(axis=0)\n",
    "print(column_sums)\n",
    "# Select columns to keep based on the threshold\n",
    "columns_to_keep = column_sums[column_sums >= 0.1].index\n",
    "print(columns_to_keep)\n",
    "celltype_counts2 = celltype_counts[columns_to_keep]\n",
    "print(celltype_counts2)\n",
    "plt.figure(figsize = (14,6))\n",
    "sns.heatmap(celltype_counts2, cmap='YlGnBu')"
   ]
  },
  {
   "cell_type": "code",
   "execution_count": null,
   "id": "e2a780be-2d2c-471e-9496-0899b173c170",
   "metadata": {},
   "outputs": [],
   "source": [
    "merged_sc.obs.index = merged_sc.obs.index.str.replace(\"-scSeq\", \"\", regex=False)"
   ]
  },
  {
   "cell_type": "code",
   "execution_count": null,
   "id": "fbbbb98a-fc66-4767-9adb-57628d2cfdf3",
   "metadata": {},
   "outputs": [],
   "source": [
    "#Reindex sc dataset based on the merged file\n",
    "adata_Wil_GEpi.obs[\"xenium_to_sc_label\"] = merged_sc.obs[\"xenium_to_sc_label\"].reindex(adata_Wil_GEpi.obs.index)"
   ]
  },
  {
   "cell_type": "code",
   "execution_count": null,
   "id": "92fdfdad-fc2b-487a-be39-45c589a1fdf2",
   "metadata": {},
   "outputs": [],
   "source": [
    "#Only keep healthy gingival sections\n",
    "adata_Wil_HGEpi = adata_Wil_GEpi[adata_Wil_GEpi.obs['status'] == 'H'].copy()"
   ]
  },
  {
   "cell_type": "code",
   "execution_count": null,
   "id": "429b6b17-6b8e-4871-b1de-e6104f5d6341",
   "metadata": {},
   "outputs": [],
   "source": [
    "#Open tabula sapiens epithelial dataset\n",
    "adata_ts = sc.read_h5ad(\"/data/vasileiosionat2/Xenium/tabula_sapiens_epithelial/676b8605-7e5f-42c3-940a-aa7042c50f63.h5ad\")\n",
    "#Create \"cell_type_integration\" column in both the ts and the sc datasets\n",
    "adata_ts.obs[\"cell_type_integration\"] = adata_ts.obs[\"tissue\"].astype(str) + \"_\" + adata_ts.obs[\"cell_type\"].astype(str)\n",
    "adata_Wil_HGEpi.obs[\"cell_type_integration\"] = adata_Wil_HGEpi.obs[\"tissue\"].astype(str) + \"_\" + adata_Wil_HGEpi.obs[\"xenium_to_sc_label\"].astype(str)\n",
    "adata_ts.obs['cell_type_integration'].unique().tolist()\n",
    "# First, check that the two AnnData objects have a common index in their 'obs' columns\n",
    "common_obs_columns = adata_ts.obs.columns.intersection(adata_Wil_HGEpi.obs.columns)\n",
    "common_obs_columns\n",
    "#\n",
    "adata_ts.var.index = adata_ts.var.index.astype(str)\n",
    "adata_Wil_HGEpi.var.index = adata_Wil_HGEpi.var.index.astype(str)"
   ]
  },
  {
   "cell_type": "code",
   "execution_count": null,
   "id": "c8c44818-0635-4849-8c67-62e437a9de82",
   "metadata": {},
   "outputs": [],
   "source": [
    "adata_ts.var.index = adata_ts.var.index.astype(str)\n",
    "adata_Wil_HGEpi.var.index = adata_Wil_HGEpi.var.index.astype(str)"
   ]
  },
  {
   "cell_type": "code",
   "execution_count": null,
   "id": "ea5afadd-f04b-42ff-bf28-e439060e1506",
   "metadata": {},
   "outputs": [],
   "source": [
    "adata_Wil_HGEpi.var"
   ]
  },
  {
   "cell_type": "code",
   "execution_count": null,
   "id": "ffb9967e-4700-4f8f-9dc1-f2b592ab10a5",
   "metadata": {},
   "outputs": [],
   "source": [
    "#Concatenate tabula sapiens and Xenium-informed gingival single cell dataset after careful readjustment of the adata.var\n",
    "# Step 1: Standardize column names\n",
    "adata_ts.var.columns = adata_ts.var.columns.str.lower()\n",
    "adata_Wil_HGEpi.var.columns = adata_Wil_HGEpi.var.columns.str.lower()\n",
    "\n",
    "# Step 2: If adata_Wil_HGEpi.var has only one column, rename it\n",
    "if adata_Wil_HGEpi.var.shape[1] == 1:\n",
    "    adata_Wil_HGEpi.var.rename(columns={adata_Wil_HGEpi.var.columns[0]: \"feature_name\"}, inplace=True)  # Adjust if necessary\n",
    "\n",
    "# Step 3: Align var_names (index) based on Ensembl IDs or Gene Names\n",
    "# If `adata_ts.var` contains Ensembl IDs, ensure `adata_Wil_HGEpi` matches\n",
    "if \"feature_name\" in adata_ts.var.columns:\n",
    "    adata_ts.var.set_index(\"feature_name\", inplace=True)\n",
    "    \n",
    "if \"feature_name\" in adata_Wil_HGEpi.var.columns:\n",
    "    adata_Wil_HGEpi.var.set_index(\"feature_name\", inplace=True)\n",
    "\n",
    "# Step 4: Identify common genes (after renaming/indexing)\n",
    "common_genes = adata_ts.var_names.intersection(adata_Wil_HGEpi.var_names)\n",
    "\n",
    "# Step 5: Subset both datasets to only include shared genes\n",
    "adata_ts = adata_ts[:, common_genes].copy()\n",
    "adata_Wil_HGEpi = adata_Wil_HGEpi[:, common_genes].copy()\n",
    "\n",
    "# Step 6: Merge metadata from `adata_ts.var` into `adata_Wil_HGEpi.var`\n",
    "adata_Wil_HGEpi.var = adata_ts.var.loc[common_genes] \n",
    "\n",
    "# Step 7: Concatenate\n",
    "adata_combined = adata_ts.concatenate(adata_Wil_HGEpi, join='inner', batch_key=\"batch\")\n",
    "\n",
    "# Step 8: Restore original `var` structure\n",
    "adata_combined.var = adata_ts.var  # Retain original metadata from `adata1`"
   ]
  },
  {
   "cell_type": "code",
   "execution_count": null,
   "id": "9f130993-5307-4b00-83e3-bc3df745cb78",
   "metadata": {},
   "outputs": [],
   "source": [
    "#Normalize, log-transform combined dataset, subset to the top 2000 genes and scale.\n",
    "sc.pp.normalize_total(adata_combined, target_sum=1e4)  # Normalize counts per cell\n",
    "sc.pp.log1p(adata_combined)  # Log-transform\n",
    "sc.pp.highly_variable_genes(adata_combined, flavor='seurat', n_top_genes=2000)\n",
    "adata_combined = adata_combined[:, adata_combined.var['highly_variable']].copy()\n",
    "sc.pp.scale(adata_combined)"
   ]
  },
  {
   "cell_type": "code",
   "execution_count": null,
   "id": "6727a9fe-4d38-47b8-8c44-4c6ddbb1c271",
   "metadata": {},
   "outputs": [],
   "source": [
    "#Run pca\n",
    "sc.tl.pca(adata_combined)"
   ]
  },
  {
   "cell_type": "code",
   "execution_count": null,
   "id": "33ec4bb7-475f-4dd9-94f6-993b2a16fd6d",
   "metadata": {
    "scrolled": true
   },
   "outputs": [],
   "source": [
    "# This step takes time; ~10 min per iteration\n",
    "sc.external.pp.harmony_integrate(adata_combined, key=\"batch\", max_iter_harmony=20, max_iter_kmeans=30)"
   ]
  },
  {
   "cell_type": "code",
   "execution_count": null,
   "id": "048db9a2-7fdc-44ef-acc8-6e45dfdd0bac",
   "metadata": {},
   "outputs": [],
   "source": [
    "# Visualize merged with UMAP embedding; takes a long time\n",
    "sc.pp.neighbors(adata_combined, n_neighbors=30, use_rep=\"X_pca_harmony\", metric=\"correlation\")\n",
    "sc.tl.umap(adata_combined, min_dist=0.8)"
   ]
  },
  {
   "cell_type": "code",
   "execution_count": null,
   "id": "d5213e22-48c0-47b9-a3af-858353c352cf",
   "metadata": {},
   "outputs": [],
   "source": [
    "sc.pl.umap(adata_combined, color='tissue_in_publication')"
   ]
  },
  {
   "cell_type": "code",
   "execution_count": null,
   "id": "ae98b63d-7852-40d2-983d-0a47f01d1660",
   "metadata": {},
   "outputs": [],
   "source": [
    "adata_combined.obs['tissue_in_publication'] = adata_combined.obs['tissue_in_publication'].cat.add_categories('Gingiva-TAE')\n",
    "adata_combined.obs['tissue_in_publication'] = adata_combined.obs['tissue_in_publication'].cat.add_categories('Gingiva-OE')\n",
    "\n",
    "# Now assign the value 'gingiva-OE' to the 'tissue_in_publication' column where 'batch' is 1\n",
    "adata_combined.obs.loc[adata_combined.obs['batch'] == \"1\", 'tissue_in_publication'] = 'gingiva_Ep-OE'\n",
    "# Now assign the value 'gingiva-TAW' to the 'tissue_in_publication' column where 'cell_type_integration' is 1\n",
    "adata_combined.obs.loc[adata_combined.obs['cell_type_integration'] == \"gingiva_Ep.TA\", 'tissue_in_publication'] = 'Gingiva-TAE'"
   ]
  },
  {
   "cell_type": "code",
   "execution_count": null,
   "id": "0ce5d6df-170b-411f-b6e0-34466b382bdb",
   "metadata": {},
   "outputs": [],
   "source": [
    "#Subset combined dataset to only include similar barrier tissues\n",
    "adata_combined_barrier = adata_combined[adata_combined.obs['tissue_in_publication'].isin([\"Lung\", \"Large_Intestine\", \"Skin\",\n",
    "                                                                                          \"Small_Intestine\", \"Tongue\", \"Gingiva-OE\", \"Gingiva-TAE\"])].copy()"
   ]
  },
  {
   "cell_type": "code",
   "execution_count": null,
   "id": "c579e2cc-85ce-4e93-9760-357a84a577a2",
   "metadata": {},
   "outputs": [],
   "source": [
    "#Subset dataset to only include relevant epithelial subsets and exclude secretory epithelial cells or neuroendocrine cells\n",
    "adata_combined_barrier_Epi = adata_combined_barrier[adata_combined_barrier.obs['cell_type_integration'].isin(['lung_respiratory goblet cell',\n",
    " 'lung_basal cell',\n",
    " 'lung_pulmonary alveolar type 2 cell',\n",
    " 'lung_pulmonary alveolar type 1 cell',\n",
    " 'skin of chest_epithelial cell',\n",
    " 'skin of abdomen_epithelial cell',\n",
    " 'lung_lung ciliated cell',\n",
    " 'lung_club cell',\n",
    " 'posterior part of tongue_basal cell',\n",
    " 'anterior part of tongue_basal cell',\n",
    " 'anterior part of tongue_stratified squamous epithelial cell',\n",
    " 'large intestine_enterocyte of epithelium of large intestine',\n",
    " 'large intestine_paneth cell of colon',\n",
    " 'large intestine_intestinal crypt stem cell of colon',\n",
    " 'large intestine_tuft cell of colon',\n",
    " 'small intestine_enterocyte of epithelium proper of small intestine',\n",
    " 'small intestine_paneth cell of epithelium of small intestine',\n",
    " 'small intestine_intestinal crypt stem cell of small intestine',\n",
    " 'small intestine_small intestine goblet cell',\n",
    " 'small intestine_intestinal tuft cell',\n",
    " 'tongue_basal cell',\n",
    " 'tongue_stratified squamous epithelial cell',\n",
    " 'large intestine_large intestine goblet cell',\n",
    " 'large intestine_enterochromaffin-like cell', \n",
    " 'small intestine_BEST4+ intestinal epithelial cell, human',\n",
    " 'small intestine_enterocyte of epithelium proper of ileum',\n",
    " 'small intestine_enterocyte of epithelium proper of duodenum', \n",
    " 'small intestine_transit amplifying cell of small intestine', \n",
    " 'ascending colon_large intestine goblet cell',\n",
    " 'ascending colon_intestinal crypt stem cell of colon',\n",
    " 'ascending colon_tuft cell of colon',\n",
    " 'ascending colon_enterocyte of epithelium of large intestine',\n",
    " 'ascending colon_BEST4+ intestinal epithelial cell, human',\n",
    " 'ascending colon_transit amplifying cell of colon',\n",
    " 'ascending colon_enterochromaffin-like cell', 'ileum_enterocyte of epithelium proper of ileum',\n",
    " 'ileum_small intestine goblet cell',\n",
    " 'ileum_intestinal crypt stem cell of small intestine',\n",
    " 'ileum_paneth cell of epithelium of small intestine',\n",
    " 'ileum_intestinal tuft cell',\n",
    " 'ileum_BEST4+ intestinal epithelial cell, human', \n",
    " 'duodenum_enterocyte of epithelium proper of duodenum',\n",
    " 'duodenum_BEST4+ intestinal epithelial cell, human',\n",
    " 'duodenum_paneth cell of epithelium of small intestine',\n",
    " 'duodenum_small intestine goblet cell',\n",
    " 'duodenum_intestinal crypt stem cell of small intestine', 'duodenum_intestinal tuft cell',\n",
    " 'duodenum_transit amplifying cell of small intestine',\n",
    " 'sigmoid colon_large intestine goblet cell',\n",
    " 'sigmoid colon_intestinal crypt stem cell of colon',\n",
    " 'sigmoid colon_BEST4+ intestinal epithelial cell, human',\n",
    " 'sigmoid colon_enterocyte of epithelium of large intestine',\n",
    " 'sigmoid colon_transit amplifying cell of colon',\n",
    " 'sigmoid colon_paneth cell of colon',\n",
    " 'large intestine_transit amplifying cell of colon', \n",
    "  'posterior part of tongue_stratified squamous epithelial cell', 'sigmoid colon_enterochromaffin-like cell',\n",
    " 'sigmoid colon_tuft cell of colon',\n",
    " 'ascending colon_paneth cell of colon',\n",
    " 'duodenum_enterocyte of epithelium proper of ileum', \n",
    " 'jejunum_enterocyte of epithelium proper of jejunum',\n",
    " 'jejunum_intestinal crypt stem cell of small intestine',\n",
    " 'jejunum_intestinal tuft cell',\n",
    " 'jejunum_paneth cell of epithelium of small intestine',\n",
    " 'jejunum_BEST4+ intestinal epithelial cell, human',\n",
    " 'jejunum_small intestine goblet cell', 'gingiva_Ep.TA',\n",
    " 'gingiva_Ep.or.b-pb',\n",
    " 'gingiva_Ep.or.sp',\n",
    " 'gingiva_Ep.or.k'])].copy()"
   ]
  },
  {
   "cell_type": "code",
   "execution_count": null,
   "id": "d8b0bda1-cff6-410a-8477-7240865ed3ed",
   "metadata": {},
   "outputs": [],
   "source": [
    "# Assuming you've already harmonized and performed PCA\n",
    "\n",
    "# Step 1: Perform PCA if not already done (assuming PCA is required)\n",
    "# You can skip this if PCA is already available\n",
    "sc.pp.pca(adata_combined_barrier_Epi, n_comps=20)\n",
    "\n",
    "# Step 2: Compute the nearest neighbors\n",
    "sc.pp.neighbors(adata_combined_barrier_Epi, use_rep='X_pca', n_neighbors=15)\n",
    "\n",
    "# Step 4: Visualize the coarse clusters\n",
    "sc.pl.umap(adata_combined_barrier_Epi, color=['tissue_in_publication'])"
   ]
  },
  {
   "cell_type": "code",
   "execution_count": null,
   "id": "28a958a0-b1e1-4444-8f45-9566a9a815d7",
   "metadata": {},
   "outputs": [],
   "source": [
    "#Save combined dataset\n",
    "adata_combined_Epi.write('path_to_combined_dataset.h5ad')"
   ]
  }
 ],
 "metadata": {
  "kernelspec": {
   "display_name": "integration",
   "language": "python",
   "name": "integration"
  },
  "language_info": {
   "codemirror_mode": {
    "name": "ipython",
    "version": 3
   },
   "file_extension": ".py",
   "mimetype": "text/x-python",
   "name": "python",
   "nbconvert_exporter": "python",
   "pygments_lexer": "ipython3",
   "version": "3.10.16"
  }
 },
 "nbformat": 4,
 "nbformat_minor": 5
}
